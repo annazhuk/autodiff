{
 "cells": [
  {
   "cell_type": "code",
   "execution_count": 19,
   "metadata": {
    "collapsed": false
   },
   "outputs": [
    {
     "data": {
      "text/plain": [
       "convert (generic function with 644 methods)"
      ]
     },
     "execution_count": 19,
     "metadata": {},
     "output_type": "execute_result"
    }
   ],
   "source": [
    "# import packages..\n",
    "import ForwardDiff\n",
    "using ForwardDiff\n",
    "import PyPlot\n",
    "using PyPlot\n",
    "import Base.convert\n",
    "\n",
    "\n",
    "convert(::Type{Float64}, x::ForwardDiff.Dual) = Float64(x.value)\n",
    "function convert(::Array{Float64}, x::Array{ForwardDiff.Dual}) \n",
    "    y = zeros(size(x)); \n",
    "    for i in 1:prod(size(x)) \n",
    "        y[i] = convert(Float64, x[i]) \n",
    "    end\n",
    "    return y\n",
    "end\n"
   ]
  },
  {
   "cell_type": "markdown",
   "metadata": {},
   "source": [
    "To evaluate how well a particular set of parameter values $\\theta$ fits the behavioral data, we compute the probability of oberving the data given the model.\n",
    "\n",
    "For each trial $i$, we will compute the likelihood of seeing the data under the model assuming that trials are independent. \n",
    "\n",
    "$P(D|\\theta) = \\prod_{i}P(d_i|t_{i,R},t_{i,L},\\theta)$\n",
    "\n",
    "$t_{i,R},t_{i,L}$ : the right and left click times on trial $i$\n",
    "\n",
    "$d_i$ : the subject's decision on trial $i$\n",
    "\n",
    "The best-fit parameter values are the parameters $\\theta$ that maximize the likelihood (Maximum likelihood values)\n",
    "\n",
    "To help maximize the likelihood(or log likelihood), we will compute the derivative $\\partial P(d_i|t_{i,R},t_{i,L},\\theta) / \\partial\\theta$ for each of the parameters in the set $\\theta$.\n",
    "\n",
    "After we get these gradients of 9 model parameters, we will apply them for optimization."
   ]
  },
  {
   "cell_type": "markdown",
   "metadata": {},
   "source": [
    "## Import data "
   ]
  },
  {
   "cell_type": "code",
   "execution_count": 2,
   "metadata": {
    "collapsed": false
   },
   "outputs": [
    {
     "data": {
      "text/plain": [
       "Dict{ByteString,Any} with 5 entries:\n",
       "  \"ratname\"      => \"B069\"\n",
       "  \"daterange\"    => 1x2 Array{Any,2}:…\n",
       "  \"avgdata\"      => Dict{ASCIIString,Any}(\"is_probe\"=>1x64537 Array{Bool,2}:…\n",
       "  \"rawdata\"      => Dict{ASCIIString,Any}(\"is_probe\"=>1x64537 Array{Any,2}:…\n",
       "  \"total_trials\" => 64537.0"
      ]
     },
     "execution_count": 2,
     "metadata": {},
     "output_type": "execute_result"
    }
   ],
   "source": [
    "using MAT\n",
    "ratdata = matread(\"testdata.mat\")\n",
    "#ratdata = matread(\"chrono_B069_rawdata.mat\")"
   ]
  },
  {
   "cell_type": "code",
   "execution_count": 3,
   "metadata": {
    "collapsed": false
   },
   "outputs": [
    {
     "data": {
      "text/plain": [
       "(\n",
       "1x8 Array{Float64,2}:\n",
       " 0.0  0.001135  0.011165  0.01892  0.10638  0.20342  0.329645  0.33776,\n",
       "\n",
       "1x3 Array{Float64,2}:\n",
       " 0.0  0.19235  0.34361,\n",
       "\n",
       "0.35095899999999747,-1)"
      ]
     },
     "execution_count": 3,
     "metadata": {},
     "output_type": "execute_result"
    }
   ],
   "source": [
    "function trialdata(ratdata, trial)\n",
    "    if ratdata[\"rawdata\"][\"pokedR\"][trial] > 0\n",
    "        rat_choice = 1;  # \"R\"\n",
    "    else\n",
    "        rat_choice = -1; # \"L\"\n",
    "    end;\n",
    "    \n",
    "    return ratdata[\"rawdata\"][\"rightbups\"][trial], ratdata[\"rawdata\"][\"leftbups\"][trial], \n",
    "    ratdata[\"rawdata\"][\"T\"][trial], rat_choice\n",
    "end\n",
    "\n",
    "RightClickTimes, LeftClickTimes, maxT, rat_choice = trialdata(ratdata, 1)"
   ]
  },
  {
   "cell_type": "markdown",
   "metadata": {},
   "source": [
    "## why binning?\n",
    "\n",
    "Because of the bounds B, we can't use analytical solutions for P(a,t)\n",
    "\n",
    "Instead, we will solve the Fokker-Planck equations numerically.\n",
    "\n",
    "1. Discretize both time t and space a\n",
    "2. Start with the distribution at time t=0 : $P(a, t=0) = N(0,\\sigma_i)$\n",
    "3. Compute the probability distribution for the next time step given the probability distribution for the previous time step. (until t = maxT)\n",
    "\n",
    "*time step k, $a_k, t_k$ : at time step k\n",
    "\n",
    "*a -> a set of M contiguous bin (space), vector $\\xi$ (center of bins), $\\xi_i, \\xi_j$\n",
    "\n",
    "### Forward Markov transition matrix F\n",
    "\n",
    "$F_{ij} = P(a_k = \\xi_i | a_{k-1} = \\xi_j)$\n",
    "\n",
    "$f_k$ represents the spatially discretized version of the distribution $P(a, t_k)$\n",
    "\n",
    "$ f_k = Ff_{k-1}$"
   ]
  },
  {
   "cell_type": "markdown",
   "metadata": {},
   "source": [
    "## bin_centers = make_bins(B, dx, binN)"
   ]
  },
  {
   "cell_type": "code",
   "execution_count": 4,
   "metadata": {
    "collapsed": true
   },
   "outputs": [],
   "source": [
    "\"\"\"\n",
    "function bin_centers = make_bins(B, dx, binN)\n",
    "\n",
    "Makes a series of points that will indicate bin centers. The first and\n",
    "last points will indicate sticky bins. No \"bin edges\" are made-- the edge\n",
    "between two bins is always implicity at the halfway point between their\n",
    "corresponding centers. The center bin is always at x=0; bin spacing\n",
    "(except for last and first bins) is always dx; and the position\n",
    "of the first and last bins is chosen so that |B| lies exactly at the\n",
    "midpoint between 1st (sticky) and 2nd (first real) bins, as well as\n",
    "exactly at the midpoint between last but one (last real) and last\n",
    "(sticky) bins.\n",
    "\n",
    "Playing nice with ForwardDiff means that the *number* of bins must be predetermined.\n",
    "So this function will not actually set the number of bins; what it'll do is determine their\n",
    "locations. To accomplish this separation, the function uses as a third parameter binN,\n",
    "which should be equal to the number of bins with bin centers > 0, as follows: \n",
    "   binN = ceil(B/dx)\n",
    "and then the total number of bins will be 2*binN+1, with the center one always corresponding\n",
    "to position zero. Use non-differentiable types for B and dx for this to work.\n",
    "\"\"\"\n",
    "function make_bins(B, dx, binN)\n",
    "    bins = collect(1.0:binN)*B\n",
    "    bins = dx*bins/B\n",
    "\n",
    "    if bins[end] == B\n",
    "        bins[end] = B + dx\n",
    "    else\n",
    "        bins[end] = 2*B - bins[end-1]\n",
    "    end\n",
    "\n",
    "    bins = [-bins[end:-1:1]; 0; bins]\n",
    "    return bins\n",
    "end;"
   ]
  },
  {
   "cell_type": "code",
   "execution_count": 5,
   "metadata": {
    "collapsed": false
   },
   "outputs": [
    {
     "data": {
      "text/plain": [
       "35-element Array{Float64,1}:\n",
       " -4.2 \n",
       " -4.0 \n",
       " -3.75\n",
       " -3.5 \n",
       " -3.25\n",
       " -3.0 \n",
       " -2.75\n",
       " -2.5 \n",
       " -2.25\n",
       " -2.0 \n",
       " -1.75\n",
       " -1.5 \n",
       " -1.25\n",
       "  ⋮   \n",
       "  1.5 \n",
       "  1.75\n",
       "  2.0 \n",
       "  2.25\n",
       "  2.5 \n",
       "  2.75\n",
       "  3.0 \n",
       "  3.25\n",
       "  3.5 \n",
       "  3.75\n",
       "  4.0 \n",
       "  4.2 "
      ]
     },
     "execution_count": 5,
     "metadata": {},
     "output_type": "execute_result"
    }
   ],
   "source": [
    "bins = make_bins(4.1,0.25,ceil(4.1/0.25))\n",
    "bin_centers = bins\n",
    "bins"
   ]
  },
  {
   "cell_type": "markdown",
   "metadata": {},
   "source": [
    "## Global Variables"
   ]
  },
  {
   "cell_type": "code",
   "execution_count": 6,
   "metadata": {
    "collapsed": false
   },
   "outputs": [],
   "source": [
    "# Global variables \n",
    "epsilon = 10.0^(-10);\n",
    "dx = 0.25;\n",
    "dt = 0.02;\n",
    "total_rate = 40;"
   ]
  },
  {
   "cell_type": "markdown",
   "metadata": {},
   "source": [
    "## Parameters\n",
    "\n",
    "a : decision variable, memory accumulator\n",
    "\n",
    "$$ da =\n",
    "  \\begin{cases}\n",
    "    0       & \\quad \\text{if, } |a| \\geq B \\\\\n",
    "    \\sigma_adW + (\\delta_{t,t_R} \\cdot \\eta C(t) - \\delta_{t,t_L} \\cdot \\eta C(t))dt + \\lambda adt  & \\quad \\text{otherwise, }\\\\\n",
    "  \\end{cases}\n",
    "$$\n",
    "\n",
    "\n",
    "\n",
    "The impact of each click (C) is affected by sensory adaptation that depends on clicks from both right and left sides:\n",
    "\n",
    "$$ \n",
    "\\frac{\\mathrm d C}{\\mathrm d t} = \\frac{1-C}{\\tau_\\phi} + (1-\\phi)C(\\delta_{t,t_R}+\\delta_{t,t_L}) \n",
    "$$\n",
    "\n",
    "\n",
    "sigma2_a ($\\sigma_a^2$) : a diffusion constant, parameterizing noise in a.\n",
    "\n",
    "sigma2_s ($\\sigma_s^2$) : parameterizing noise when adding evidence from a right or left pulse. (incoming sensory evidence)\n",
    "\n",
    "sigma2_i ($\\sigma_i^2$) : initial condition for the dynamical equation at $t=0$\n",
    "\n",
    "lam ($\\lambda$) : consistent drift in the memory a ($\\lambda<0$ : leaky or forgetful case, $\\lambda>0$ : unstable or impulsive case)\n",
    "\n",
    "B : decision bound\n",
    "\n",
    "bias : bias parameter determines the position of the threshold in a (which a Rightward decision is made)\n",
    "\n",
    "phi ($\\phi$) : parameterize sensory adaptation (by defining the dynamics of C ($\\phi>1$ : Facilitation, $\\phi<1$ : Depression, $\\phi=1$ : absense of sensory adaptation)\n",
    "\n",
    "tau_phi ($\\tau_\\phi$) :\n",
    "\n",
    "lapse : The lapse rate parameterizes the probability of making a random response.\n"
   ]
  },
  {
   "cell_type": "code",
   "execution_count": 7,
   "metadata": {
    "collapsed": false
   },
   "outputs": [
    {
     "data": {
      "text/plain": [
       "35-element Array{Float64,1}:\n",
       " -4.2044 \n",
       " -4.004  \n",
       " -3.7535 \n",
       " -3.503  \n",
       " -3.2525 \n",
       " -3.002  \n",
       " -2.7515 \n",
       " -2.501  \n",
       " -2.2505 \n",
       " -2.0    \n",
       " -1.7495 \n",
       " -1.499  \n",
       " -1.2485 \n",
       "  ⋮      \n",
       "  1.50701\n",
       "  1.75751\n",
       "  2.00801\n",
       "  2.25851\n",
       "  2.50901\n",
       "  2.75951\n",
       "  3.01001\n",
       "  3.26051\n",
       "  3.51101\n",
       "  3.76151\n",
       "  4.01201\n",
       "  4.21241"
      ]
     },
     "execution_count": 7,
     "metadata": {},
     "output_type": "execute_result"
    }
   ],
   "source": [
    "sigma_a = 1; sigma_s = 0.1; sigma_i = 0.2; \n",
    "sigma_a_sbin = sigma_a  # remember we need this copy for Fmatrix\n",
    "lam = -0.0005; B = 4.1; bias = 0.1; \n",
    "phi = 0.3; tau_phi = 0.1; lapse = 0.05*2;\n",
    "params = [sigma_a, sigma_s, sigma_i, lam, B, bias, phi, tau_phi, lapse]   \n",
    "\n",
    "sigma = params[1];\n",
    "lam   = params[2];\n",
    "c     = params[3];\n",
    "\n",
    "sigma_sbin = convert(Float64, sigma)\n",
    "\n",
    "F = collect(1.0:length(bins))*collect(1.0:length(bins))';\n",
    "F = 0.0*sigma*F; # Multiplying by that sigma is needed, \n",
    "                 # for type casting reasons I do not understand...\n",
    "\n",
    "mus      = (bins + c/lam)*exp(lam*dt) - c/lam"
   ]
  },
  {
   "cell_type": "markdown",
   "metadata": {},
   "source": [
    "## F = Fmatrix([sigma, lambda, c], bin_centers)"
   ]
  },
  {
   "cell_type": "code",
   "execution_count": 8,
   "metadata": {
    "collapsed": false
   },
   "outputs": [
    {
     "data": {
      "text/plain": [
       "Fmatrix (generic function with 1 method)"
      ]
     },
     "execution_count": 8,
     "metadata": {},
     "output_type": "execute_result"
    }
   ],
   "source": [
    "\"\"\"\n",
    "function F = Fmatrix([sigma, lambda, c], bin_centers)\n",
    "\n",
    "Uses globals\n",
    "    dt\n",
    "    dx\n",
    "    epsilon       (=10.0^-10)\n",
    "\n",
    "Returns a square Markov matrix of transition probabilities. \n",
    "Plays nice with ForwardDiff-- that is why bin_centers is a global vector (so that the rem\n",
    "operations that go into defining the bins, which ForwardDiff doesn't know how to deal with,\n",
    "stay outside of this differentiable function)\n",
    "\n",
    "sigma  should be in (accumulator units) per (second^(1/2))\n",
    "lambda should be in s^-1\n",
    "c      should be in accumulator units per second\n",
    "bin_centers should be a vector of the centers of all the bins. Edges will be at midpoints\n",
    "       between the centers, and the first and last bin will be sticky.\n",
    "\n",
    "dx is not used inside Fmatrix, because bin_centers specifies all we need to know.\n",
    "dt *is* used inside Fmatrix, to convert sigma, lambda, and c into timestep units\n",
    "\"\"\"\n",
    "function Fmatrix(params::Vector, bin_centers)\n",
    "    sigma2 = params[1];\n",
    "    lam   = params[2];\n",
    "    c     = params[3];\n",
    "    \n",
    "    sigma2_sbin = convert(Float64, sigma2)\n",
    "#     sigma2_sbin = sigma2\n",
    "    \n",
    "    F = collect(1.0:length(bin_centers))*collect(1.0:length(bin_centers))';\n",
    "    F = 0.0*sigma2*F; # Multiplying by that sigma is needed, \n",
    "                     # for type casting reasons I do not understand...\n",
    "\n",
    "    # added condition if lambda=0 \n",
    "    if lam == 0\n",
    "        mus = bin_centers*exp(lam*dt)\n",
    "    else\n",
    "        mus = (bin_centers + c/lam)*exp(lam*dt) - c/lam\n",
    "    end\n",
    "\n",
    "    n_sbins = max(70, ceil(10*sqrt(sigma2_sbin)/dx))\n",
    "    \n",
    "    swidth = 5*sqrt(sigma2_sbin)\n",
    "    sbinsize = swidth/n_sbins;#sbins[2] - sbins[1]\n",
    "    sbins    = collect(-swidth:sbinsize:swidth)\n",
    "\n",
    "    ps       = exp(-sbins.^2/(2*sigma2))#exp(-sbins.^2/(2*sigma^2)) / sqrt(2*sigma^2)\n",
    "    ps       = ps/sum(ps);\n",
    "\n",
    "    base_sbins = sbins;\n",
    "        \n",
    "    for j in 2:length(bin_centers)\n",
    "        sbins = collect(0:(length(base_sbins)-1))*sbinsize\n",
    "        sbins = sbins + mus[j]-swidth\n",
    "\n",
    "        for k in 1:length(sbins)\n",
    "            if sbins[k] < bin_centers[1] #(bin_centers[1] + bin_centers[2])/2\n",
    "                F[1,j] = F[1,j] + ps[k]\n",
    "            elseif bin_centers[end] <= sbins[k]#(bin_centers[end]+bin_centers[end-1])/2 <= sbins[k]\n",
    "                F[end,j] = F[end,j] + ps[k]\n",
    "            else # more condition\n",
    "                if (sbins[k] > bin_centers[1] && sbins[k] < bin_centers[2])\n",
    "                    lp = 1; hp = 2;\n",
    "                elseif (sbins[k] > bin_centers[end-1] && sbins[k] < bin_centers[end])\n",
    "                    lp = length(bin_centers)-1; hp = length(bin_centers);\n",
    "                else \n",
    "                    lp = find(bin_centers .<= sbins[k])[end]#Int(floor((sbins[k]-bin_centers[2])/dx) + 1);\n",
    "                    hp = lp+1#Int(ceil((sbins[k]-bin_centers[2])/dx) + 1);\n",
    "                end\n",
    "\n",
    "                if lp < 1 \n",
    "                    lp = 1; \n",
    "                end\n",
    "                if hp < 1 \n",
    "                    hp = 1;\n",
    "                end\n",
    "\n",
    "                if lp == hp\n",
    "                    F[lp,j] = F[lp,j] + ps[k]\n",
    "                else\n",
    "                    F[hp,j] = F[hp,j] + ps[k]*(sbins[k] - bin_centers[lp])/(bin_centers[hp] - bin_centers[lp])\n",
    "                    F[lp,j] = F[lp,j] + ps[k]*(bin_centers[hp] - sbins[k])/(bin_centers[hp] - bin_centers[lp])\n",
    "                end                   \n",
    "            end\n",
    "        end\n",
    "    end\n",
    "    F[:,1] = 0; F[:,end] = 0; F[1,1] = 1; F[end,end] = 1;\n",
    "    return F\n",
    "end"
   ]
  },
  {
   "cell_type": "code",
   "execution_count": 9,
   "metadata": {
    "collapsed": false
   },
   "outputs": [
    {
     "data": {
      "text/plain": [
       "35x35 Array{Float64,2}:\n",
       " 1.0  0.41182      0.218907     0.0917964    …  0.0          0.0          0.0\n",
       " 0.0  0.197142     0.172131     0.112014        0.0          0.0          0.0\n",
       " 0.0  0.187228     0.217923     0.187228        0.0          0.0          0.0\n",
       " 0.0  0.119939     0.187228     0.217923        0.0          0.0          0.0\n",
       " 0.0  0.0571377    0.119939     0.187228        0.0          0.0          0.0\n",
       " 0.0  0.0202246    0.0571377    0.119939     …  0.0          0.0          0.0\n",
       " 0.0  0.00531176   0.0202246    0.0571377       0.0          0.0          0.0\n",
       " 0.0  0.00103206   0.00531176   0.0202246       0.0          0.0          0.0\n",
       " 0.0  0.000148294  0.00103206   0.00531176      0.0          0.0          0.0\n",
       " 0.0  1.59548e-5   0.000148294  0.00103206      0.0          0.0          0.0\n",
       " 0.0  1.11105e-6   1.59548e-5   0.000148294  …  0.0          0.0          0.0\n",
       " 0.0  0.0          1.11105e-6   1.59548e-5      0.0          0.0          0.0\n",
       " 0.0  0.0          0.0          1.11105e-6      0.0          0.0          0.0\n",
       " ⋮                                           ⋱                               \n",
       " 0.0  0.0          0.0          0.0             1.11105e-6   0.0          0.0\n",
       " 0.0  0.0          0.0          0.0             1.59548e-5   1.11105e-6   0.0\n",
       " 0.0  0.0          0.0          0.0          …  0.000148294  1.59548e-5   0.0\n",
       " 0.0  0.0          0.0          0.0             0.00103206   0.000148294  0.0\n",
       " 0.0  0.0          0.0          0.0             0.00531176   0.00103206   0.0\n",
       " 0.0  0.0          0.0          0.0             0.0202246    0.00531176   0.0\n",
       " 0.0  0.0          0.0          0.0             0.0571377    0.0202246    0.0\n",
       " 0.0  0.0          0.0          0.0          …  0.119939     0.0571377    0.0\n",
       " 0.0  0.0          0.0          0.0             0.187228     0.119939     0.0\n",
       " 0.0  0.0          0.0          0.0             0.217923     0.187228     0.0\n",
       " 0.0  0.0          0.0          0.0             0.172131     0.197142     0.0\n",
       " 0.0  0.0          0.0          0.0             0.218907     0.41182      1.0"
      ]
     },
     "execution_count": 9,
     "metadata": {},
     "output_type": "execute_result"
    }
   ],
   "source": [
    "F = Fmatrix([0.2, 0, 0.0],bin_centers) # Fi\n",
    "F"
   ]
  },
  {
   "cell_type": "code",
   "execution_count": 10,
   "metadata": {
    "collapsed": false
   },
   "outputs": [
    {
     "data": {
      "text/plain": [
       "35x35 Array{Float64,2}:\n",
       " 1.0  0.461125    0.365007    0.274946    …  0.0         0.0         0.0\n",
       " 0.0  0.0908452   0.0859592   0.0811359      0.0         0.0         0.0\n",
       " 0.0  0.0945948   0.100835    0.0946575      0.0         0.0         0.0\n",
       " 0.0  0.0888839   0.0945533   0.100892       0.0         0.0         0.0\n",
       " 0.0  0.0737024   0.0889555   0.0945117      0.0         0.0         0.0\n",
       " 0.0  0.0612142   0.0736883   0.0890271   …  0.0         0.0         0.0\n",
       " 0.0  0.044833    0.0612781   0.0736743      0.0         0.0         0.0\n",
       " 0.0  0.0329193   0.0448354   0.0613421      0.0         0.0         0.0\n",
       " 0.0  0.0212918   0.0329616   0.0448377      0.0         0.0         0.0\n",
       " 0.0  0.0138235   0.021298    0.0330038      0.0         0.0         0.0\n",
       " 0.0  0.0078944   0.0138445   0.0213041   …  0.0         0.0         0.0\n",
       " 0.0  0.00453257  0.0078985   0.0138655      0.0         0.0         0.0\n",
       " 0.0  0.00228512  0.00454054  0.00790261     3.13941e-7  0.0         0.0\n",
       " ⋮                                        ⋱                             \n",
       " 0.0  0.0         0.0         3.40328e-7     0.00783279  0.00440511  0.0\n",
       " 0.0  0.0         0.0         0.0            0.0135081   0.00782868  0.0\n",
       " 0.0  0.0         0.0         0.0         …  0.0211994   0.0134871   0.0\n",
       " 0.0  0.0         0.0         0.0            0.0322857   0.0211932   0.0\n",
       " 0.0  0.0         0.0         0.0            0.0447976   0.0322435   0.0\n",
       " 0.0  0.0         0.0         0.0            0.0602548   0.0447953   0.0\n",
       " 0.0  0.0         0.0         0.0            0.0739127   0.0601908   0.0\n",
       " 0.0  0.0         0.0         0.0         …  0.0878095   0.0739267   0.0\n",
       " 0.0  0.0         0.0         0.0            0.0952181   0.0877379   0.0\n",
       " 0.0  0.0         0.0         0.0            0.0999224   0.0952597   0.0\n",
       " 0.0  0.0         0.0         0.0            0.0863713   0.0901428   0.0\n",
       " 0.0  0.0         0.0         0.0            0.368213    0.464534    1.0"
      ]
     },
     "execution_count": 10,
     "metadata": {},
     "output_type": "execute_result"
    }
   ],
   "source": [
    "F = Fmatrix(params,bin_centers)\n",
    "F"
   ]
  },
  {
   "cell_type": "markdown",
   "metadata": {},
   "source": [
    "## logProbRight(params::Vector)\n",
    "\n",
    "params = [sigma_a, sigma_s, sigma_i, lambda, B, bias, phi, tau_phi, lapse]\n",
    "\n",
    "Needs to read globals Nsteps number of timesteps to simulate RightClickTimes vector with elements indicating times of right clicks LeftClickTimes vector with elements indicating times of left clicks\n",
    "\n",
    "Mutates globals a (column vector representing distribution of values of accumulator a)\n",
    "\n",
    "    a_trace (length(bin_centers)-by-Nsteps+1), a trace of the distribution of a as \n",
    "        a function of time\n",
    "    c_trace (row vector Nsteps+1 long, effective value of c as \n",
    "        a function of time after adaptation)\n"
   ]
  },
  {
   "cell_type": "code",
   "execution_count": 11,
   "metadata": {
    "collapsed": false
   },
   "outputs": [
    {
     "data": {
      "text/plain": [
       "logLike (generic function with 1 method)"
      ]
     },
     "execution_count": 11,
     "metadata": {},
     "output_type": "execute_result"
    }
   ],
   "source": [
    "\"\"\"\n",
    "version with inter-click interval(ici) for c_eff_net / c_eff_tot (followed the matlab code) \n",
    "(which was using dt for c_eff)\n",
    "\n",
    "function logProbRight(params::Vector)\n",
    "\n",
    "Needs to read globals \n",
    "    Nsteps number of timesteps to simulate\n",
    "    RightClickTimes   vector with elements indicating times of right clicks\n",
    "    LeftClickTimes    vector with elements indicating times of left clicks\n",
    "\n",
    "Mutates globals\n",
    "    a      (column vector representing distribution of values of accumulator a)\n",
    "\n",
    "    a_trace (length(bin_centers)-by-Nsteps+1), a trace of the distribution of a as \n",
    "            a function of time\n",
    "    c_trace (row vector Nsteps+1 long, effective value of c as \n",
    "            a function of time after adaptation)\n",
    "\n",
    "Takes params\n",
    "    sigma_a = params[1]; sigma_s = params[2]; sigma_i = params[3]; \n",
    "    lambda = params[4]; B = params[5]; bias = params[6]; \n",
    "    phi = params[7]; tau_phi = params[8]; lapse = params[9]\n",
    "\n",
    "Returns the log of the probability that the agent chose Right. \n",
    "\"\"\"\n",
    "\n",
    "function logProbRight(params::Vector)\n",
    "    sigma_a = params[1]; sigma_s = params[2]; sigma_i = params[3]; \n",
    "    lambda = params[4]; B = params[5]; bias = params[6]; \n",
    "    phi = params[7]; tau_phi = params[8]; lapse = params[9]\n",
    "    \n",
    "    global a, dx, dt, total_rate, Nsteps, LeftClickTimes, RightClickTimes, a_trace, c_trace\n",
    "    \n",
    "    LeftClicks  = zeros(1, Nsteps); if isempty(RightClickTimes) RightClickTimes = zeros(0) end;\n",
    "    RightClicks = zeros(1, Nsteps); if isempty(LeftClickTimes ) LeftClickTimes  = zeros(0) end;\n",
    "    for i in ceil((LeftClickTimes+epsilon)/dt)  LeftClicks[Int(i)]  = LeftClicks[Int(i)] + 1 end\n",
    "    for i in ceil((RightClickTimes+epsilon)/dt) RightClicks[Int(i)] = RightClicks[Int(i)] + 1 end\n",
    "    \n",
    "#     my_B = convert(Float64, B) # my_B won't be differentiated; ForwardDiff can't do ceil()\n",
    "#     my_bias = convert(Float64, bias)  # my_bias won't be differentiated' FD can't do floor()\n",
    "    binN = ceil(Int, B/dx)#Int(ceil(my_B/dx))  \n",
    "    binBias = floor(Int, bias/dx) + binN+1  \n",
    "    bin_centers = make_bins(B, dx, binN) \n",
    "\n",
    "    a_trace = zeros(length(bin_centers), Nsteps+1); \n",
    "    c_trace = zeros(1, Nsteps+1)\n",
    "    \n",
    "    a0 = zeros(length(bin_centers),1)*sigma_a*0.0; # That weirdo inexact error thing\n",
    "    a0[binN+1] = 1-lapse; a0[1] = lapse/2; a0[end] = lapse/2;\n",
    "    \n",
    "    c_eff_r = 0\n",
    "    c_eff_l = 0\n",
    "    cnt_r = 0\n",
    "    cnt_l = 0\n",
    "    \n",
    "    Fi = Fmatrix(collect([sigma_i; 0; 0.0]), bin_centers); \n",
    "    a = Fi*a0;\n",
    "    a_trace[:,1] = a;\n",
    "\n",
    "    F0 = Fmatrix(collect([sigma_a*dt; lambda; 0.0]), bin_centers)\n",
    "    for i in 2:Nsteps \n",
    "        c_eff_tot = 0\n",
    "        c_eff_net = 0\n",
    "        if (RightClicks[i-1]==0) & (LeftClicks[i-1]==0)\n",
    "            c_eff_tot = 0\n",
    "            c_eff_net = 0\n",
    "\n",
    "            a = F0*a\n",
    "        else\n",
    "            for j in 1:RightClicks[i-1]\n",
    "                if cnt_r != 0 || j != 1\n",
    "                    ici = RightClickTimes[cnt_r+j]-RightClickTimes[cnt_r+j-1]\n",
    "                    c_eff_r = 1 + (c_eff_r*phi - 1)*exp(-ici/tau_phi)\n",
    "                    c_eff_tot = c_eff_tot + c_eff_r\n",
    "                    c_eff_net = c_eff_net + c_eff_r\n",
    "                end\n",
    "                if j == RightClicks[i-1]\n",
    "                    cnt_r = cnt_r+j\n",
    "                end\n",
    "            end\n",
    "            for j in 1:LeftClicks[i-1]\n",
    "                if cnt_l != 0 || j != 1\n",
    "                    ici = LeftClickTimes[cnt_l+j]-LeftClickTimes[cnt_l+j-1]\n",
    "                    c_eff_l = 1 + (c_eff_l*phi - 1)*exp(-ici/tau_phi)\n",
    "                    c_eff_tot = c_eff_tot + c_eff_l\n",
    "                    c_eff_net = c_eff_net - c_eff_l\n",
    "                end\n",
    "                if j == LeftClicks[i-1]\n",
    "                    cnt_l = cnt_l+j\n",
    "                end\n",
    "            end\n",
    "            net_sigma = sigma_a*dt + (sigma_s*c_eff_tot)/total_rate\n",
    "            F = Fmatrix(collect([net_sigma; lambda; c_eff_net/dt]), bin_centers)\n",
    "            a = F*a\n",
    "        end\n",
    "        \n",
    "        c_trace[i]   = convert(Float64, c_eff_tot)\n",
    "        a_trace[:,i] = convert(Array{Float64}, a)\n",
    "    end;\n",
    "#     plot(1:Nsteps+1,c_trace[:])    \n",
    "#     imshow(a_trace, interpolation=\"none\")\n",
    "    pright = sum(a[binBias+2:end]) + \n",
    "    a[binBias]*((bin_centers[binBias+1] - bias)/dx/2) +\n",
    "    a[binBias+1]*(0.5 + (bin_centers[binBias+1] - bias)/dx/2)\n",
    "    \n",
    "    return log(pright)\n",
    "end\n",
    "\n",
    "\n",
    "\n",
    "function logLike(params::Vector)\n",
    "    global rat_choice\n",
    "    if rat_choice > 0\n",
    "#         println(\"Right\")\n",
    "        return logProbRight(params)\n",
    "    elseif rat_choice < 0\n",
    "#         println(\"Left\")\n",
    "        return log(1 - exp(logProbRight(params)))\n",
    "    else\n",
    "        error(\"Rat did what?? It was neither R nor L\")\n",
    "    end\n",
    "end"
   ]
  },
  {
   "cell_type": "code",
   "execution_count": 12,
   "metadata": {
    "collapsed": false
   },
   "outputs": [
    {
     "data": {
      "text/plain": [
       "llikey (generic function with 1 method)"
      ]
     },
     "execution_count": 12,
     "metadata": {},
     "output_type": "execute_result"
    }
   ],
   "source": [
    "\"\"\" \n",
    "function (LL, LLgrad, LLhessian, bin_centers, bin_times, a_trace) = \n",
    "    llikey(params, rat_choice, maxT=1, RightPulseTimes=[], LeftPulseTimes=[], dx=0.25, dt=0.02)\n",
    "\n",
    "Computes the log likelihood according to Bing's model, and returns log likelihood, gradient, and hessian\n",
    "\n",
    "params is a vector whose elements, in order, are\n",
    "    sigma_a    square root of accumulator variance per unit time sqrt(click units^2 per second)\n",
    "    sigma_s    standard deviation introduced with each click (will get scaled by click adaptation)\n",
    "    sigma_i    square root of initial accumulator variance sqrt(click units^2)\n",
    "    lambda     1/accumulator time constant (sec^-1). Positive means unstable, neg means stable\n",
    "    B          sticky bound height (click units)\n",
    "    bias       where the decision boundary lies (click units)\n",
    "    phi        click adaptation/facilitation multiplication parameter\n",
    "    tau_phi    time constant for recovery from click adaptation (sec)\n",
    "    lapse      2*lapse fraction of trials are decided randomly\n",
    "\n",
    "rat_choice     should be either \"R\" or \"L\"\n",
    "\n",
    "\n",
    "RETURNS:\n",
    "\n",
    "\n",
    "\"\"\"\n",
    "# function llikey(params::Vector; maxT=1, RightPulseTimes=[], LeftPulseTimes=[], dx=0.25, dt=0.02)\n",
    "\n",
    "#     global RightClickTimes, LeftClickTimes, Nsteps    \n",
    "#     LLhessian, allresults = ForwardDiff.hessian(logLike, params, ForwardDiff.AllResults)\n",
    "#     LL     = ForwardDiff.value(allresults)\n",
    "#     LLgrad = ForwardDiff.gradient(allresults)\n",
    "#     LL = logLike(params)\n",
    "    \n",
    "#     return LL,LLgrad, LLhessian, length(params) # \n",
    "# end\n",
    "function llikey(params::Vector)\n",
    "    \n",
    "    result =  HessianResult(params)\n",
    "    \n",
    "    ForwardDiff.hessian!(result, logLike, params);\n",
    "    \n",
    "    LL     = ForwardDiff.value(result)\n",
    "    LLgrad = ForwardDiff.gradient(result)\n",
    "    LLhessian = ForwardDiff.hessian(result)\n",
    "    \n",
    "    return LL, LLgrad, LLhessian, length(params)\n",
    "end"
   ]
  },
  {
   "cell_type": "code",
   "execution_count": 20,
   "metadata": {
    "collapsed": false
   },
   "outputs": [
    {
     "data": {
      "text/plain": [
       "-2.5352539404380363"
      ]
     },
     "execution_count": 20,
     "metadata": {},
     "output_type": "execute_result"
    }
   ],
   "source": [
    "### =============== testing 1 ================= ####\n",
    "\n",
    "epsilon = 10.0^(-10); \n",
    "dx = 0.25; \n",
    "dt = 0.02; \n",
    "\n",
    "# Parameters\n",
    "sigma_a = 1; sigma_s = 0.1; sigma_i = 0.2; \n",
    "sigma_a_sbin = sigma_a  # remember we need this copy for Fmatrix\n",
    "lam = -0.0005; B = 4.1; bias = 0.1; \n",
    "phi = 0.3; tau_phi = 0.1; lapse = 0.05*2;\n",
    "params = [sigma_a, sigma_s, sigma_i, lam, B, bias, phi, tau_phi, lapse]   \n",
    "\n",
    "RightClickTimes, LeftClickTimes, maxT, rat_choice = trialdata(ratdata, 1)\n",
    "\n",
    "Nsteps = Int(ceil(maxT/dt))\n",
    "\n",
    "logLike(params)\n",
    "\n",
    "### =========================================== ####"
   ]
  },
  {
   "cell_type": "code",
   "execution_count": 14,
   "metadata": {
    "collapsed": false
   },
   "outputs": [
    {
     "data": {
      "image/png": "[encoded data removed]",
      "text/plain": [
       "PyPlot.Figure(PyObject <matplotlib.figure.Figure object at 0x31497fb90>)"
      ]
     },
     "metadata": {},
     "output_type": "display_data"
    },
    {
     "name": "stdout",
     "output_type": "stream",
     "text": [
      "-2.535253940438007\n",
      "[0.3408884804283812,0.08542855014353434,1.0003691248769675,0.1404998912583652,-2.65795323614477e-13,0.9822273525908096,-1.2967840231752554,10.17539451295826,5.899797264909414]\n"
     ]
    },
    {
     "data": {
      "text/plain": [
       "PyObject <matplotlib.image.AxesImage object at 0x318641310>"
      ]
     },
     "execution_count": 14,
     "metadata": {},
     "output_type": "execute_result"
    }
   ],
   "source": [
    "### =============== testing 2 ================= ####\n",
    "\n",
    "# Parameters\n",
    "sigma_a = 1; sigma_s = 0.1; sigma_i = 0.2; \n",
    "sigma_a_sbin = sigma_a  # remember we need this copy for Fmatrix\n",
    "lam = -0.0005; B = 4.1; bias = 0.1; \n",
    "phi = 0.3; tau_phi = 0.1; lapse = 0.05*2;\n",
    "params = [sigma_a, sigma_s, sigma_i, lam, B, bias, phi, tau_phi, lapse]   \n",
    "\n",
    "LL, LLgrad, LLhess = llikey(params)\n",
    "println(LL)\n",
    "println(LLgrad)\n",
    "imshow(log(abs(LLhess)), interpolation=\"none\")\n",
    "### =========================================== ####"
   ]
  },
  {
   "cell_type": "code",
   "execution_count": 15,
   "metadata": {
    "collapsed": false
   },
   "outputs": [
    {
     "data": {
      "text/plain": [
       "-2.535253940438007"
      ]
     },
     "execution_count": 15,
     "metadata": {},
     "output_type": "execute_result"
    }
   ],
   "source": [
    "LL"
   ]
  },
  {
   "cell_type": "code",
   "execution_count": 16,
   "metadata": {
    "collapsed": false
   },
   "outputs": [
    {
     "data": {
      "text/plain": [
       "9-element Array{Float64,1}:\n",
       "  0.340888   \n",
       "  0.0854286  \n",
       "  1.00037    \n",
       "  0.1405     \n",
       " -2.65795e-13\n",
       "  0.982227   \n",
       " -1.29678    \n",
       " 10.1754     \n",
       "  5.8998     "
      ]
     },
     "execution_count": 16,
     "metadata": {},
     "output_type": "execute_result"
    }
   ],
   "source": [
    "LLgrad"
   ]
  },
  {
   "cell_type": "code",
   "execution_count": 17,
   "metadata": {
    "collapsed": false
   },
   "outputs": [
    {
     "data": {
      "text/plain": [
       "multiLikey (generic function with 1 method)"
      ]
     },
     "execution_count": 17,
     "metadata": {},
     "output_type": "execute_result"
    }
   ],
   "source": [
    "function multiLikey(ratdata, params, ntrials)\n",
    "    LL        = 0\n",
    "    LLgrad    = zeros(size(params))\n",
    "    LLhessian = zeros(length(params), length(params))\n",
    "    global RightClickTimes, LeftClickTimes, Nsteps, rat_choice\n",
    "    \n",
    "    for i in 1:ntrials\n",
    "        RightClickTimes, LeftClickTimes, maxT, rat_choice = trialdata(ratdata, i)\n",
    "        Nsteps = Int(ceil(maxT/dt))\n",
    "\n",
    "        LLi, LLgradi, LLhessiani = llikey(params)\n",
    "#         LL        = LL + LLi;\n",
    "#         LLgrad    = LLgrad + LLgradi;\n",
    "#         LLhessian = LLhessian + LLhessiani;\n",
    "\n",
    "        println(i, \" - LL : \" , LLi)\n",
    "        println(LLgradi)\n",
    "        \n",
    "    end\n",
    "\n",
    "#     return LL, LLgrad, LLhessian\n",
    "end"
   ]
  },
  {
   "cell_type": "code",
   "execution_count": 18,
   "metadata": {
    "collapsed": false
   },
   "outputs": [
    {
     "name": "stdout",
     "output_type": "stream",
     "text": [
      "1 - LL : -2.535253940438007\n",
      "[0.3408884804283812,0.08542855014353434,1.0003691248769675,0.1404998912583652,-2.65795323614477e-13,0.9822273525908096,-1.2967840231752554,10.17539451295826,5.899797264909414]\n",
      "2 - LL : -0.24006876781027836\n",
      "[-0.061040662902014854,-0.02138414271916966,-0.1792618185898222,0.02816890375744388,-1.3554859172396418e-15,-0.3546817263974358,0.6320967583233732,-3.93375526632908,-0.40481301425125815]\n",
      "3 - LL : -0.05311161191567428\n",
      "[-0.003426543829684014,-0.0007926128546647258,-0.01318467368332751,-0.0005080743358234592,3.0273497217201077e-19,-0.007503775549695543,0.018526590280367943,-0.13573247341576974,-0.5252514785556288]\n",
      "4 - LL : -2.8357915790470343\n",
      "[0.16357421161071303,0.03579780832059416,0.9086110609700145,0.027513415064364968,8.383930742064291e-18,-0.48947051186233276,-0.7323934992222421,7.223391931625445,8.357714747470494]\n",
      "5 - LL : -0.18695198817146225\n",
      "[-0.04299962874825896,-0.014543805986037677,-0.26788699770088475,0.0006605518700959445,-3.028374817994836e-18,0.32218781411258973,0.35707374228152444,-2.60978237961851,-0.44135033218390035]\n",
      "6 - LL : -1.2005228119038949\n",
      "[0.12000846372335575,0.03548523429748507,0.45992479449078716,0.02074631868259093,8.717823363541144e-18,-1.2389935827409022,-1.5236710724877869,3.9034132185035633,0.7343628740070767]\n",
      "7 - LL : -0.051297235898270295\n",
      "[-1.9951156717075036e-5,-4.714227213103843e-6,-4.519875000335922e-5,-4.639905016863593e-6,1.913743926062414e-15,1.575169182802107e-5,7.234722313405751e-5,-0.0005824351773589385,-0.5263134844921127]\n",
      "8 - LL : -0.05132745769854124\n",
      "[-0.00013935802152735405,-2.9995228546257972e-5,-0.00030243071820294516,-1.7541099955079854e-5,1.4918641313631818e-15,-0.00015126578971693953,0.00043906885346600526,-0.0040304177566841985,-0.5262958105879747]\n",
      "9 - LL : -1.4896301072570561\n",
      "[0.15666740305189752,0.045065516683553596,0.9759315733335278,0.09029324668971267,9.764600703038885e-19,1.6359981858027774,-0.6912587351700487,6.3599272017886195,1.353030318376188]\n",
      "10 - LL : -0.0713736489741331\n",
      "[-0.02317451598489211,-0.007606749747734157,-0.057841834052954975,-0.006816262177370339,4.872609849561382e-14,-0.054640941775251355,0.1427907548007743,-0.9120088444105732,-0.5144541981418704]\n",
      " 13.847828 seconds (18.55 M allocations: 15.343 GB, 11.27% gc time)\n"
     ]
    }
   ],
   "source": [
    "epsilon = 10.0^(-10); \n",
    "dx = 0.25; \n",
    "dt = 0.02; \n",
    "\n",
    "# Parameters\n",
    "sigma_a = 1; sigma_s = 0.1; sigma_i = 0.2; \n",
    "sigma_a_sbin = sigma_a  # remember we need this copy for Fmatrix\n",
    "lam = -0.0005; B = 4.1; bias = 0.1; \n",
    "phi = 0.3; tau_phi = 0.1; lapse = 0.05*2;\n",
    "params = [sigma_a, sigma_s, sigma_i, lam, B, bias, phi, tau_phi, lapse]\n",
    "\n",
    "@time multiLikey(ratdata, params, 10)"
   ]
  },
  {
   "cell_type": "code",
   "execution_count": null,
   "metadata": {
    "collapsed": false
   },
   "outputs": [],
   "source": [
    "sigma_a = 1; sigma_s = 0.1; sigma_i = 0.2; \n",
    "sigma_a_sbin = sigma_a  # remember we need this copy for Fmatrix\n",
    "lam = -0.0005; B = 4.1; bias = 0.1; \n",
    "phi = 0.3; tau_phi = 0.1; lapse = 0.05;\n",
    "params = [sigma_a, sigma_s, sigma_i, lam, B, bias, phi, tau_phi, lapse]   \n",
    "\n",
    "@profile multiLikey(ratdata, params, 10)"
   ]
  },
  {
   "cell_type": "code",
   "execution_count": null,
   "metadata": {
    "collapsed": false
   },
   "outputs": [],
   "source": [
    "Pkg.update()"
   ]
  },
  {
   "cell_type": "code",
   "execution_count": null,
   "metadata": {
    "collapsed": true
   },
   "outputs": [],
   "source": []
  }
 ],
 "metadata": {
  "kernelspec": {
   "display_name": "Julia 0.4.5",
   "language": "julia",
   "name": "julia-0.4"
  },
  "language_info": {
   "file_extension": ".jl",
   "mimetype": "application/julia",
   "name": "julia",
   "version": "0.4.5"
  }
 },
 "nbformat": 4,
 "nbformat_minor": 0
}
