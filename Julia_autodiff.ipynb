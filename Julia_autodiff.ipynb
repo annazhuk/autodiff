{
 "cells": [
  {
   "cell_type": "code",
   "execution_count": 25,
   "metadata": {
    "collapsed": false
   },
   "outputs": [
    {
     "data": {
      "text/plain": [
       "convert (generic function with 656 methods)"
      ]
     },
     "execution_count": 25,
     "metadata": {},
     "output_type": "execute_result"
    }
   ],
   "source": [
    "# import packages..\n",
    "import ForwardDiff\n",
    "using ForwardDiff\n",
    "import PyPlot\n",
    "using PyPlot\n",
    "import Base.convert\n",
    "import Optim\n",
    "using Optim\n",
    "\n",
    "# === Upgrading from ForwardDiff v0.1 to v0.2\n",
    "# instead of ForwardDiff.GradientNumber and ForwardDiff.HessianNumber, \n",
    "# we will use ForwardDiff.Dual\n",
    "\n",
    "convert(::Type{Float64}, x::ForwardDiff.Dual) = Float64(x.value)\n",
    "function convert(::Array{Float64}, x::Array{ForwardDiff.Dual}) \n",
    "    y = zeros(size(x)); \n",
    "    for i in 1:prod(size(x)) \n",
    "        y[i] = convert(Float64, x[i]) \n",
    "    end\n",
    "    return y\n",
    "end\n"
   ]
  },
  {
   "cell_type": "markdown",
   "metadata": {},
   "source": [
    "To evaluate how well a particular set of parameter values $\\theta$ fits the behavioral data, we compute the probability of oberving the data given the model.\n",
    "\n",
    "For each trial $i$, we will compute the likelihood of seeing the data under the model assuming that trials are independent. \n",
    "\n",
    "$P(D|\\theta) = \\prod_{i}P(d_i|t_{i,R},t_{i,L},\\theta)$\n",
    "\n",
    "$t_{i,R},t_{i,L}$ : the right and left click times on trial $i$\n",
    "\n",
    "$d_i$ : the subject's decision on trial $i$\n",
    "\n",
    "The best-fit parameter values are the parameters $\\theta$ that maximize the likelihood (Maximum likelihood values)\n",
    "\n",
    "To help maximize the likelihood(or log likelihood), we will compute the derivative $\\partial P(d_i|t_{i,R},t_{i,L},\\theta) / \\partial\\theta$ for each of the parameters in the set $\\theta$.\n",
    "\n",
    "After we get these gradients of 9 model parameters, we will apply them for optimization."
   ]
  },
  {
   "cell_type": "markdown",
   "metadata": {},
   "source": [
    "## Import data "
   ]
  },
  {
   "cell_type": "code",
   "execution_count": 2,
   "metadata": {
    "collapsed": false
   },
   "outputs": [
    {
     "data": {
      "text/plain": [
       "Dict{ByteString,Any} with 5 entries:\n",
       "  \"ratname\"      => \"B069\"\n",
       "  \"daterange\"    => 1x2 Array{Any,2}:…\n",
       "  \"avgdata\"      => Dict{ASCIIString,Any}(\"is_probe\"=>1x64537 Array{Bool,2}:…\n",
       "  \"rawdata\"      => Dict{ASCIIString,Any}(\"is_probe\"=>1x64537 Array{Any,2}:…\n",
       "  \"total_trials\" => 64537.0"
      ]
     },
     "execution_count": 2,
     "metadata": {},
     "output_type": "execute_result"
    }
   ],
   "source": [
    "using MAT\n",
    "ratdata = matread(\"testdata.mat\")\n",
    "# ratdata = matread(\"chrono_B069_rawdata.mat\")"
   ]
  },
  {
   "cell_type": "code",
   "execution_count": 3,
   "metadata": {
    "collapsed": false
   },
   "outputs": [
    {
     "data": {
      "text/plain": [
       "([0.0,0.001135000000000004,0.011165000000000001,0.01892,0.10638,0.20342,0.32964499999999997,0.33775999999999995],[0.0,0.19235,0.34360999999999997],0.35095899999999747,-1)"
      ]
     },
     "execution_count": 3,
     "metadata": {},
     "output_type": "execute_result"
    }
   ],
   "source": [
    "function trialdata(ratdata, trial)\n",
    "    if ratdata[\"rawdata\"][\"pokedR\"][trial] > 0\n",
    "        rat_choice = 1;  # \"R\"\n",
    "    else\n",
    "        rat_choice = -1; # \"L\"\n",
    "    end;\n",
    "    \n",
    "    if typeof(ratdata[\"rawdata\"][\"rightbups\"][trial]) <: Array\n",
    "        rvec = vec(ratdata[\"rawdata\"][\"rightbups\"][trial]);\n",
    "    else\n",
    "        rvec = []\n",
    "    end\n",
    "    if typeof(ratdata[\"rawdata\"][\"leftbups\"][trial]) <: Array\n",
    "        lvec = vec(ratdata[\"rawdata\"][\"leftbups\"][trial]);\n",
    "    else\n",
    "        lvec = []\n",
    "    end\n",
    "    \n",
    "    return rvec, lvec, \n",
    "    ratdata[\"rawdata\"][\"T\"][trial], rat_choice\n",
    "end\n",
    "\n",
    "RightClickTimes, LeftClickTimes, maxT, rat_choice = trialdata(ratdata, 1)"
   ]
  },
  {
   "cell_type": "markdown",
   "metadata": {},
   "source": [
    "## bin_centers = make_bins(B, dx, binN)"
   ]
  },
  {
   "cell_type": "code",
   "execution_count": 4,
   "metadata": {
    "collapsed": true
   },
   "outputs": [],
   "source": [
    "\"\"\"\n",
    "function bin_centers = make_bins(B, dx, binN)\n",
    "\n",
    "Makes a series of points that will indicate bin centers. The first and\n",
    "last points will indicate sticky bins. No \"bin edges\" are made-- the edge\n",
    "between two bins is always implicity at the halfway point between their\n",
    "corresponding centers. The center bin is always at x=0; bin spacing\n",
    "(except for last and first bins) is always dx; and the position\n",
    "of the first and last bins is chosen so that |B| lies exactly at the\n",
    "midpoint between 1st (sticky) and 2nd (first real) bins, as well as\n",
    "exactly at the midpoint between last but one (last real) and last\n",
    "(sticky) bins.\n",
    "\n",
    "Playing nice with ForwardDiff means that the *number* of bins must be predetermined.\n",
    "So this function will not actually set the number of bins; what it'll do is determine their\n",
    "locations. To accomplish this separation, the function uses as a third parameter binN,\n",
    "which should be equal to the number of bins with bin centers > 0, as follows: \n",
    "   binN = ceil(B/dx)\n",
    "and then the total number of bins will be 2*binN+1, with the center one always corresponding\n",
    "to position zero. Use non-differentiable types for B and dx for this to work.\n",
    "\"\"\"\n",
    "function make_bins(B, dx, binN)\n",
    "    bins = collect(1.0:binN)*B\n",
    "    bins = dx*bins/B\n",
    "\n",
    "    if bins[end] == B\n",
    "        bins[end] = B + dx\n",
    "    else\n",
    "        bins[end] = 2*B - bins[end-1]\n",
    "    end\n",
    "\n",
    "    bins = [-bins[end:-1:1]; 0; bins]\n",
    "    return bins\n",
    "end;"
   ]
  },
  {
   "cell_type": "code",
   "execution_count": 5,
   "metadata": {
    "collapsed": false
   },
   "outputs": [
    {
     "data": {
      "text/plain": [
       "35-element Array{Float64,1}:\n",
       " -4.2 \n",
       " -4.0 \n",
       " -3.75\n",
       " -3.5 \n",
       " -3.25\n",
       " -3.0 \n",
       " -2.75\n",
       " -2.5 \n",
       " -2.25\n",
       " -2.0 \n",
       " -1.75\n",
       " -1.5 \n",
       " -1.25\n",
       "  ⋮   \n",
       "  1.5 \n",
       "  1.75\n",
       "  2.0 \n",
       "  2.25\n",
       "  2.5 \n",
       "  2.75\n",
       "  3.0 \n",
       "  3.25\n",
       "  3.5 \n",
       "  3.75\n",
       "  4.0 \n",
       "  4.2 "
      ]
     },
     "execution_count": 5,
     "metadata": {},
     "output_type": "execute_result"
    }
   ],
   "source": [
    "bins = make_bins(4.1,0.25,ceil(4.1/0.25))\n",
    "bin_centers = bins\n",
    "bins"
   ]
  },
  {
   "cell_type": "markdown",
   "metadata": {},
   "source": [
    "## Global Variables"
   ]
  },
  {
   "cell_type": "code",
   "execution_count": 6,
   "metadata": {
    "collapsed": false
   },
   "outputs": [],
   "source": [
    "# Global variables \n",
    "const epsilon = 10.0^(-10);\n",
    "const dx = 0.25;\n",
    "const dt = 0.02;\n",
    "const total_rate = 40;"
   ]
  },
  {
   "cell_type": "markdown",
   "metadata": {},
   "source": [
    "## Parameters\n",
    "\n",
    "a : decision variable, memory accumulator\n",
    "\n",
    "$$ da =\n",
    "  \\begin{cases}\n",
    "    0       & \\quad \\text{if, } |a| \\geq B \\\\\n",
    "    \\sigma_adW + (\\delta_{t,t_R} \\cdot \\eta C(t) - \\delta_{t,t_L} \\cdot \\eta C(t))dt + \\lambda adt  & \\quad \\text{otherwise, }\\\\\n",
    "  \\end{cases}\n",
    "$$\n",
    "\n",
    "\n",
    "\n",
    "The impact of each click (C) is affected by sensory adaptation that depends on clicks from both right and left sides:\n",
    "\n",
    "$$ \n",
    "\\frac{\\mathrm d C}{\\mathrm d t} = \\frac{1-C}{\\tau_\\phi} + (1-\\phi)C(\\delta_{t,t_R}+\\delta_{t,t_L}) \n",
    "$$\n",
    "\n",
    "\n",
    "sigma2_a ($\\sigma_a^2$) : a diffusion constant, parameterizing noise in a.\n",
    "\n",
    "sigma2_s ($\\sigma_s^2$) : parameterizing noise when adding evidence from a right or left pulse. (incoming sensory evidence)\n",
    "\n",
    "sigma2_i ($\\sigma_i^2$) : initial condition for the dynamical equation at $t=0$\n",
    "\n",
    "lam ($\\lambda$) : consistent drift in the memory a ($\\lambda<0$ : leaky or forgetful case, $\\lambda>0$ : unstable or impulsive case)\n",
    "\n",
    "B : decision bound\n",
    "\n",
    "bias : bias parameter determines the position of the threshold in a (which a Rightward decision is made)\n",
    "\n",
    "phi ($\\phi$) : parameterize sensory adaptation (by defining the dynamics of C ($\\phi>1$ : Facilitation, $\\phi<1$ : Depression, $\\phi=1$ : absense of sensory adaptation)\n",
    "\n",
    "tau_phi ($\\tau_\\phi$) :\n",
    "\n",
    "lapse : The lapse rate parameterizes the probability of making a random response.\n"
   ]
  },
  {
   "cell_type": "code",
   "execution_count": 7,
   "metadata": {
    "collapsed": false
   },
   "outputs": [],
   "source": [
    "sigma_a = 1; sigma_s = 0.1; sigma_i = 0.2; \n",
    "sigma_a_sbin = sigma_a  # remember we need this copy for Fmatrix\n",
    "lam = -0.0005; B = 4.1; bias = 0.1; \n",
    "phi = 0.3; tau_phi = 0.1; lapse = 0.05*2;\n",
    "params = [sigma_a, sigma_s, sigma_i, lam, B, bias, phi, tau_phi, lapse]   \n",
    "\n",
    "sigma = params[1];\n",
    "lam   = params[2];\n",
    "c     = params[3];"
   ]
  },
  {
   "cell_type": "markdown",
   "metadata": {},
   "source": [
    "## F = Fmatrix([sigma, lambda, c], bin_centers)"
   ]
  },
  {
   "cell_type": "code",
   "execution_count": 8,
   "metadata": {
    "collapsed": false
   },
   "outputs": [
    {
     "data": {
      "text/plain": [
       "Fmatrix (generic function with 1 method)"
      ]
     },
     "execution_count": 8,
     "metadata": {},
     "output_type": "execute_result"
    }
   ],
   "source": [
    "\"\"\"\n",
    "function F = Fmatrix([sigma, lambda, c], bin_centers)\n",
    "\n",
    "Uses globals\n",
    "    dt\n",
    "    dx\n",
    "    epsilon       (=10.0^-10)\n",
    "\n",
    "Returns a square Markov matrix of transition probabilities. \n",
    "Plays nice with ForwardDiff-- that is why bin_centers is a global vector (so that the rem\n",
    "operations that go into defining the bins, which ForwardDiff doesn't know how to deal with,\n",
    "stay outside of this differentiable function)\n",
    "\n",
    "sigma  should be in (accumulator units) per (second^(1/2))\n",
    "lambda should be in s^-1\n",
    "c      should be in accumulator units per second\n",
    "bin_centers should be a vector of the centers of all the bins. Edges will be at midpoints\n",
    "       between the centers, and the first and last bin will be sticky.\n",
    "\n",
    "dx is not used inside Fmatrix, because bin_centers specifies all we need to know.\n",
    "dt *is* used inside Fmatrix, to convert sigma, lambda, and c into timestep units\n",
    "\"\"\"\n",
    "function Fmatrix(params::Vector, bin_centers)\n",
    "    sigma2 = params[1];\n",
    "    lam   = params[2];\n",
    "    c     = params[3];\n",
    "    \n",
    "    sigma2_sbin = convert(Float64, sigma2)\n",
    "  \n",
    "    F = zeros(typeof(sigma2),length(bin_centers),length(bin_centers))    \n",
    "#     F = collect(1.0:length(bin_centers))*collect(1.0:length(bin_centers))';\n",
    "#     F = 0.0*sigma2*F; # Multiplying by that sigma is needed, \n",
    "#                      # for type casting reasons I do not understand...\n",
    "\n",
    "    # added condition if lambda=0 \n",
    "    if lam == 0\n",
    "        mus = bin_centers*exp(lam*dt)\n",
    "    else\n",
    "        mus = (bin_centers + c/lam)*exp(lam*dt) - c/lam\n",
    "    end\n",
    "\n",
    "    n_sbins = max(70, ceil(10*sqrt(sigma2_sbin)/dx))\n",
    "    \n",
    "    swidth = 5*sqrt(sigma2_sbin)\n",
    "    sbinsize = swidth/n_sbins;#sbins[2] - sbins[1]\n",
    "    sbins    = collect(-swidth:sbinsize:swidth)\n",
    "\n",
    "    ps       = exp(-sbins.^2/(2*sigma2))#exp(-sbins.^2/(2*sigma^2)) / sqrt(2*sigma^2)\n",
    "    ps       = ps/sum(ps);\n",
    "\n",
    "    base_sbins = sbins;\n",
    "        \n",
    "    for j in 2:length(bin_centers)\n",
    "        sbins = collect(0:(length(base_sbins)-1))*sbinsize\n",
    "        sbins = sbins + mus[j]-swidth\n",
    "\n",
    "        for k in 1:length(sbins)\n",
    "            if sbins[k] < bin_centers[1] #(bin_centers[1] + bin_centers[2])/2\n",
    "                F[1,j] = F[1,j] + ps[k]\n",
    "            elseif bin_centers[end] <= sbins[k]#(bin_centers[end]+bin_centers[end-1])/2 <= sbins[k]\n",
    "                F[end,j] = F[end,j] + ps[k]\n",
    "            else # more condition\n",
    "                if (sbins[k] > bin_centers[1] && sbins[k] < bin_centers[2])\n",
    "                    lp = 1; hp = 2;\n",
    "                elseif (sbins[k] > bin_centers[end-1] && sbins[k] < bin_centers[end])\n",
    "                    lp = length(bin_centers)-1; hp = length(bin_centers);\n",
    "                else \n",
    "                    lp = floor(Int,((sbins[k]-bin_centers[2])/dx) + 2)#find(bin_centers .<= sbins[k])[end]#Int(floor((sbins[k]-bin_centers[2])/dx) + 1);\n",
    "                    hp = lp+1#Int(ceil((sbins[k]-bin_centers[2])/dx) + 1);\n",
    "                end\n",
    "\n",
    "                if lp < 1 \n",
    "                    lp = 1; \n",
    "                end\n",
    "                if hp < 1 \n",
    "                    hp = 1;\n",
    "                end\n",
    "\n",
    "                if lp == hp\n",
    "                    F[lp,j] = F[lp,j] + ps[k]\n",
    "                else\n",
    "                    F[hp,j] = F[hp,j] + ps[k]*(sbins[k] - bin_centers[lp])/(bin_centers[hp] - bin_centers[lp])\n",
    "                    F[lp,j] = F[lp,j] + ps[k]*(bin_centers[hp] - sbins[k])/(bin_centers[hp] - bin_centers[lp])\n",
    "                end                   \n",
    "            end\n",
    "        end\n",
    "    end\n",
    "    F[:,1] = 0; F[:,end] = 0; F[1,1] = 1; F[end,end] = 1;\n",
    "    return F\n",
    "end"
   ]
  },
  {
   "cell_type": "code",
   "execution_count": 9,
   "metadata": {
    "collapsed": false
   },
   "outputs": [
    {
     "data": {
      "text/plain": [
       "35x35 Array{Float64,2}:\n",
       " 1.0  0.41182      0.218907     0.0917964    …  0.0          0.0          0.0\n",
       " 0.0  0.197142     0.172131     0.112014        0.0          0.0          0.0\n",
       " 0.0  0.187228     0.217923     0.187228        0.0          0.0          0.0\n",
       " 0.0  0.119939     0.187228     0.217923        0.0          0.0          0.0\n",
       " 0.0  0.0571377    0.119939     0.187228        0.0          0.0          0.0\n",
       " 0.0  0.0202246    0.0571377    0.119939     …  0.0          0.0          0.0\n",
       " 0.0  0.00531176   0.0202246    0.0571377       0.0          0.0          0.0\n",
       " 0.0  0.00103206   0.00531176   0.0202246       0.0          0.0          0.0\n",
       " 0.0  0.000148294  0.00103206   0.00531176      0.0          0.0          0.0\n",
       " 0.0  1.59548e-5   0.000148294  0.00103206      0.0          0.0          0.0\n",
       " 0.0  1.11105e-6   1.59548e-5   0.000148294  …  0.0          0.0          0.0\n",
       " 0.0  0.0          1.11105e-6   1.59548e-5      0.0          0.0          0.0\n",
       " 0.0  0.0          0.0          1.11105e-6      0.0          0.0          0.0\n",
       " ⋮                                           ⋱                               \n",
       " 0.0  0.0          0.0          0.0             1.11105e-6   0.0          0.0\n",
       " 0.0  0.0          0.0          0.0             1.59548e-5   1.11105e-6   0.0\n",
       " 0.0  0.0          0.0          0.0          …  0.000148294  1.59548e-5   0.0\n",
       " 0.0  0.0          0.0          0.0             0.00103206   0.000148294  0.0\n",
       " 0.0  0.0          0.0          0.0             0.00531176   0.00103206   0.0\n",
       " 0.0  0.0          0.0          0.0             0.0202246    0.00531176   0.0\n",
       " 0.0  0.0          0.0          0.0             0.0571377    0.0202246    0.0\n",
       " 0.0  0.0          0.0          0.0          …  0.119939     0.0571377    0.0\n",
       " 0.0  0.0          0.0          0.0             0.187228     0.119939     0.0\n",
       " 0.0  0.0          0.0          0.0             0.217923     0.187228     0.0\n",
       " 0.0  0.0          0.0          0.0             0.172131     0.197142     0.0\n",
       " 0.0  0.0          0.0          0.0             0.218907     0.41182      1.0"
      ]
     },
     "execution_count": 9,
     "metadata": {},
     "output_type": "execute_result"
    }
   ],
   "source": [
    "F = Fmatrix([0.2, 0, 0.0],bin_centers) # Fi\n",
    "F"
   ]
  },
  {
   "cell_type": "code",
   "execution_count": 10,
   "metadata": {
    "collapsed": false
   },
   "outputs": [
    {
     "data": {
      "text/plain": [
       "35x35 Array{Float64,2}:\n",
       " 1.0  0.461125    0.365007    0.274946    …  0.0         0.0         0.0\n",
       " 0.0  0.0908452   0.0859592   0.0811359      0.0         0.0         0.0\n",
       " 0.0  0.0945948   0.100835    0.0946575      0.0         0.0         0.0\n",
       " 0.0  0.0888839   0.0945533   0.100892       0.0         0.0         0.0\n",
       " 0.0  0.0737024   0.0889555   0.0945117      0.0         0.0         0.0\n",
       " 0.0  0.0612142   0.0736883   0.0890271   …  0.0         0.0         0.0\n",
       " 0.0  0.044833    0.0612781   0.0736743      0.0         0.0         0.0\n",
       " 0.0  0.0329193   0.0448354   0.0613421      0.0         0.0         0.0\n",
       " 0.0  0.0212918   0.0329616   0.0448377      0.0         0.0         0.0\n",
       " 0.0  0.0138235   0.021298    0.0330038      0.0         0.0         0.0\n",
       " 0.0  0.0078944   0.0138445   0.0213041   …  0.0         0.0         0.0\n",
       " 0.0  0.00453257  0.0078985   0.0138655      0.0         0.0         0.0\n",
       " 0.0  0.00228512  0.00454054  0.00790261     3.13941e-7  0.0         0.0\n",
       " ⋮                                        ⋱                             \n",
       " 0.0  0.0         0.0         3.40328e-7     0.00783279  0.00440511  0.0\n",
       " 0.0  0.0         0.0         0.0            0.0135081   0.00782868  0.0\n",
       " 0.0  0.0         0.0         0.0         …  0.0211994   0.0134871   0.0\n",
       " 0.0  0.0         0.0         0.0            0.0322857   0.0211932   0.0\n",
       " 0.0  0.0         0.0         0.0            0.0447976   0.0322435   0.0\n",
       " 0.0  0.0         0.0         0.0            0.0602548   0.0447953   0.0\n",
       " 0.0  0.0         0.0         0.0            0.0739127   0.0601908   0.0\n",
       " 0.0  0.0         0.0         0.0         …  0.0878095   0.0739267   0.0\n",
       " 0.0  0.0         0.0         0.0            0.0952181   0.0877379   0.0\n",
       " 0.0  0.0         0.0         0.0            0.0999224   0.0952597   0.0\n",
       " 0.0  0.0         0.0         0.0            0.0863713   0.0901428   0.0\n",
       " 0.0  0.0         0.0         0.0            0.368213    0.464534    1.0"
      ]
     },
     "execution_count": 10,
     "metadata": {},
     "output_type": "execute_result"
    }
   ],
   "source": [
    "F = Fmatrix(params,bin_centers)\n",
    "F"
   ]
  },
  {
   "cell_type": "markdown",
   "metadata": {},
   "source": [
    "## logProbRight \n",
    "### (params::Vector, RightClickTimes::Vector, LeftClickTimes::Vector, Nsteps::Int)\n",
    "\n",
    "* params = [sigma_a, sigma_s, sigma_i, lambda, B, bias, phi, tau_phi, lapse]\n",
    "* RightClickTimes vector with elements indicating times of right clicks\n",
    "* LeftClickTimes vector with elements indicating times of left clicks\n",
    "* Nsteps number of timesteps to simulate \n",
    "\n",
    "a (column vector representing distribution of values of accumulator a)\n",
    "\n",
    "a_trace (length(bin_centers)-by-Nsteps+1), a trace of the distribution of a as \n",
    "    a function of time\n",
    "    \n",
    "c_trace (row vector Nsteps+1 long, effective value of c as \n",
    "    a function of time after adaptation)\n"
   ]
  },
  {
   "cell_type": "code",
   "execution_count": 11,
   "metadata": {
    "collapsed": false
   },
   "outputs": [
    {
     "data": {
      "text/plain": [
       "logLike (generic function with 1 method)"
      ]
     },
     "execution_count": 11,
     "metadata": {},
     "output_type": "execute_result"
    }
   ],
   "source": [
    "\"\"\"\n",
    "version with inter-click interval(ici) for c_eff_net / c_eff_tot (followed the matlab code) \n",
    "(which was using dt for c_eff)\n",
    "\n",
    "function logProbRight(params::Vector, RightClickTimes::Vector, LeftClickTimes::Vector, Nsteps::Int)\n",
    "\n",
    "    Nsteps            number of timesteps to simulate\n",
    "    RightClickTimes   vector with elements indicating times of right clicks\n",
    "    LeftClickTimes    vector with elements indicating times of left clicks\n",
    "\n",
    "    a      (column vector representing distribution of values of accumulator a)\n",
    "\n",
    "    a_trace (length(bin_centers)-by-Nsteps+1), a trace of the distribution of a as \n",
    "            a function of time\n",
    "    c_trace (row vector Nsteps+1 long, effective value of c as \n",
    "            a function of time after adaptation)\n",
    "\n",
    "Takes params\n",
    "    sigma_a = params[1]; sigma_s = params[2]; sigma_i = params[3]; \n",
    "    lambda = params[4]; B = params[5]; bias = params[6]; \n",
    "    phi = params[7]; tau_phi = params[8]; lapse = params[9]\n",
    "\n",
    "Returns the log of the probability that the agent chose Right. \n",
    "\"\"\"\n",
    "\n",
    "function logProbRight(params::Vector, RightClickTimes::Vector, LeftClickTimes::Vector, Nsteps::Int)\n",
    "    sigma_a = params[1]; sigma_s = params[2]; sigma_i = params[3]; \n",
    "    lambda = params[4]; B = params[5]; bias = params[6]; \n",
    "    phi = params[7]; tau_phi = params[8]; lapse = params[9]\n",
    "    \n",
    "    LeftClicks  = zeros(Int, 1, Nsteps); if isempty(RightClickTimes) RightClickTimes = zeros(0) end;\n",
    "    RightClicks = zeros(Int, 1, Nsteps); if isempty(LeftClickTimes ) LeftClickTimes  = zeros(0) end;\n",
    "    for i in ceil((LeftClickTimes+epsilon)/dt)  LeftClicks[Int(i)]  = LeftClicks[Int(i)] + 1 end\n",
    "    for i in ceil((RightClickTimes+epsilon)/dt) RightClicks[Int(i)] = RightClicks[Int(i)] + 1 end\n",
    "    \n",
    "    # === Upgrading from ForwardDiff v0.1 to v0.2\n",
    "    # instead of using convert we can use floor(Int, ForwardDiff.Dual) and\n",
    "    # ceil(Int, ForwardDiff.Dual)\n",
    "\n",
    "#     my_B = convert(Float64, B) # my_B won't be differentiated; ForwardDiff can't do ceil()\n",
    "#     my_bias = convert(Float64, bias)  # my_bias won't be differentiated' FD can't do floor()\n",
    "    binN = ceil(Int, B/dx)#Int(ceil(my_B/dx))  \n",
    "    binBias = floor(Int, bias/dx) + binN+1  \n",
    "    bin_centers = make_bins(B, dx, binN) \n",
    "\n",
    "#     a_trace = zeros(length(bin_centers), Nsteps+1); \n",
    "#     c_trace = zeros(1, Nsteps+1)\n",
    "    \n",
    "    a0 = zeros(length(bin_centers),1)*sigma_a*0.0; # That weirdo inexact error thing\n",
    "    a0[binN+1] = 1-lapse; a0[1] = lapse/2; a0[end] = lapse/2;\n",
    "    \n",
    "    c_eff_r = 0\n",
    "    c_eff_l = 0\n",
    "    cnt_r = 0\n",
    "    cnt_l = 0\n",
    "    \n",
    "    Fi = Fmatrix([sigma_i, 0, 0.0], bin_centers); \n",
    "    a = Fi*a0;\n",
    "#     a_trace[:,1] = a;\n",
    "\n",
    "    F0 = Fmatrix([sigma_a*dt, lambda, 0.0], bin_centers)\n",
    "    for i in 2:Nsteps \n",
    "        c_eff_tot = 0\n",
    "        c_eff_net = 0\n",
    "        if (RightClicks[i-1]==0) & (LeftClicks[i-1]==0)\n",
    "            c_eff_tot = 0\n",
    "            c_eff_net = 0\n",
    "\n",
    "            a = F0*a\n",
    "        else\n",
    "            for j in 1:RightClicks[i-1]\n",
    "                if cnt_r != 0 || j != 1\n",
    "                    ici = RightClickTimes[cnt_r+j]-RightClickTimes[cnt_r+j-1]                    \n",
    "                    c_eff_r = 1 + (c_eff_r*phi - 1)*exp(-ici/tau_phi)\n",
    "                    c_eff_tot = c_eff_tot + c_eff_r\n",
    "                    c_eff_net = c_eff_net + c_eff_r\n",
    "                end\n",
    "                if j == RightClicks[i-1]\n",
    "                    cnt_r = cnt_r+j\n",
    "                end\n",
    "            end\n",
    "            for j in 1:LeftClicks[i-1]\n",
    "                if cnt_l != 0 || j != 1\n",
    "                    ici = LeftClickTimes[cnt_l+j]-LeftClickTimes[cnt_l+j-1]\n",
    "                    c_eff_l = 1 + (c_eff_l*phi - 1)*exp(-ici/tau_phi)\n",
    "                    c_eff_tot = c_eff_tot + c_eff_l\n",
    "                    c_eff_net = c_eff_net - c_eff_l\n",
    "                end\n",
    "                if j == LeftClicks[i-1]\n",
    "                    cnt_l = cnt_l+j\n",
    "                end\n",
    "            end\n",
    "            net_sigma = sigma_a*dt + (sigma_s*c_eff_tot)/total_rate\n",
    "            F = Fmatrix([net_sigma, lambda, c_eff_net/dt], bin_centers)\n",
    "            a = F*a\n",
    "        end\n",
    "        \n",
    "#         c_trace[i]   = convert(Float64, c_eff_tot)\n",
    "#         a_trace[:,i] = convert(Array{Float64}, a)\n",
    "    end;\n",
    "#     plot(1:Nsteps+1,c_trace[:])    \n",
    "#     imshow(a_trace, interpolation=\"none\")\n",
    "    pright = sum(a[binBias+2:end]) + \n",
    "    a[binBias]*((bin_centers[binBias+1] - bias)/dx/2) +\n",
    "    a[binBias+1]*(0.5 + (bin_centers[binBias+1] - bias)/dx/2)\n",
    "    \n",
    "    return log(pright)\n",
    "end\n",
    "\n",
    "function logLike(params::Vector, RightClickTimes::Vector, LeftClickTimes::Vector, Nsteps::Int, rat_choice::Int)\n",
    "    if rat_choice > 0\n",
    "        # println(\"Right\")\n",
    "        return logProbRight(params, RightClickTimes, LeftClickTimes, Nsteps)\n",
    "    elseif rat_choice < 0\n",
    "        # println(\"Left\")\n",
    "        return log(1 - exp(logProbRight(params, RightClickTimes, LeftClickTimes, Nsteps)))\n",
    "    else\n",
    "        error(\"Rat did what?? It was neither R nor L\")\n",
    "    end\n",
    "end"
   ]
  },
  {
   "cell_type": "markdown",
   "metadata": {},
   "source": [
    "## single_trial\n",
    "### (params::Vector, RightClickTimes::Vector, LeftClickTimes::Vector, Nsteps::Int, rat_choice::Int)"
   ]
  },
  {
   "cell_type": "code",
   "execution_count": 12,
   "metadata": {
    "collapsed": false
   },
   "outputs": [
    {
     "data": {
      "text/plain": [
       "single_trial (generic function with 1 method)"
      ]
     },
     "execution_count": 12,
     "metadata": {},
     "output_type": "execute_result"
    }
   ],
   "source": [
    "\"\"\" \n",
    "function (LL, LLgrad) = \n",
    "    single_trial(params::Vector, RightClickTimes::Vector, LeftClickTimes::Vector, Nsteps::Int, rat_choice::Int)\n",
    "\n",
    "Computes the log likelihood according to Bing's model, and returns log likelihood, gradient\n",
    "\n",
    "params is a vector whose elements, in order, are\n",
    "    sigma_a    square root of accumulator variance per unit time sqrt(click units^2 per second)\n",
    "    sigma_s    standard deviation introduced with each click (will get scaled by click adaptation)\n",
    "    sigma_i    square root of initial accumulator variance sqrt(click units^2)\n",
    "    lambda     1/accumulator time constant (sec^-1). Positive means unstable, neg means stable\n",
    "    B          sticky bound height (click units)\n",
    "    bias       where the decision boundary lies (click units)\n",
    "    phi        click adaptation/facilitation multiplication parameter\n",
    "    tau_phi    time constant for recovery from click adaptation (sec)\n",
    "    lapse      2*lapse fraction of trials are decided randomly\n",
    "\n",
    "rat_choice     should be either \"R\" or \"L\"\n",
    "\n",
    "\n",
    "RETURNS:\n",
    "\n",
    "\n",
    "\"\"\"\n",
    "# function llikey(params::Vector; maxT=1, RightPulseTimes=[], LeftPulseTimes=[], dx=0.25, dt=0.02)\n",
    "\n",
    "#     global RightClickTimes, LeftClickTimes, Nsteps    \n",
    "#     LLhessian, allresults = ForwardDiff.hessian(logLike, params, ForwardDiff.AllResults)\n",
    "#     LL     = ForwardDiff.value(allresults)\n",
    "#     LLgrad = ForwardDiff.gradient(allresults)\n",
    "#     LL = logLike(params)\n",
    "    \n",
    "#     return LL,LLgrad, LLhessian, length(params) # \n",
    "# end\n",
    "\n",
    "# === Upgrading from ForwardDiff v0.1 to v0.2\n",
    "# for Retrieving Lower-Order Results\n",
    "#     # old way\n",
    "#     answer, results = ForwardDiff.hessian(f, x, AllResults)\n",
    "#     v = ForwardDiff.value(results)\n",
    "#     g = ForwardDiff.gradient(results)\n",
    "#     h = ForwardDiff.hessian(results) # == answer\n",
    "\n",
    "#     # new way\n",
    "#     out = HessianResult(x)\n",
    "#     ForwardDiff.hessian!(out, f, x)\n",
    "#     v = ForwardDiff.value(out)\n",
    "#     g = ForwardDiff.gradient(out)\n",
    "#     h = ForwardDiff.hessian(out)\n",
    "\n",
    "# function llikey(params::Vector)\n",
    "    \n",
    "#     result =  HessianResult(params)\n",
    "    \n",
    "#     ForwardDiff.hessian!(result, logLike, params);\n",
    "    \n",
    "#     LL     = ForwardDiff.value(result)\n",
    "#     LLgrad = ForwardDiff.gradient(result)\n",
    "#     LLhessian = ForwardDiff.hessian(result)\n",
    "    \n",
    "#     return LL, LLgrad, LLhessian, length(params)\n",
    "# end\n",
    "\n",
    "function single_trial(params::Vector, RightClickTimes::Vector, LeftClickTimes::Vector, Nsteps::Int, rat_choice::Int)\n",
    "    function llikey(params::Vector)\n",
    "        logLike(params, RightClickTimes, LeftClickTimes, Nsteps, rat_choice)\n",
    "    end\n",
    "\n",
    "    result =  GradientResult(params)\n",
    "    \n",
    "    ForwardDiff.gradient!(result, llikey, params);\n",
    "    \n",
    "    LL     = ForwardDiff.value(result)\n",
    "    LLgrad = ForwardDiff.gradient(result)\n",
    "   \n",
    "    return LL, LLgrad\n",
    "end"
   ]
  },
  {
   "cell_type": "code",
   "execution_count": 26,
   "metadata": {
    "collapsed": false
   },
   "outputs": [
    {
     "name": "stdout",
     "output_type": "stream",
     "text": [
      "  0.001764 seconds (1.48 k allocations: 1.280 MB)\n"
     ]
    },
    {
     "data": {
      "text/plain": [
       "-2.5352539404380363"
      ]
     },
     "execution_count": 26,
     "metadata": {},
     "output_type": "execute_result"
    }
   ],
   "source": [
    "### =============== testing 1 ================= ####\n",
    "\n",
    "# Parameters\n",
    "sigma_a = 1; sigma_s = 0.1; sigma_i = 0.2; \n",
    "sigma_a_sbin = sigma_a  # remember we need this copy for Fmatrix\n",
    "lam = -0.0005; B = 4.1; bias = 0.1; \n",
    "phi = 0.3; tau_phi = 0.1; lapse = 0.05*2;\n",
    "params = [sigma_a, sigma_s, sigma_i, lam, B, bias, phi, tau_phi, lapse]   \n",
    "\n",
    "RightClickTimes, LeftClickTimes, maxT, rat_choice = trialdata(ratdata, 1)\n",
    "\n",
    "Nsteps = Int(cld(maxT,dt))\n",
    "\n",
    "@time logLike(params, RightClickTimes, LeftClickTimes, Nsteps, rat_choice)\n",
    "\n",
    "### =========================================== #### "
   ]
  },
  {
   "cell_type": "code",
   "execution_count": 27,
   "metadata": {
    "collapsed": false
   },
   "outputs": [
    {
     "name": "stdout",
     "output_type": "stream",
     "text": [
      "  0.005047 seconds (1.65 k allocations: 6.780 MB)\n",
      "-2.535253940438007\n",
      "[0.34088848042838044,0.08542855014353426,1.0003691248769693,0.14049989125836537,-2.657734320372509e-13,0.9822273525908097,-1.2967840231752559,10.17539451295827,5.899797264909414]\n"
     ]
    }
   ],
   "source": [
    "### =============== testing 2 ================= ####\n",
    "@time LL, LLgrad = single_trial(params, RightClickTimes, LeftClickTimes, Nsteps, rat_choice)\n",
    "println(LL)\n",
    "println(LLgrad)\n",
    "### =========================================== ####"
   ]
  },
  {
   "cell_type": "code",
   "execution_count": 15,
   "metadata": {
    "collapsed": false
   },
   "outputs": [
    {
     "data": {
      "text/plain": [
       "-2.535253940438007"
      ]
     },
     "execution_count": 15,
     "metadata": {},
     "output_type": "execute_result"
    }
   ],
   "source": [
    "LL"
   ]
  },
  {
   "cell_type": "code",
   "execution_count": 16,
   "metadata": {
    "collapsed": false
   },
   "outputs": [
    {
     "data": {
      "text/plain": [
       "9-element Array{Float64,1}:\n",
       "  0.340888   \n",
       "  0.0854286  \n",
       "  1.00037    \n",
       "  0.1405     \n",
       " -2.65773e-13\n",
       "  0.982227   \n",
       " -1.29678    \n",
       " 10.1754     \n",
       "  5.8998     "
      ]
     },
     "execution_count": 16,
     "metadata": {},
     "output_type": "execute_result"
    }
   ],
   "source": [
    "LLgrad"
   ]
  },
  {
   "cell_type": "code",
   "execution_count": 17,
   "metadata": {
    "collapsed": false
   },
   "outputs": [],
   "source": [
    "#Pkg.update()"
   ]
  },
  {
   "cell_type": "markdown",
   "metadata": {
    "collapsed": false
   },
   "source": [
    "# Maximize LL over parameter space\n",
    "### Optimization with Optim.jl\n"
   ]
  },
  {
   "cell_type": "code",
   "execution_count": 18,
   "metadata": {
    "collapsed": false
   },
   "outputs": [],
   "source": [
    "# Pkg.add(\"Optim\")\n",
    "\n",
    "# import Optim\n",
    "# using Optim"
   ]
  },
  {
   "cell_type": "code",
   "execution_count": 19,
   "metadata": {
    "collapsed": false
   },
   "outputs": [
    {
     "data": {
      "text/plain": [
       "SumLikey (generic function with 1 method)"
      ]
     },
     "execution_count": 19,
     "metadata": {},
     "output_type": "execute_result"
    }
   ],
   "source": [
    "function SumLikey_LL(params::Vector, ratdata, ntrials::Int)\n",
    "    LL        = 0\n",
    "        \n",
    "    for i in 1:ntrials\n",
    "        RightClickTimes, LeftClickTimes, maxT, rat_choice = trialdata(ratdata, i)\n",
    "        Nsteps = Int(ceil(maxT/dt))\n",
    "\n",
    "        LLi = logLike(params, RightClickTimes, LeftClickTimes, Nsteps, rat_choice)\n",
    "        LL        = LL + LLi;\n",
    "    end\n",
    "    \n",
    "    LL = -LL\n",
    "    return LL\n",
    "end\n",
    "\n",
    "function SumLikey(params::Vector, ratdata, ntrials::Int)\n",
    "    LL        = float(0)\n",
    "    LLgrad    = zeros(size(params))\n",
    "    \n",
    "    for i in 1:ntrials\n",
    "        if rem(i,1000)==0\n",
    "            println(\"     sum_ll_all_trials: running trial \", i, \"/\", ntrials);\n",
    "        end\n",
    "\n",
    "        RightClickTimes, LeftClickTimes, maxT, rat_choice = trialdata(ratdata, i)\n",
    "        Nsteps = Int(ceil(maxT/dt))\n",
    "\n",
    "        LLi, LLgradi = single_trial(params, RightClickTimes, LeftClickTimes, Nsteps, rat_choice)\n",
    "        LL        = LL + LLi;\n",
    "        LLgrad    = LLgrad + LLgradi;\n",
    "        \n",
    "    end\n",
    "\n",
    "    LL = -LL\n",
    "    LLgrad = -LLgrad\n",
    "    return LL, LLgrad\n",
    "end"
   ]
  },
  {
   "cell_type": "code",
   "execution_count": 28,
   "metadata": {
    "collapsed": false
   },
   "outputs": [
    {
     "name": "stdout",
     "output_type": "stream",
     "text": [
      "  0.063710 seconds (53.47 k allocations: 47.177 MB, 13.32% gc time)\n"
     ]
    },
    {
     "data": {
      "text/plain": [
       "20.272306105945443"
      ]
     },
     "execution_count": 28,
     "metadata": {},
     "output_type": "execute_result"
    }
   ],
   "source": [
    "@time SumLikey_LL(params, ratdata, 27) # sum of LL for trial (1-27)"
   ]
  },
  {
   "cell_type": "code",
   "execution_count": 21,
   "metadata": {
    "collapsed": false
   },
   "outputs": [
    {
     "name": "stdout",
     "output_type": "stream",
     "text": [
      "40 task.jl; anonymous; line: 447\n",
      " 40 ...4/IJulia/src/IJulia.jl; eventloop; line: 143\n",
      "  40 ...rc/execute_request.jl; execute_request_0x535c5df2; line: 183\n",
      "   40 loading.jl; include_string; line: 282\n",
      "    1  ...a/lib/julia/sys.dylib; typeinf_ext; (unknown line)\n",
      "     1 ...a/lib/julia/sys.dylib; typeinf; (unknown line)\n",
      "      1 ...a/lib/julia/sys.dylib; typeinf_uncached; (unknown line)\n",
      "       1 ...a/lib/julia/sys.dylib; abstract_eval; (unknown line)\n",
      "        1 .../lib/julia/sys.dylib; abstract_eval_call; (unknown line)\n",
      "         1 .../lib/julia/sys.dylib; abstract_call; (unknown line)\n",
      "          1 ...lib/julia/sys.dylib; abstract_call_gf; (unknown line)\n",
      "           1 ...lib/julia/sys.dylib; typeinf; (unknown line)\n",
      "            1 ...lib/julia/sys.dylib; typeinf; (unknown line)\n",
      "             1 ...ib/julia/sys.dylib; typeinf_uncached; (unknown line)\n",
      "              1 ...ib/julia/sys.dylib; abstract_eval; (unknown line)\n",
      "               1 ...b/julia/sys.dylib; abstract_eval_call; (unknown line)\n",
      "                1 ...b/julia/sys.dylib; abstract_eval; (unknown line)\n",
      "                 1 ...b/julia/sys.dylib; abstract_eval_call; (unknown line)\n",
      "                  1 .../julia/sys.dylib; abstract_call; (unknown line)\n",
      "                   1 .../julia/sys.dylib; abstract_call_gf; (unknown line)\n",
      "                    1 ...julia/sys.dylib; typeinf; (unknown line)\n",
      "                     1 ...julia/sys.dylib; typeinf; (unknown line)\n",
      "                      1 ...julia/sys.dylib; typeinf_uncached; (unknown line)\n",
      "                       1 ...ulia/sys.dylib; abstract_interpret; (unknown line)\n",
      "                        1 ...ulia/sys.dylib; abstract_eval; (unknown line)\n",
      "                         1 ...lia/sys.dylib; abstract_eval_call; (unknown line)\n",
      "                          1 ...lia/sys.dylib; abstract_call; (unknown line)\n",
      "                           1 ...lia/sys.dylib; abstract_call_gf; (unknown line)\n",
      "                            1 ...ia/sys.dylib; typeinf; (unknown line)\n",
      "                             1 ...ia/sys.dylib; typeinf; (unknown line)\n",
      "                              1 ...a/sys.dylib; typeinf_uncached; (unknown line)\n",
      "                               1 ...a/sys.dylib; abstract_eval; (unknown line)\n",
      "                                1 ...a/sys.dylib; abstract_eval_call; (unknown line)\n",
      "                                 1 .../sys.dylib; abstract_call; (unknown line)\n",
      "    39 profile.jl; anonymous; line: 16\n",
      "     39 In[19]; SumLikey_LL; line: 8\n",
      "      20 In[11]; logLike; line: 113\n",
      "       1  In[11]; logProbRight; line: 44\n",
      "        1 In[4]; make_bins; line: 32\n",
      "         1 abstractarray.jl; cat; line: 824\n",
      "          1 tuple.jl; map; line: 62\n",
      "       3  In[11]; logProbRight; line: 57\n",
      "        2 In[8]; Fmatrix; line: 54\n",
      "         1 ...lib/julia/sys.dylib; vcat; (unknown line)\n",
      "         1 arraymath.jl; .*; line: 125\n",
      "        1 In[8]; Fmatrix; line: 82\n",
      "       2  In[11]; logProbRight; line: 61\n",
      "        1 In[8]; Fmatrix; line: 65\n",
      "        1 In[8]; Fmatrix; line: 82\n",
      "       14 In[11]; logProbRight; line: 94\n",
      "        1 In[8]; Fmatrix; line: 46\n",
      "         1 range.jl; vcat; line: 664\n",
      "        1 In[8]; Fmatrix; line: 54\n",
      "         1 arraymath.jl; .*; line: 127\n",
      "        3 In[8]; Fmatrix; line: 55\n",
      "         3 arraymath.jl; .+; line: 125\n",
      "        5 In[8]; Fmatrix; line: 82\n",
      "        4 In[8]; Fmatrix; line: 83\n",
      "      19 In[11]; logLike; line: 116\n",
      "       1  In[11]; logProbRight; line: 33\n",
      "        1 arraymath.jl; ./; line: 49\n",
      "         1 .../lib/julia/sys.dylib; ==; (unknown line)\n",
      "       3  In[11]; logProbRight; line: 44\n",
      "        3 In[4]; make_bins; line: 32\n",
      "         1 ...lib/julia/sys.dylib; length; (unknown line)\n",
      "         2 abstractarray.jl; cat; line: 825\n",
      "          2 abstractarray.jl; cat_t; line: 857\n",
      "       2  In[11]; logProbRight; line: 57\n",
      "        1 In[8]; Fmatrix; line: 58\n",
      "        1 In[8]; Fmatrix; line: 63\n",
      "       2  In[11]; logProbRight; line: 61\n",
      "        2 In[8]; Fmatrix; line: 54\n",
      "         2 .../lib/julia/sys.dylib; vcat; (unknown line)\n",
      "       11 In[11]; logProbRight; line: 94\n",
      "        1 In[8]; Fmatrix; line: 55\n",
      "         1 arraymath.jl; .-; line: 127\n",
      "        1 In[8]; Fmatrix; line: 61\n",
      "        3 In[8]; Fmatrix; line: 68\n",
      "         2 .../lib/julia/sys.dylib; trunc; (unknown line)\n",
      "        3 In[8]; Fmatrix; line: 82\n",
      "        3 In[8]; Fmatrix; line: 83\n"
     ]
    }
   ],
   "source": [
    "@profile SumLikey_LL(params, ratdata, 27) # sum of LL for trial (1-27)\n",
    "Profile.print()\n",
    "Profile.clear_malloc_data() "
   ]
  },
  {
   "cell_type": "code",
   "execution_count": 29,
   "metadata": {
    "collapsed": false
   },
   "outputs": [
    {
     "name": "stdout",
     "output_type": "stream",
     "text": [
      "  0.277136 seconds (57.96 k allocations: 249.842 MB, 14.01% gc time)\n"
     ]
    },
    {
     "data": {
      "text/plain": [
       "(20.27230610594542,[-0.885392369843986,-0.24144883173087658,-3.5481816355968476,-0.3207850120167325,-7.862717342247302e-12,-0.24207108230608632,3.7760633551840628,-29.40274364292842,-29.753795098927267])"
      ]
     },
     "execution_count": 29,
     "metadata": {},
     "output_type": "execute_result"
    }
   ],
   "source": [
    "@time SumLikey(params, ratdata, 27)"
   ]
  },
  {
   "cell_type": "code",
   "execution_count": 23,
   "metadata": {
    "collapsed": false
   },
   "outputs": [
    {
     "data": {
      "text/plain": [
       "Optim.DifferentiableFunction(LL_f,LL_g!,LL_fg!)"
      ]
     },
     "execution_count": 23,
     "metadata": {},
     "output_type": "execute_result"
    }
   ],
   "source": [
    "# Parameters\n",
    "sigma_a = 1; sigma_s = 0.1; sigma_i = 0.2; \n",
    "sigma_a_sbin = sigma_a  # remember we need this copy for Fmatrix\n",
    "lam = -0.0005; B = 4.1; bias = 0.1; \n",
    "phi = 0.3; tau_phi = 0.1; lapse = 0.05*2;\n",
    "params = [sigma_a, sigma_s, sigma_i, lam, B, bias, phi, tau_phi, lapse]\n",
    "\n",
    "ntrials = 27\n",
    "\n",
    "function LL_f(params::Vector)\n",
    "    return SumLikey_LL(params, ratdata, ntrials)\n",
    "end\n",
    "\n",
    "function LL_g!(params::Vector, grads::Vector)\n",
    "#     LL, LLgrad, LLhess = llikey(params)\n",
    "    LL, LLgrad = SumLikey(params, ratdata, ntrials)\n",
    "    for i=1:length(params)\n",
    "        grads[i] = LLgrad[i]\n",
    "    end\n",
    "end\n",
    "\n",
    "function LL_fg!(params::Vector, grads)\n",
    "    LL, LLgrad = SumLikey(params, ratdata, ntrials)\n",
    "    for i=1:length(params)\n",
    "        grads[i] = LLgrad[i]\n",
    "    end\n",
    "    return LL\n",
    "end\n",
    "\n",
    "d4 = DifferentiableFunction(LL_f,\n",
    "                            LL_g!,\n",
    "                            LL_fg!)"
   ]
  },
  {
   "cell_type": "code",
   "execution_count": null,
   "metadata": {
    "collapsed": false
   },
   "outputs": [
    {
     "name": "stdout",
     "output_type": "stream",
     "text": [
      "Iter     Function value   Gradient norm \n",
      "     0     2.025301e+01     2.976706e+01\n",
      "     1     1.652559e+01     1.260444e+00\n",
      "     2     1.642090e+01     5.862863e-01\n",
      "     3     1.637982e+01     7.307871e-01\n",
      "     4     1.635463e+01     3.754367e-01\n",
      "     5     1.629537e+01     1.003648e+00\n",
      "     6     1.627173e+01     7.019019e-01\n",
      "     7     1.624856e+01     5.730056e-01\n",
      "     8     1.622227e+01     1.129285e+00\n",
      "     9     1.617938e+01     7.758643e-01\n",
      "    10     1.614641e+01     8.644536e-01\n",
      "    11     1.611302e+01     1.040060e+00\n",
      "    12     1.607326e+01     7.636983e-01\n",
      "    13     1.602708e+01     1.233374e+00\n",
      "    14     1.598473e+01     5.175395e-01\n",
      "    15     1.587222e+01     4.762540e-01\n",
      "    16     1.586623e+01     4.584652e-01\n",
      "    17     1.585988e+01     3.678935e-01\n",
      "    18     1.585338e+01     4.506842e-01\n",
      "    19     1.584739e+01     2.637441e-01\n",
      "    20     1.583898e+01     5.578129e-01\n",
      "    21     1.583071e+01     1.858550e-01\n",
      "    22     1.582590e+01     3.307266e-01\n",
      "    23     1.582172e+01     1.673518e-01\n",
      "    24     1.581926e+01     2.058429e-01\n",
      "    25     1.581681e+01     1.603600e-01\n",
      "    26     1.581451e+01     1.983626e-01\n",
      "    27     1.581234e+01     1.564277e-01\n",
      "    28     1.581020e+01     1.916068e-01\n",
      " "
     ]
    }
   ],
   "source": [
    "# Parameters\n",
    "sigma_a = 1; sigma_s = 0.1; sigma_i = 0.2; \n",
    "sigma_a_sbin = sigma_a  # remember we need this copy for Fmatrix\n",
    "lam = -0.0005; B = 6.1; bias = 0.1; \n",
    "phi = 0.3; tau_phi = 0.1; lapse = 0.05*2;\n",
    "params = [sigma_a, sigma_s, sigma_i, lam, B, bias, phi, tau_phi, lapse]\n",
    "\n",
    "l = [0, 0, 0, -5, 5, -5, 0.01, 0.005, 0]\n",
    "u = [200, 200, 30, +5, 25, +5, 1.2, 0.7, 1]\n",
    "\n",
    "res = optimize(d4, params, l, u, Fminbox(); \n",
    "         optimizer = GradientDescent, optimizer_o = OptimizationOptions(g_tol = 1e-12,\n",
    "                                                                        iterations = 200,\n",
    "                                                                        store_trace = true,\n",
    "                                                                        show_trace = true))\n"
   ]
  },
  {
   "cell_type": "code",
   "execution_count": null,
   "metadata": {
    "collapsed": true
   },
   "outputs": [],
   "source": [
    "function main()\n",
    "    \n",
    "    ratname = \"B069\"\n",
    "    # data import\n",
    "    ratdata = matread(*(\"chrono_\",ratname,\"_rawdata.mat\"))\n",
    "    println(\"rawdata of \", ratname, \" imported\" )\n",
    "\n",
    "    # number of trials\n",
    "    ntrials = Int(ratdata[\"total_trials\"])\n",
    "\n",
    "    # Parameters\n",
    "    sigma_a = 1.; sigma_s = 0.1; sigma_i = 0.2; \n",
    "    sigma_a_sbin = sigma_a  # remember we need this copy for Fmatrix\n",
    "    lam = -0.0005; B = 6.1; bias = 0.1; \n",
    "    phi = 0.3; tau_phi = 0.1; lapse = 0.05*2;\n",
    "    params = [sigma_a, sigma_s, sigma_i, lam, B, bias, phi, tau_phi, lapse]\n",
    "\n",
    "    l = [0., 0., 0., -5., 5., -5., 0.01, 0.005, 0.]\n",
    "    u = [200., 200., 30., 5., 25., 5., 1.2, 0.7, 1.]\n",
    "\n",
    "    # @code_warntype SumLikey(params, ratdata, ntrials)\n",
    "\n",
    "    function LL_f(params::Vector)\n",
    "        return SumLikey_LL(params, ratdata, ntrials)\n",
    "    end\n",
    "\n",
    "    function LL_g!(params::Vector, grads::Vector)\n",
    "        LL, LLgrad = SumLikey(params, ratdata, ntrials)\n",
    "        for i=1:length(params)\n",
    "            grads[i] = LLgrad[i]\n",
    "        end\n",
    "    end\n",
    "\n",
    "    function LL_fg!(params::Vector, grads)\n",
    "        LL, LLgrad = SumLikey(params, ratdata, ntrials)\n",
    "        for i=1:length(params)\n",
    "            grads[i] = LLgrad[i]\n",
    "        end\n",
    "        return LL\n",
    "    end\n",
    "\n",
    "    d4 = DifferentiableFunction(LL_f,\n",
    "                                LL_g!,\n",
    "                                LL_fg!)\n",
    "\n",
    "    res = optimize(d4, params, l, u, Fminbox(); \n",
    "             optimizer = GradientDescent, optimizer_o = OptimizationOptions(g_tol = 1e-12,\n",
    "                                                                            iterations = 200,\n",
    "                                                                            store_trace = true,\n",
    "                                                                            show_trace = true))\n",
    "\n",
    "end"
   ]
  },
  {
   "cell_type": "code",
   "execution_count": null,
   "metadata": {
    "collapsed": true
   },
   "outputs": [],
   "source": [
    "main()"
   ]
  },
  {
   "cell_type": "code",
   "execution_count": null,
   "metadata": {
    "collapsed": true
   },
   "outputs": [],
   "source": []
  },
  {
   "cell_type": "code",
   "execution_count": null,
   "metadata": {
    "collapsed": true
   },
   "outputs": [],
   "source": []
  },
  {
   "cell_type": "code",
   "execution_count": null,
   "metadata": {
    "collapsed": false
   },
   "outputs": [],
   "source": [
    "y = d4.f(params)"
   ]
  },
  {
   "cell_type": "code",
   "execution_count": null,
   "metadata": {
    "collapsed": false
   },
   "outputs": [],
   "source": [
    "grads = Array(Float64, length(params))\n",
    "grads\n",
    "# LL_g!(params, grads)\n",
    "d4.g!(params, grads)\n",
    "grads"
   ]
  },
  {
   "cell_type": "code",
   "execution_count": null,
   "metadata": {
    "collapsed": false
   },
   "outputs": [],
   "source": [
    "grads = Array(Float64, length(params))\n",
    "d4.g!(params, grads)\n",
    "grads"
   ]
  },
  {
   "cell_type": "code",
   "execution_count": null,
   "metadata": {
    "collapsed": false
   },
   "outputs": [],
   "source": [
    "y = d4.fg!(params, grads)"
   ]
  },
  {
   "cell_type": "code",
   "execution_count": null,
   "metadata": {
    "collapsed": false,
    "scrolled": true
   },
   "outputs": [],
   "source": [
    "optimize(d4, params, GradientDescent(),\n",
    "               OptimizationOptions(g_tol = 1e-12,\n",
    "                                   iterations = 200,\n",
    "                                   store_trace = true,\n",
    "                                   show_trace = true,\n",
    "                                   extended_trace = true))"
   ]
  }
 ],
 "metadata": {
  "kernelspec": {
   "display_name": "Julia 0.4.5",
   "language": "julia",
   "name": "julia-0.4"
  },
  "language_info": {
   "file_extension": ".jl",
   "mimetype": "application/julia",
   "name": "julia",
   "version": "0.4.5"
  }
 },
 "nbformat": 4,
 "nbformat_minor": 0
}
