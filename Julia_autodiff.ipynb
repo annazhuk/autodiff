{
 "cells": [
  {
   "cell_type": "markdown",
   "metadata": {},
   "source": [
    "# PBupsModel with Algorithmic Differentiation in Julia"
   ]
  },
  {
   "cell_type": "code",
   "execution_count": 3,
   "metadata": {
    "collapsed": false
   },
   "outputs": [
    {
     "data": {
      "text/plain": [
       "convert (generic function with 649 methods)"
      ]
     },
     "execution_count": 3,
     "metadata": {},
     "output_type": "execute_result"
    }
   ],
   "source": [
    "# import packages..\n",
    "import ForwardDiff\n",
    "using ForwardDiff\n",
    "import PyPlot\n",
    "using PyPlot\n",
    "import Base.convert\n",
    "import Optim\n",
    "using Optim\n",
    "\n",
    "# === Upgrading from ForwardDiff v0.1 to v0.2\n",
    "# instead of ForwardDiff.GradientNumber and ForwardDiff.HessianNumber, \n",
    "# we will use ForwardDiff.Dual\n",
    "\n",
    "convert(::Type{Float64}, x::ForwardDiff.Dual) = Float64(x.value)\n",
    "function convert(::Array{Float64}, x::Array{ForwardDiff.Dual}) \n",
    "    y = zeros(size(x)); \n",
    "    for i in 1:prod(size(x)) \n",
    "        y[i] = convert(Float64, x[i]) \n",
    "    end\n",
    "    return y\n",
    "end"
   ]
  },
  {
   "cell_type": "code",
   "execution_count": 2,
   "metadata": {
    "collapsed": false
   },
   "outputs": [
    {
     "data": {
      "text/plain": [
       "isless (generic function with 46 methods)"
      ]
     },
     "execution_count": 2,
     "metadata": {},
     "output_type": "execute_result"
    }
   ],
   "source": [
    "immutable NumericPair{X,Y} <: Number\n",
    "  x::X\n",
    "  y::Y\n",
    "end\n",
    "Base.isless(a::NumericPair, b::NumericPair) = (a.x<b.x) || (a.x==b.x && a.y<b.y)"
   ]
  },
  {
   "cell_type": "markdown",
   "metadata": {},
   "source": [
    "To evaluate how well a particular set of parameter values $\\theta$ fits the behavioral data, we compute the probability of oberving the data given the model.\n",
    "\n",
    "For each trial $i$, we will compute the likelihood of seeing the data under the model assuming that trials are independent. \n",
    "\n",
    "$P(D|\\theta) = \\prod_{i}P(d_i|t_{i,R},t_{i,L},\\theta)$\n",
    "\n",
    "$t_{i,R},t_{i,L}$ : the right and left click times on trial $i$\n",
    "\n",
    "$d_i$ : the subject's decision on trial $i$\n",
    "\n",
    "The best-fit parameter values are the parameters $\\theta$ that maximize the likelihood (Maximum likelihood values)\n",
    "\n",
    "To help maximize the likelihood(or log likelihood), we will compute the derivative $\\partial P(d_i|t_{i,R},t_{i,L},\\theta) / \\partial\\theta$ for each of the parameters in the set $\\theta$.\n",
    "\n",
    "After we get these gradients of 9 model parameters, we will apply them for optimization."
   ]
  },
  {
   "cell_type": "markdown",
   "metadata": {},
   "source": [
    "## Import data "
   ]
  },
  {
   "cell_type": "code",
   "execution_count": 4,
   "metadata": {
    "collapsed": false
   },
   "outputs": [
    {
     "data": {
      "text/plain": [
       "Dict{ByteString,Any} with 5 entries:\n",
       "  \"ratname\"      => \"B069\"\n",
       "  \"daterange\"    => 1x2 Array{Any,2}:…\n",
       "  \"avgdata\"      => Dict{ASCIIString,Any}(\"is_probe\"=>1x64537 Array{Bool,2}:…\n",
       "  \"rawdata\"      => Dict{ASCIIString,Any}(\"is_probe\"=>1x64537 Array{Any,2}:…\n",
       "  \"total_trials\" => 64537.0"
      ]
     },
     "execution_count": 4,
     "metadata": {},
     "output_type": "execute_result"
    }
   ],
   "source": [
    "using MAT\n",
    "ratdata = matread(\"testdata.mat\")\n",
    "# ratdata = matread(\"chrono_B069_rawdata.mat\")"
   ]
  },
  {
   "cell_type": "code",
   "execution_count": 5,
   "metadata": {
    "collapsed": false
   },
   "outputs": [
    {
     "data": {
      "text/plain": [
       "([0.0,0.001135000000000004,0.011165000000000001,0.01892,0.10638,0.20342,0.32964499999999997,0.33775999999999995],[0.0,0.19235,0.34360999999999997],0.35095899999999747,-1)"
      ]
     },
     "execution_count": 5,
     "metadata": {},
     "output_type": "execute_result"
    }
   ],
   "source": [
    "function trialdata(ratdata, trial::Int)\n",
    "    if ratdata[\"rawdata\"][\"pokedR\"][trial] > 0\n",
    "        rat_choice = 1;  # \"R\"\n",
    "    else\n",
    "        rat_choice = -1; # \"L\"\n",
    "    end;\n",
    "    \n",
    "    if typeof(ratdata[\"rawdata\"][\"rightbups\"][trial]) <: Array\n",
    "        rvec = vec(ratdata[\"rawdata\"][\"rightbups\"][trial]);\n",
    "    else\n",
    "        rvec = []\n",
    "    end\n",
    "    if typeof(ratdata[\"rawdata\"][\"leftbups\"][trial]) <: Array\n",
    "        lvec = vec(ratdata[\"rawdata\"][\"leftbups\"][trial]);\n",
    "    else\n",
    "        lvec = []\n",
    "    end\n",
    "    \n",
    "    return rvec, lvec, \n",
    "    ratdata[\"rawdata\"][\"T\"][trial], rat_choice\n",
    "end\n",
    "\n",
    "RightClickTimes, LeftClickTimes, maxT, rat_choice = trialdata(ratdata, 1)"
   ]
  },
  {
   "cell_type": "markdown",
   "metadata": {},
   "source": [
    "## bin_centers = make_bins(B, dx, binN)"
   ]
  },
  {
   "cell_type": "code",
   "execution_count": 6,
   "metadata": {
    "collapsed": true
   },
   "outputs": [],
   "source": [
    "\"\"\"\n",
    "function bin_centers = make_bins(B, dx, binN)\n",
    "\n",
    "Makes a series of points that will indicate bin centers. The first and\n",
    "last points will indicate sticky bins. No \"bin edges\" are made-- the edge\n",
    "between two bins is always implicity at the halfway point between their\n",
    "corresponding centers. The center bin is always at x=0; bin spacing\n",
    "(except for last and first bins) is always dx; and the position\n",
    "of the first and last bins is chosen so that |B| lies exactly at the\n",
    "midpoint between 1st (sticky) and 2nd (first real) bins, as well as\n",
    "exactly at the midpoint between last but one (last real) and last\n",
    "(sticky) bins.\n",
    "\n",
    "Playing nice with ForwardDiff means that the *number* of bins must be predetermined.\n",
    "So this function will not actually set the number of bins; what it'll do is determine their\n",
    "locations. To accomplish this separation, the function uses as a third parameter binN,\n",
    "which should be equal to the number of bins with bin centers > 0, as follows: \n",
    "   binN = ceil(B/dx)\n",
    "and then the total number of bins will be 2*binN+1, with the center one always corresponding\n",
    "to position zero. Use non-differentiable types for B and dx for this to work.\n",
    "\"\"\"\n",
    "function make_bins{T}(bins::Vector{T}, B, dx::T, binN)\n",
    "    cnt = 1\n",
    "    for i=-binN:binN\n",
    "        bins[cnt] = i*dx\n",
    "        cnt = cnt+1\n",
    "    end\n",
    "    \n",
    "    if binN*dx == B\n",
    "        bins[end] = B + dx\n",
    "        bins[1] = -B - dx\n",
    "    else\n",
    "        bins[end] = 2*B - (binN-1)*dx\n",
    "        bins[1] = -2*B + (binN-1)*dx\n",
    "    end\n",
    "end;"
   ]
  },
  {
   "cell_type": "code",
   "execution_count": 13,
   "metadata": {
    "collapsed": false
   },
   "outputs": [
    {
     "name": "stdout",
     "output_type": "stream",
     "text": [
      "  0.000005 seconds (5 allocations: 176 bytes)\n"
     ]
    },
    {
     "data": {
      "text/plain": [
       "35-element Array{Float64,1}:\n",
       " -4.2 \n",
       " -4.0 \n",
       " -3.75\n",
       " -3.5 \n",
       " -3.25\n",
       " -3.0 \n",
       " -2.75\n",
       " -2.5 \n",
       " -2.25\n",
       " -2.0 \n",
       " -1.75\n",
       " -1.5 \n",
       " -1.25\n",
       "  ⋮   \n",
       "  1.5 \n",
       "  1.75\n",
       "  2.0 \n",
       "  2.25\n",
       "  2.5 \n",
       "  2.75\n",
       "  3.0 \n",
       "  3.25\n",
       "  3.5 \n",
       "  3.75\n",
       "  4.0 \n",
       "  4.2 "
      ]
     },
     "execution_count": 13,
     "metadata": {},
     "output_type": "execute_result"
    }
   ],
   "source": [
    "binN = ceil(4.1/0.25)\n",
    "bins = zeros(typeof(binN), Int(binN*2+1))\n",
    "@time make_bins(bins,4.1,0.25,binN)\n",
    "bins\n",
    "bin_centers = bins"
   ]
  },
  {
   "cell_type": "markdown",
   "metadata": {},
   "source": [
    "## Global Variables"
   ]
  },
  {
   "cell_type": "code",
   "execution_count": 9,
   "metadata": {
    "collapsed": false
   },
   "outputs": [],
   "source": [
    "# Global variables \n",
    "const epsilon = 10.0^(-10);\n",
    "const dx = 0.25;\n",
    "const dt = 0.02;\n",
    "const total_rate = 40;"
   ]
  },
  {
   "cell_type": "markdown",
   "metadata": {},
   "source": [
    "## Parameters\n",
    "\n",
    "a : decision variable, memory accumulator\n",
    "\n",
    "$$ da =\n",
    "  \\begin{cases}\n",
    "    0       & \\quad \\text{if, } |a| \\geq B \\\\\n",
    "    \\sigma_adW + (\\delta_{t,t_R} \\cdot \\eta C(t) - \\delta_{t,t_L} \\cdot \\eta C(t))dt + \\lambda adt  & \\quad \\text{otherwise, }\\\\\n",
    "  \\end{cases}\n",
    "$$\n",
    "\n",
    "\n",
    "\n",
    "The impact of each click (C) is affected by sensory adaptation that depends on clicks from both right and left sides:\n",
    "\n",
    "$$ \n",
    "\\frac{\\mathrm d C}{\\mathrm d t} = \\frac{1-C}{\\tau_\\phi} + (1-\\phi)C(\\delta_{t,t_R}+\\delta_{t,t_L}) \n",
    "$$\n",
    "\n",
    "\n",
    "sigma2_a ($\\sigma_a^2$) : a diffusion constant, parameterizing noise in a.\n",
    "\n",
    "sigma2_s ($\\sigma_s^2$) : parameterizing noise when adding evidence from a right or left pulse. (incoming sensory evidence)\n",
    "\n",
    "sigma2_i ($\\sigma_i^2$) : initial condition for the dynamical equation at $t=0$\n",
    "\n",
    "lam ($\\lambda$) : consistent drift in the memory a ($\\lambda<0$ : leaky or forgetful case, $\\lambda>0$ : unstable or impulsive case)\n",
    "\n",
    "B : decision bound\n",
    "\n",
    "bias : bias parameter determines the position of the threshold in a (which a Rightward decision is made)\n",
    "\n",
    "phi ($\\phi$) : parameterize sensory adaptation (by defining the dynamics of C ($\\phi>1$ : Facilitation, $\\phi<1$ : Depression, $\\phi=1$ : absense of sensory adaptation)\n",
    "\n",
    "tau_phi ($\\tau_\\phi$) :\n",
    "\n",
    "lapse : The lapse rate parameterizes the probability of making a random response.\n"
   ]
  },
  {
   "cell_type": "code",
   "execution_count": 10,
   "metadata": {
    "collapsed": false
   },
   "outputs": [],
   "source": [
    "sigma_a = 1; sigma_s = 0.1; sigma_i = 0.2; \n",
    "sigma_a_sbin = sigma_a  # remember we need this copy for Fmatrix\n",
    "lam = -0.0005; B = 4.1; bias = 0.1; \n",
    "phi = 0.3; tau_phi = 0.1; lapse = 0.05*2;\n",
    "params = [sigma_a, sigma_s, sigma_i, lam, B, bias, phi, tau_phi, lapse]   \n",
    "\n",
    "sigma = params[1];\n",
    "lam   = params[2];\n",
    "c     = params[3];"
   ]
  },
  {
   "cell_type": "markdown",
   "metadata": {},
   "source": [
    "## F = Fmatrix([sigma, lambda, c], bin_centers)"
   ]
  },
  {
   "cell_type": "code",
   "execution_count": 11,
   "metadata": {
    "collapsed": false
   },
   "outputs": [
    {
     "data": {
      "text/plain": [
       "Fmatrix (generic function with 1 method)"
      ]
     },
     "execution_count": 11,
     "metadata": {},
     "output_type": "execute_result"
    }
   ],
   "source": [
    "\"\"\"\n",
    "function F = Fmatrix([sigma, lambda, c], bin_centers)\n",
    "\n",
    "Uses globals\n",
    "    dt\n",
    "    dx\n",
    "    epsilon       (=10.0^-10)\n",
    "\n",
    "Returns a square Markov matrix of transition probabilities. \n",
    "Plays nice with ForwardDiff-- that is why bin_centers is a global vector (so that the rem\n",
    "operations that go into defining the bins, which ForwardDiff doesn't know how to deal with,\n",
    "stay outside of this differentiable function)\n",
    "\n",
    "sigma  should be in (accumulator units) per (second^(1/2))\n",
    "lambda should be in s^-1\n",
    "c      should be in accumulator units per second\n",
    "bin_centers should be a vector of the centers of all the bins. Edges will be at midpoints\n",
    "       between the centers, and the first and last bin will be sticky.\n",
    "\n",
    "dx is not used inside Fmatrix, because bin_centers specifies all we need to know.\n",
    "dt *is* used inside Fmatrix, to convert sigma, lambda, and c into timestep units\n",
    "\"\"\"\n",
    "function Fmatrix{T}(F::AbstractArray{T,2},params::Vector, bin_centers)\n",
    "    sigma2 = params[1];\n",
    "    lam   = params[2];\n",
    "    c     = params[3];\n",
    "    \n",
    "    sigma2_sbin = convert(Float64, sigma2)\n",
    "      \n",
    "    n_sbins = max(70, ceil(10*sqrt(sigma2_sbin)/dx))\n",
    "    \n",
    "    swidth = 5*sqrt(sigma2_sbin)\n",
    "    sbinsize = swidth/n_sbins;#sbins[2] - sbins[1]\n",
    "    base_sbins    = collect(-swidth:sbinsize:swidth)\n",
    "    \n",
    "    ps       = exp(-base_sbins.^2/(2*sigma2))\n",
    "    ps       = ps/sum(ps);\n",
    "    \n",
    "    sbin_length = length(base_sbins)\n",
    "    binN = length(bin_centers)\n",
    "\n",
    "    mu = 0.\n",
    "    for j in 2:binN\n",
    "        if lam == 0\n",
    "            mu = bin_centers[j]*exp(lam*dt)\n",
    "        else\n",
    "            mu = (bin_centers[j] + c/lam)*exp(lam*dt) - c/lam\n",
    "        end\n",
    "        \n",
    "        for k in 1:sbin_length\n",
    "            sbin = (k-1)*sbinsize + mu - swidth\n",
    "             \n",
    "            if sbin < bin_centers[1] #(bin_centers[1] + bin_centers[2])/2\n",
    "                F[1,j] = F[1,j] + ps[k]\n",
    "            elseif bin_centers[end] <= sbin#(bin_centers[end]+bin_centers[end-1])/2 <= sbins[k]\n",
    "                F[end,j] = F[end,j] + ps[k]\n",
    "            else # more condition\n",
    "                if (sbin > bin_centers[1] && sbin < bin_centers[2])\n",
    "                    lp = 1; hp = 2;\n",
    "                elseif (sbin > bin_centers[end-1] && sbin < bin_centers[end])\n",
    "                    lp = binN-1; hp = binN;\n",
    "                else \n",
    "                    lp = floor(Int,((sbin-bin_centers[2])/dx) + 2)#find(bin_centers .<= sbins[k])[end]\n",
    "                    hp = lp+1#Int(ceil((sbins[k]-bin_centers[2])/dx) + 1);\n",
    "                end\n",
    "\n",
    "                if lp < 1 \n",
    "                    lp = 1; \n",
    "                end\n",
    "                if hp < 1 \n",
    "                    hp = 1;\n",
    "                end\n",
    "\n",
    "                if lp == hp\n",
    "                    F[lp,j] = F[lp,j] + ps[k]\n",
    "                else\n",
    "                    F[hp,j] = F[hp,j] + ps[k]*(sbin - bin_centers[lp])/(bin_centers[hp] - bin_centers[lp])\n",
    "                    F[lp,j] = F[lp,j] + ps[k]*(bin_centers[hp] - sbin)/(bin_centers[hp] - bin_centers[lp])\n",
    "                end                   \n",
    "            end\n",
    "        end\n",
    "    end\n",
    "    F[:,1] = 0; F[:,end] = 0; F[1,1] = 1; F[end,end] = 1;\n",
    "end"
   ]
  },
  {
   "cell_type": "code",
   "execution_count": 15,
   "metadata": {
    "collapsed": false
   },
   "outputs": [
    {
     "name": "stdout",
     "output_type": "stream",
     "text": [
      "  0.000137 seconds (20 allocations: 7.797 KB)\n"
     ]
    },
    {
     "data": {
      "text/plain": [
       "35x35 Array{Float64,2}:\n",
       " 1.0  0.41182      0.218907     0.0917964    …  0.0          0.0          0.0\n",
       " 0.0  0.197142     0.172131     0.112014        0.0          0.0          0.0\n",
       " 0.0  0.187228     0.217923     0.187228        0.0          0.0          0.0\n",
       " 0.0  0.119939     0.187228     0.217923        0.0          0.0          0.0\n",
       " 0.0  0.0571377    0.119939     0.187228        0.0          0.0          0.0\n",
       " 0.0  0.0202246    0.0571377    0.119939     …  0.0          0.0          0.0\n",
       " 0.0  0.00531176   0.0202246    0.0571377       0.0          0.0          0.0\n",
       " 0.0  0.00103206   0.00531176   0.0202246       0.0          0.0          0.0\n",
       " 0.0  0.000148294  0.00103206   0.00531176      0.0          0.0          0.0\n",
       " 0.0  1.59548e-5   0.000148294  0.00103206      0.0          0.0          0.0\n",
       " 0.0  1.11105e-6   1.59548e-5   0.000148294  …  0.0          0.0          0.0\n",
       " 0.0  0.0          1.11105e-6   1.59548e-5      0.0          0.0          0.0\n",
       " 0.0  0.0          0.0          1.11105e-6      0.0          0.0          0.0\n",
       " ⋮                                           ⋱                               \n",
       " 0.0  0.0          0.0          0.0             1.11105e-6   0.0          0.0\n",
       " 0.0  0.0          0.0          0.0             1.59548e-5   1.11105e-6   0.0\n",
       " 0.0  0.0          0.0          0.0          …  0.000148294  1.59548e-5   0.0\n",
       " 0.0  0.0          0.0          0.0             0.00103206   0.000148294  0.0\n",
       " 0.0  0.0          0.0          0.0             0.00531176   0.00103206   0.0\n",
       " 0.0  0.0          0.0          0.0             0.0202246    0.00531176   0.0\n",
       " 0.0  0.0          0.0          0.0             0.0571377    0.0202246    0.0\n",
       " 0.0  0.0          0.0          0.0          …  0.119939     0.0571377    0.0\n",
       " 0.0  0.0          0.0          0.0             0.187228     0.119939     0.0\n",
       " 0.0  0.0          0.0          0.0             0.217923     0.187228     0.0\n",
       " 0.0  0.0          0.0          0.0             0.172131     0.197142     0.0\n",
       " 0.0  0.0          0.0          0.0             0.218907     0.41182      1.0"
      ]
     },
     "execution_count": 15,
     "metadata": {},
     "output_type": "execute_result"
    }
   ],
   "source": [
    "F = zeros(typeof(0.2),length(bin_centers),length(bin_centers))\n",
    "@time Fmatrix(F,[0.2, 0, 0.0],bin_centers) # Fi\n",
    "F"
   ]
  },
  {
   "cell_type": "code",
   "execution_count": 16,
   "metadata": {
    "collapsed": false
   },
   "outputs": [
    {
     "name": "stdout",
     "output_type": "stream",
     "text": [
      "  0.000099 seconds (13 allocations: 7.547 KB)\n"
     ]
    },
    {
     "data": {
      "text/plain": [
       "35x35 Array{Float64,2}:\n",
       " 1.0  0.461125    0.365007    0.274946    …  0.0         0.0         0.0\n",
       " 0.0  0.0908452   0.0859592   0.0811359      0.0         0.0         0.0\n",
       " 0.0  0.0945948   0.100835    0.0946575      0.0         0.0         0.0\n",
       " 0.0  0.0888839   0.0945533   0.100892       0.0         0.0         0.0\n",
       " 0.0  0.0737024   0.0889555   0.0945117      0.0         0.0         0.0\n",
       " 0.0  0.0612142   0.0736883   0.0890271   …  0.0         0.0         0.0\n",
       " 0.0  0.044833    0.0612781   0.0736743      0.0         0.0         0.0\n",
       " 0.0  0.0329193   0.0448354   0.0613421      0.0         0.0         0.0\n",
       " 0.0  0.0212918   0.0329616   0.0448377      0.0         0.0         0.0\n",
       " 0.0  0.0138235   0.021298    0.0330038      0.0         0.0         0.0\n",
       " 0.0  0.0078944   0.0138445   0.0213041   …  0.0         0.0         0.0\n",
       " 0.0  0.00453257  0.0078985   0.0138655      0.0         0.0         0.0\n",
       " 0.0  0.00228512  0.00454054  0.00790261     3.13941e-7  0.0         0.0\n",
       " ⋮                                        ⋱                             \n",
       " 0.0  0.0         0.0         3.40328e-7     0.00783279  0.00440511  0.0\n",
       " 0.0  0.0         0.0         0.0            0.0135081   0.00782868  0.0\n",
       " 0.0  0.0         0.0         0.0         …  0.0211994   0.0134871   0.0\n",
       " 0.0  0.0         0.0         0.0            0.0322857   0.0211932   0.0\n",
       " 0.0  0.0         0.0         0.0            0.0447976   0.0322435   0.0\n",
       " 0.0  0.0         0.0         0.0            0.0602548   0.0447953   0.0\n",
       " 0.0  0.0         0.0         0.0            0.0739127   0.0601908   0.0\n",
       " 0.0  0.0         0.0         0.0         …  0.0878095   0.0739267   0.0\n",
       " 0.0  0.0         0.0         0.0            0.0952181   0.0877379   0.0\n",
       " 0.0  0.0         0.0         0.0            0.0999224   0.0952597   0.0\n",
       " 0.0  0.0         0.0         0.0            0.0863713   0.0901428   0.0\n",
       " 0.0  0.0         0.0         0.0            0.368213    0.464534    1.0"
      ]
     },
     "execution_count": 16,
     "metadata": {},
     "output_type": "execute_result"
    }
   ],
   "source": [
    "F = zeros(typeof(params[1]),length(bin_centers),length(bin_centers))\n",
    "@time Fmatrix(F,params,bin_centers)\n",
    "F"
   ]
  },
  {
   "cell_type": "markdown",
   "metadata": {},
   "source": [
    "## logProbRight \n",
    "### (params::Vector, RightClickTimes::Vector, LeftClickTimes::Vector, Nsteps::Int)\n",
    "\n",
    "* params = [sigma_a, sigma_s, sigma_i, lambda, B, bias, phi, tau_phi, lapse]\n",
    "* RightClickTimes vector with elements indicating times of right clicks\n",
    "* LeftClickTimes vector with elements indicating times of left clicks\n",
    "* Nsteps number of timesteps to simulate \n",
    "\n",
    "a (column vector representing distribution of values of accumulator a)\n",
    "\n",
    "a_trace (length(bin_centers)-by-Nsteps+1), a trace of the distribution of a as \n",
    "    a function of time\n",
    "    \n",
    "c_trace (row vector Nsteps+1 long, effective value of c as \n",
    "    a function of time after adaptation)\n"
   ]
  },
  {
   "cell_type": "code",
   "execution_count": 17,
   "metadata": {
    "collapsed": false
   },
   "outputs": [
    {
     "data": {
      "text/plain": [
       "logLike (generic function with 1 method)"
      ]
     },
     "execution_count": 17,
     "metadata": {},
     "output_type": "execute_result"
    }
   ],
   "source": [
    "\"\"\"\n",
    "version with inter-click interval(ici) for c_eff_net / c_eff_tot (followed the matlab code) \n",
    "(which was using dt for c_eff)\n",
    "\n",
    "function logProbRight(params::Vector, RightClickTimes::Vector, LeftClickTimes::Vector, Nsteps::Int)\n",
    "\n",
    "    Nsteps            number of timesteps to simulate\n",
    "    RightClickTimes   vector with elements indicating times of right clicks\n",
    "    LeftClickTimes    vector with elements indicating times of left clicks\n",
    "\n",
    "    a      (column vector representing distribution of values of accumulator a)\n",
    "\n",
    "    a_trace (length(bin_centers)-by-Nsteps+1), a trace of the distribution of a as \n",
    "            a function of time\n",
    "    c_trace (row vector Nsteps+1 long, effective value of c as \n",
    "            a function of time after adaptation)\n",
    "\n",
    "Takes params\n",
    "    sigma_a = params[1]; sigma_s = params[2]; sigma_i = params[3]; \n",
    "    lambda = params[4]; B = params[5]; bias = params[6]; \n",
    "    phi = params[7]; tau_phi = params[8]; lapse = params[9]\n",
    "\n",
    "Returns the log of the probability that the agent chose Right. \n",
    "\"\"\"\n",
    "\n",
    "function logProbRight(params::Vector, RightClickTimes::Vector, LeftClickTimes::Vector, Nsteps::Int)\n",
    "    sigma_a = params[1]; sigma_s = params[2]; sigma_i = params[3]; \n",
    "    lambda = params[4]; B = params[5]; bias = params[6]; \n",
    "    phi = params[7]; tau_phi = params[8]; lapse = params[9]\n",
    "    \n",
    "    if isempty(RightClickTimes) RightClickTimes = zeros(0) end;\n",
    "    if isempty(LeftClickTimes ) LeftClickTimes  = zeros(0) end;\n",
    "    \n",
    "    NClicks = zeros(Int, Nsteps); \n",
    "    Lhere  = zeros(Int, length(LeftClickTimes)); \n",
    "    Rhere = zeros(Int, length(RightClickTimes)); \n",
    "    \n",
    "    for i in 1:length(LeftClickTimes)\n",
    "        Lhere[i] = ceil((LeftClickTimes[i]+epsilon)/dt)\n",
    "    end\n",
    "    for i in 1:length(RightClickTimes)\n",
    "        Rhere[i] = ceil((RightClickTimes[i]+epsilon)/dt)\n",
    "    end    \n",
    "    \n",
    "    for i in Lhere  \n",
    "#         LeftClicks[Int(i)]  = LeftClicks[Int(i)]  + 1 \n",
    "        NClicks[Int(i)] = NClicks[Int(i)]  + 1\n",
    "    end\n",
    "    for i in Rhere  \n",
    "#         RightClicks[Int(i)] = RightClicks[Int(i)] + 1 \n",
    "        NClicks[Int(i)] = NClicks[Int(i)]  + 1\n",
    "    end\n",
    "    \n",
    "    # === Upgrading from ForwardDiff v0.1 to v0.2\n",
    "    # instead of using convert we can use floor(Int, ForwardDiff.Dual) and\n",
    "    # ceil(Int, ForwardDiff.Dual)\n",
    "\n",
    "#     my_B = convert(Float64, B) # my_B won't be differentiated; ForwardDiff can't do ceil()\n",
    "#     my_bias = convert(Float64, bias)  # my_bias won't be differentiated' FD can't do floor()\n",
    "    binN = ceil(Int, B/dx)#Int(ceil(my_B/dx))  \n",
    "    binBias = floor(Int, bias/dx) + binN+1  \n",
    "    bin_centers = zeros(typeof(dx), binN*2+1)\n",
    "    make_bins(bin_centers, B, dx, binN)  \n",
    "\n",
    "    a0 = zeros(length(bin_centers),1)*sigma_a*0.0; # That weirdo inexact error thing\n",
    "    a0[binN+1] = 1-lapse; a0[1] = lapse/2; a0[end] = lapse/2;\n",
    "    \n",
    "    temp_l = [NumericPair(LeftClickTimes[i],-1) for i=1:length(LeftClickTimes)]\n",
    "    temp_r = [NumericPair(RightClickTimes[i],1) for i=1:length(RightClickTimes)]\n",
    "    allbups = sort!([temp_l; temp_r])\n",
    "\n",
    "    c_eff = 0.\n",
    "    cnt = 0\n",
    "        \n",
    "    Fi = zeros(typeof(sigma_i),length(bin_centers),length(bin_centers))\n",
    "    Fmatrix(Fi,[sigma_i, 0, 0.0], bin_centers)\n",
    "    a = Fi*a0;\n",
    "    \n",
    "    F0 = zeros(typeof(sigma_a),length(bin_centers),length(bin_centers))\n",
    "    Fmatrix(F0,[sigma_a*dt, lambda, 0.0], bin_centers)\n",
    "    for i in 2:Nsteps \n",
    "        c_eff_tot = 0.\n",
    "        c_eff_net = 0.\n",
    "        if NClicks[i-1]==0\n",
    "            c_eff_tot = 0.\n",
    "            c_eff_net = 0.\n",
    "            a = F0*a\n",
    "        else\n",
    "            for j in 1:NClicks[i-1]\n",
    "                if cnt != 0 || j != 1\n",
    "                    ici = allbups[cnt+j].x - allbups[cnt+j-1].x\n",
    "                    c_eff = 1 + (c_eff*phi - 1)*exp(-ici/tau_phi)\n",
    "                    c_eff_tot = c_eff_tot + c_eff\n",
    "                    c_eff_net = c_eff_net + c_eff*allbups[cnt+j].y\n",
    "                end\n",
    "                if j == NClicks[i-1]\n",
    "                    cnt = cnt+j\n",
    "                end\n",
    "            end\n",
    "\n",
    "            net_sigma = sigma_a*dt + (sigma_s*c_eff_tot)/total_rate\n",
    "            F = zeros(typeof(net_sigma),length(bin_centers),length(bin_centers))\n",
    "            Fmatrix(F,[net_sigma, lambda, c_eff_net/dt], bin_centers)\n",
    "            a = F*a\n",
    "        end\n",
    "    end\n",
    "#     plot(1:Nsteps+1,c_trace[:])    \n",
    "#     imshow(a_trace, interpolation=\"none\")\n",
    "    pright = sum(a[binBias+2:end]) + \n",
    "    a[binBias]*((bin_centers[binBias+1] - bias)/dx/2) +\n",
    "    a[binBias+1]*(0.5 + (bin_centers[binBias+1] - bias)/dx/2)\n",
    "    \n",
    "    return log(pright)\n",
    "end\n",
    "\n",
    "function logLike(params::Vector, RightClickTimes::Vector, LeftClickTimes::Vector, Nsteps::Int, rat_choice::Int)\n",
    "    if rat_choice > 0\n",
    "        # println(\"Right\")\n",
    "        return logProbRight(params, RightClickTimes, LeftClickTimes, Nsteps)\n",
    "    elseif rat_choice < 0\n",
    "        # println(\"Left\")\n",
    "        return log(1 - exp(logProbRight(params, RightClickTimes, LeftClickTimes, Nsteps)))\n",
    "    else\n",
    "        error(\"Rat did what?? It was neither R nor L\")\n",
    "    end\n",
    "end"
   ]
  },
  {
   "cell_type": "markdown",
   "metadata": {},
   "source": [
    "## single_trial\n",
    "### (params::Vector, RightClickTimes::Vector, LeftClickTimes::Vector, Nsteps::Int, rat_choice::Int)"
   ]
  },
  {
   "cell_type": "code",
   "execution_count": 18,
   "metadata": {
    "collapsed": false
   },
   "outputs": [
    {
     "data": {
      "text/plain": [
       "single_trial (generic function with 1 method)"
      ]
     },
     "execution_count": 18,
     "metadata": {},
     "output_type": "execute_result"
    }
   ],
   "source": [
    "\"\"\" \n",
    "function (LL, LLgrad) = \n",
    "    single_trial(params::Vector, RightClickTimes::Vector, LeftClickTimes::Vector, Nsteps::Int, rat_choice::Int)\n",
    "\n",
    "Computes the log likelihood according to Bing's model, and returns log likelihood, gradient\n",
    "\n",
    "params is a vector whose elements, in order, are\n",
    "    sigma_a    square root of accumulator variance per unit time sqrt(click units^2 per second)\n",
    "    sigma_s    standard deviation introduced with each click (will get scaled by click adaptation)\n",
    "    sigma_i    square root of initial accumulator variance sqrt(click units^2)\n",
    "    lambda     1/accumulator time constant (sec^-1). Positive means unstable, neg means stable\n",
    "    B          sticky bound height (click units)\n",
    "    bias       where the decision boundary lies (click units)\n",
    "    phi        click adaptation/facilitation multiplication parameter\n",
    "    tau_phi    time constant for recovery from click adaptation (sec)\n",
    "    lapse      2*lapse fraction of trials are decided randomly\n",
    "\n",
    "rat_choice     should be either \"R\" or \"L\"\n",
    "\n",
    "\n",
    "RETURNS:\n",
    "\n",
    "\n",
    "\"\"\"\n",
    "# function llikey(params::Vector; maxT=1, RightPulseTimes=[], LeftPulseTimes=[], dx=0.25, dt=0.02)\n",
    "\n",
    "#     global RightClickTimes, LeftClickTimes, Nsteps    \n",
    "#     LLhessian, allresults = ForwardDiff.hessian(logLike, params, ForwardDiff.AllResults)\n",
    "#     LL     = ForwardDiff.value(allresults)\n",
    "#     LLgrad = ForwardDiff.gradient(allresults)\n",
    "#     LL = logLike(params)\n",
    "    \n",
    "#     return LL,LLgrad, LLhessian, length(params) # \n",
    "# end\n",
    "\n",
    "# === Upgrading from ForwardDiff v0.1 to v0.2\n",
    "# for Retrieving Lower-Order Results\n",
    "#     # old way\n",
    "#     answer, results = ForwardDiff.hessian(f, x, AllResults)\n",
    "#     v = ForwardDiff.value(results)\n",
    "#     g = ForwardDiff.gradient(results)\n",
    "#     h = ForwardDiff.hessian(results) # == answer\n",
    "\n",
    "#     # new way\n",
    "#     out = HessianResult(x)\n",
    "#     ForwardDiff.hessian!(out, f, x)\n",
    "#     v = ForwardDiff.value(out)\n",
    "#     g = ForwardDiff.gradient(out)\n",
    "#     h = ForwardDiff.hessian(out)\n",
    "\n",
    "# function llikey(params::Vector)\n",
    "    \n",
    "#     result =  HessianResult(params)\n",
    "    \n",
    "#     ForwardDiff.hessian!(result, logLike, params);\n",
    "    \n",
    "#     LL     = ForwardDiff.value(result)\n",
    "#     LLgrad = ForwardDiff.gradient(result)\n",
    "#     LLhessian = ForwardDiff.hessian(result)\n",
    "    \n",
    "#     return LL, LLgrad, LLhessian, length(params)\n",
    "# end\n",
    "\n",
    "function single_trial(params::Vector, RightClickTimes::Vector, LeftClickTimes::Vector, Nsteps::Int, rat_choice::Int)\n",
    "    function llikey(params::Vector)\n",
    "        logLike(params, RightClickTimes, LeftClickTimes, Nsteps, rat_choice)\n",
    "    end\n",
    "\n",
    "    result =  GradientResult(params)\n",
    "    \n",
    "    ForwardDiff.gradient!(result, llikey, params);\n",
    "    \n",
    "    LL     = ForwardDiff.value(result)\n",
    "    LLgrad = ForwardDiff.gradient(result)\n",
    "   \n",
    "    return LL, LLgrad\n",
    "end"
   ]
  },
  {
   "cell_type": "code",
   "execution_count": 20,
   "metadata": {
    "collapsed": false
   },
   "outputs": [
    {
     "name": "stdout",
     "output_type": "stream",
     "text": [
      "  0.000743 seconds (153 allocations: 130.891 KB)\n"
     ]
    },
    {
     "data": {
      "text/plain": [
       "-2.2674380072492473"
      ]
     },
     "execution_count": 20,
     "metadata": {},
     "output_type": "execute_result"
    }
   ],
   "source": [
    "### =============== testing 1 ================= ####\n",
    "\n",
    "# Parameters\n",
    "sigma_a = 1; sigma_s = 0.1; sigma_i = 0.2; \n",
    "sigma_a_sbin = sigma_a  # remember we need this copy for Fmatrix\n",
    "lam = -0.0005; B = 4.1; bias = 0.1; \n",
    "phi = 0.3; tau_phi = 0.1; lapse = 0.05*2;\n",
    "params = [sigma_a, sigma_s, sigma_i, lam, B, bias, phi, tau_phi, lapse]   \n",
    "\n",
    "RightClickTimes, LeftClickTimes, maxT, rat_choice = trialdata(ratdata, 1)\n",
    "\n",
    "Nsteps = Int(cld(maxT,dt))\n",
    "\n",
    "@time logLike(params, RightClickTimes, LeftClickTimes, Nsteps, rat_choice)\n",
    "\n",
    "### =========================================== #### "
   ]
  },
  {
   "cell_type": "code",
   "execution_count": 22,
   "metadata": {
    "collapsed": false
   },
   "outputs": [
    {
     "name": "stdout",
     "output_type": "stream",
     "text": [
      "  0.003483 seconds (629 allocations: 1.007 MB)\n",
      "-2.2674380072492197\n",
      "[0.3597905085402713,0.07293412600809204,1.0548565434064527,0.14280147184250952,-0.0,1.2230892228438208,-1.6584524041498903,10.412059598968801,4.252574443945859]\n"
     ]
    }
   ],
   "source": [
    "### =============== testing 2 ================= ####\n",
    "@time LL, LLgrad = single_trial(params, RightClickTimes, LeftClickTimes, Nsteps, rat_choice)\n",
    "println(LL)\n",
    "println(LLgrad)\n",
    "### =========================================== ####"
   ]
  },
  {
   "cell_type": "code",
   "execution_count": 23,
   "metadata": {
    "collapsed": false
   },
   "outputs": [
    {
     "data": {
      "text/plain": [
       "-2.2674380072492197"
      ]
     },
     "execution_count": 23,
     "metadata": {},
     "output_type": "execute_result"
    }
   ],
   "source": [
    "LL"
   ]
  },
  {
   "cell_type": "code",
   "execution_count": 24,
   "metadata": {
    "collapsed": false
   },
   "outputs": [
    {
     "data": {
      "text/plain": [
       "9-element Array{Float64,1}:\n",
       "  0.359791 \n",
       "  0.0729341\n",
       "  1.05486  \n",
       "  0.142801 \n",
       " -0.0      \n",
       "  1.22309  \n",
       " -1.65845  \n",
       " 10.4121   \n",
       "  4.25257  "
      ]
     },
     "execution_count": 24,
     "metadata": {},
     "output_type": "execute_result"
    }
   ],
   "source": [
    "LLgrad"
   ]
  },
  {
   "cell_type": "code",
   "execution_count": null,
   "metadata": {
    "collapsed": false
   },
   "outputs": [],
   "source": [
    "#Pkg.update()"
   ]
  },
  {
   "cell_type": "markdown",
   "metadata": {
    "collapsed": false
   },
   "source": [
    "# Maximize LL over parameter space\n",
    "### Optimization with Optim.jl\n"
   ]
  },
  {
   "cell_type": "code",
   "execution_count": null,
   "metadata": {
    "collapsed": false
   },
   "outputs": [],
   "source": [
    "# Pkg.add(\"Optim\")\n",
    "\n",
    "# import Optim\n",
    "# using Optim"
   ]
  },
  {
   "cell_type": "code",
   "execution_count": 25,
   "metadata": {
    "collapsed": false
   },
   "outputs": [
    {
     "data": {
      "text/plain": [
       "SumLikey (generic function with 1 method)"
      ]
     },
     "execution_count": 25,
     "metadata": {},
     "output_type": "execute_result"
    }
   ],
   "source": [
    "function SumLikey_LL(params::Vector, ratdata, ntrials::Int)\n",
    "    LL        = 0\n",
    "        \n",
    "    for i in 1:ntrials\n",
    "        RightClickTimes, LeftClickTimes, maxT, rat_choice = trialdata(ratdata, i)\n",
    "        Nsteps = Int(ceil(maxT/dt))\n",
    "\n",
    "        LLi = logLike(params, RightClickTimes, LeftClickTimes, Nsteps, rat_choice)\n",
    "        LL        = LL + LLi;\n",
    "    end\n",
    "    \n",
    "    LL = -LL\n",
    "    return LL\n",
    "end\n",
    "\n",
    "function SumLikey(params::Vector, ratdata, ntrials::Int)\n",
    "    LL        = float(0)\n",
    "    LLgrad    = zeros(size(params))\n",
    "    \n",
    "    for i in 1:ntrials\n",
    "        if rem(i,1000)==0\n",
    "            println(\"     sum_ll_all_trials: running trial \", i, \"/\", ntrials);\n",
    "        end\n",
    "\n",
    "        RightClickTimes, LeftClickTimes, maxT, rat_choice = trialdata(ratdata, i)\n",
    "        Nsteps = Int(ceil(maxT/dt))\n",
    "\n",
    "        LLi, LLgradi = single_trial(params, RightClickTimes, LeftClickTimes, Nsteps, rat_choice)\n",
    "        LL        = LL + LLi;\n",
    "        LLgrad    = LLgrad + LLgradi;\n",
    "        \n",
    "    end\n",
    "\n",
    "    LL = -LL\n",
    "    LLgrad = -LLgrad\n",
    "    return LL, LLgrad\n",
    "end"
   ]
  },
  {
   "cell_type": "code",
   "execution_count": 27,
   "metadata": {
    "collapsed": false
   },
   "outputs": [
    {
     "name": "stdout",
     "output_type": "stream",
     "text": [
      "  0.033860 seconds (7.87 k allocations: 4.635 MB, 20.65% gc time)\n"
     ]
    },
    {
     "data": {
      "text/plain": [
       "20.89222968453269"
      ]
     },
     "execution_count": 27,
     "metadata": {},
     "output_type": "execute_result"
    }
   ],
   "source": [
    "@time SumLikey_LL(params, ratdata, 27) # sum of LL for trial (1-27)"
   ]
  },
  {
   "cell_type": "code",
   "execution_count": 28,
   "metadata": {
    "collapsed": false
   },
   "outputs": [
    {
     "name": "stdout",
     "output_type": "stream",
     "text": [
      "24 task.jl; anonymous; line: 447\n",
      " 24 ...4/IJulia/src/IJulia.jl; eventloop; line: 143\n",
      "  24 ...rc/execute_request.jl; execute_request_0x535c5df2; line: 183\n",
      "   24 loading.jl; include_string; line: 282\n",
      "    24 profile.jl; anonymous; line: 16\n",
      "     24 In[25]; SumLikey_LL; line: 8\n",
      "      10 In[17]; logLike; line: 119\n",
      "       1 In[17]; logProbRight; line: 76\n",
      "        1 abstractarray.jl; vect; line: 42\n",
      "         1 abstractarray.jl; vcat; line: 737\n",
      "       2 In[17]; logProbRight; line: 80\n",
      "        1 In[11]; Fmatrix; line: 77\n",
      "        1 In[11]; Fmatrix; line: 78\n",
      "       1 In[17]; logProbRight; line: 102\n",
      "       6 In[17]; logProbRight; line: 103\n",
      "        1 In[11]; Fmatrix; line: 36\n",
      "         1 operators.jl; exp; line: 380\n",
      "        1 In[11]; Fmatrix; line: 75\n",
      "        3 In[11]; Fmatrix; line: 77\n",
      "        1 In[11]; Fmatrix; line: 78\n",
      "      14 In[17]; logLike; line: 122\n",
      "       1  In[17]; logProbRight; line: 76\n",
      "        1 In[11]; Fmatrix; line: 63\n",
      "       1  In[17]; logProbRight; line: 92\n",
      "       1  In[17]; logProbRight; line: 101\n",
      "        1 .../lib/julia/sys.dylib; +; (unknown line)\n",
      "       10 In[17]; logProbRight; line: 103\n",
      "        1 In[11]; Fmatrix; line: 55\n",
      "        1 In[11]; Fmatrix; line: 56\n",
      "        3 In[11]; Fmatrix; line: 63\n",
      "         2 .../lib/julia/sys.dylib; trunc; (unknown line)\n",
      "        1 In[11]; Fmatrix; line: 67\n",
      "        1 In[11]; Fmatrix; line: 75\n",
      "        2 In[11]; Fmatrix; line: 77\n",
      "        1 In[11]; Fmatrix; line: 78\n",
      "       1  In[17]; logProbRight; line: 104\n",
      "        1 linalg/matmul.jl; gemm_wrapper!; line: 329\n",
      "         1 linalg/blas.jl; gemm!; line: 633\n"
     ]
    }
   ],
   "source": [
    "@profile SumLikey_LL(params, ratdata, 27) # sum of LL for trial (1-27)\n",
    "Profile.print()\n",
    "Profile.clear_malloc_data() "
   ]
  },
  {
   "cell_type": "code",
   "execution_count": 33,
   "metadata": {
    "collapsed": false
   },
   "outputs": [
    {
     "name": "stdout",
     "output_type": "stream",
     "text": [
      "  0.123191 seconds (21.86 k allocations: 36.375 MB, 2.24% gc time)\n"
     ]
    },
    {
     "data": {
      "text/plain": [
       "(20.892229684532673,[-1.2705361959151225,-0.27956853161501494,-4.90518998588656,-0.38861500731492077,-0.0,-0.19494683541134628,4.037801445756484,-40.245540530581785,-31.900764365874732])"
      ]
     },
     "execution_count": 33,
     "metadata": {},
     "output_type": "execute_result"
    }
   ],
   "source": [
    "@time SumLikey(params, ratdata, 27)"
   ]
  },
  {
   "cell_type": "code",
   "execution_count": 34,
   "metadata": {
    "collapsed": false
   },
   "outputs": [
    {
     "data": {
      "text/plain": [
       "Optim.DifferentiableFunction(LL_f,LL_g!,LL_fg!)"
      ]
     },
     "execution_count": 34,
     "metadata": {},
     "output_type": "execute_result"
    }
   ],
   "source": [
    "# Parameters\n",
    "sigma_a = 1; sigma_s = 0.1; sigma_i = 0.2; \n",
    "sigma_a_sbin = sigma_a  # remember we need this copy for Fmatrix\n",
    "lam = -0.0005; B = 4.1; bias = 0.1; \n",
    "phi = 0.3; tau_phi = 0.1; lapse = 0.05*2;\n",
    "params = [sigma_a, sigma_s, sigma_i, lam, B, bias, phi, tau_phi, lapse]\n",
    "\n",
    "ntrials = 27\n",
    "\n",
    "function LL_f(params::Vector)\n",
    "    return SumLikey_LL(params, ratdata, ntrials)\n",
    "end\n",
    "\n",
    "function LL_g!(params::Vector, grads::Vector)\n",
    "#     LL, LLgrad, LLhess = llikey(params)\n",
    "    LL, LLgrad = SumLikey(params, ratdata, ntrials)\n",
    "    for i=1:length(params)\n",
    "        grads[i] = LLgrad[i]\n",
    "    end\n",
    "end\n",
    "\n",
    "function LL_fg!(params::Vector, grads)\n",
    "    LL, LLgrad = SumLikey(params, ratdata, ntrials)\n",
    "    for i=1:length(params)\n",
    "        grads[i] = LLgrad[i]\n",
    "    end\n",
    "    return LL\n",
    "end\n",
    "\n",
    "d4 = DifferentiableFunction(LL_f,\n",
    "                            LL_g!,\n",
    "                            LL_fg!)"
   ]
  },
  {
   "cell_type": "code",
   "execution_count": 35,
   "metadata": {
    "collapsed": false
   },
   "outputs": [
    {
     "name": "stdout",
     "output_type": "stream",
     "text": [
      "Iter     Function value   Gradient norm \n",
      " "
     ]
    },
    {
     "name": "stderr",
     "output_type": "stream",
     "text": [
      "WARNING: could not attach metadata for @simd loop.\n"
     ]
    },
    {
     "name": "stdout",
     "output_type": "stream",
     "text": [
      "    0     2.086867e+01     4.026169e+01\n",
      "     1     1.640741e+01     1.903768e+00\n",
      "     2     1.612624e+01     7.460709e-01\n",
      "     3     1.607483e+01     8.825951e-01\n",
      "     4     1.605209e+01     4.439360e-01\n",
      "     5     1.600958e+01     1.136077e+00\n",
      "     6     1.598516e+01     3.163914e-01\n",
      "     7     1.597285e+01     5.535301e-01\n",
      "     8     1.596478e+01     4.013451e-01\n",
      "     9     1.595813e+01     2.860264e-01\n",
      "    10     1.595250e+01     3.893248e-01\n",
      "    11     1.594648e+01     2.192385e-01\n",
      "    12     1.594060e+01     3.947082e-01\n",
      "    13     1.593455e+01     1.765802e-01\n",
      "    14     1.591353e+01     3.095980e-01\n",
      "    15     1.591045e+01     2.452216e-01\n",
      "    16     1.590621e+01     4.253588e-01\n",
      "    17     1.590259e+01     2.383915e-01\n",
      "    18     1.589950e+01     3.282279e-01\n",
      "    19     1.589645e+01     2.636909e-01\n"
     ]
    },
    {
     "ename": "LoadError",
     "evalue": "LoadError: InterruptException:\nwhile loading In[35], in expression starting on line 11",
     "output_type": "error",
     "traceback": [
      "LoadError: InterruptException:\nwhile loading In[35], in expression starting on line 11",
      "",
      " in Fmatrix at In[11]:77",
      " in logProbRight at In[17]:103",
      " in logLike at In[17]:119",
      " in llikey at In[18]:66",
      " in vector_mode_gradient! at /Users/msyoon/.julia/v0.4/ForwardDiff/src/gradient.jl:96",
      " in gradient! at /Users/msyoon/.julia/v0.4/ForwardDiff/src/gradient.jl:31",
      " in gradient! at /Users/msyoon/.julia/v0.4/ForwardDiff/src/gradient.jl:30",
      " in single_trial at In[18]:71",
      " in SumLikey at In[25]:28",
      " in LL_fg! at In[34]:23",
      " in function_barrier at /Users/msyoon/.julia/v0.4/Optim/src/fminbox.jl:58",
      " in anonymous at /Users/msyoon/.julia/v0.4/Optim/src/fminbox.jl:139",
      " in barrier_combined at /Users/msyoon/.julia/v0.4/Optim/src/fminbox.jl:67",
      " in anonymous at /Users/msyoon/.julia/v0.4/Optim/src/fminbox.jl:182",
      " in optimize at /Users/msyoon/.julia/v0.4/Optim/src/gradient_descent.jl:115",
      " in optimize at /Users/msyoon/.julia/v0.4/Optim/src/fminbox.jl:200"
     ]
    }
   ],
   "source": [
    "# Parameters\n",
    "sigma_a = 1; sigma_s = 0.1; sigma_i = 0.2; \n",
    "sigma_a_sbin = sigma_a  # remember we need this copy for Fmatrix\n",
    "lam = -0.0005; B = 6.1; bias = 0.1; \n",
    "phi = 0.3; tau_phi = 0.1; lapse = 0.05*2;\n",
    "params = [sigma_a, sigma_s, sigma_i, lam, B, bias, phi, tau_phi, lapse]\n",
    "\n",
    "l = [0, 0, 0, -5, 5, -5, 0.01, 0.005, 0]\n",
    "u = [200, 200, 30, +5, 25, +5, 1.2, 0.7, 1]\n",
    "\n",
    "res = optimize(d4, params, l, u, Fminbox(); \n",
    "         optimizer = GradientDescent, optimizer_o = OptimizationOptions(g_tol = 1e-12,\n",
    "                                                                        iterations = 200,\n",
    "                                                                        store_trace = true,\n",
    "                                                                        show_trace = true))\n"
   ]
  },
  {
   "cell_type": "code",
   "execution_count": null,
   "metadata": {
    "collapsed": false
   },
   "outputs": [],
   "source": [
    "res.minimum"
   ]
  },
  {
   "cell_type": "code",
   "execution_count": null,
   "metadata": {
    "collapsed": true
   },
   "outputs": [],
   "source": [
    "function main()\n",
    "    \n",
    "    ratname = \"B069\"\n",
    "    # data import\n",
    "    ratdata = matread(*(\"chrono_\",ratname,\"_rawdata.mat\"))\n",
    "    println(\"rawdata of \", ratname, \" imported\" )\n",
    "\n",
    "    # number of trials\n",
    "    ntrials = Int(ratdata[\"total_trials\"])\n",
    "\n",
    "    # Parameters\n",
    "    sigma_a = 1.; sigma_s = 0.1; sigma_i = 0.2; \n",
    "    sigma_a_sbin = sigma_a  # remember we need this copy for Fmatrix\n",
    "    lam = -0.0005; B = 6.1; bias = 0.1; \n",
    "    phi = 0.3; tau_phi = 0.1; lapse = 0.05*2;\n",
    "    params = [sigma_a, sigma_s, sigma_i, lam, B, bias, phi, tau_phi, lapse]\n",
    "\n",
    "    l = [0., 0., 0., -5., 5., -5., 0.01, 0.005, 0.]\n",
    "    u = [200., 200., 30., 5., 25., 5., 1.2, 0.7, 1.]\n",
    "\n",
    "    # @code_warntype SumLikey(params, ratdata, ntrials)\n",
    "\n",
    "    function LL_f(params::Vector)\n",
    "        return SumLikey_LL(params, ratdata, ntrials)\n",
    "    end\n",
    "\n",
    "    function LL_g!(params::Vector, grads::Vector)\n",
    "        LL, LLgrad = SumLikey(params, ratdata, ntrials)\n",
    "        for i=1:length(params)\n",
    "            grads[i] = LLgrad[i]\n",
    "        end\n",
    "    end\n",
    "\n",
    "    function LL_fg!(params::Vector, grads)\n",
    "        LL, LLgrad = SumLikey(params, ratdata, ntrials)\n",
    "        for i=1:length(params)\n",
    "            grads[i] = LLgrad[i]\n",
    "        end\n",
    "        return LL\n",
    "    end\n",
    "\n",
    "    d4 = DifferentiableFunction(LL_f,\n",
    "                                LL_g!,\n",
    "                                LL_fg!)\n",
    "\n",
    "    res = optimize(d4, params, l, u, Fminbox(); \n",
    "             optimizer = GradientDescent, optimizer_o = OptimizationOptions(g_tol = 1e-12,\n",
    "                                                                            iterations = 200,\n",
    "                                                                            store_trace = true,\n",
    "                                                                            show_trace = true))\n",
    "\n",
    "end"
   ]
  },
  {
   "cell_type": "code",
   "execution_count": null,
   "metadata": {
    "collapsed": true
   },
   "outputs": [],
   "source": [
    "main()"
   ]
  },
  {
   "cell_type": "code",
   "execution_count": null,
   "metadata": {
    "collapsed": true
   },
   "outputs": [],
   "source": []
  },
  {
   "cell_type": "code",
   "execution_count": null,
   "metadata": {
    "collapsed": true
   },
   "outputs": [],
   "source": []
  },
  {
   "cell_type": "code",
   "execution_count": null,
   "metadata": {
    "collapsed": false
   },
   "outputs": [],
   "source": [
    "y = d4.f(params)"
   ]
  },
  {
   "cell_type": "code",
   "execution_count": null,
   "metadata": {
    "collapsed": false
   },
   "outputs": [],
   "source": [
    "grads = Array(Float64, length(params))\n",
    "grads\n",
    "# LL_g!(params, grads)\n",
    "d4.g!(params, grads)\n",
    "grads"
   ]
  },
  {
   "cell_type": "code",
   "execution_count": null,
   "metadata": {
    "collapsed": false
   },
   "outputs": [],
   "source": [
    "grads = Array(Float64, length(params))\n",
    "d4.g!(params, grads)\n",
    "grads"
   ]
  },
  {
   "cell_type": "code",
   "execution_count": null,
   "metadata": {
    "collapsed": false
   },
   "outputs": [],
   "source": [
    "y = d4.fg!(params, grads)"
   ]
  },
  {
   "cell_type": "code",
   "execution_count": null,
   "metadata": {
    "collapsed": false,
    "scrolled": true
   },
   "outputs": [],
   "source": [
    "optimize(d4, params, GradientDescent(),\n",
    "               OptimizationOptions(g_tol = 1e-12,\n",
    "                                   iterations = 200,\n",
    "                                   store_trace = true,\n",
    "                                   show_trace = true,\n",
    "                                   extended_trace = true))"
   ]
  }
 ],
 "metadata": {
  "kernelspec": {
   "display_name": "Julia 0.4.5",
   "language": "julia",
   "name": "julia-0.4"
  },
  "language_info": {
   "file_extension": ".jl",
   "mimetype": "application/julia",
   "name": "julia",
   "version": "0.4.5"
  }
 },
 "nbformat": 4,
 "nbformat_minor": 0
}
