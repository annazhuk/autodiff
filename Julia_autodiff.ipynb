{
 "cells": [
  {
   "cell_type": "markdown",
   "metadata": {},
   "source": [
    "# PBupsModel with Algorithmic Differentiation in Julia"
   ]
  },
  {
   "cell_type": "code",
   "execution_count": 1,
   "metadata": {
    "collapsed": false
   },
   "outputs": [
    {
     "name": "stderr",
     "output_type": "stream",
     "text": [
      "WARNING: New definition \n",
      "    write(Base.IO, ForwardDiff.Partials) at /Users/msyoon/.julia/v0.4/ForwardDiff/src/partials.jl:57\n",
      "is ambiguous with: \n",
      "    write(Base.Base64.Base64EncodePipe, AbstractArray{UInt8, 1}) at base64.jl:89.\n",
      "To fix, define \n",
      "    write(Base.Base64.Base64EncodePipe, ForwardDiff.Partials{N<:Any, UInt8})\n",
      "before the new definition.\n",
      "INFO: Recompiling stale cache file /Users/msyoon/.julia/lib/v0.4/BinDeps.ji for module BinDeps.\n",
      "INFO: Recompiling stale cache file /Users/msyoon/.julia/lib/v0.4/URIParser.ji for module URIParser.\n",
      "INFO: Recompiling stale cache file /Users/msyoon/.julia/lib/v0.4/SHA.ji for module SHA.\n",
      "INFO: Recompiling stale cache file /Users/msyoon/.julia/lib/v0.4/PyPlot.ji for module PyPlot.\n",
      "INFO: Recompiling stale cache file /Users/msyoon/.julia/lib/v0.4/PyCall.ji for module PyCall.\n",
      "INFO: Recompiling stale cache file /Users/msyoon/.julia/lib/v0.4/Conda.ji for module Conda.\n",
      "INFO: Recompiling stale cache file /Users/msyoon/.julia/lib/v0.4/MacroTools.ji for module MacroTools.\n",
      "INFO: Recompiling stale cache file /Users/msyoon/.julia/lib/v0.4/ColorTypes.ji for module ColorTypes.\n",
      "INFO: Recompiling stale cache file /Users/msyoon/.julia/lib/v0.4/FixedPointNumbers.ji for module FixedPointNumbers.\n",
      "WARNING: New definition \n",
      "    floattype(Type{#T<:FixedPointNumbers.Fixed}) at /Users/msyoon/.julia/v0.4/FixedPointNumbers/src/fixed.jl:16\n",
      "is ambiguous with: \n",
      "    floattype(Type{FixedPointNumbers.FixedPoint{#T<:Union{Int8, UInt16, Int16, UInt8}, #f<:Any}}) at /Users/msyoon/.julia/v0.4/FixedPointNumbers/src/FixedPointNumbers.jl:89.\n",
      "To fix, define \n",
      "    floattype(Type{FixedPointNumbers.Fixed{_<:Union{Int8, Int16}, #f<:Any}})\n",
      "before the new definition.\n",
      "WARNING: New definition \n",
      "    floattype(Type{#T<:FixedPointNumbers.UFixed}) at /Users/msyoon/.julia/v0.4/FixedPointNumbers/src/ufixed.jl:14\n",
      "is ambiguous with: \n",
      "    floattype(Type{FixedPointNumbers.FixedPoint{#T<:Union{Int8, UInt16, Int16, UInt8}, #f<:Any}}) at /Users/msyoon/.julia/v0.4/FixedPointNumbers/src/FixedPointNumbers.jl:89.\n",
      "To fix, define \n",
      "    floattype(Type{FixedPointNumbers.UFixed{_<:Union{UInt16, UInt8}, #f<:Any}})\n",
      "before the new definition.\n",
      "INFO: Recompiling stale cache file /Users/msyoon/.julia/lib/v0.4/Colors.ji for module Colors.\n",
      "INFO: Recompiling stale cache file /Users/msyoon/.julia/lib/v0.4/Reexport.ji for module Reexport.\n",
      "INFO: Recompiling stale cache file /Users/msyoon/.julia/lib/v0.4/LaTeXStrings.ji for module LaTeXStrings.\n"
     ]
    },
    {
     "data": {
      "text/plain": [
       "convert (generic function with 637 methods)"
      ]
     },
     "execution_count": 1,
     "metadata": {},
     "output_type": "execute_result"
    }
   ],
   "source": [
    "# import packages..\n",
    "import ForwardDiff\n",
    "using ForwardDiff\n",
    "using DiffBase\n",
    "using PyPlot\n",
    "import Base.convert\n",
    "import Optim\n",
    "using Optim\n",
    "\n",
    "# === Upgrading from ForwardDiff v0.1 to v0.2\n",
    "# instead of ForwardDiff.GradientNumber and ForwardDiff.HessianNumber, \n",
    "# we will use ForwardDiff.Dual\n",
    "\n",
    "convert(::Type{Float64}, x::ForwardDiff.Dual) = Float64(x.value)\n",
    "function convert(::Array{Float64}, x::Array{ForwardDiff.Dual}) \n",
    "    y = zeros(size(x)); \n",
    "    for i in 1:prod(size(x)) \n",
    "        y[i] = convert(Float64, x[i]) \n",
    "    end\n",
    "    return y\n",
    "end\n"
   ]
  },
  {
   "cell_type": "code",
   "execution_count": 2,
   "metadata": {
    "collapsed": false
   },
   "outputs": [
    {
     "data": {
      "text/plain": [
       "isless (generic function with 40 methods)"
      ]
     },
     "execution_count": 2,
     "metadata": {},
     "output_type": "execute_result"
    }
   ],
   "source": [
    "immutable NumericPair{X,Y} <: Number\n",
    "  x::X\n",
    "  y::Y\n",
    "end\n",
    "Base.isless(a::NumericPair, b::NumericPair) = (a.x<b.x) || (a.x==b.x && a.y<b.y)"
   ]
  },
  {
   "cell_type": "markdown",
   "metadata": {},
   "source": [
    "To evaluate how well a particular set of parameter values $\\theta$ fits the behavioral data, we compute the probability of oberving the data given the model.\n",
    "\n",
    "For each trial $i$, we will compute the likelihood of seeing the data under the model assuming that trials are independent. \n",
    "\n",
    "$P(D|\\theta) = \\prod_{i}P(d_i|t_{i,R},t_{i,L},\\theta)$\n",
    "\n",
    "$t_{i,R},t_{i,L}$ : the right and left click times on trial $i$\n",
    "\n",
    "$d_i$ : the subject's decision on trial $i$\n",
    "\n",
    "The best-fit parameter values are the parameters $\\theta$ that maximize the likelihood (Maximum likelihood values)\n",
    "\n",
    "To help maximize the likelihood(or log likelihood), we will compute the derivative $\\partial P(d_i|t_{i,R},t_{i,L},\\theta) / \\partial\\theta$ for each of the parameters in the set $\\theta$.\n",
    "\n",
    "After we get these gradients of 9 model parameters, we will apply them for optimization."
   ]
  },
  {
   "cell_type": "markdown",
   "metadata": {},
   "source": [
    "## Import data "
   ]
  },
  {
   "cell_type": "code",
   "execution_count": 3,
   "metadata": {
    "collapsed": false
   },
   "outputs": [
    {
     "data": {
      "text/plain": [
       "Dict{ByteString,Any} with 5 entries:\n",
       "  \"ratname\"      => \"B069\"\n",
       "  \"daterange\"    => 1x2 Array{Any,2}:…\n",
       "  \"avgdata\"      => Dict{ASCIIString,Any}(\"is_probe\"=>1x64537 Array{Bool,2}:…\n",
       "  \"rawdata\"      => Dict{ASCIIString,Any}(\"is_probe\"=>1x64537 Array{Any,2}:…\n",
       "  \"total_trials\" => 64537.0"
      ]
     },
     "execution_count": 3,
     "metadata": {},
     "output_type": "execute_result"
    }
   ],
   "source": [
    "using MAT\n",
    "ratdata = matread(\"testdata.mat\")\n",
    "# ratdata = matread(\"chrono_B069_rawdata.mat\")"
   ]
  },
  {
   "cell_type": "code",
   "execution_count": 4,
   "metadata": {
    "collapsed": false
   },
   "outputs": [
    {
     "ename": "LoadError",
     "evalue": "MethodError: `trialdata` has no method matching trialdata(::Dict{ASCIIString,Any})\nClosest candidates are:\n  trialdata(::Any, !Matched::Int64)",
     "output_type": "error",
     "traceback": [
      "MethodError: `trialdata` has no method matching trialdata(::Dict{ASCIIString,Any})\nClosest candidates are:\n  trialdata(::Any, !Matched::Int64)",
      ""
     ]
    }
   ],
   "source": [
    "function trialdata(rawdata, trial::Int)\n",
    "    if rawdata[\"pokedR\"][trial] > 0\n",
    "        rat_choice = 1;  # \"R\"\n",
    "    else\n",
    "        rat_choice = -1; # \"L\"\n",
    "    end;\n",
    "    \n",
    "    if typeof(rawdata[\"rightbups\"][trial]) <: Array\n",
    "        rvec = vec(rawdata[\"rightbups\"][trial])::Array{Float64,1};\n",
    "    else\n",
    "        rvec = Float64[0.0]\n",
    "    end\n",
    "    if typeof(rawdata[\"leftbups\"][trial]) <: Array\n",
    "        lvec = vec(rawdata[\"leftbups\"][trial])::Array{Float64,1};\n",
    "    else\n",
    "        lvec = Float64[0.0]\n",
    "    end\n",
    "    \n",
    "    return rvec, lvec, \n",
    "    rawdata[\"T\"][trial]::Float64, rat_choice\n",
    "end\n",
    "\n",
    "RightClickTimes, LeftClickTimes, maxT, rat_choice = trialdata(ratdata[\"rawdata\"], )"
   ]
  },
  {
   "cell_type": "code",
   "execution_count": 5,
   "metadata": {
    "collapsed": false
   },
   "outputs": [
    {
     "name": "stdout",
     "output_type": "stream",
     "text": [
      "  0.115986 seconds (9.55 k allocations: 490.286 KB)\n"
     ]
    },
    {
     "data": {
      "text/plain": [
       "([0.0,0.001135000000000004,0.011165000000000001,0.01892,0.10638,0.20342,0.32964499999999997,0.33775999999999995],[0.0,0.19235,0.34360999999999997],0.35095899999999747,-1)"
      ]
     },
     "execution_count": 5,
     "metadata": {},
     "output_type": "execute_result"
    }
   ],
   "source": [
    "@time RightClickTimes, LeftClickTimes, maxT, rat_choice = trialdata(ratdata[\"rawdata\"], 1)"
   ]
  },
  {
   "cell_type": "markdown",
   "metadata": {},
   "source": [
    "## bin_centers = make_bins(B, dx, binN)"
   ]
  },
  {
   "cell_type": "code",
   "execution_count": 6,
   "metadata": {
    "collapsed": true
   },
   "outputs": [],
   "source": [
    "\"\"\"\n",
    "function bin_centers = make_bins(B, dx, binN)\n",
    "\n",
    "Makes a series of points that will indicate bin centers. The first and\n",
    "last points will indicate sticky bins. No \"bin edges\" are made-- the edge\n",
    "between two bins is always implicity at the halfway point between their\n",
    "corresponding centers. The center bin is always at x=0; bin spacing\n",
    "(except for last and first bins) is always dx; and the position\n",
    "of the first and last bins is chosen so that |B| lies exactly at the\n",
    "midpoint between 1st (sticky) and 2nd (first real) bins, as well as\n",
    "exactly at the midpoint between last but one (last real) and last\n",
    "(sticky) bins.\n",
    "\n",
    "Playing nice with ForwardDiff means that the *number* of bins must be predetermined.\n",
    "So this function will not actually set the number of bins; what it'll do is determine their\n",
    "locations. To accomplish this separation, the function uses as a third parameter binN,\n",
    "which should be equal to the number of bins with bin centers > 0, as follows: \n",
    "   binN = ceil(B/dx)\n",
    "and then the total number of bins will be 2*binN+1, with the center one always corresponding\n",
    "to position zero. Use non-differentiable types for B and dx for this to work.\n",
    "\"\"\"\n",
    "function make_bins{T}(bins::Vector{T}, B, dx::T, binN)\n",
    "    cnt = 1\n",
    "    for i=-binN:binN\n",
    "        bins[cnt] = i*dx\n",
    "        cnt = cnt+1\n",
    "    end\n",
    "    \n",
    "    if binN*dx == B\n",
    "        bins[end] = B + dx\n",
    "        bins[1] = -B - dx\n",
    "    else\n",
    "        bins[end] = 2*B - (binN-1)*dx\n",
    "        bins[1] = -2*B + (binN-1)*dx\n",
    "    end\n",
    "end;"
   ]
  },
  {
   "cell_type": "code",
   "execution_count": 7,
   "metadata": {
    "collapsed": false
   },
   "outputs": [
    {
     "name": "stdout",
     "output_type": "stream",
     "text": [
      "  0.098320 seconds (63.98 k allocations: 2.532 MB)\n"
     ]
    },
    {
     "data": {
      "text/plain": [
       "35-element Array{Float64,1}:\n",
       " -4.2 \n",
       " -4.0 \n",
       " -3.75\n",
       " -3.5 \n",
       " -3.25\n",
       " -3.0 \n",
       " -2.75\n",
       " -2.5 \n",
       " -2.25\n",
       " -2.0 \n",
       " -1.75\n",
       " -1.5 \n",
       " -1.25\n",
       "  ⋮   \n",
       "  1.5 \n",
       "  1.75\n",
       "  2.0 \n",
       "  2.25\n",
       "  2.5 \n",
       "  2.75\n",
       "  3.0 \n",
       "  3.25\n",
       "  3.5 \n",
       "  3.75\n",
       "  4.0 \n",
       "  4.2 "
      ]
     },
     "execution_count": 7,
     "metadata": {},
     "output_type": "execute_result"
    }
   ],
   "source": [
    "binN = ceil(4.1/0.25)\n",
    "bins = zeros(typeof(binN), Int(binN*2+1))\n",
    "@time make_bins(bins,4.1,0.25,binN)\n",
    "bins\n",
    "bin_centers = bins"
   ]
  },
  {
   "cell_type": "code",
   "execution_count": 8,
   "metadata": {
    "collapsed": false
   },
   "outputs": [
    {
     "name": "stdout",
     "output_type": "stream",
     "text": [
      "  0.000005 seconds (5 allocations: 176 bytes)\n"
     ]
    },
    {
     "data": {
      "text/plain": [
       "67-element Array{Float64,1}:\n",
       " -8.2 \n",
       " -8.0 \n",
       " -7.75\n",
       " -7.5 \n",
       " -7.25\n",
       " -7.0 \n",
       " -6.75\n",
       " -6.5 \n",
       " -6.25\n",
       " -6.0 \n",
       " -5.75\n",
       " -5.5 \n",
       " -5.25\n",
       "  ⋮   \n",
       "  5.5 \n",
       "  5.75\n",
       "  6.0 \n",
       "  6.25\n",
       "  6.5 \n",
       "  6.75\n",
       "  7.0 \n",
       "  7.25\n",
       "  7.5 \n",
       "  7.75\n",
       "  8.0 \n",
       "  8.2 "
      ]
     },
     "execution_count": 8,
     "metadata": {},
     "output_type": "execute_result"
    }
   ],
   "source": [
    "binN = ceil(8.1/0.25)\n",
    "bins = zeros(typeof(binN), Int(binN*2+1))\n",
    "@time make_bins(bins,8.1,0.25,binN)\n",
    "bins\n",
    "bin_centers = bins\n"
   ]
  },
  {
   "cell_type": "markdown",
   "metadata": {},
   "source": [
    "## Global Variables"
   ]
  },
  {
   "cell_type": "code",
   "execution_count": 9,
   "metadata": {
    "collapsed": false
   },
   "outputs": [],
   "source": [
    "# Global variables \n",
    "const epsilon = 10.0^(-10);\n",
    "const dx = 0.25;\n",
    "const dt = 0.02;\n",
    "const total_rate = 40;"
   ]
  },
  {
   "cell_type": "markdown",
   "metadata": {},
   "source": [
    "## Parameters\n",
    "\n",
    "a : decision variable, memory accumulator\n",
    "\n",
    "$$ da =\n",
    "  \\begin{cases}\n",
    "    0       & \\quad \\text{if, } |a| \\geq B \\\\\n",
    "    \\sigma_adW + (\\delta_{t,t_R} \\cdot \\eta C(t) - \\delta_{t,t_L} \\cdot \\eta C(t))dt + \\lambda adt  & \\quad \\text{otherwise, }\\\\\n",
    "  \\end{cases}\n",
    "$$\n",
    "\n",
    "\n",
    "\n",
    "The impact of each click (C) is affected by sensory adaptation that depends on clicks from both right and left sides:\n",
    "\n",
    "$$ \n",
    "\\frac{\\mathrm d C}{\\mathrm d t} = \\frac{1-C}{\\tau_\\phi} + (1-\\phi)C(\\delta_{t,t_R}+\\delta_{t,t_L}) \n",
    "$$\n",
    "\n",
    "\n",
    "sigma2_a ($\\sigma_a^2$) : a diffusion constant, parameterizing noise in a.\n",
    "\n",
    "sigma2_s ($\\sigma_s^2$) : parameterizing noise when adding evidence from a right or left pulse. (incoming sensory evidence)\n",
    "\n",
    "sigma2_i ($\\sigma_i^2$) : initial condition for the dynamical equation at $t=0$\n",
    "\n",
    "lam ($\\lambda$) : consistent drift in the memory a ($\\lambda<0$ : leaky or forgetful case, $\\lambda>0$ : unstable or impulsive case)\n",
    "\n",
    "B : decision bound\n",
    "\n",
    "bias : bias parameter determines the position of the threshold in a (which a Rightward decision is made)\n",
    "\n",
    "phi ($\\phi$) : parameterize sensory adaptation (by defining the dynamics of C ($\\phi>1$ : Facilitation, $\\phi<1$ : Depression, $\\phi=1$ : absense of sensory adaptation)\n",
    "\n",
    "tau_phi ($\\tau_\\phi$) :\n",
    "\n",
    "lapse : The lapse rate parameterizes the probability of making a random response.\n"
   ]
  },
  {
   "cell_type": "code",
   "execution_count": 10,
   "metadata": {
    "collapsed": false
   },
   "outputs": [],
   "source": [
    "sigma_a = 1; sigma_s = 0.1; sigma_i = 0.2; \n",
    "lam = -0.0005; B = 4.1; bias = 0.1; \n",
    "phi = 0.3; tau_phi = 0.1; lapse = 0.05*2;\n",
    "params = [sigma_a, sigma_s, sigma_i, lam, B, bias, phi, tau_phi, lapse]   \n",
    "\n",
    "sigma = params[1];\n",
    "lam   = params[2];\n",
    "c     = params[3];"
   ]
  },
  {
   "cell_type": "markdown",
   "metadata": {},
   "source": [
    "## F = Fmatrix([sigma, lambda, c], bin_centers)"
   ]
  },
  {
   "cell_type": "code",
   "execution_count": 11,
   "metadata": {
    "collapsed": false
   },
   "outputs": [
    {
     "data": {
      "text/plain": [
       "Fmatrix (generic function with 1 method)"
      ]
     },
     "execution_count": 11,
     "metadata": {},
     "output_type": "execute_result"
    }
   ],
   "source": [
    "\"\"\"\n",
    "function F = Fmatrix([sigma, lambda, c], bin_centers)\n",
    "\n",
    "Uses globals\n",
    "    dt\n",
    "    dx\n",
    "    epsilon       (=10.0^-10)\n",
    "\n",
    "Returns a square Markov matrix of transition probabilities. \n",
    "Plays nice with ForwardDiff-- that is why bin_centers is a global vector (so that the rem\n",
    "operations that go into defining the bins, which ForwardDiff doesn't know how to deal with,\n",
    "stay outside of this differentiable function)\n",
    "\n",
    "sigma  should be in (accumulator units) per (second^(1/2))\n",
    "lambda should be in s^-1\n",
    "c      should be in accumulator units per second\n",
    "bin_centers should be a vector of the centers of all the bins. Edges will be at midpoints\n",
    "       between the centers, and the first and last bin will be sticky.\n",
    "\n",
    "dx is not used inside Fmatrix, because bin_centers specifies all we need to know.\n",
    "dt *is* used inside Fmatrix, to convert sigma, lambda, and c into timestep units\n",
    "\"\"\"\n",
    "function Fmatrix{T}(F::AbstractArray{T,2},params::Vector, bin_centers)\n",
    "    sigma2 = params[1];\n",
    "    lam   = params[2];\n",
    "    c     = params[3];\n",
    "\n",
    "    sigma2_sbin = convert(Float64, sigma2)\n",
    "\n",
    "    if dx > epsilon && sigma2_sbin >= epsilon\n",
    "        n_sbins = max(70, ceil(10*sqrt(sigma2_sbin)/dx))\n",
    "    else\n",
    "        n_sbins = 70\n",
    "    end\n",
    "        \n",
    "    F[1,1] = 1;\n",
    "    F[end,end] = 1;\n",
    "\n",
    "    swidth = 5*sqrt(sigma2_sbin)\n",
    "    sbinsize = swidth/n_sbins;#sbins[2] - sbins[1]\n",
    "    base_sbins    = collect(-swidth:sbinsize:swidth)\n",
    "\n",
    "    ps       = exp(-base_sbins.^2/(2*sigma2))\n",
    "    ps       = ps/sum(ps);\n",
    "\n",
    "    sbin_length = length(base_sbins)\n",
    "    binN = length(bin_centers)\n",
    "\n",
    "    mu = 0.\n",
    "    for j in 2:binN-1\n",
    "        if abs(lam) < epsilon \n",
    "            mu = bin_centers[j] + c*dt#(exp(lam*dt))\n",
    "        else\n",
    "            mu = (bin_centers[j] + c/lam)*exp(lam*dt) - c/lam\n",
    "        end\n",
    "\n",
    "        for k in 1:sbin_length\n",
    "            sbin = mu + base_sbins[k]#(k-1)*sbinsize + mu - swidth\n",
    "\n",
    "            if sbin <= bin_centers[1] #(bin_centers[1] + bin_centers[2])/2\n",
    "                F[1,j] = F[1,j] + ps[k]\n",
    "            elseif bin_centers[end] <= sbin#(bin_centers[end]+bin_centers[end-1])/2 <= sbins[k]\n",
    "                F[end,j] = F[end,j] + ps[k]\n",
    "            else # more condition\n",
    "                if (sbin > bin_centers[1] && sbin < bin_centers[2])\n",
    "                    lp = 1; hp = 2;\n",
    "                elseif (sbin > bin_centers[end-1] && sbin < bin_centers[end])\n",
    "                    lp = binN-1; hp = binN;\n",
    "                else\n",
    "                    lp = floor(Int,((sbin-bin_centers[2])/dx)) + 2#find(bin_centers .<= sbins[k])[end]\n",
    "                    hp = ceil(Int,((sbin-bin_centers[2])/dx)) + 2#lp+1#Int(ceil((sbins[k]-bin_centers[2])/dx) + 1);\n",
    "                end\n",
    "\n",
    "                # if lp < 1\n",
    "                #     lp = 1;\n",
    "                # end\n",
    "                # if hp > binN-1\n",
    "                #     hp = binN-1;\n",
    "                # end\n",
    "\n",
    "                if lp == hp\n",
    "                    F[lp,j] = F[lp,j] + ps[k]\n",
    "                else\n",
    "                    F[hp,j] = F[hp,j] + ps[k]*(sbin - bin_centers[lp])/(bin_centers[hp] - bin_centers[lp])\n",
    "                    F[lp,j] = F[lp,j] + ps[k]*(bin_centers[hp] - sbin)/(bin_centers[hp] - bin_centers[lp])\n",
    "                end\n",
    "            end\n",
    "        end\n",
    "    end\n",
    "    # F[:,1] = 0; F[:,end] = 0; F[1,1] = 1; F[end,end] = 1;\n",
    "end"
   ]
  },
  {
   "cell_type": "code",
   "execution_count": 12,
   "metadata": {
    "collapsed": false
   },
   "outputs": [
    {
     "name": "stdout",
     "output_type": "stream",
     "text": [
      "  0.443472 seconds (117.20 k allocations: 5.290 MB)\n"
     ]
    },
    {
     "data": {
      "text/plain": [
       "67x67 Array{Float64,2}:\n",
       " 1.0  0.41182      0.218907     0.0917964    …  0.0          0.0          0.0\n",
       " 0.0  0.197142     0.172131     0.112014        0.0          0.0          0.0\n",
       " 0.0  0.187228     0.217923     0.187228        0.0          0.0          0.0\n",
       " 0.0  0.119939     0.187228     0.217923        0.0          0.0          0.0\n",
       " 0.0  0.0571377    0.119939     0.187228        0.0          0.0          0.0\n",
       " 0.0  0.0202246    0.0571377    0.119939     …  0.0          0.0          0.0\n",
       " 0.0  0.00531176   0.0202246    0.0571377       0.0          0.0          0.0\n",
       " 0.0  0.00103206   0.00531176   0.0202246       0.0          0.0          0.0\n",
       " 0.0  0.000148294  0.00103206   0.00531176      0.0          0.0          0.0\n",
       " 0.0  1.59548e-5   0.000148294  0.00103206      0.0          0.0          0.0\n",
       " 0.0  1.11105e-6   1.59548e-5   0.000148294  …  0.0          0.0          0.0\n",
       " 0.0  0.0          1.11105e-6   1.59548e-5      0.0          0.0          0.0\n",
       " 0.0  0.0          0.0          1.11105e-6      0.0          0.0          0.0\n",
       " ⋮                                           ⋱               ⋮               \n",
       " 0.0  0.0          0.0          0.0          …  1.11105e-6   0.0          0.0\n",
       " 0.0  0.0          0.0          0.0             1.59548e-5   1.11105e-6   0.0\n",
       " 0.0  0.0          0.0          0.0             0.000148294  1.59548e-5   0.0\n",
       " 0.0  0.0          0.0          0.0             0.00103206   0.000148294  0.0\n",
       " 0.0  0.0          0.0          0.0             0.00531176   0.00103206   0.0\n",
       " 0.0  0.0          0.0          0.0          …  0.0202246    0.00531176   0.0\n",
       " 0.0  0.0          0.0          0.0             0.0571377    0.0202246    0.0\n",
       " 0.0  0.0          0.0          0.0             0.119939     0.0571377    0.0\n",
       " 0.0  0.0          0.0          0.0             0.187228     0.119939     0.0\n",
       " 0.0  0.0          0.0          0.0             0.217923     0.187228     0.0\n",
       " 0.0  0.0          0.0          0.0          …  0.172131     0.197142     0.0\n",
       " 0.0  0.0          0.0          0.0             0.218907     0.41182      1.0"
      ]
     },
     "execution_count": 12,
     "metadata": {},
     "output_type": "execute_result"
    }
   ],
   "source": [
    "F = zeros(typeof(0.2),length(bin_centers),length(bin_centers))\n",
    "@time Fmatrix(F,[0.2, 0, 0.0],bin_centers) # Fi\n",
    "F"
   ]
  },
  {
   "cell_type": "code",
   "execution_count": 13,
   "metadata": {
    "collapsed": false
   },
   "outputs": [
    {
     "name": "stdout",
     "output_type": "stream",
     "text": [
      "  0.000327 seconds (14 allocations: 7.563 KB)\n"
     ]
    },
    {
     "data": {
      "text/plain": [
       "67x67 Array{Float64,2}:\n",
       " 1.0  0.464534    0.368213    0.27785    …  0.0         0.0         0.0\n",
       " 0.0  0.0901428   0.0863713   0.0807973     0.0         0.0         0.0\n",
       " 0.0  0.0952597   0.0999224   0.0957109     0.0         0.0         0.0\n",
       " 0.0  0.0877379   0.0952181   0.0999795     0.0         0.0         0.0\n",
       " 0.0  0.0739267   0.0878095   0.0951766     0.0         0.0         0.0\n",
       " 0.0  0.0601908   0.0739127   0.0878812  …  0.0         0.0         0.0\n",
       " 0.0  0.0447953   0.0602548   0.0738987     0.0         0.0         0.0\n",
       " 0.0  0.0322435   0.0447976   0.0603187     0.0         0.0         0.0\n",
       " 0.0  0.0211932   0.0322857   0.0448        0.0         0.0         0.0\n",
       " 0.0  0.0134871   0.0211994   0.032328      0.0         0.0         0.0\n",
       " 0.0  0.00782868  0.0135081   0.0212055  …  0.0         0.0         0.0\n",
       " 0.0  0.00440511  0.00783279  0.0135292     0.0         0.0         0.0\n",
       " 0.0  0.00225787  0.00441308  0.0078369     0.0         0.0         0.0\n",
       " ⋮                                       ⋱              ⋮              \n",
       " 0.0  0.0         0.0         0.0        …  0.00776708  0.00427765  0.0\n",
       " 0.0  0.0         0.0         0.0           0.0131718   0.00776297  0.0\n",
       " 0.0  0.0         0.0         0.0           0.0211008   0.0131508   0.0\n",
       " 0.0  0.0         0.0         0.0           0.0316098   0.0210946   0.0\n",
       " 0.0  0.0         0.0         0.0           0.0447599   0.0315676   0.0\n",
       " 0.0  0.0         0.0         0.0        …  0.0592314   0.0447575   0.0\n",
       " 0.0  0.0         0.0         0.0           0.074137    0.0591674   0.0\n",
       " 0.0  0.0         0.0         0.0           0.0866636   0.074151    0.0\n",
       " 0.0  0.0         0.0         0.0           0.095883    0.086592    0.0\n",
       " 0.0  0.0         0.0         0.0           0.0990097   0.0959245   0.0\n",
       " 0.0  0.0         0.0         0.0        …  0.0867834   0.0894404   0.0\n",
       " 0.0  0.0         0.0         0.0           0.37142     0.467942    1.0"
      ]
     },
     "execution_count": 13,
     "metadata": {},
     "output_type": "execute_result"
    }
   ],
   "source": [
    "F = zeros(typeof(params[1]),length(bin_centers),length(bin_centers))\n",
    "@time Fmatrix(F,params,bin_centers)\n",
    "F"
   ]
  },
  {
   "cell_type": "markdown",
   "metadata": {},
   "source": [
    "## logProbRight \n",
    "### (params::Vector, RightClickTimes::Vector, LeftClickTimes::Vector, Nsteps::Int)\n",
    "\n",
    "* params = [sigma_a, sigma_s, sigma_i, lambda, B, bias, phi, tau_phi, lapse]\n",
    "* RightClickTimes vector with elements indicating times of right clicks\n",
    "* LeftClickTimes vector with elements indicating times of left clicks\n",
    "* Nsteps number of timesteps to simulate \n",
    "\n",
    "a (column vector representing distribution of values of accumulator a)\n",
    "\n",
    "a_trace (length(bin_centers)-by-Nsteps+1), a trace of the distribution of a as \n",
    "    a function of time\n",
    "    \n",
    "c_trace (row vector Nsteps+1 long, effective value of c as \n",
    "    a function of time after adaptation)\n"
   ]
  },
  {
   "cell_type": "code",
   "execution_count": 14,
   "metadata": {
    "collapsed": false
   },
   "outputs": [
    {
     "data": {
      "text/plain": [
       "logLike (generic function with 1 method)"
      ]
     },
     "execution_count": 14,
     "metadata": {},
     "output_type": "execute_result"
    }
   ],
   "source": [
    "\"\"\"\n",
    "version with inter-click interval(ici) for c_eff_net / c_eff_tot (followed the matlab code) \n",
    "(which was using dt for c_eff)\n",
    "\n",
    "function logProbRight(params::Vector, RightClickTimes::Vector, LeftClickTimes::Vector, Nsteps::Int)\n",
    "\n",
    "    Nsteps            number of timesteps to simulate\n",
    "    RightClickTimes   vector with elements indicating times of right clicks\n",
    "    LeftClickTimes    vector with elements indicating times of left clicks\n",
    "\n",
    "    a      (column vector representing distribution of values of accumulator a)\n",
    "\n",
    "    a_trace (length(bin_centers)-by-Nsteps+1), a trace of the distribution of a as \n",
    "            a function of time\n",
    "    c_trace (row vector Nsteps+1 long, effective value of c as \n",
    "            a function of time after adaptation)\n",
    "\n",
    "Takes params\n",
    "    sigma_a = params[1]; sigma_s = params[2]; sigma_i = params[3]; \n",
    "    lambda = params[4]; B = params[5]; bias = params[6]; \n",
    "    phi = params[7]; tau_phi = params[8]; lapse = params[9]\n",
    "\n",
    "Returns the log of the probability that the agent chose Right. \n",
    "\"\"\"\n",
    "\n",
    "function logProbRight(params::Vector, RightClickTimes::Vector, LeftClickTimes::Vector, Nsteps::Int)\n",
    "    sigma_a = params[1]; sigma_s = params[2]; sigma_i = params[3];\n",
    "    lambda = params[4]; B = params[5]; bias = params[6];\n",
    "    phi = params[7]; tau_phi = params[8]; lapse = params[9]\n",
    "\n",
    "    if isempty(RightClickTimes) RightClickTimes = zeros(0) end;\n",
    "    if isempty(LeftClickTimes ) LeftClickTimes  = zeros(0) end;\n",
    "\n",
    "    NClicks = zeros(Int, Nsteps);\n",
    "    Lhere  = zeros(Int, length(LeftClickTimes));\n",
    "    Rhere = zeros(Int, length(RightClickTimes));\n",
    "\n",
    "    for i in 1:length(LeftClickTimes)\n",
    "        Lhere[i] = ceil((LeftClickTimes[i]+epsilon)/dt)\n",
    "    end\n",
    "    for i in 1:length(RightClickTimes)\n",
    "        Rhere[i] = ceil((RightClickTimes[i]+epsilon)/dt)\n",
    "    end\n",
    "\n",
    "    for i in Lhere\n",
    "        NClicks[Int(i)] = NClicks[Int(i)]  + 1\n",
    "    end\n",
    "    for i in Rhere\n",
    "        NClicks[Int(i)] = NClicks[Int(i)]  + 1\n",
    "    end\n",
    "\n",
    "    # === Upgrading from ForwardDiff v0.1 to v0.2\n",
    "    # instead of using convert we can use floor(Int, ForwardDiff.Dual) and\n",
    "    # ceil(Int, ForwardDiff.Dual)\n",
    "\n",
    "    binN = ceil(Int, B/dx)#Int(ceil(my_B/dx))\n",
    "    binBias = floor(Int, bias/dx) + binN+1\n",
    "    binBias_hp = ceil(Int, bias/dx) + binN+1\n",
    "\n",
    "    if binBias<1 binBias = 1; end\n",
    "    if binBias>binN*2+1 binBias = binN*2+1; end\n",
    "\n",
    "    if binBias_hp<1 binBias_hp = 1; end\n",
    "    if binBias_hp>binN*2+1 binBias_hp = binN*2+1; end\n",
    "    \n",
    "    bin_centers = zeros(typeof(dx), binN*2+1)\n",
    "    make_bins(bin_centers, B, dx, binN)\n",
    "\n",
    "    a0 = zeros(typeof(sigma_a),length(bin_centers))\n",
    "    a0[binN+1] = 1-lapse; a0[1] = lapse/2; a0[end] = lapse/2;\n",
    "\n",
    "    temp_l = [NumericPair(LeftClickTimes[i],-1) for i=1:length(LeftClickTimes)]\n",
    "    temp_r = [NumericPair(RightClickTimes[i],1) for i=1:length(RightClickTimes)]\n",
    "    allbups = sort!([temp_l; temp_r])\n",
    "    \n",
    "    if phi == 1\n",
    "      c_eff = 1.\n",
    "    else\n",
    "      c_eff = 0.\n",
    "    end\n",
    "    \n",
    "    cnt = 0\n",
    "\n",
    "    Fi = zeros(typeof(sigma_i),length(bin_centers),length(bin_centers))\n",
    "    Fmatrix(Fi,[sigma_i, 0, 0.0], bin_centers)\n",
    "\n",
    "    # println(Fi)\n",
    "\n",
    "    a = Fi*a0;\n",
    "\n",
    "    # println(\"step 1 : \",a)\n",
    "    # println(\"step 1 : \",sum(a))\n",
    "\n",
    "    F0 = zeros(typeof(sigma_a),length(bin_centers),length(bin_centers))\n",
    "    Fmatrix(F0,[sigma_a*dt, lambda, 0.0], bin_centers)\n",
    "    for i in 2:Nsteps\n",
    "        c_eff_tot = 0.\n",
    "        c_eff_net = 0.\n",
    "        if NClicks[i-1]==0\n",
    "            c_eff_tot = 0.\n",
    "            c_eff_net = 0.\n",
    "            a = F0*a\n",
    "        else\n",
    "            for j in 1:NClicks[i-1]\n",
    "                if cnt != 0 || j != 1\n",
    "                    ici = allbups[cnt+j].x - allbups[cnt+j-1].x\n",
    "                    c_eff = 1 + (c_eff*phi - 1)*exp(-ici/tau_phi)\n",
    "                    c_eff_tot = c_eff_tot + c_eff\n",
    "                    c_eff_net = c_eff_net + c_eff*allbups[cnt+j].y\n",
    "                elseif cnt==0 && j==1\n",
    "                    ici = 0.\n",
    "                    c_eff = 1 + (c_eff*phi - 1)*exp(-ici/tau_phi)\n",
    "\n",
    "                    c_eff_tot = c_eff_tot + c_eff\n",
    "                    c_eff_net = c_eff_net + c_eff*allbups[cnt+j].y\n",
    "                end\n",
    "                if j == NClicks[i-1]\n",
    "                    cnt = cnt+j\n",
    "                end\n",
    "            end\n",
    "\n",
    "            net_sigma = sigma_a*dt + (sigma_s*c_eff_tot)/total_rate\n",
    "            F = zeros(typeof(net_sigma),length(bin_centers),length(bin_centers))\n",
    "            Fmatrix(F,[net_sigma, lambda, c_eff_net/dt], bin_centers)\n",
    "            a = F*a\n",
    "            # println(\"  \", net_sigma,\" , \",c_eff_net)\n",
    "        end\n",
    "        # println(\"step \",i,\" : \",a)\n",
    "        # println(\"step \",i,\" : \",sum(a))\n",
    "    end\n",
    "    # println(size(a))\n",
    "\n",
    "    if binBias == binBias_hp\n",
    "        println(\"here\")\n",
    "      pright = sum(a[binBias+1:end])+a[binBias]/2\n",
    "    else\n",
    "      pright = sum(a[binBias+2:end]) +\n",
    "      a[binBias]*((bin_centers[binBias+1] - bias)/dx/2) +\n",
    "      a[binBias+1]*(0.5 + (bin_centers[binBias+1] - bias)/dx/2)\n",
    "    end\n",
    "\n",
    "    # println(sum(a))\n",
    "    # println(sum(a[binBias+2:end]))\n",
    "    #\n",
    "\n",
    "    if pright-1 < epsilon && pright > 1\n",
    "        pright = 1\n",
    "    end\n",
    "    if pright < epsilon && pright > 0 \n",
    "        pright = 0\n",
    "    end\n",
    "\n",
    "    return log(pright)\n",
    "end\n",
    "\n",
    "\n",
    "function logLike(params::Vector, RightClickTimes::Vector, LeftClickTimes::Vector, Nsteps::Int, rat_choice::Int)\n",
    "    if rat_choice > 0\n",
    "        # println(\"Right\")\n",
    "        return logProbRight(params, RightClickTimes, LeftClickTimes, Nsteps)\n",
    "    elseif rat_choice < 0\n",
    "        # println(\"Left\")\n",
    "        return log(1 - exp(logProbRight(params, RightClickTimes, LeftClickTimes, Nsteps)))\n",
    "    else\n",
    "        error(\"Rat did what?? It was neither R nor L\")\n",
    "    end\n",
    "end"
   ]
  },
  {
   "cell_type": "markdown",
   "metadata": {},
   "source": [
    "## single_trial\n",
    "### (params::Vector, RightClickTimes::Vector, LeftClickTimes::Vector, Nsteps::Int, rat_choice::Int)"
   ]
  },
  {
   "cell_type": "code",
   "execution_count": 15,
   "metadata": {
    "collapsed": false
   },
   "outputs": [
    {
     "data": {
      "text/plain": [
       "single_trial (generic function with 2 methods)"
      ]
     },
     "execution_count": 15,
     "metadata": {},
     "output_type": "execute_result"
    }
   ],
   "source": [
    "\"\"\" \n",
    "function (LL, LLgrad) = \n",
    "    single_trial(params::Vector, RightClickTimes::Vector, LeftClickTimes::Vector, Nsteps::Int, rat_choice::Int)\n",
    "\n",
    "Computes the log likelihood according to Bing's model, and returns log likelihood, gradient\n",
    "\n",
    "params is a vector whose elements, in order, are\n",
    "    sigma_a    square root of accumulator variance per unit time sqrt(click units^2 per second)\n",
    "    sigma_s    standard deviation introduced with each click (will get scaled by click adaptation)\n",
    "    sigma_i    square root of initial accumulator variance sqrt(click units^2)\n",
    "    lambda     1/accumulator time constant (sec^-1). Positive means unstable, neg means stable\n",
    "    B          sticky bound height (click units)\n",
    "    bias       where the decision boundary lies (click units)\n",
    "    phi        click adaptation/facilitation multiplication parameter\n",
    "    tau_phi    time constant for recovery from click adaptation (sec)\n",
    "    lapse      2*lapse fraction of trials are decided randomly\n",
    "\n",
    "rat_choice     should be either \"R\" or \"L\"\n",
    "\n",
    "\n",
    "RETURNS:\n",
    "\n",
    "\n",
    "\"\"\"\n",
    "# === Upgrading from ForwardDiff v0.1 -> v0.2 -> v0.3\n",
    "# for Retrieving Lower-Order Results\n",
    "#     # old way\n",
    "#     answer, results = ForwardDiff.hessian(f, x, AllResults)\n",
    "#     v = ForwardDiff.value(results)\n",
    "#     g = ForwardDiff.gradient(results)\n",
    "#     h = ForwardDiff.hessian(results) # == answer\n",
    "\n",
    "#     # old v0.2 style\n",
    "#     out = HessianResult(x)\n",
    "#     ForwardDiff.hessian!(out, f, x)\n",
    "#     v = ForwardDiff.value(out)\n",
    "#     g = ForwardDiff.gradient(out)\n",
    "#     h = ForwardDiff.hessian(out)\n",
    "\n",
    "#     # current v0.3 style\n",
    "#     using DiffBase\n",
    "#     out = DiffBase.HessianResult(x)\n",
    "#     ForwardDiff.hessian!(out, f, x)\n",
    "#     v = DiffBase.value(out)\n",
    "#     g = DiffBase.gradient(out)\n",
    "#     h = DiffBase.hessian(out)\n",
    "\n",
    "\n",
    "function single_trial(params::Vector, RightClickTimes::Vector, LeftClickTimes::Vector, Nsteps::Int, rat_choice::Int, hess_mode=0::Int)\n",
    "    function llikey(params::Vector)\n",
    "        logLike(params, RightClickTimes, LeftClickTimes, Nsteps, rat_choice)\n",
    "    end\n",
    "\n",
    "    if hess_mode > 0\n",
    "        result =  DiffBase.HessianResult(params) \n",
    "        ForwardDiff.hessian!(result, llikey, params);\n",
    "    else\n",
    "        result =  DiffBase.GradientResult(params)\n",
    "        ForwardDiff.gradient!(result, llikey, params);\n",
    "    end\n",
    "\n",
    "    LL     = DiffBase.value(result)\n",
    "    LLgrad = DiffBase.gradient(result)\n",
    "    \n",
    "    if hess_mode > 0\n",
    "        LLhessian = DiffBase.hessian(result)\n",
    "    end\n",
    "   \n",
    "    if hess_mode > 0\n",
    "        return LL, LLgrad, LLhessian\n",
    "    else\n",
    "        return LL, LLgrad\n",
    "    end\n",
    "end"
   ]
  },
  {
   "cell_type": "code",
   "execution_count": 16,
   "metadata": {
    "collapsed": false
   },
   "outputs": [
    {
     "name": "stdout",
     "output_type": "stream",
     "text": [
      "  1.320127 seconds (339.19 k allocations: 16.722 MB, 2.30% gc time)\n"
     ]
    },
    {
     "data": {
      "text/plain": [
       "-2.3370676666063943"
      ]
     },
     "execution_count": 16,
     "metadata": {},
     "output_type": "execute_result"
    }
   ],
   "source": [
    "### =============== testing 1 ================= ####\n",
    "\n",
    "# Parameters\n",
    "sigma_a = 1; sigma_s = 0.1; sigma_i = 0.2; \n",
    "lam = -0.5; B = 6.1; bias = 0.1; \n",
    "phi = 0.3; tau_phi = 0.1; lapse = 0.05*2;\n",
    "params = [sigma_a, sigma_s, sigma_i, lam, B, bias, phi, tau_phi, lapse]   \n",
    "\n",
    "RightClickTimes, LeftClickTimes, maxT, rat_choice = trialdata(ratdata[\"rawdata\"], 1)\n",
    "Nsteps = Int(cld(maxT,dt))\n",
    "\n",
    "@time logLike(params, RightClickTimes, LeftClickTimes, Nsteps, rat_choice)\n",
    "\n",
    "### =========================================== #### "
   ]
  },
  {
   "cell_type": "code",
   "execution_count": 17,
   "metadata": {
    "collapsed": false
   },
   "outputs": [
    {
     "name": "stdout",
     "output_type": "stream",
     "text": [
      "  6.184797 seconds (1.28 M allocations: 57.880 MB, 0.83% gc time)\n"
     ]
    },
    {
     "data": {
      "text/plain": [
       "(-2.3370676666063748,[0.37584734695911304,0.07960803474860224,0.9167232494162537,0.1356895637325018,-0.0,1.2998157672252322,-1.6836654381075682,10.266706149076567,4.639355502466982])"
      ]
     },
     "execution_count": 17,
     "metadata": {},
     "output_type": "execute_result"
    }
   ],
   "source": [
    "# first call for compiling\n",
    "@time LL = single_trial(params, RightClickTimes, LeftClickTimes, Nsteps, rat_choice)"
   ]
  },
  {
   "cell_type": "code",
   "execution_count": 18,
   "metadata": {
    "collapsed": false
   },
   "outputs": [
    {
     "name": "stdout",
     "output_type": "stream",
     "text": [
      " 96.091697 seconds (5.59 M allocations: 214.379 MB, 0.27% gc time)\n",
      "-2.3370676666063748\n"
     ]
    },
    {
     "data": {
      "image/png": "[encoded data removed]",
      "text/plain": [
       "PyPlot.Figure(PyObject <matplotlib.figure.Figure object at 0x319f1d450>)"
      ]
     },
     "metadata": {},
     "output_type": "display_data"
    },
    {
     "name": "stdout",
     "output_type": "stream",
     "text": [
      "[0.37584734695911304,0.07960803474860224,0.9167232494162537,0.1356895637325018,-0.0,1.2998157672252322,-1.6836654381075682,10.266706149076567,4.639355502466982]\n"
     ]
    },
    {
     "data": {
      "text/plain": [
       "PyObject <matplotlib.image.AxesImage object at 0x31ea99350>"
      ]
     },
     "execution_count": 18,
     "metadata": {},
     "output_type": "execute_result"
    }
   ],
   "source": [
    "### =============== testing 2 ================= ####\n",
    "@time LL, LLgrad, LLhess = single_trial(params, RightClickTimes, LeftClickTimes, Nsteps, rat_choice, 1)\n",
    "println(LL)\n",
    "println(LLgrad)\n",
    "# println(LLhess)\n",
    "imshow(log(abs(LLhess)), interpolation=\"none\")\n",
    "### =========================================== ####"
   ]
  },
  {
   "cell_type": "code",
   "execution_count": 19,
   "metadata": {
    "collapsed": false
   },
   "outputs": [
    {
     "data": {
      "text/plain": [
       "-2.3370676666063748"
      ]
     },
     "execution_count": 19,
     "metadata": {},
     "output_type": "execute_result"
    }
   ],
   "source": [
    "LL"
   ]
  },
  {
   "cell_type": "code",
   "execution_count": 20,
   "metadata": {
    "collapsed": false
   },
   "outputs": [
    {
     "data": {
      "text/plain": [
       "true"
      ]
     },
     "execution_count": 20,
     "metadata": {},
     "output_type": "execute_result"
    }
   ],
   "source": [
    "LLgrad[5]==0"
   ]
  },
  {
   "cell_type": "code",
   "execution_count": 21,
   "metadata": {
    "collapsed": false
   },
   "outputs": [
    {
     "data": {
      "text/plain": [
       "9x9 Array{Float64,2}:\n",
       " -0.179038    -0.0370059    …  -0.0198861     0.121856   -2.1613  \n",
       " -0.0370059   -0.00826656       0.0531921    -0.420417   -0.457783\n",
       " -0.42003     -0.0891253       -0.0460278     0.282827   -5.27159 \n",
       " -0.027729    -0.0129048        0.0573868     0.347883   -0.780278\n",
       "  0.0          0.0             -0.0           0.0         0.0     \n",
       "  0.00190758   0.000233131  …  -1.38153       8.45602    -7.47455 \n",
       " -0.0198861    0.0531921       -2.68169      10.5307      9.68186 \n",
       "  0.121856    -0.420417        10.5307     -180.474     -59.0384  \n",
       " -2.1613      -0.457783         9.68186     -59.0384    -21.5236  "
      ]
     },
     "execution_count": 21,
     "metadata": {},
     "output_type": "execute_result"
    }
   ],
   "source": [
    "LLhess"
   ]
  },
  {
   "cell_type": "code",
   "execution_count": 22,
   "metadata": {
    "collapsed": false
   },
   "outputs": [],
   "source": [
    "#Pkg.update()"
   ]
  },
  {
   "cell_type": "markdown",
   "metadata": {
    "collapsed": false
   },
   "source": [
    "# Maximize LL over parameter space\n",
    "### Optimization with Optim.jl\n"
   ]
  },
  {
   "cell_type": "code",
   "execution_count": 23,
   "metadata": {
    "collapsed": false
   },
   "outputs": [],
   "source": [
    "# Pkg.add(\"Optim\")\n",
    "\n",
    "# import Optim\n",
    "# using Optim"
   ]
  },
  {
   "cell_type": "code",
   "execution_count": 24,
   "metadata": {
    "collapsed": false
   },
   "outputs": [
    {
     "data": {
      "text/plain": [
       "SumLikey_hess (generic function with 1 method)"
      ]
     },
     "execution_count": 24,
     "metadata": {},
     "output_type": "execute_result"
    }
   ],
   "source": [
    "function SumLikey_LL(params::Vector, ratdata, ntrials::Int)\n",
    "    LL        = 0.\n",
    "        \n",
    "    for i in 1:ntrials\n",
    "        RightClickTimes, LeftClickTimes, maxT, rat_choice = trialdata(ratdata[\"rawdata\"], i)\n",
    "        Nsteps = Int(ceil(maxT/dt))\n",
    "\n",
    "        LLi = logLike(params, RightClickTimes, LeftClickTimes, Nsteps, rat_choice)\n",
    "        LL        = LL + LLi;\n",
    "    end\n",
    "    \n",
    "    LL = -LL\n",
    "    return LL\n",
    "end\n",
    "\n",
    "function SumLikey(params::Vector, ratdata, ntrials::Int)\n",
    "    LL        = 0.\n",
    "    LLgrad    = zeros(Float64,length(params))\n",
    "    \n",
    "    for i in 1:ntrials\n",
    "        if rem(i,1000)==0\n",
    "            println(\"     sum_ll_all_trials: running trial \", i, \"/\", ntrials);\n",
    "        end\n",
    "\n",
    "        RightClickTimes, LeftClickTimes, maxT, rat_choice = trialdata(ratdata[\"rawdata\"], i)\n",
    "        Nsteps = Int(ceil(maxT/dt))\n",
    "\n",
    "        LLi, LLgradi = single_trial(params, RightClickTimes, LeftClickTimes, Nsteps, rat_choice)\n",
    "        LL        = LL + LLi;\n",
    "        LLgrad    = LLgrad + LLgradi;\n",
    "        \n",
    "    end\n",
    "\n",
    "    LL = -LL\n",
    "    LLgrad = -LLgrad\n",
    "    return LL, LLgrad\n",
    "end\n",
    "\n",
    "\n",
    "function SumLikey_hess(params::Vector, ratdata, ntrials::Int)\n",
    "    LL        = 0.\n",
    "    LLhess    = zeros(Float64,length(params),length(params))\n",
    "    \n",
    "    for i in 1:ntrials\n",
    "        RightClickTimes, LeftClickTimes, maxT, rat_choice = trialdata(ratdata[\"rawdata\"], i)\n",
    "        Nsteps = Int(ceil(maxT/dt))\n",
    "\n",
    "        LLi, LLgradi, LLhessi = single_trial(params, RightClickTimes, LeftClickTimes, Nsteps, rat_choice, 1)\n",
    "        LL        = LL + LLi;\n",
    "        LLhess    = LLhess + LLhessi;\n",
    "    end\n",
    "\n",
    "    LL = -LL\n",
    "    return LL, LLhess\n",
    "end\n",
    "\n",
    "\n",
    "\n"
   ]
  },
  {
   "cell_type": "code",
   "execution_count": 25,
   "metadata": {
    "collapsed": false
   },
   "outputs": [
    {
     "name": "stdout",
     "output_type": "stream",
     "text": [
      "239.301297 seconds (6.47 M allocations: 8.346 GB, 1.02% gc time)\n"
     ]
    },
    {
     "data": {
      "text/plain": [
       "15028.29234515931"
      ]
     },
     "execution_count": 25,
     "metadata": {},
     "output_type": "execute_result"
    }
   ],
   "source": [
    "@time SumLikey_LL(params, ratdata, 30000) # sum of LL for trial (1-27)"
   ]
  },
  {
   "cell_type": "code",
   "execution_count": 26,
   "metadata": {
    "collapsed": false
   },
   "outputs": [
    {
     "name": "stdout",
     "output_type": "stream",
     "text": [
      "  0.797335 seconds (72.14 k allocations: 66.626 MB, 5.59% gc time)\n"
     ]
    },
    {
     "data": {
      "text/plain": [
       "(21.07841414441738,[-1.3315802880488639,-0.2965601186706501,-4.471954171710697,-0.3557624038344827,-0.0,-0.23545751865972545,4.091211454292245,-40.26633116575638,-32.87625069534545])"
      ]
     },
     "execution_count": 26,
     "metadata": {},
     "output_type": "execute_result"
    }
   ],
   "source": [
    "@time SumLikey(params, ratdata, 27)"
   ]
  },
  {
   "cell_type": "code",
   "execution_count": 27,
   "metadata": {
    "collapsed": false
   },
   "outputs": [
    {
     "data": {
      "text/plain": [
       "Likely_all_trials (generic function with 1 method)"
      ]
     },
     "execution_count": 27,
     "metadata": {},
     "output_type": "execute_result"
    }
   ],
   "source": [
    "function Likely_all_trials{T}(LL::AbstractArray{T,1},params::Vector, ratdata, ntrials::Int)     \n",
    "    for i in 1:ntrials\n",
    "        RightClickTimes, LeftClickTimes, maxT, rat_choice = trialdata(ratdata[\"rawdata\"], i)\n",
    "        Nsteps = Int(ceil(maxT/dt))\n",
    "\n",
    "        LL[i] = logLike(params, RightClickTimes, LeftClickTimes, Nsteps, rat_choice)\n",
    "    end\n",
    "end"
   ]
  },
  {
   "cell_type": "code",
   "execution_count": 28,
   "metadata": {
    "collapsed": false
   },
   "outputs": [
    {
     "name": "stdout",
     "output_type": "stream",
     "text": [
      "  0.194181 seconds (14.58 k allocations: 7.702 MB, 3.94% gc time)\n"
     ]
    },
    {
     "data": {
      "text/plain": [
       "27-element Array{Float64,1}:\n",
       " -2.33707  \n",
       " -0.0618188\n",
       " -0.0528979\n",
       " -2.84852  \n",
       " -0.0699918\n",
       " -2.26443  \n",
       " -0.0512956\n",
       " -0.0513216\n",
       " -1.38283  \n",
       " -0.0577225\n",
       " -1.04607  \n",
       " -0.0514528\n",
       " -0.159017 \n",
       "  ⋮        \n",
       " -0.051341 \n",
       " -0.0531419\n",
       " -1.12279  \n",
       " -0.0519099\n",
       " -0.154834 \n",
       " -0.05297  \n",
       " -2.99547  \n",
       " -0.668837 \n",
       " -1.79454  \n",
       " -0.0739282\n",
       " -0.0512945\n",
       " -0.0928338"
      ]
     },
     "execution_count": 28,
     "metadata": {},
     "output_type": "execute_result"
    }
   ],
   "source": [
    "ntrials = 27\n",
    "likely_all = zeros(ntrials)\n",
    "@time Likely_all_trials(likely_all, params, ratdata, ntrials)\n",
    "likely_all"
   ]
  },
  {
   "cell_type": "code",
   "execution_count": 29,
   "metadata": {
    "collapsed": false
   },
   "outputs": [
    {
     "data": {
      "text/plain": [
       "9-element Array{Float64,1}:\n",
       " 200.0\n",
       " 200.0\n",
       "  30.0\n",
       "   5.0\n",
       "  25.0\n",
       "   5.0\n",
       "   1.2\n",
       "   0.7\n",
       "   1.0"
      ]
     },
     "execution_count": 29,
     "metadata": {},
     "output_type": "execute_result"
    }
   ],
   "source": [
    "# Parameters\n",
    "sigma_a = 1; sigma_s = 0.1; sigma_i = 0.2; \n",
    "sigma_a_sbin = sigma_a  # remember we need this copy for Fmatrix\n",
    "lam = -0.0005; B = 6.1; bias = 0.1; \n",
    "phi = 0.3; tau_phi = 0.1; lapse = 0.05*2;\n",
    "params = [sigma_a, sigma_s, sigma_i, lam, B, bias, phi, tau_phi, lapse]\n",
    "\n",
    "ntrials = 300\n",
    "\n",
    "l = [0, 0, 0, -5, 5, -5, 0.01, 0.005, 0]\n",
    "u = [200, 200, 30, +5, 25, +5, 1.2, 0.7, 1]\n"
   ]
  },
  {
   "cell_type": "code",
   "execution_count": 30,
   "metadata": {
    "collapsed": false
   },
   "outputs": [
    {
     "data": {
      "text/plain": [
       "Optim.TwiceDifferentiableFunction(LL_f,LL_g!,fg!,LL_h!)"
      ]
     },
     "execution_count": 30,
     "metadata": {},
     "output_type": "execute_result"
    }
   ],
   "source": [
    "function LL_f(params::Vector)\n",
    "    return SumLikey_LL(params, ratdata, ntrials)\n",
    "end\n",
    "\n",
    "function LL_g!(params::Vector, grads::Vector)\n",
    "#     LL, LLgrad, LLhess = llikey(params)\n",
    "    LL, LLgrad = SumLikey(params, ratdata, ntrials)\n",
    "    for i=1:length(params)\n",
    "        grads[i] = LLgrad[i]\n",
    "    end\n",
    "end\n",
    "\n",
    "function LL_fg!(params::Vector, grads)\n",
    "    LL, LLgrad = SumLikey(params, ratdata, ntrials)\n",
    "    for i=1:length(params)\n",
    "        grads[i] = LLgrad[i]\n",
    "    end\n",
    "    return LL\n",
    "end\n",
    "\n",
    "function LL_h!(params::Vector, hess)\n",
    "    LL, LLhess = SumLikey_hess(params, ratdata, ntrials)\n",
    "    for i=1:length(params)\n",
    "        for j=1:length(params)\n",
    "            hess[i,j] = LLhess[i,j]\n",
    "        end\n",
    "    end\n",
    "end\n",
    "\n",
    "d4 = DifferentiableFunction(LL_f,\n",
    "                            LL_g!,\n",
    "                            LL_fg!)\n",
    "\n",
    "d = TwiceDifferentiableFunction(LL_f, LL_g!, LL_h!)"
   ]
  },
  {
   "cell_type": "code",
   "execution_count": 31,
   "metadata": {
    "collapsed": false,
    "scrolled": true
   },
   "outputs": [
    {
     "name": "stdout",
     "output_type": "stream",
     "text": [
      "Iter     Function value   Gradient norm \n",
      " "
     ]
    },
    {
     "name": "stderr",
     "output_type": "stream",
     "text": [
      "WARNING: could not attach metadata for @simd loop.\n"
     ]
    },
    {
     "name": "stdout",
     "output_type": "stream",
     "text": [
      "    0     1.860099e+02     2.768944e+02\n",
      " * Current step size: 1.0\n",
      " * g(x): [-7.935303406904938,-2.042227547972638,-27.526867401720423,-1.9355107157309408,-0.011883300345939474,-1.9932056142291454,41.345596511656694,-274.62484862021677,-276.89442329019056]\n",
      " * x: [1.0,0.1,0.2,-0.0005,6.1,0.1,0.3,0.1,0.1]\n",
      "     1     1.673800e+02     4.889153e+01\n",
      " * Current step size: 0.002288767269798854\n",
      " * g(x): [3.400910178799072,0.11881658941948728,13.052023563890552,0.9290374715907251,-0.011882990879897307,1.8186350630210737,-16.96879634993662,48.89152507846021,38.93588650565081]\n",
      " * x: [1.0179134283012126,0.10195740992442598,0.24677248051354883,0.003925020236464573,6.100026888635309,0.10455691790299651,0.21995190595308384,0.3439615106544336,0.36350368963038004]\n",
      "     2     1.596094e+02     1.996260e+01\n",
      " * Current step size: 0.0027282039641716538\n",
      " * g(x): [0.7384808808515125,-0.07575351733001992,5.292923815656998,0.1781412713077973,-0.011882622026365256,0.33223240019649647,-2.2812221312030485,19.96260113986782,12.54104723406398]\n",
      " * x: [1.008757697908465,0.10181859478514393,0.21777369097993665,0.0013932277153165511,6.100058938993893,0.09960082076251019,0.2547774642185223,0.23554329324547363,0.2702665144597536]\n",
      "     3     1.591799e+02     2.900318e+00\n",
      " * Current step size: 0.0016348659129150555\n",
      " * g(x): [-0.24762273391065073,-0.19411531803491694,2.0402027670197596,-0.0637195080889651,-0.011882401009256945,-0.1395033905175644,2.900317608026821,2.5632391517408006,0.5598319903973297]\n",
      " * x: [1.007566626699334,0.10187154781832973,0.2110796431662657,0.0011023136409178036,6.1000781444666465,0.09905826847910594,0.25776779756285445,0.2109210604925946,0.2534066438276731]\n",
      "     4     1.591205e+02     5.617878e+00\n",
      " * Current step size: 0.0075842128082460455\n",
      " * g(x): [-0.6418926659650127,-0.2467524523865376,0.7112032470177352,-0.15236352902355182,-0.01188137582068232,-0.19412079940955462,4.78003360254931,-5.6178779506878636,-4.709116030465647]\n",
      " * x: [1.0094193200059458,0.10250139425682533,0.19928172372364472,0.0015850399530248373,6.100167237853268,0.10011511702134468,0.2400532082748279,0.1968883245114128,0.24998541368334665]\n",
      "     5     1.590689e+02     3.554171e+00\n",
      " * Current step size: 0.0021235362708187976\n",
      " * g(x): [-0.19236463626714365,-0.18509599435752988,2.2580519358970674,-0.05085950531795641,-0.011881088827619506,0.03836527372109613,2.4891779610748865,3.5541712046450313,1.3807980178724633]\n",
      " * x: [1.01076408404593,0.10272715099451994,0.19816259966860722,0.0019082305770744838,6.100192181386224,0.10052688182474635,0.23210638029784977,0.2052204767748846,0.2580061199713297]\n",
      "     6     1.590353e+02     3.905157e+00\n",
      " * Current step size: 0.0033107408240486873\n",
      " * g(x): [-0.48760346286899336,-0.2241908538099968,1.260447639447199,-0.11512381614725158,-0.011880641421906113,-0.08650356214615791,3.9051574826805875,-2.4467210255051053,-2.525321874246233]\n",
      " * x: [1.011392417133039,0.10299183540179574,0.19263913183220063,0.0020764264605307925,6.100231069170569,0.10040000539554544,0.22574838627705685,0.19683299799469478,0.2543006664830195]\n",
      "     7     1.590041e+02     3.698393e+00\n",
      " * Current step size: 0.002844419188581608\n",
      " * g(x): [-0.18467982918555426,-0.18302371870294037,2.308518552536106,-0.04809106646067298,-0.011880257073133059,0.077506059663708,2.3641644691491366,3.6983932068743224,1.5079353998105807]\n",
      " * x: [1.0127607984039761,0.10326807500772493,0.1900298333452943,0.002403523658300615,6.1002644783346,0.1006457845553377,0.21728716330465386,0.20169305059193515,0.2600954162539569]\n",
      "     8     1.589737e+02     3.731164e+00\n",
      " * Current step size: 0.0030320310528129495\n",
      " * g(x): [-0.4753857350273341,-0.2214855098196068,1.3198130374163055,-0.11099177551722093,-0.011879847412108683,-0.058244863801902025,3.7311637042288672,-2.2519030118347647,-2.3258805588618716]\n",
      " * x: [1.013313277117468,0.10350919469697745,0.1849737304505763,0.0025491755398786343,6.100300089968725,0.10041104473704428,0.21192730581444053,0.19376623669941268,0.25637982339904053]\n",
      "     9     1.589447e+02     3.647547e+00\n",
      " * Current step size: 0.002973981554812948\n",
      " * g(x): [-0.18367062852727667,-0.18187484789402145,2.3341811929687033,-0.04839917077027665,-0.011879445633443089,0.09867284394135015,2.292603931273521,3.6475470750852903,1.5407533743167996]\n",
      " * x: [1.0147082095697866,0.10379615353882235,0.18218138804043707,0.0028788969251853412,6.100335018624428,0.10058407153401859,0.20373571527855386,0.19840518151258155,0.26197504487295026]\n",
      "    10     1.589167e+02     3.603133e+00\n",
      " * Current step size: 0.002949581166129974\n",
      " * g(x): [-0.4700372075867507,-0.21973875093815476,1.3576912475140905,-0.10729348048587259,-0.011879047189511553,-0.04170447907455812,3.603132728026116,-2.17379083505139,-2.224495565203882]\n",
      " * x: [1.0152427551459915,0.1040305896197265,0.17732672942983846,0.0030214958722453917,6.100369659557101,0.1002933511666735,0.19884890919552922,0.1908616375228959,0.25827338891218604]\n",
      "Iter     Function value   Gradient norm \n",
      "     0     1.591081e+02     3.662705e+00\n",
      " * Current step size: 1.0\n",
      " * g(x): [-0.45644951669329514,-0.08652473737495302,1.4354184086236275,-0.10729683206286157,-1.1879047189511553e-5,-0.04181577363862313,3.66270450614013,-2.12642274144816,-2.1895036279808]\n",
      " * x: [1.0152427551459915,0.1040305896197265,0.17732672942983846,0.0030214958722453917,6.100369659557101,0.1002933511666735,0.19884890919552922,0.1908616375228959,0.25827338891218604]\n",
      "     1     1.590790e+02     4.401214e+00\n",
      " * Current step size: 0.0026161265700333286\n",
      " * g(x): [-0.1273574728812953,-0.04246552196493382,2.5882242803805244,-0.03987406275651444,-1.1879046832074669e-5,0.13745410726332005,2.103669221864646,4.401213841265256,2.0954285234192884]\n",
      " * x: [1.0164368687743925,0.10425665935492025,0.1735731500454335,0.0033021976538066982,6.100369690633834,0.10040274640152182,0.1892706708446501,0.19642209673368163,0.26400007149699484]\n",
      "     2     1.590478e+02     3.456260e+00\n",
      " * Current step size: 0.0017112278003464688\n",
      " * g(x): [-0.42304753062837236,-0.08157228147969156,1.5777195797232801,-0.09627840347280325,-1.1879046598272573e-5,-0.0056242327949467645,3.4562599029702006,-1.6607959871938818,-1.7236627757385787]\n",
      " * x: [1.0166548034947211,0.10432923486346342,0.16914614823697552,0.0033704311827449196,6.100369710961355,0.10016753137338917,0.18567241645475155,0.1888938808247612,0.2604151217233627]\n",
      "     3     1.590182e+02     4.519714e+00\n",
      " * Current step size: 0.0030150894268244845\n",
      " * g(x): [-0.11729848842470453,-0.040829992297479134,2.6575545349208824,-0.037241386503789345,-1.1879046186326134e-5,0.1644618515263943,1.9965021941456769,4.519714030784493,2.1963889974016446]\n",
      " * x: [1.0179303125028605,0.10457486936722062,0.16439148925818717,0.0036607188567647267,6.100369746777331,0.10018448891937165,0.17525630885071536,0.1938990090726424,0.2656109239055831]\n",
      "     4     1.589873e+02     3.285849e+00\n",
      " * Current step size: 0.0015857146166338202\n",
      " * g(x): [-0.4063956379790423,-0.07887574944242359,1.6656220651728517,-0.09164389847551013,-1.1879045969672712e-5,0.018852099765578424,3.2858488141120366,-1.4389518227984843,-1.5064943948104572]\n",
      " * x: [1.0181163119389784,0.1046395320154358,0.16017952945554978,0.00371977300211637,6.100369765613892,0.09992369964744505,0.17209207610188285,0.18673520713679703,0.26212885242094514]\n",
      "     5     1.589565e+02     5.070261e+00\n",
      " * Current step size: 0.0035428153405192256\n",
      " * g(x): [-0.08982792265823676,-0.036967333554743104,2.792096620818787,-0.033067197981532584,-1.1879045485624081e-5,0.20028126375356284,1.7865013374642649,5.070260533429309,2.4936793337935663]\n",
      " * x: [1.019556077360736,0.1049186204597767,0.15428172856187644,0.004044450050993263,6.100369807698674,0.0998569102134434,0.16045721958513615,0.1918307379435257,0.2674648699933919]\n",
      "     6     1.589247e+02     3.074057e+00\n",
      " * Current step size: 0.0013857202968775484\n",
      " * g(x): [-0.38236869640870413,-0.07516869804616272,1.7844642391906527,-0.08416142116821929,-1.1879045296295568e-5,0.04650846422199272,3.074056584494453,-1.0201242462340192,-1.2007081591130597]\n",
      " * x: [1.0196805520743484,0.10496978233629033,0.15041491839836804,0.004090271887518572,6.100369824159519,0.09957937670970528,0.15798317708201806,0.18480794491235555,0.26401008756890987]\n",
      "     7     1.588864e+02     6.174229e+00\n",
      " * Current step size: 0.00522596330730224\n",
      " * g(x): [-0.022317491472407237,-0.028040744203498037,3.0826463750530433,-0.023261901347534964,-1.1879044582281505e-5,0.2605258585484873,1.4387954607381064,6.174228906438855,3.248356547335377]\n",
      " * x: [1.0216787701770618,0.10536211699752336,0.1410950912933684,0.004530095898072669,6.10036988623826,0.0993363254523965,0.14192865061994142,0.19013651063603085,0.27028353439377323]\n",
      "     8     1.588468e+02     2.747874e+00\n",
      " * Current step size: 0.0011344171579897205\n",
      " * g(x): [-0.32785366080465955,-0.06730654668525332,2.024213160416949,-0.07254066080085177,-1.1879044427288135e-5,0.09143507387215709,2.7478738945282766,-0.05256178465121873,-0.5308269198296033]\n",
      " * x: [1.0217040871856706,0.10539388717766857,0.1376005207684567,0.004556484568787933,6.100369899713897,0.0990407807769072,0.14029777709127114,0.18313556815114254,0.26659933898391414]\n",
      "     9     1.585353e+02     1.633651e+01\n",
      " * Current step size: 0.047443342740345965\n",
      " * g(x): [0.6726474389106375,0.05373186932943528,6.061818072279788,-0.000899432810072818,-1.1879037945193031e-5,0.9655729347973648,-1.7628661494388878,16.336508035172987,9.536917064886628]\n",
      " * x: [1.0372583539687799,0.10858314971519756,0.04163543036729481,0.007998052180405278,6.100370463288991,0.0947028000510702,0.010037554199970461,0.1856280552284373,0.29177797592968735]\n",
      "    10     1.583285e+02     3.950537e+00\n",
      " * Current step size: 0.0008070052622754567\n",
      " * g(x): [-0.024174537499937282,-0.024511343709236945,3.554700463443632,-0.036882432955004214,-1.1879037834933528e-5,0.43030032068196444,0.48876363806924517,3.950536990108986,2.3610110232042656]\n",
      " * x: [1.0367155309486586,0.10853983879910398,0.03678236765054907,0.007998778026610117,6.100370472875327,0.09392357847772166,0.010037698742964203,0.17245070423513648,0.28408310109377716]\n",
      "Iter     Function value   Gradient norm \n",
      "     0     1.583285e+02     3.950594e+00\n",
      " * Current step size: 1.0\n",
      " * g(x): [-0.02416123269232492,-0.02438366690796909,3.555076962513556,-0.03688244182762239,-1.1879037834933529e-8,0.4303002164610351,0.8565506775426877,3.9505935109279338,2.3610404637370297]\n",
      " * x: [1.0367155309486586,0.10853983879910398,0.03678236765054907,0.007998778026610117,6.100370472875327,0.09392357847772166,0.010037698742964203,0.17245070423513648,0.28408310109377716]\n",
      "     1     1.583152e+02     2.587047e+02\n",
      " * Current step size: 0.0004738365603689961\n",
      " * g(x): [-0.1329802674549889,-0.03747544020788944,3.1646908726446745,-0.04324021494505948,-1.1879037834868792e-8,0.35183209292039647,-258.7047037615421,1.9480566442067466,1.1630778602979202]\n",
      " * x: [1.036726979423904,0.10855139265834889,0.03509785949166928,0.008016254275964321,6.100370472880956,0.09371968650345436,0.010000000053402017,0.17057876961444843,0.28296435402424686]\n",
      "     2     1.582997e+02     2.574312e+02\n",
      " * Current step size: 0.0019714161404338934\n",
      " * g(x): [-0.3789927284338322,-0.0678090012674282,2.299323487159598,-0.054702670283374104,-1.1879037834599437e-8,0.18373070553791498,-257.4311801065287,-2.862228688061901,-1.6161846565800164]\n",
      " * x: [1.0369891388661385,0.10862527225902331,0.02885900711942431,0.00810149873352819,6.100370472904374,0.09302607903751942,0.010000000053506809,0.16673834143795693,0.2806714440172338]\n",
      "     3     1.582842e+02     2.577449e+02\n",
      " * Current step size: 0.0020059889099658446\n",
      " * g(x): [-0.10911960778051885,-0.034451457449702384,3.376510449187425,-0.041495842332326976,-1.1879037834325364e-8,0.42432569177045726,-257.7449212004946,1.997523812489473,1.3401429855122189]\n",
      " * x: [1.0377493940665217,0.10876129620355968,0.024246666569099254,0.008211231683340313,6.100370472928203,0.09265751728019982,0.01000000005361333,0.17247993711742074,0.28391349185661857]\n",
      "     4     1.582662e+02     2.563830e+02\n",
      " * Current step size: 0.0020573594979814975\n",
      " * g(x): [-0.38680732347970465,-0.06827438153077843,2.4455804363517024,-0.05115603499382383,-1.187903783404427e-8,0.22649069006642705,-256.3830310146374,-3.050111208022912,-1.7527464101779322]\n",
      " * x: [1.0379738923251116,0.10883217515359819,0.01730013472338896,0.008296603548594675,6.100370472952642,0.09178452678896863,0.010000000053723148,0.1683703147678412,0.2811563365060951]\n",
      "     5     1.582467e+02     2.567754e+02\n",
      " * Current step size: 0.0021541246175872204\n",
      " * g(x): [-0.07276971313478331,-0.029976854691301513,3.9081567579418057,-0.041817748853773366,-1.1879037833749949e-8,0.5097764940116211,-256.7753838103218,2.343572087482087,1.5970675490045594]\n",
      " * x: [1.0388071234921479,0.10897924650726455,0.01203229399097502,0.008406800022790666,6.1003704729782315,0.0912966376183845,0.010000000053837993,0.17494063066802956,0.2849319699323074]\n",
      "     6     1.582204e+02     2.549024e+02\n",
      " * Current step size: 0.0024511336524781955\n",
      " * g(x): [-0.49643931323397333,-0.08096782162956222,4.264446544022885,-0.047819184131906514,-1.1879037833415052e-8,0.23749771730377864,-254.90239297241004,-5.311986020295237,-3.0298704382349384]\n",
      " * x: [1.0389854917825996,0.1090527236987248,0.0024537977160182627,0.008509300914163218,6.100370473007349,0.09004710730005908,0.010000000053969433,0.16919622530731357,0.2810173446931569]\n",
      "     7     1.581795e+02     9.262067e+05\n",
      " * Current step size: 0.0005767346349497675\n",
      " * g(x): [-0.4105408894347964,-0.06974345612857688,926206.6907456394,-0.042276652004035985,-1.1879037833336248e-8,0.4472505140768941,-254.9848127246044,-4.176699693798279,-2.103304049725038]\n",
      " * x: [1.039271805525011,0.10909942059127625,1.1680326844620836e-14,0.008536879893836506,6.1003704730142,0.08991013414092071,0.010000000054000285,0.17225982989750255,0.2827647755602619]\n",
      "     8     1.581685e+02     1.750257e+06\n",
      " * Current step size: 0.0010372257839817863\n",
      " * g(x): [-0.17493484900018988,-0.041516574424397754,1.7502570989144505e6,-0.04393341167878435,-1.1879037833194537e-8,0.6062528765277462,-255.42967599851136,0.11064013703613708,0.3141324810697915]\n",
      " * x: [1.0396976291154394,0.10917176021788333,1.1670883634606595e-14,0.008580730327306827,6.100370473026521,0.08944623437633664,0.010000000054055852,0.17659200814667864,0.28494637631462877]\n",
      "     9     1.581673e+02     1.583116e+06\n",
      " * Current step size: 0.004694079491454559\n",
      " * g(x): [-0.22855535861239284,-0.04780339530389409,1.5831158615856546e6,-0.04306467710825249,-1.1879037832553192e-8,0.29488182778593836,-254.05960381370733,-1.0426715451524955,-0.3457512970632834]\n",
      " * x: [1.0405187871919281,0.10936664209149835,1.1590255204369945e-14,0.008786957253828852,6.100370473082282,0.0866004351851553,0.010000000054308279,0.1760726548196139,0.28347181376972935]\n",
      "    10     1.581666e+02     1.822874e+06\n",
      " * Current step size: 0.0012845103933838591\n",
      " * g(x): [-0.16067018651384182,-0.03982417677311914,1.8228740922059466e6,-0.042932248192070165,-1.1879037832377688e-8,0.3172957164098421,-253.93889460936094,0.12184302840574789,0.32077359391979093]\n",
      " * x: [1.0408123689217657,0.10942804597835312,1.1570573406858804e-14,0.0088422742791007,6.1003704730975405,0.08622165641296518,0.010000000054377626,0.17741197655335053,0.28391593481561667]\n",
      "Iter     Function value   Gradient norm \n",
      "     0     1.581666e+02     3.021220e+06\n",
      " * Current step size: 1.0\n",
      " * g(x): [-0.16067017326168023,-0.03982405013321015,3.021219917281242e6,-0.04293224820187843,-1.187903783237769e-11,0.3172957163141728,1.0473826569994422,0.12184308229431075,0.32077362339358256]\n",
      " * x: [1.0408123689217657,0.10942804597835312,1.1570573406858804e-14,0.0088422742791007,6.1003704730975405,0.08622165641296518,0.010000000054377626,0.17741197655335053,0.28391593481561667]\n",
      "     1     1.581665e+02     4.658166e+09\n",
      " * Current step size: 0.0003970400401642697\n",
      " * g(x): [-0.1655196521310559,-0.040390946178568775,-4.658165571315268e9,-0.04284117294901713,-1.1879037832377637e-11,0.3016783033554517,1.0627570498338348,0.023070296119609143,0.26378046907403674]\n",
      " * x: [1.0408761614138098,0.10944385772079919,8.984415956533679e-22,0.008859320100651097,6.100370473097545,0.08609567730901599,0.010000000054289032,0.1773635999710877,0.2837885748433262]\n",
      "     2     1.581660e+02     5.074263e+09\n",
      " * Current step size: 0.005458528998065313\n",
      " * g(x): [-0.20225838022694156,-0.04469010215742838,-5.074262627115763e9,-0.041740463340194614,-1.1879037832376892e-11,0.1195622210680438,1.161708298368465,-0.6878001786207646,-0.2153810481842327]\n",
      " * x: [1.0417796552347052,0.10966433287151872,8.999203590192727e-22,0.009093169885504179,6.10037047309761,0.08444895754206494,0.01000000005305717,0.17723767009079008,0.2823487215040494]\n",
      "     3     1.581656e+02     4.499114e+09\n",
      " * Current step size: 0.0012787064926695461\n",
      " * g(x): [-0.1577487718613755,-0.039486541101442375,-4.499114388341059e9,-0.04235025151653822,-1.1879037832376719e-11,0.14257401081401674,1.020669757903143,0.10902187352850023,0.2199367306958676]\n",
      " * x: [1.0420382843386948,0.10972147839523953,9.00298958840528e-22,0.009146543686984261,6.100370473097625,0.08429607255370741,0.01000000005275588,0.1781171646443956,0.2826241306487052]\n",
      "     4     1.581655e+02     4.787304e+09\n",
      " * Current step size: 0.002496122718617145\n",
      " * g(x): [-0.1812011810406974,-0.04222316083309451,-4.787304237410961e9,-0.04221113156139909,-1.1879037832376383e-11,0.09033534375340965,1.0854558605238709,-0.3032354208829875,-0.04663465040328781]\n",
      " * x: [1.042432044631967,0.10982004164744882,9.00954794313266e-22,0.009252255111933725,6.100370473097654,0.08394019032623057,0.010000000052244997,0.1778450326691948,0.28207514157866703]\n",
      "     5     1.581654e+02     4.463420e+09\n",
      " * Current step size: 0.0017050990145349811\n",
      " * g(x): [-0.15652161597989822,-0.03934744741682759,-4.463419789117575e9,-0.04191556893417187,-1.1879037832376147e-11,0.09642632688249789,1.0083866608230814,0.1031113639879336,0.18730646397031375]\n",
      " * x: [1.0427410105871882,0.10989203631729304,9.014321862418402e-22,0.009324229270761394,6.100370473097675,0.08378615962061912,0.010000000051881015,0.17836207908624796,0.28215465827509684]\n",
      "     6     1.581653e+02     4.719254e+09\n",
      " * Current step size: 0.0024660817679746745\n",
      " * g(x): [-0.17721164774094553,-0.04175836861728054,-4.719253692033873e9,-0.0417037334362002,-1.187903783237581e-11,0.05738518380134842,1.0687180915951777,-0.254313258241674,-0.04489739842799346]\n",
      " * x: [1.0431270056906452,0.1099890703398725,9.020766073652528e-22,0.009427596491104126,6.100370473097704,0.0835483644139417,0.010000000051398757,0.17810779803157673,0.2816927452193688]\n",
      "     7     1.581652e+02     4.417853e+09\n",
      " * Current step size: 0.0018853709114203688\n",
      " * g(x): [-0.15392051478738267,-0.039050624411730614,-4.417853004090555e9,-0.041231953842234145,-1.1879037832375556e-11,0.0664898081570098,0.9918163295448822,0.1628668953511103,0.176893868478776]\n",
      " * x: [1.0434611153764566,0.11006780035328156,9.025982648070828e-22,0.00950622349702228,6.100370473097726,0.08344017205765625,0.010000000051015232,0.1785872728508076,0.28177739346834635]\n",
      "     8     1.581651e+02     4.634527e+09\n",
      " * Current step size: 0.0016537727839266388\n",
      " * g(x): [-0.17159309920713176,-0.041104647796683595,-4.634527462697414e9,-0.041358707009506564,-1.1879037832375328e-11,0.041461304443229666,1.0424318301247484,-0.17358753314036593,-0.012152006234397456]\n",
      " * x: [1.0437156649346966,0.11013238121305503,9.030271139333196e-22,0.009574411780114611,6.100370473097746,0.08333021302251781,0.01000000005070767,0.17831792801201113,0.28148485120307165]\n",
      "     9     1.581650e+02     4.369078e+09\n",
      " * Current step size: 0.002505919158205914\n",
      " * g(x): [-0.1512072757457546,-0.03874029338298497,-4.369078302147144e9,-0.04076921136980432,-1.1879037832374984e-11,0.04852620020477639,0.9852053370398595,0.13562030293374266,0.178185094251715]\n",
      " * x: [1.0441456633694102,0.11023538613734218,9.03709456612518e-22,0.009678053356368245,6.100370473097776,0.08322631434538942,0.01000000005022373,0.1787529243367101,0.2815153031482989]\n",
      "    10     1.581649e+02     4.620285e+09\n",
      " * Current step size: 0.00215135064908888\n",
      " * g(x): [-0.17182849630036606,-0.04113570111524233,-4.620285203903639e9,-0.04115277464334423,-1.1879037832374687e-11,0.02198640808078784,1.0362085053011638,-0.15652364225575854,-0.04508542763034624]\n",
      " * x: [1.0444709632402287,0.11031873009256236,9.042625355538325e-22,0.009765762225711417,6.100370473097802,0.08312191747308117,0.010000000049838531,0.17846115751011302,0.28113196453019995]\n",
      "Iter     Function value   Gradient norm \n",
      "     0     1.581649e+02     1.071326e+10\n",
      " * Current step size: 1.0\n",
      " * g(x): [-0.17182849628716057,-0.04113570098962544,1.0713257645291454e10,-0.04115277464335506,-1.1879037832374686e-14,0.021986408080695612,1.314417916628895,-0.15652364220240977,-0.04508542760031384]\n",
      " * x: [1.0444709632402287,0.11031873009256236,9.042625355538325e-22,0.009765762225711417,6.100370473097802,0.08312191747308117,0.010000000049838531,0.17846115751011302,0.28113196453019995]\n",
      "     1     1.581649e+02     1.163168e+10\n",
      " * Current step size: 0.0002118716891388293\n",
      " * g(x): [-0.17009016887302264,-0.040933680228515956,1.1631675692522053e10,-0.041008432539273554,-1.1879037832374686e-14,0.022929165090719888,-7999.638115002569,-0.10982275640063276,-0.028248060667540292]\n",
      " * x: [1.0445073688339792,0.11032744558301494,7.705377243162833e-22,0.009774481333587855,6.100370473097802,0.08311725917566302,0.010000000000000002,0.17849432043857658,0.28114151685590116]\n",
      "     2     1.581649e+02     2.579898e+16\n",
      " * Current step size: 0.0015485861463626655\n",
      " * g(x): [-0.16107942415487864,-0.03988738568834188,-2.5798976719637676e16,-0.04058074292723041,-1.1879037832374686e-14,0.026561814484067286,-7999.661955407286,-0.0028634863759733416,0.05818865685021716]\n",
      " * x: [1.0447707681131284,0.11039083491313638,4.808386913507506e-31,0.009837986424102222,6.100370473097802,0.08308175138825587,0.010000000000000002,0.17866439043769386,0.2811852614113125]\n",
      "     3     1.581640e+02     1.697394e+16\n",
      " * Current step size: 0.05140081840241599\n",
      " * g(x): [-0.20330826080175968,-0.04481262735034092,-1.697394086468599e16,-0.038725942021930734,-1.1879037832374677e-14,-0.14308136036629568,-7999.551661664056,-0.7996941334588478,-0.5933930601674214]\n",
      " * x: [1.053050382342479,0.11244107918144763,5.029288973881927e-31,0.011923869821939917,6.100370473097803,0.08171645238552167,0.010000000000000002,0.17881157598090297,0.2781943168274746]\n",
      "     4     1.581634e+02     2.230408e+16\n",
      " * Current step size: 0.0014089008333854343\n",
      " * g(x): [-0.13442836611894649,-0.03683845295624647,-2.230407703545179e16,-0.039065525516702865,-1.1879037832374677e-14,-0.06877940319870164,-7999.73946728397,0.22331990129972687,0.11596964565004374]\n",
      " * x: [1.0533368235205567,0.11250421572946766,5.033647149534638e-31,0.011978430833928251,6.100370473097803,0.08191803983338367,0.010000000000000002,0.179938265711986,0.2790303488044694]\n",
      "     5     1.581633e+02     2.397262e+16\n",
      " * Current step size: 0.0018123551216646955\n",
      " * g(x): [-0.1560446625522933,-0.03933198685019628,-2.397262087517098e16,-0.03937107032901741,-1.1879037832374677e-14,-0.07475847324540853,-7999.682075563887,-0.06336652801296029,-0.09978979249963799]\n",
      " * x: [1.0535804554583894,0.11257098008835704,5.041026557706748e-31,0.01204923143917897,6.100370473097803,0.08204269253703587,0.010000000000000002,0.179533530745096,0.27882017062321796]\n",
      "     6     1.581632e+02     3.747545e+16\n",
      " * Current step size: 0.00351413434921584\n",
      " * g(x): [-0.1366341986833512,-0.03708650141699455,-3.747545313680553e16,-0.0392996883265988,-1.1879037832374677e-14,-0.035658221988267035,-7999.747035939859,0.24361136456295018,0.1099561147115203]\n",
      " * x: [1.0541288173670762,0.11270919797437007,5.056450673896803e-31,0.012187586669787562,6.100370473097803,0.0823054038557625,0.010000000000000002,0.1797562092377768,0.279170845360742]\n",
      "     7     1.581632e+02     2.683539e+16\n",
      " * Current step size: 0.001654103072263755\n",
      " * g(x): [-0.15748825921360865,-0.03949148889494796,-2.6835392154877044e16,-0.03942682646629143,-1.1879037832374677e-14,-0.0477576958230442,-7999.680216397582,-0.061699942127274685,-0.09803408195138089]\n",
      " * x: [1.0543548244148946,0.11277054287030337,5.067869710110648e-31,0.012252592404987597,6.100370473097803,0.08236438623030476,0.010000000000000002,0.17935325093121507,0.2789889666135835]\n",
      "     8     1.581631e+02     3.232609e+16\n",
      " * Current step size: 0.003722804450777856\n",
      " * g(x): [-0.1373391505614644,-0.03715777830377599,-3.2326093771868816e16,-0.03959346607829008,-1.1879037832374677e-14,-0.016691543908516203,-7999.735408058022,0.2747792165509857,0.1185754307853693]\n",
      " * x: [1.0549411224072403,0.11291756196092917,5.086356329159204e-31,0.012399370770036352,6.100370473097803,0.08254217879287368,0.010000000000000002,0.1795829477503791,0.27935392833019995]\n",
      "     9     1.581630e+02     2.324826e+16\n",
      " * Current step size: 0.0014241171315665002\n",
      " * g(x): [-0.15743773825598542,-0.039476876354411425,-2.3248258263773804e16,-0.039587401826192074,-1.1879037832374677e-14,-0.031690545211636965,-7999.6906048642,0.007623749043578471,-0.08210539675430105]\n",
      " * x: [1.0551367094443895,0.11297047898958247,5.0949373892242305e-31,0.012455756503376542,6.100370473097803,0.08256594950650609,0.010000000000000002,0.17919162996069063,0.2791850630278357]\n",
      "    10     1.581627e+02     2.807880e+16\n",
      " * Current step size: 0.015509371022808225\n",
      " * g(x): [-0.12513270921060288,-0.03569573506972523,-2.8078795421009516e16,-0.04044067389401445,-1.1879037832374677e-14,0.027829833973899414,-7999.7693817132595,0.498516806408152,0.3156182871655549]\n",
      " * x: [1.0575784697399933,0.1135827405117839,5.162373225711303e-31,0.01306973220612795,6.100370473097803,0.08305744993010844,0.010000000000000002,0.17907339040818906,0.28045846608907277]\n",
      "Iter     Function value   Gradient norm \n",
      "     0     1.581627e+02     1.219931e+15\n",
      " * Current step size: 1.0\n",
      " * g(x): [-0.12513270921058983,-0.03569573506960323,-1.2199308453549528e15,-0.04044067389401446,-1.1879037832374676e-17,0.02782983397389932,-6.82495693747377,0.498516806408205,0.31561828716558504]\n",
      " * x: [1.0575784697399933,0.1135827405117839,5.162373225711303e-31,0.01306973220612795,6.100370473097803,0.08305744993010844,0.010000000000000002,0.17907339040818906,0.28045846608907277]\n",
      "     1     1.581625e+02     4.109697e+15\n",
      " * Current step size: 0.0008703422746421352\n",
      " * g(x): [-0.14971344457034205,-0.0385387119825129,-4.1096972392481335e15,-0.040271990943233,-1.1879037832374676e-17,0.005154581634452926,-6.750615632769603,0.11770162214160401,0.06435994480846338]\n",
      " * x: [1.0576873780267597,0.11361380801903939,5.3662428532883715e-31,0.013104929434232927,6.100370473097803,0.08303322844910468,0.010000000000000002,0.17863951015695242,0.2801837701511024]\n",
      "     2     1.581625e+02     7.322745e+15\n",
      " * Current step size: 0.0024399671452410825\n",
      " * g(x): [-0.1645819990822488,-0.040262512699407435,-7.322745377175025e15,-0.03985432607202173,-1.1879037832374676e-17,-0.009244887555606707,-6.6937673275164915,-0.21793345007734094,-0.08807021200266305]\n",
      " * x: [1.0580526739127123,0.11370784121009664,7.4467197261714355e-31,0.013203191769007862,6.100370473097803,0.08302065143926915,0.010000000000000002,0.17835232206598534,0.2800267340003002]\n",
      "     3     1.581624e+02     8.400847e+14\n",
      " * Current step size: 0.0013595752644416828\n",
      " * g(x): [-0.14857332671177267,-0.03840492743740211,8.400847237563052e14,-0.040264469101852926,-1.1879037832374676e-17,0.004894566313984716,-6.754180241051393,0.12866973944772003,0.07119715555294584]\n",
      " * x: [1.0582764355276368,0.11376258112644702,1.1424452870132275e-30,0.013257376724916376,6.100370473097803,0.0830332205597123,0.010000000000000002,0.17864861899400492,0.28014647208207316]\n",
      "     4     1.581624e+02     1.738776e+15\n",
      " * Current step size: 0.002218021709597095\n",
      " * g(x): [-0.1634860908077066,-0.04013403094185923,-1.7387757827871835e15,-0.039860224584692114,-1.1879037832374676e-17,-0.009266647951568951,-6.697995508859579,-0.1989481353054517,-0.0816217905081488]\n",
      " * x: [1.0586059743917506,0.11384776408925867,9.672234859661591e-31,0.013346684191509688,6.100370473097803,0.08302236430536881,0.010000000000000002,0.17836322671854168,0.2799885552453952]\n",
      "     5     1.581623e+02     1.546981e+15\n",
      " * Current step size: 0.001481360269137515\n",
      " * g(x): [-0.14746726594265905,-0.03827520784637014,1.546980682815681e15,-0.04029384279732974,-1.1879037832374676e-17,0.004932863352883177,-6.757229657805867,0.14872827593397137,0.0778184850411707]\n",
      " * x: [1.0588481561912297,0.11390721704813628,1.1408381408138476e-30,0.013405731544528348,6.100370473097803,0.08303609154947235,0.010000000000000002,0.17865794058180218,0.2801094665229498]\n",
      "     6     1.581623e+02     1.019233e+15\n",
      " * Current step size: 0.0018836033930797723\n",
      " * g(x): [-0.16203037890388372,-0.03996364739656377,1.0192326034404765e15,-0.03993024073918737,-1.1879037832374676e-17,-0.008714471156861359,-6.702231171584982,-0.1704357571698492,-0.07075703989603724]\n",
      " * x: [1.0591259260337276,0.11397931235950653,8.675939999041452e-31,0.013481629163541621,6.100370473097803,0.08302679999132326,0.010000000000000002,0.17837779549660604,0.27996288736048197]\n",
      "     7     1.581622e+02     7.939229e+15\n",
      " * Current step size: 0.0015694167264636892\n",
      " * g(x): [-0.14736583328697014,-0.03826172685700899,-7.939229396605819e15,-0.04026270208132548,-1.1879037832374676e-17,0.004300052277666222,-6.756384213922392,0.12795290209282978,0.07519617581319407]\n",
      " * x: [1.0593802192205746,0.1140420319761812,7.808432768534551e-31,0.013544296351249424,6.100370473097803,0.08304047662811913,0.010000000000000002,0.17864528022469592,0.28007393464240987]\n",
      "     8     1.581622e+02     2.366797e+15\n",
      " * Current step size: 0.002299497958680511\n",
      " * g(x): [-0.16298362934495236,-0.04007317173144928,2.36679735303202e15,-0.039975506764509325,-1.1879037832374676e-17,-0.0102972666837578,-6.700287730391204,-0.19092171688505238,-0.08540921431184542]\n",
      " * x: [1.0597190866533972,0.11413001473898447,1.5828307204786522e-30,0.013636880352496394,6.100370473097803,0.08303058866668442,0.010000000000000002,0.17835105278752622,0.27990102118962684]\n",
      "     9     1.581621e+02     6.392652e+14\n",
      " * Current step size: 0.0015126501813408752\n",
      " * g(x): [-0.14700750860179082,-0.03821864141452478,-6.392652192195738e14,-0.04024084730525917,-1.1879037832374676e-17,0.003960110058420174,-6.75467957845127,0.1163944775281413,0.07431884563221733]\n",
      " * x: [1.0599656238698814,0.11419063142947096,9.365860728302017e-31,0.013697349310052922,6.100370473097803,0.08304616482900092,0.010000000000000002,0.1786398505571943,0.2800302154531438]\n",
      "    10     1.581621e+02     7.349018e+14\n",
      " * Current step size: 0.002673094064218592\n",
      " * g(x): [-0.1638048108647939,-0.040167415133593364,7.349018437879306e14,-0.039944959732520526,-1.1879037832374676e-17,-0.011700806702837907,-6.701241364201633,-0.19263903641656271,-0.09944028477742498]\n",
      " * x: [1.0603585887685203,0.11429279345297863,1.044584926997485e-30,0.013804916880123736,6.100370473097803,0.0830355790823101,0.010000000000000002,0.178328717170206,0.27983155418802474]\n",
      "Iter     Function value   Gradient norm \n",
      "     0     1.581621e+02     7.481756e+14\n",
      " * Current step size: 1.0\n",
      " * g(x): [-0.1638048108647939,-0.040167415133593246,7.481755834116595e14,-0.039944959732520526,-1.1879037832374676e-20,-0.011700806702837907,1.2917030605741524,-0.19263903641656266,-0.09944028477742495]\n",
      " * x: [1.0603585887685203,0.11429279345297863,1.044584926997485e-30,0.013804916880123736,6.100370473097803,0.0830355790823101,0.010000000000000002,0.178328717170206,0.27983155418802474]\n",
      "     1     1.581621e+02     4.959369e+24\n",
      " * Current step size: 1.775923583753362e-5\n",
      " * g(x): [-0.16360982980929886,-0.04014473990897327,-4.959369037987927e24,-0.039926619926206185,-1.1879037832374676e-20,-0.011526718552337667,1.2909039511155893,-0.18999919440232138,-0.0974739895833891]\n",
      " * x: [1.0603614978167877,0.11429350679557697,1.3119059568770681e-39,0.013805626272084147,6.100370473097803,0.08303578687969583,0.010000000000000002,0.17833213829228525,0.27983332017149387]\n",
      "     2     1.581620e+02     1.998715e+21\n",
      " * Current step size: 0.001527429457931074\n",
      " * g(x): [-0.14709468190675273,-0.03822690490855204,-1.9987151811225308e21,-0.04014835649562269,-1.1879037832374676e-20,0.003235499604280323,1.2401552051420972,0.09838155379119962,0.06884667143610101]\n",
      " * x: [1.0606114002904454,0.11435482505389491,9.406489196313535e-37,0.013866611367515052,6.100370473097803,0.08305339312916594,0.010000000000000002,0.17862234865879853,0.2799822048145656]\n",
      "     3     1.581619e+02     1.316684e+18\n",
      " * Current step size: 0.0031546642250169007\n",
      " * g(x): [-0.16410488070940704,-0.04020078824127552,1.3166839573527124e18,-0.039953831483011494,-1.1879037832374676e-20,-0.012611876115235898,1.2907920674639677,-0.20035298813290314,-0.10844896780821855]\n",
      " * x: [1.0610754346211468,0.11447541810324305,4.0290506888587155e-34,0.013993265951445018,6.100370473097803,0.08304318621431427,0.010000000000000002,0.17831198789065186,0.2797650166831746]\n",
      "     4     1.581619e+02     6.610628e+29\n",
      " * Current step size: 2.6162984601439854e-5\n",
      " * g(x): [-0.1638034395940285,-0.04016572168108275,-6.610628409295095e29,-0.0399199394235415,-1.1879037832374676e-20,-0.01234231941857361,1.2903955383226453,-0.1956829652902532,-0.10540008299857617]\n",
      " * x: [1.0610797280946138,0.11447646987584677,3.38401947262425e-45,0.013994311262922877,6.100370473097803,0.08304351617863487,0.010000000000000002,0.17831722972279523,0.2797678540318494]\n",
      "     5     1.581619e+02     1.611090e+27\n",
      " * Current step size: 0.0015262627073591363\n",
      " * g(x): [-0.1466452668737141,-0.03817299564180736,1.6110899200841563e27,-0.0400498718194505,-1.1879037832374676e-20,0.00302145794461256,1.2425414717920493,0.09311840647374092,0.06791709792055323]\n",
      " * x: [1.0613297351758033,0.11453777331896277,8.358494052725427e-43,0.014055239577745064,6.100370473097803,0.08306235380048575,0.010000000000000002,0.1786158933351832,0.2799287222478827]\n",
      "     6     1.581619e+02     7.600974e+35\n",
      " * Current step size: 1.030679743017387e-5\n",
      " * g(x): [-0.14669829781601246,-0.03817913907370853,7.600974132491466e35,-0.040050253380093964,-1.1879037832374676e-20,0.0029721069855867532,1.2427027449044628,0.09222548775479922,0.06736315071412596]\n",
      " * x: [1.0613312466188631,0.11453816676029616,4.164885181423544e-51,0.014055652363661011,6.100370473097803,0.08306232265893078,0.010000000000000002,0.17861493358263067,0.2799280222401124]\n",
      "     7     1.581619e+02     4.853441e+44\n",
      " * Current step size: 4.384289991702194e-6\n",
      " * g(x): [-0.1467206321678543,-0.038181726421989255,-4.853440728924073e44,-0.040049454843981126,-1.1879037832374676e-20,0.002951317287584243,1.2427735345992152,0.09178668711680693,0.0671298003365588]\n",
      " * x: [1.061331889786742,0.11453833414871349,1.0230346647386374e-59,0.01405582795558607,6.100370473097803,0.08306230962835187,0.010000000000000002,0.17861452923934773,0.27992772690052486]\n",
      "     8     1.581618e+02     1.631219e+41\n",
      " * Current step size: 0.003218987670479391\n",
      " * g(x): [-0.16305203915357086,-0.04007684648892814,1.631219424742198e41,-0.04002764262604303,-1.1879037832374676e-20,-0.01224479922184063,1.2862615011531753,-0.1798022393572407,-0.1037121646345604]\n",
      " * x: [1.0618041816926953,0.11466124065530349,1.1791122546190537e-56,0.014184746656938266,6.100370473097803,0.08305280937439147,0.010000000000000002,0.17831906902520459,0.2797116369009197]\n",
      "     9     1.581618e+02     6.504032e+49\n",
      " * Current step size: 7.216124585730542e-6\n",
      " * g(x): [-0.16297601871795625,-0.04006800095599049,-6.504032107813299e49,-0.040011360503578126,-1.1879037832374676e-20,-0.012176886635079709,1.2859603174094552,-0.17780743194241877,-0.10294088091339632]\n",
      " * x: [1.061805358296524,0.11466152985482075,2.1230887917684657e-65,0.01418503550139433,6.100370473097803,0.08305289773438818,0.010000000000000002,0.17832036650056457,0.27971238530082077]\n",
      "    10     1.581617e+02     1.458961e+47\n",
      " * Current step size: 0.0016234400103753092\n",
      " * g(x): [-0.1460514256665438,-0.03810216483872993,-1.4589605241730027e47,-0.039980245198591495,-1.1879037832374676e-20,0.002970019143170022,1.2401267073089113,0.0969988512178297,0.06863743866286826]\n",
      " * x: [1.0620699400860423,0.11472657785070846,3.4503587260835976e-63,0.014249991544905388,6.100370473097803,0.08307266617935337,0.010000000000000002,0.17860902619972197,0.2798795036455988]\n",
      "Iter     Function value   Gradient norm \n",
      "     0     1.581617e+02     1.458920e+47\n",
      " * Current step size: 1.0\n",
      " * g(x): [-0.1460514256665438,-0.03810216483872993,-1.4589203383562903e47,-0.039980245198591495,-1.1879037832374676e-23,0.002970019143170022,1.248119651733687,0.0969988512178297,0.06863743866286826]\n",
      " * x: [1.0620699400860423,0.11472657785070846,3.4503587260835976e-63,0.014249991544905388,6.100370473097803,0.08307266617935337,0.010000000000000002,0.17860902619972197,0.2798795036455988]\n",
      "     1     1.581617e+02     3.196177e+45\n",
      " * Current step size: 3.2051996613602073e-6\n",
      " * g(x): [-0.14606850287931442,-0.03810414308505117,3.196177233554576e45,-0.03997969190119023,-1.1879037832374676e-23,0.0029541812896015096,1.2481773142893633,0.09668405612030373,0.06845946903275663]\n",
      " * x: [1.0620704082100223,0.1147266999757543,4.045419950627576e-61,0.01425011968957376,6.100370473097803,0.08307265665984902,0.010000000000000002,0.17860871529903688,0.2798792836489037]\n",
      "     2     1.581617e+02     2.243708e+51\n",
      " * Current step size: 1.0734381899264173e-8\n",
      " * g(x): [-0.14606855988256054,-0.03810414968840032,-2.24370813600438e51,-0.039979691548485144,-1.1879037832374676e-23,0.002954128418665103,1.2481774852253784,0.09668306407369665,0.06845887492636005]\n",
      " * x: [1.0620704097779774,0.11472670038477872,4.9455272305031676e-68,0.01425012011873104,6.100370473097803,0.0830726566281377,0.010000000000000002,0.1786087142611933,0.2798792829140336]\n",
      "     3     1.581617e+02     1.377270e+50\n",
      " * Current step size: 3.2050511505192575e-6\n",
      " * g(x): [-0.14608557976649977,-0.03810612129684328,-1.3772703709938868e50,-0.03997978304079312,-1.1879037832374676e-23,0.002938342613368894,1.2482287687857414,0.09637864949529829,0.06828148791414596]\n",
      " * x: [1.0620708779351833,0.11472682251052752,1.3166838601312955e-66,0.014250248255687435,6.100370473097803,0.08307264716000502,0.010000000000000002,0.17860840438702755,0.2798790634998377]\n",
      "     4     1.581617e+02     1.679852e+49\n",
      " * Current step size: 3.204919470783736e-6\n",
      " * g(x): [-0.146102544053143,-0.03810808646516142,1.6798524785258037e49,-0.03997993611899148,-1.1879037832374676e-23,0.0029226073148881926,1.248280527771961,0.09599059309882585,0.06810466689712558]\n",
      " * x: [1.0620713461277023,0.11472694463757761,5.645173597331264e-65,0.01425037638767254,6.100370473097803,0.08307263774285358,0.010000000000000002,0.1786080955012172,0.2798788446631676]\n",
      "     5     1.581617e+02     4.278973e+54\n",
      " * Current step size: 1.4635839626319178e-8\n",
      " * g(x): [-0.1461026212158829,-0.03810809540385243,4.278972727719016e54,-0.03997993549844583,-1.1879037832374676e-23,0.0029225357352805625,1.248280759160187,0.09598925014253123,0.0681038624981829]\n",
      " * x: [1.0620713482660358,0.11472694519532145,7.113724547697872e-70,0.014250376972812473,6.100370473097803,0.08307263770007876,0.010000000000000002,0.17860809409631428,0.2798788436663986]\n",
      "     6     1.581617e+02     7.667612e+58\n",
      " * Current step size: 4.559564713996181e-9\n",
      " * g(x): [-0.1461026452563203,-0.03810809818875068,-7.667612200727888e58,-0.039979935364833144,-1.1879037832374676e-23,0.002922513435296481,1.24828083124792,0.09598883175052109,0.06810361188861386]\n",
      " * x: [1.0620713489322002,0.11472694536907778,1.9022826803316103e-74,0.014250377155103576,6.100370473097803,0.08307263768675327,0.010000000000000002,0.17860809365864508,0.2798788433558746]\n",
      "     7     1.581617e+02     2.570049e+56\n",
      " * Current step size: 3.2047858021455924e-6\n",
      " * g(x): [-0.1461195420689536,-0.038110055542223575,2.5700489395810275e56,-0.039977212906328996,-1.1879037832374676e-23,0.0029068387893796954,1.2481884803109964,0.09965510158061841,0.06792746685013773]\n",
      " * x: [1.0620718171598833,0.1147270674973698,6.425771600163381e-72,0.014250505282232803,6.100370473097803,0.08307262832072371,0.010000000000000002,0.1786077860349999,0.2798786250983861]\n",
      "     8     1.581617e+02     4.053778e+63\n",
      " * Current step size: 8.404363835890851e-9\n",
      " * g(x): [-0.14611958764051877,-0.03811006082079164,-4.0537776360082894e63,-0.0399772125717392,-1.1879037832374676e-23,0.0029067965207537627,1.2481886171016578,0.09965430828662614,0.06792699312714101]\n",
      " * x: [1.0620718183879252,0.11472706781766057,5.541874053375246e-79,0.014250505618215845,6.100370473097803,0.08307262829629358,0.010000000000000002,0.17860778519746218,0.27987862452749895]\n",
      "     9     1.581617e+02     1.255846e+61\n",
      " * Current step size: 3.2050225665116906e-6\n",
      " * g(x): [-0.1461369670932447,-0.03811207388901658,1.2558461351677235e61,-0.039977096878859156,-1.1879037832374676e-23,0.0028906774269782942,1.2482407167204155,0.09935199079324386,0.06774633196145824]\n",
      " * x: [1.062072286704501,0.1147271899612655,2.880508162009361e-76,0.014250633746084283,6.100370473097803,0.08307261897994514,0.010000000000000002,0.17860746580315526,0.27987840681995313]\n",
      "    10     1.581617e+02     9.327716e+65\n",
      " * Current step size: 3.836761594979587e-9\n",
      " * g(x): [-0.14613698783637707,-0.03811207629169104,-9.327716381172238e65,-0.03997709682279056,-1.1879037832374676e-23,0.002890658188331563,1.2482407789852743,0.09935162969700007,0.06774611632360383]\n",
      " * x: [1.0620722872651935,0.11472719010749245,7.979717949311709e-82,0.014250633899466873,6.100370473097803,0.0830726189688543,0.010000000000000002,0.17860746542196534,0.2798784065600266]\n"
     ]
    },
    {
     "data": {
      "text/plain": [
       "Results of Optimization Algorithm\n",
       " * Algorithm: Fminbox with Gradient Descent\n",
       " * Starting Point: [1.0,0.1,0.2,-0.0005,6.1,0.1,0.3,0.1,0.1]\n",
       " * Minimizer: [1.0620722872651935,0.11472719010749245, ...]\n",
       " * Minimum: 1.581617e+02\n",
       " * Iterations: 8\n",
       " * Convergence: true\n",
       "   * |x - x'| < 1.0e-32: false\n",
       "   * |f(x) - f(x')| / |f(x)| < 1.0e-32: true\n",
       "   * |g(x)| < 1.0e-12: false\n",
       "   * Reached Maximum Number of Iterations: true\n",
       " * Objective Function Calls: 1162\n",
       " * Gradient Calls: 1162"
      ]
     },
     "execution_count": 31,
     "metadata": {},
     "output_type": "execute_result"
    }
   ],
   "source": [
    "# Parameters\n",
    "sigma_a = 1; sigma_s = 0.1; sigma_i = 0.2; \n",
    "sigma_a_sbin = sigma_a  # remember we need this copy for Fmatrix\n",
    "lam = -0.0005; B = 6.1; bias = 0.1; \n",
    "phi = 0.3; tau_phi = 0.1; lapse = 0.05*2;\n",
    "params = [sigma_a, sigma_s, sigma_i, lam, B, bias, phi, tau_phi, lapse]\n",
    "\n",
    "l = [0, 0, 0, -5, 5, -5, 0.01, 0.005, 0]\n",
    "u = [200, 200, 30, +5, 25, +5, 1.2, 0.7, 1]\n",
    "\n",
    "# test with max_iteration = 10 \n",
    "res = optimize(d4, params, l, u, Fminbox(); \n",
    "         optimizer = GradientDescent, optimizer_o = Optim.Options(g_tol = 1e-12,\n",
    "                                                                        iterations = 10,\n",
    "                                                                        show_every = true,\n",
    "                                                                        store_trace = true,\n",
    "                                                                        extended_trace = true,\n",
    "                                                                        show_trace = true))\n"
   ]
  },
  {
   "cell_type": "code",
   "execution_count": 32,
   "metadata": {
    "collapsed": false
   },
   "outputs": [
    {
     "data": {
      "text/plain": [
       "Results of Optimization Algorithm\n",
       " * Algorithm: Fminbox with Gradient Descent\n",
       " * Starting Point: [1.0,0.1,0.2,-0.0005,6.1,0.1,0.3,0.1,0.1]\n",
       " * Minimizer: [1.0620722872651935,0.11472719010749245, ...]\n",
       " * Minimum: 1.581617e+02\n",
       " * Iterations: 8\n",
       " * Convergence: true\n",
       "   * |x - x'| < 1.0e-32: false\n",
       "   * |f(x) - f(x')| / |f(x)| < 1.0e-32: true\n",
       "   * |g(x)| < 1.0e-12: false\n",
       "   * Reached Maximum Number of Iterations: true\n",
       " * Objective Function Calls: 1162\n",
       " * Gradient Calls: 1162"
      ]
     },
     "execution_count": 32,
     "metadata": {},
     "output_type": "execute_result"
    }
   ],
   "source": [
    "res"
   ]
  },
  {
   "cell_type": "code",
   "execution_count": 36,
   "metadata": {
    "collapsed": false
   },
   "outputs": [
    {
     "data": {
      "text/plain": [
       "158.1617414864875"
      ]
     },
     "execution_count": 36,
     "metadata": {},
     "output_type": "execute_result"
    }
   ],
   "source": [
    "res.minimizer# res.minimum -> res.minimizer"
   ]
  },
  {
   "cell_type": "code",
   "execution_count": 38,
   "metadata": {
    "collapsed": false
   },
   "outputs": [
    {
     "name": "stdout",
     "output_type": "stream",
     "text": [
      "[:iteration,:value,:g_norm,:metadata]\n"
     ]
    }
   ],
   "source": [
    "history = res;\n",
    "println(fieldnames(history.trace[1]))\n",
    "\n",
    "Gs = zeros(length(history.trace),length(params))\n",
    "Xs = zeros(length(history.trace),length(params))\n",
    "fs = zeros(length(history.trace))\n",
    "\n",
    "for i=1:length(history.trace)\n",
    "    tt = getfield(history.trace[i],:metadata)\n",
    "    fs[i] = getfield(history.trace[i],:value)\n",
    "    Gs[i,:] = tt[\"g(x)\"]\n",
    "    Xs[i,:] = tt[\"x\"]\n",
    "end\n",
    "\n",
    "Gs\n",
    "# getfield(history.trace[1],4)\n",
    "matwrite(\"res_test.mat\", Dict([(\"f\",history.minimum), \n",
    "                                    (\"x_converged\",history.x_converged),\n",
    "                                    (\"f_converged\",history.f_converged),\n",
    "                                    (\"g_converged\",history.g_converged),\n",
    "                                    (\"x_bf\",history.minimizer),\n",
    "                                    (\"grad_trace\",Gs),\n",
    "                                    (\"f_trace\",fs),\n",
    "                                    (\"x_trace\",Xs),\n",
    "                                    (\"myfval\", history.minimum)\n",
    "                                    ]))"
   ]
  },
  {
   "cell_type": "code",
   "execution_count": null,
   "metadata": {
    "collapsed": false
   },
   "outputs": [],
   "source": [
    "res = optimize(DifferentiableFunction(LL_f), params, l, u, autodiff=true, Fminbox(); \n",
    "optimizer = GradientDescent, optimizer_o = OptimizationOptions(g_tol = 1e-12,\n",
    "                                                                        iterations = 10,\n",
    "                                                                        show_every = true,\n",
    "                                                                        store_trace = true,\n",
    "                                                                        extended_trace = true,\n",
    "                                                                        show_trace = true))\n",
    "\n"
   ]
  },
  {
   "cell_type": "code",
   "execution_count": null,
   "metadata": {
    "collapsed": false
   },
   "outputs": [],
   "source": [
    "import LineSearches"
   ]
  },
  {
   "cell_type": "code",
   "execution_count": null,
   "metadata": {
    "collapsed": false,
    "scrolled": true
   },
   "outputs": [],
   "source": [
    "# function LL_h!(params::Vector, grads::Vector)\n",
    "# #     LL, LLgrad, LLhess = llikey(params)\n",
    "#     LL, LLgrad = SumLikey(params, ratdata, ntrials)\n",
    "#     for i=1:length(params)\n",
    "#         grads[i] = LLgrad[i]\n",
    "#     end\n",
    "# end\n",
    "\n",
    "results = Optim.optimize(d, params, NewtonTrustRegion(), Optim.Options(g_tol = 1e-12,\n",
    "                                                                      iterations = 200,\n",
    "                                                                      show_every = true,\n",
    "                                                                      store_trace = true,\n",
    "                                                                      extended_trace = true,\n",
    "                                                                      show_trace = true))\n",
    "\n",
    "\n",
    "# algo_mt = Newton(;linesearch = LineSearches.morethuente!)\n",
    "# results_mt = Optim.optimize(d, params, method=algo_mt)\n",
    "\n",
    "# options = OptimizationOptions(show_trace = true, iterations = 10)\n",
    "# Optim.optimize(d4, params, AcceleratedGradientDescent(), options)\n",
    "\n",
    "# Optim.optimize(DifferentiableFunction(LL_f, LL_g!), params, Newton(), OptimizationOptions(autodiff = true))\n",
    "\n",
    "# results = Optim.optimize(d4, params, Newton())"
   ]
  },
  {
   "cell_type": "code",
   "execution_count": null,
   "metadata": {
    "collapsed": false
   },
   "outputs": [],
   "source": [
    "res.minimum"
   ]
  },
  {
   "cell_type": "code",
   "execution_count": null,
   "metadata": {
    "collapsed": false
   },
   "outputs": [],
   "source": [
    "getfield(results.trace[end],:value)"
   ]
  },
  {
   "cell_type": "code",
   "execution_count": null,
   "metadata": {
    "collapsed": false
   },
   "outputs": [],
   "source": [
    "# include(\"AutodiffModule.jl\")\n",
    "# import AutodiffModule\n",
    "# using MAT\n",
    "# using Optim\n",
    "\n",
    "function main()\n",
    "\n",
    "    server = 0\n",
    "    if server > 0 \n",
    "        ratname = readline(STDIN) #<- $echo $ratname | julia t3.jl  #\"B069\"\n",
    "        ratname = ratname[1:end-1] \n",
    "    else\n",
    "        ratname = \"B069\"\n",
    "    end\n",
    "    \n",
    "    # data import\n",
    "    if server > 0 \n",
    "        mpath = \"/mnt/bucket/people/amyoon/Data/PBupsModel_rawdata/\"\n",
    "    else\n",
    "        mpath = \"./\"\n",
    "    end\n",
    "    ratdata = matread(*(mpath,\"chrono_\",ratname,\"_rawdata.mat\"))\n",
    "\n",
    "    println(\"rawdata of \", ratname, \" imported\" )\n",
    "\n",
    "    saveto_filename = *(\"julia_out_\",ratname,\".mat\")\n",
    "\n",
    "    # number of trials\n",
    "    ntrials = Int(ratdata[\"total_trials\"])\n",
    "\n",
    "    # Parameters\n",
    "    sigma_a = rand()*4.; sigma_s = rand()*4.; sigma_i = rand()*30.; \n",
    "    lam = randn(); B = rand()*20.+5.; bias = randn(); \n",
    "    phi = rand()*1.19+0.01; tau_phi = 0.695*rand()+0.005; lapse = rand();\n",
    "\n",
    "    # sigma_a = 1.; sigma_s = 0.1; sigma_i = 0.2; \n",
    "    # lam = -0.0005; B = 6.1; bias = 0.1; \n",
    "    # phi = 0.3; tau_phi = 0.1; lapse = 0.05*2;\n",
    "    params = [sigma_a, sigma_s, sigma_i, lam, B, bias, phi, tau_phi, lapse]\n",
    "\n",
    "    l = [0.,   0.,   0., -5., 5., -5., 0.01, 0.005, 0.]\n",
    "    u = [200., 200., 30., 5., 25., 5., 1.2,  0.7,   1.]\n",
    "\n",
    "    # @code_warntype SumLikey(params, ratdata, ntrials)\n",
    "\n",
    "    function LL_f(params::Vector)\n",
    "        return AutodiffModule.SumLikey_LL(params, ratdata, ntrials)\n",
    "    end\n",
    "\n",
    "    function LL_g!(params::Vector, grads::Vector)\n",
    "#         LL, LLgrad = AutodiffModule.SumLikey(params, ratdata, ntrials)\n",
    "        LL, LLgrad = SumLikey(params, ratdata, ntrials)        \n",
    "        for i=1:length(params)\n",
    "            grads[i] = LLgrad[i]\n",
    "        end\n",
    "    end\n",
    "\n",
    "    function LL_fg!(params::Vector, grads)\n",
    "#         LL, LLgrad = AutodiffModule.SumLikey(params, ratdata, ntrials)\n",
    "        LL, LLgrad = SumLikey(params, ratdata, ntrials)\n",
    "        for i=1:length(params)\n",
    "            grads[i] = LLgrad[i]\n",
    "        end\n",
    "        return LL\n",
    "    end\n",
    "\n",
    "    d4 = DifferentiableFunction(LL_f,\n",
    "                                LL_g!,\n",
    "                                LL_fg!)\n",
    "\n",
    "    tic()\n",
    "    history = optimize(d4, params, l, u, Fminbox(); \n",
    "             optimizer = GradientDescent, optimizer_o = OptimizationOptions(g_tol = 1e-12,\n",
    "                                                                            x_tol = 1e-10,\n",
    "                                                                            f_tol = 1e-6,\n",
    "                                                                            iterations = 200,\n",
    "                                                                            store_trace = true,\n",
    "                                                                            ))\n",
    "    fit_time = toc()\n",
    "    println(history.minimum)\n",
    "    println(history)\n",
    "\n",
    "    ## do a single functional evaluation at best fit parameters and save likely for each trial\n",
    "    likely_all = zeros(typeof(sigma_i),ntrials)\n",
    "    x_bf = history.minimum\n",
    "    Likely_all_trials(likely_all, x_bf, ratdata, ntrials)\n",
    "\n",
    "    matwrite(saveto_filename, Dict([(\"ratname\",ratname),\n",
    "                                    (\"x_init\",params),\n",
    "                                    (\"trials\",ntrials),\n",
    "                                    (\"history\",history),\n",
    "                                    (\"f\",history.f_minimum), \n",
    "                                    (\"x_converged\",history.x_converged),\n",
    "                                    (\"f_converged\",history.f_converged),\n",
    "                                    (\"g_converged\",history.g_converged),                                    \n",
    "                                    (\"fit_time\",fit_time),\n",
    "                                    (\"x_bf\",history.minimum),\n",
    "                                    (\"myfval\", history.f_minimum),\n",
    "                                    (\"likely\",likely_all)\n",
    "                                    ]))\n",
    "     # hessian?\n",
    "\n",
    "end"
   ]
  },
  {
   "cell_type": "code",
   "execution_count": null,
   "metadata": {
    "collapsed": false
   },
   "outputs": [],
   "source": [
    "main()"
   ]
  },
  {
   "cell_type": "code",
   "execution_count": null,
   "metadata": {
    "collapsed": false
   },
   "outputs": [],
   "source": [
    "0:dx:ceil(4.1/0.25)*dx"
   ]
  },
  {
   "cell_type": "code",
   "execution_count": null,
   "metadata": {
    "collapsed": false
   },
   "outputs": [],
   "source": [
    "aa = -floor(4.1/0.25)*dx:dx:floor(4.1/0.25)*dx\n",
    "collect(aa)"
   ]
  },
  {
   "cell_type": "code",
   "execution_count": null,
   "metadata": {
    "collapsed": false
   },
   "outputs": [],
   "source": [
    "[-aa[end:-1:1]; aa]\n",
    "[-aa; aa]"
   ]
  },
  {
   "cell_type": "code",
   "execution_count": null,
   "metadata": {
    "collapsed": false
   },
   "outputs": [],
   "source": []
  },
  {
   "cell_type": "code",
   "execution_count": null,
   "metadata": {
    "collapsed": false
   },
   "outputs": [],
   "source": [
    "Pkg.status()"
   ]
  },
  {
   "cell_type": "code",
   "execution_count": null,
   "metadata": {
    "collapsed": false
   },
   "outputs": [],
   "source": [
    "sqrt(0)"
   ]
  },
  {
   "cell_type": "code",
   "execution_count": null,
   "metadata": {
    "collapsed": true
   },
   "outputs": [],
   "source": []
  }
 ],
 "metadata": {
  "kernelspec": {
   "display_name": "Julia 0.4.5",
   "language": "julia",
   "name": "julia-0.4"
  },
  "language_info": {
   "file_extension": ".jl",
   "mimetype": "application/julia",
   "name": "julia",
   "version": "0.4.5"
  }
 },
 "nbformat": 4,
 "nbformat_minor": 0
}
