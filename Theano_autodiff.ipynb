{
 "cells": [
  {
   "cell_type": "markdown",
   "metadata": {},
   "source": [
    "# Theano"
   ]
  },
  {
   "cell_type": "code",
   "execution_count": 1,
   "metadata": {
    "collapsed": true
   },
   "outputs": [],
   "source": [
    "# data import\n",
    "import scipy.io\n",
    "ratdata = scipy.io.loadmat('chrono_B069_rawdata.mat')"
   ]
  },
  {
   "cell_type": "code",
   "execution_count": 2,
   "metadata": {
    "collapsed": true
   },
   "outputs": [],
   "source": [
    "# trial index starts from 0 \n",
    "\n",
    "def trialdata(ratdata,trial):\n",
    "    if ratdata['rawdata']['pokedR'][0][trial] > 0 :\n",
    "        rat_choice = 1 # \"R\"\n",
    "    else : \n",
    "        rat_choice = -1 # \"L\"\n",
    "        \n",
    "    RClickTimes = np.require(ratdata['rawdata']['rightbups'][0][trial][0],requirements='A')\n",
    "    LClickTimes = np.require(ratdata['rawdata']['leftbups'][0][trial][0],requirements='A')\n",
    "    T1 = ratdata['rawdata']['T'][0][trial][0][0]\n",
    "    \n",
    "    if np.shape(LClickTimes)[0] == 1:\n",
    "        LClickTimes = [0, LClickTimes]\n",
    "    if np.shape(RClickTimes)[0] == 1:\n",
    "        RClickTimes = [0, RClickTimes]\n",
    "    return  RClickTimes, LClickTimes, T1, rat_choice"
   ]
  },
  {
   "cell_type": "code",
   "execution_count": 3,
   "metadata": {
    "collapsed": true
   },
   "outputs": [],
   "source": [
    "import numpy as np\n",
    "import theano\n",
    "import theano.tensor as T"
   ]
  },
  {
   "cell_type": "code",
   "execution_count": 4,
   "metadata": {
    "collapsed": false
   },
   "outputs": [
    {
     "name": "stdout",
     "output_type": "stream",
     "text": [
      "[ 0.       0.19235  0.34361]\n",
      "0.350959\n",
      "-1\n"
     ]
    }
   ],
   "source": [
    "# trial index starts from 0 \n",
    "RightClickTimes, LeftClickTimes, maxT, rat_choice = trialdata(ratdata, 0) \n",
    "print LeftClickTimes\n",
    "print maxT\n",
    "print rat_choice"
   ]
  },
  {
   "cell_type": "code",
   "execution_count": 29,
   "metadata": {
    "collapsed": true
   },
   "outputs": [],
   "source": [
    "# Global variables \n",
    "epsilon = 10.0**(-10) \n",
    "dx = 0.25\n",
    "dt = 0.02\n",
    "\n",
    "# Parameters\n",
    "sigma_a = 1; sigma_s = 0.1; sigma_i = 0.2; \n",
    "lam = -0.0005; B = 4.1; bias = 0.1; \n",
    "phi = 0.3; tau_phi = 0.1; lapse = 0.05;\n",
    "\n",
    "# Theano shared_variables \n",
    "sigma2_a = theano.shared(sigma_a, name=\"sigma_a\")\n",
    "sigma2_s = theano.shared(sigma_s, name=\"sigma_s\")\n",
    "sigma2_i = theano.shared(sigma_i, name=\"sigma_i\")\n",
    "lam = theano.shared(lam, name=\"lambda\")\n",
    "B = theano.shared(B, name=\"B\")\n",
    "bias = theano.shared(bias, name=\"bias\")\n",
    "phi = theano.shared(phi, name=\"phi\")\n",
    "tau_phi = theano.shared(tau_phi, name=\"tau_phi\")\n",
    "lapse = theano.shared(lapse, name=\"lapse\")\n",
    "\n",
    "params = [sigma2_a, sigma2_s, sigma2_i, lam, B, bias, phi, tau_phi, lapse]"
   ]
  },
  {
   "cell_type": "markdown",
   "metadata": {},
   "source": [
    "## bin_centers = make_bins(B, dx, binN)"
   ]
  },
  {
   "cell_type": "code",
   "execution_count": 6,
   "metadata": {
    "collapsed": true
   },
   "outputs": [],
   "source": [
    "#### make_bins (Theano version)\n",
    "def make_bins(B, dx, binN):\n",
    "    bins = (T.arange(binN)+1)*B\n",
    "    bins = dx*bins/B\n",
    "\n",
    "    tmp = T.scalar()\n",
    "    \n",
    "    bins = T.switch(T.eq(bins[-1],B),\n",
    "                    T.set_subtensor(bins[-1], B+dx),\n",
    "                    T.set_subtensor(bins[-1], 2*B - bins[-2]))\n",
    "    \n",
    "    bins = T.concatenate((-bins[::-1], T.zeros(1), bins))\n",
    "    return bins"
   ]
  },
  {
   "cell_type": "code",
   "execution_count": 7,
   "metadata": {
    "collapsed": false
   },
   "outputs": [
    {
     "data": {
      "text/plain": [
       "[array([-4.2 , -4.  , -3.75, -3.5 , -3.25, -3.  , -2.75, -2.5 , -2.25,\n",
       "        -2.  , -1.75, -1.5 , -1.25, -1.  , -0.75, -0.5 , -0.25,  0.  ,\n",
       "         0.25,  0.5 ,  0.75,  1.  ,  1.25,  1.5 ,  1.75,  2.  ,  2.25,\n",
       "         2.5 ,  2.75,  3.  ,  3.25,  3.5 ,  3.75,  4.  ,  4.2 ]),\n",
       " array(17, dtype=int32)]"
      ]
     },
     "execution_count": 7,
     "metadata": {},
     "output_type": "execute_result"
    }
   ],
   "source": [
    "binN = T.cast(T.ceil(B/dx),'int32')\n",
    "bin_centers = make_bins(B, dx, binN)\n",
    "\n",
    "test_func = theano.function(\n",
    "    inputs=[],\n",
    "    outputs=[bin_centers, binN]\n",
    ")\n",
    "\n",
    "test_func()"
   ]
  },
  {
   "cell_type": "markdown",
   "metadata": {},
   "source": [
    "## F = Fmatrix([sigma, lambda, c], bin_centers)"
   ]
  },
  {
   "cell_type": "code",
   "execution_count": 11,
   "metadata": {
    "collapsed": false
   },
   "outputs": [],
   "source": [
    "def inner_loop(sbin, p, hp, lp, F, bin_centers,j):\n",
    "    dd = bin_centers[hp] - bin_centers[lp]\n",
    "\n",
    "    FF = T.set_subtensor(F[hp,j], F[hp,j]+p*(sbin-bin_centers[lp])/dd)\n",
    "    FF = T.set_subtensor(FF[lp,j], FF[lp,j]+p*(bin_centers[hp]-sbin)/dd)\n",
    "\n",
    "    F_rest = T.switch(T.eq(dd,0),\n",
    "                      T.set_subtensor(F[lp,j], F[lp,j]+p),\n",
    "                      FF)\n",
    "\n",
    "    F = T.switch(T.le(sbin,bin_centers[0]),\n",
    "                      T.set_subtensor(F[0,j], F[0,j]+p),\n",
    "                      F)\n",
    "    F = T.switch(T.ge(sbin,bin_centers[-1]),\n",
    "                      T.set_subtensor(F[-1,j], F[-1,j]+p),\n",
    "                      F)\n",
    "    F = T.switch(T.gt(sbin,bin_centers[0]) & T.lt(sbin,bin_centers[-1]),\n",
    "                      F_rest,\n",
    "                      F)\n",
    "\n",
    "\n",
    "    return F"
   ]
  },
  {
   "cell_type": "code",
   "execution_count": 22,
   "metadata": {
    "collapsed": true
   },
   "outputs": [],
   "source": [
    "def outer_loop(mu,j, F, base_sbins, ps, bin_centers):\n",
    "    sbins = base_sbins + mu\n",
    "\n",
    "    n = bin_centers.shape[0]-1\n",
    "\n",
    "    hps = T.cast(T.ceil( (sbins-bin_centers[1])/dx) +1,'int32')\n",
    "    lps = T.cast(T.floor((sbins-bin_centers[1])/dx) +1,'int32')\n",
    "    \n",
    "    hps = T.set_subtensor(hps[(hps < 0).nonzero()],0)\n",
    "    lps = T.set_subtensor(lps[(lps < 0).nonzero()],0)\n",
    "\n",
    "    hps = T.set_subtensor(hps[(hps > n).nonzero()],n)\n",
    "    lps = T.set_subtensor(lps[(lps > n).nonzero()],n)\n",
    "    \n",
    "    hps = T.set_subtensor(hps[T.and_(bin_centers[0]<sbins, sbins<bin_centers[1]).nonzero()],1)\n",
    "    lps = T.set_subtensor(lps[T.and_(bin_centers[0]<sbins, sbins<bin_centers[1]).nonzero()],0)\n",
    "    \n",
    "    hps = T.set_subtensor(hps[T.and_(bin_centers[-2]<sbins, sbins<bin_centers[-1]).nonzero()],n)\n",
    "    lps = T.set_subtensor(lps[T.and_(bin_centers[-2]<sbins, sbins<bin_centers[-1]).nonzero()],n-1)\n",
    "\n",
    "    hps = T.set_subtensor(hps[(bin_centers[-1]<sbins).nonzero()],n)\n",
    "    lps = T.set_subtensor(lps[(bin_centers[-1]<sbins).nonzero()],n)\n",
    "\n",
    "    hps = T.set_subtensor(hps[(sbins<bin_centers[0]).nonzero()],0)\n",
    "    lps = T.set_subtensor(lps[(sbins<bin_centers[0]).nonzero()],0)\n",
    "\n",
    "    # sequences: sbins, ps, hps, lps // \n",
    "    # prior results: F //\n",
    "    # non-sequences: bin_centers, index j // \n",
    "    results,_ = theano.scan(fn=inner_loop,\n",
    "                           outputs_info = F,\n",
    "                           sequences = [sbins, ps, hps, lps],\n",
    "                           non_sequences = [bin_centers,j]\n",
    "                           )\n",
    "    F = results[-1]\n",
    "\n",
    "    return F"
   ]
  },
  {
   "cell_type": "code",
   "execution_count": 13,
   "metadata": {
    "collapsed": false
   },
   "outputs": [],
   "source": [
    "#### Fmatrix (Theano version)\n",
    "def Fmatrix_i(params, bin_centers):\n",
    "    global dt,dx\n",
    "    sigma2 = params[0]\n",
    "    lam = params[1]\n",
    "    c = params[2]\n",
    "    \n",
    "    sigma2_sbin = sigma2\n",
    "    \n",
    "    F = T.zeros((bin_centers.shape[0],bin_centers.shape[0]),'float32')\n",
    "    \n",
    "    # for Fi (when lambda = 0)\n",
    "    mus = bin_centers*T.exp(lam*dt)\n",
    "\n",
    "#     mus = T.exp(lam*dt)*(bin_centers + c/lam) - c/lam\n",
    "        \n",
    "    tmp = T.ceil(10*T.sqrt(sigma2_sbin)/dx)\n",
    "    n_sbins = T.switch(T.ge(tmp,70),tmp,70)\n",
    "    \n",
    "    swidth = 5*T.sqrt(sigma2_sbin)\n",
    "    sbins = (T.arange(n_sbins)+1)/n_sbins*swidth#np.linspace(-swidth,swidth,n_sbins*2+1)\n",
    "    sbins = T.concatenate((-sbins[::-1], T.zeros(1), sbins))\n",
    "\n",
    "    ps = T.exp(-sbins**2/(2*sigma2)) \n",
    "    ps = ps/T.sum(ps)\n",
    "            \n",
    "    base_sbins = sbins\n",
    "        \n",
    "    # sequences: mus[1:], array(1:binsize) // mus, indices of the outer loop\n",
    "    # prior results: zeros(size(F)) // initialize F as zeros\n",
    "    # non-sequences: base_bins, ps, bin_centers // \n",
    "    res,_ = theano.scan(fn = outer_loop,\n",
    "                      outputs_info = T.zeros_like(F),\n",
    "                      sequences = [mus[1:], T.arange(bin_centers.shape[0]-1)+1],\n",
    "                      non_sequences = [base_sbins, ps, bin_centers]\n",
    "                     )\n",
    "    F = res[-1]\n",
    "    \n",
    "    F = T.set_subtensor(F[:,0], 0)\n",
    "    F = T.set_subtensor(F[:,-1], 0)\n",
    "    F = T.set_subtensor(F[0,0], 1)\n",
    "    F = T.set_subtensor(F[-1,-1], 1)\n",
    "    \n",
    "    return F"
   ]
  },
  {
   "cell_type": "code",
   "execution_count": 14,
   "metadata": {
    "collapsed": false
   },
   "outputs": [],
   "source": [
    "#### Fmatrix (Theano version)\n",
    "def Fmatrix(params, bin_centers):\n",
    "    global dt,dx\n",
    "    sigma2 = params[0]\n",
    "    lam = params[1]\n",
    "    c = params[2]\n",
    "    \n",
    "    sigma2_sbin = sigma2\n",
    "    \n",
    "    F = T.zeros((bin_centers.shape[0],bin_centers.shape[0]),'float32')\n",
    "    \n",
    "#     mus = T.switch(T.eq(lam,0),bin_centers*T.exp(lam*dt),T.exp(lam*dt)*(bin_centers + c/lam) - c/lam)\n",
    "    mus = T.exp(lam*dt)*(bin_centers + c/lam) - c/lam\n",
    "        \n",
    "    tmp = T.ceil(10*T.sqrt(sigma2_sbin)/dx)\n",
    "    n_sbins = T.switch(T.ge(tmp,70),tmp,70)\n",
    "    \n",
    "    swidth = 5*T.sqrt(sigma2_sbin)\n",
    "    sbins = (T.arange(n_sbins)+1)/n_sbins*swidth#np.linspace(-swidth,swidth,n_sbins*2+1)\n",
    "    sbins = T.concatenate((-sbins[::-1], T.zeros(1), sbins))\n",
    "\n",
    "    ps = T.exp(-sbins**2/(2*sigma2)) \n",
    "    ps = ps/T.sum(ps)\n",
    "            \n",
    "    base_sbins = sbins\n",
    "        \n",
    "        \n",
    "    # sequences: mus[1:], array(1:binsize) // mus, indices of the outer loop\n",
    "    # prior results: zeros(size(F)) // initialize F as zeros\n",
    "    # non-sequences: base_bins, ps, bin_centers // \n",
    "    res,_ = theano.scan(fn = outer_loop,\n",
    "                      outputs_info = T.zeros_like(F),\n",
    "                      sequences = [mus[1:], T.arange(bin_centers.shape[0]-1)+1],\n",
    "                      non_sequences = [base_sbins, ps, bin_centers]\n",
    "                     )\n",
    "    F = res[-1]\n",
    "    \n",
    "    F = T.set_subtensor(F[:,0], 0)\n",
    "    F = T.set_subtensor(F[:,-1], 0)\n",
    "    F = T.set_subtensor(F[0,0], 1)\n",
    "    F = T.set_subtensor(F[-1,-1], 1)\n",
    "    \n",
    "    return F"
   ]
  },
  {
   "cell_type": "code",
   "execution_count": 17,
   "metadata": {
    "collapsed": false
   },
   "outputs": [
    {
     "data": {
      "text/plain": [
       "array([[ 1.        ,  0.41181999,  0.218907  , ...,  0.        ,\n",
       "         0.        ,  0.        ],\n",
       "       [ 0.        ,  0.19714171,  0.1721313 , ...,  0.        ,\n",
       "         0.        ,  0.        ],\n",
       "       [ 0.        ,  0.18722765,  0.21792339, ...,  0.        ,\n",
       "         0.        ,  0.        ],\n",
       "       ..., \n",
       "       [ 0.        ,  0.        ,  0.        , ...,  0.21792339,\n",
       "         0.18722765,  0.        ],\n",
       "       [ 0.        ,  0.        ,  0.        , ...,  0.1721313 ,\n",
       "         0.19714172,  0.        ],\n",
       "       [ 0.        ,  0.        ,  0.        , ...,  0.21890698,\n",
       "         0.41181993,  1.        ]], dtype=float32)"
      ]
     },
     "execution_count": 17,
     "metadata": {},
     "output_type": "execute_result"
    }
   ],
   "source": [
    "Fi= Fmatrix_i([sigma2_i, 0, 0.0], bin_centers)\n",
    " \n",
    "\n",
    "test_func = theano.function(\n",
    "    inputs=[],\n",
    "    outputs=Fi\n",
    ")\n",
    "\n",
    "test_func()"
   ]
  },
  {
   "cell_type": "code",
   "execution_count": 19,
   "metadata": {
    "collapsed": false
   },
   "outputs": [
    {
     "data": {
      "text/plain": [
       "array([[ 1.        ,  0.46112511,  0.36500674, ...,  0.        ,\n",
       "         0.        ,  0.        ],\n",
       "       [ 0.        ,  0.09084516,  0.08595917, ...,  0.        ,\n",
       "         0.        ,  0.        ],\n",
       "       [ 0.        ,  0.09459484,  0.10083522, ...,  0.        ,\n",
       "         0.        ,  0.        ],\n",
       "       ..., \n",
       "       [ 0.        ,  0.        ,  0.        , ...,  0.09992243,\n",
       "         0.09525968,  0.        ],\n",
       "       [ 0.        ,  0.        ,  0.        , ...,  0.0863713 ,\n",
       "         0.09014276,  0.        ],\n",
       "       [ 0.        ,  0.        ,  0.        , ...,  0.36821347,\n",
       "         0.46453354,  1.        ]], dtype=float32)"
      ]
     },
     "execution_count": 19,
     "metadata": {},
     "output_type": "execute_result"
    }
   ],
   "source": [
    "F= Fmatrix([1.0000 ,0.1, 0.2], bin_centers)\n",
    " \n",
    "\n",
    "test_func = theano.function(\n",
    "    inputs=[],\n",
    "    outputs=F\n",
    ")\n",
    "\n",
    "test_func()"
   ]
  },
  {
   "cell_type": "markdown",
   "metadata": {},
   "source": [
    "## LL = logProbRight(params)\n",
    "\n",
    "params = [sigma_a, sigma_s, sigma_i, lambda, B, bias, phi, tau_phi, lapse]"
   ]
  },
  {
   "cell_type": "code",
   "execution_count": 57,
   "metadata": {
    "collapsed": false
   },
   "outputs": [
    {
     "name": "stdout",
     "output_type": "stream",
     "text": [
      "1 - LL : -2.53525610612, grad : [         nan          nan          nan          nan          nan\n",
      "   0.98222984          nan          nan  11.7996249 ]\n",
      "2 - LL : -0.240068572614, grad : [        nan         nan         nan         nan         nan -0.35468174\n",
      "         nan         nan -0.8096263 ]\n",
      "3 - LL : -0.0531115731168, grad : [        nan         nan         nan         nan         nan -0.00750378\n",
      "         nan         nan -1.050503  ]\n",
      "Done.\n"
     ]
    }
   ],
   "source": [
    "def logLike(params, RightClickTimes, LeftClickTimes, Time_bins, rat_choice):\n",
    "    LP_right = logProbRight(params, RightClickTimes, LeftClickTimes, Time_bins)\n",
    "\n",
    "    return T.switch(T.gt(rat_choice,0),\n",
    "                    LP_right,\n",
    "                    T.log(1-T.exp(LP_right)))\n",
    "    \n",
    "def logProbRight(params, RightClickTimes, LeftClickTimes, Time_bins):\n",
    "    \"\"\"\n",
    "    :params : arrays of parameters\n",
    "    : sigma2_a\n",
    "    : sigma2_s\n",
    "    : sigma2_i\n",
    "    : lam \n",
    "    : B\n",
    "    : bias\n",
    "    : phi\n",
    "    : tau_phi\n",
    "    : lapse\n",
    "    \"\"\"\n",
    "\n",
    "    sigma2_a = params[0]\n",
    "    sigma2_s = params[1]\n",
    "    sigma2_i = params[2]\n",
    "    lam = params[3]\n",
    "    B = params[4]\n",
    "    bias = params[5]\n",
    "    phi = params[6]\n",
    "    tau_phi = params[7]\n",
    "    lapse = params[8]\n",
    "    \n",
    "    pright = T.dscalar()\n",
    "    \n",
    "        \n",
    "    # ==== inter-click-intervals and Make adapted clicks\n",
    "    \n",
    "    net_input = T.vector(\"net_input\")\n",
    "    total_input = T.vector(\"total_input\")\n",
    "\n",
    "\n",
    "    # :: can be integrated with one function\n",
    "    \n",
    "    # sequences: T.extra_ops.diff(LeftClickTimes) // inter-click-intervals\n",
    "    # prior results: lsame (0) // initial value\n",
    "    # non-sequences: phi, tau_phi // parameters\n",
    "    \n",
    "    Lsame, updates = theano.scan(lambda ici, lsame, phi, tau_phi :\n",
    "                                     1-T.exp((tau_phi*T.log(1-lsame*phi)-ici)/tau_phi),\n",
    "                                  outputs_info = T.zeros(1),\n",
    "                                  sequences=[T.extra_ops.diff(LeftClickTimes)],\n",
    "                                  non_sequences=[phi, tau_phi]\n",
    "                                  )\n",
    "    Rsame, updates = theano.scan(lambda ici, rsame, phi, tau_phi : \n",
    "                                 1-T.exp((tau_phi*T.log(1-rsame*phi)-ici)/tau_phi),\n",
    "                                  outputs_info = T.zeros(1),\n",
    "                                  sequences=[T.extra_ops.diff(RightClickTimes)],\n",
    "                                  non_sequences=[phi, tau_phi]\n",
    "                                  )\n",
    "\n",
    "    Lsame = T.concatenate([T.zeros(1, dtype=Lsame.dtype), Lsame[:,0]],axis=0)\n",
    "    Rsame = T.concatenate([T.zeros(1, dtype=Rsame.dtype), Rsame[:,0]],axis=0)\n",
    "\n",
    "    L_here =  T.cast(T.floor((LeftClickTimes+epsilon)/dt),'int32')\n",
    "    R_here =  T.cast(T.floor((RightClickTimes+epsilon)/dt),'int32')\n",
    "\n",
    "    dtype=theano.config.floatX\n",
    "\n",
    "    template = T.vector('template')\n",
    "\n",
    "    ## ==== Collect the adapted click values\n",
    "    # index starts from 0\n",
    "    # net_input / total_input\n",
    "\n",
    "    # sequences: T.floor((LeftClickTimes+epsilon)/dt) // location\n",
    "    # prior results: zeros // initial value\n",
    "    # non-sequences: Lsame // parameters\n",
    "    net_input_l, updates = theano.scan(lambda lhere,lsame, tmp :\n",
    "                                     T.set_subtensor(tmp[lhere],tmp[lhere]+lsame),\n",
    "                                  outputs_info = T.zeros_like(Time_bins),\n",
    "                                  sequences = [L_here, Lsame]\n",
    "                                  )\n",
    "    net_input_r, updates = theano.scan(lambda rhere,rsame, tmp :\n",
    "                                     T.set_subtensor(tmp[rhere],tmp[rhere]+rsame),\n",
    "                                  outputs_info = T.zeros_like(Time_bins),\n",
    "                                  sequences = [R_here, Rsame]\n",
    "                                  )\n",
    "\n",
    "    net_input = net_input_r[-1] - net_input_l[-1]\n",
    "    total_input = net_input_r[-1] + net_input_l[-1]\n",
    "    \n",
    "    ## ==== make bins\n",
    "    binN = T.cast(T.ceil(B/dx),'int32')\n",
    "    bin_centers = make_bins(B,dx,binN)\n",
    "        \n",
    "    ## ==== make P init\n",
    "    a0 = T.zeros_like(bin_centers)\n",
    "    a0 = T.set_subtensor(a0[binN],1-2*lapse)\n",
    "    a0 = T.set_subtensor(a0[0],lapse)\n",
    "    a0 = T.set_subtensor(a0[-1],lapse)\n",
    "    \n",
    "    ## ==== Fi\n",
    "    Fi = Fmatrix_i([sigma2_i, 0, 0.0], bin_centers)\n",
    "    \n",
    "    a = T.dot(Fi,a0)\n",
    " \n",
    "    F0 = Fmatrix([sigma2_a*dt, lam, 0.0], bin_centers)\n",
    "    \n",
    "    \n",
    "    def a_tracing(tot_input, net_input, a, F0, bin_centers, sigma2_a, sigma2_s, lam):\n",
    "        total_var = sigma2_a*dt + (sigma2_s*tot_input)/40\n",
    "        F = Fmatrix([total_var, lam, net_input/dt], bin_centers)\n",
    "        a_rest = T.dot(F,a)\n",
    "        \n",
    "        a = T.switch(T.eq(tot_input,0),\n",
    "                     T.dot(F0,a),\n",
    "                     a_rest\n",
    "                     )\n",
    "        \n",
    "        return a\n",
    "        \n",
    "    # sequences: T.floor((LeftClickTimes+epsilon)/dt) // location\n",
    "    # prior results: zeros // initial value\n",
    "    # non-sequences: Lsame // parameters\n",
    "    res, _ = theano.scan(fn = a_tracing,\n",
    "                             outputs_info = a,\n",
    "                             sequences = [total_input[:-1], net_input[:-1]],\n",
    "                             non_sequences = [F0,bin_centers,sigma2_a,sigma2_s,lam]\n",
    "                        )\n",
    "\n",
    "    a = res[-1]\n",
    "    \n",
    "    bias_hp = T.cast(T.ceil((bias-bin_centers[1])/dx) + 1,'int32') # top\n",
    "    bias_lp = T.cast(T.floor((bias-bin_centers[1])/dx) + 1,'int32')\n",
    "    \n",
    "    Pd = T.zeros_like(bin_centers)\n",
    "    Pd = T.set_subtensor(Pd[-bias_hp+1:],a[-bias_hp+1:])\n",
    "    \n",
    "    dh = bin_centers[bias_hp] - bias\n",
    "    dl = bias - bin_centers[bias_lp]\n",
    "    dd = dh + dl\n",
    "    \n",
    "    Pd_rest = T.set_subtensor(Pd[bias_hp],a[bias_hp]*(0.5+dh/dd/2))\n",
    "    Pd_rest = T.set_subtensor(Pd_rest[bias_lp],a[bias_lp]*(dh/dd/2))\n",
    "    \n",
    "    Pd = T.switch(T.eq(bias_hp,bias_lp),\n",
    "                  T.set_subtensor(Pd[bias_lp],a[bias_lp]/2),\n",
    "                 Pd_rest)\n",
    "    \n",
    "    pright = T.sum(Pd)\n",
    "    \n",
    "    return T.log(pright)\n",
    "    \n",
    "# =========== Declare Theano symbolic variables =========== #\n",
    "## inputs\n",
    "RightClickTimes = T.dvector(\"RightClickTimes\") # Right Clicks\n",
    "LeftClickTimes = T.dvector(\"LeftClickTimes\") # Left Clicks\n",
    "Time_bins = T.vector(\"Time_bins\") # Time_bins\n",
    "rat_choice = T.wscalar(\"rat_choice\") # rat_choice\n",
    "\n",
    "# ==================== Construct Model ========================= #\n",
    "\n",
    "LL = logLike(params, RightClickTimes, LeftClickTimes, Time_bins, rat_choice)\n",
    "# grads = T.grad(LL,bias)\n",
    "grads = []\n",
    "for param in params:\n",
    "    grad = T.grad(LL, param)\n",
    "    grads.append(grad)\n",
    "\n",
    "out_grads = T.stack(*grads)\n",
    "    \n",
    "l_rate = 0.1\n",
    "updates = []\n",
    "for param, grads in zip(params,grads):\n",
    "    updates.append((param, param - grad * l_rate))\n",
    "\n",
    "practice_train = theano.function(\n",
    "    inputs = [RightClickTimes, LeftClickTimes, Time_bins, rat_choice],\n",
    "    outputs = [LL, out_grads]\n",
    ")\n",
    "\n",
    "    \n",
    "total_LL = 0.\n",
    "\n",
    "# Training cycle\n",
    "for i in range(3):\n",
    "    RClickTimes1, LClickTimes1, maxT1, rat_choice1 = trialdata(ratdata, i)\n",
    "    np_Nstep = int(np.ceil(maxT1/dt))\n",
    "    np_empty_tmp = np.zeros((np_Nstep), dtype=None)\n",
    "\n",
    "    [LLi, gradi] = practice_train(RClickTimes1, LClickTimes1, np_empty_tmp, rat_choice1)\n",
    "\n",
    "    total_LL += LLi\n",
    "\n",
    "    print str(i+1)+ \" - LL : \" + str(LLi) + \", grad : \" + str(gradi)\n",
    "\n",
    "\n",
    "#     print \"Trial :\", '%04d' % (i+1), \"LL = \", \"{:.9f}\".format(total_LL)\n",
    "\n",
    "print \"Done.\"\n"
   ]
  },
  {
   "cell_type": "code",
   "execution_count": 55,
   "metadata": {
    "collapsed": false
   },
   "outputs": [
    {
     "name": "stdout",
     "output_type": "stream",
     "text": [
      "1 - LL : -2.53525610612, grad : nan, nan, nan, nan, nan, 0.982229838835, nan, nan, 11.7996248966\n",
      "2 - LL : -0.240068572614, grad : nan, nan, nan, nan, nan, -0.354681742035, nan, nan, -0.809626304237\n",
      "3 - LL : -0.0531115731168, grad : nan, nan, nan, nan, nan, -0.00750377653089, nan, nan, -1.05050300257\n",
      "4 - LL : -2.83579155537, grad : nan, nan, nan, nan, nan, -0.489470602281, nan, nan, 16.7154290466\n",
      "5 - LL : -0.186951986201, grad : nan, nan, nan, nan, nan, 0.322187832741, nan, nan, -0.882700667007\n",
      "6 - LL : -1.20052273434, grad : nan, nan, nan, nan, nan, -1.23899377678, nan, nan, 1.46872546171\n",
      "7 - LL : -0.0512972358982, grad : nan, nan, nan, nan, nan, 1.57516917233e-05, nan, nan, -1.05262696898\n",
      "8 - LL : -0.0513274642198, grad : nan, nan, nan, nan, nan, -0.000151265836819, nan, nan, -1.05259161355\n",
      "9 - LL : -1.4896305146, grad : nan, nan, nan, nan, nan, 1.63599930791, nan, nan, 2.70606264428\n",
      "10 - LL : -0.0713735568108, grad : nan, nan, nan, nan, nan, -0.0546409493745, nan, nan, -1.02890850626\n",
      "11 - LL : -0.979718758989, grad : nan, nan, nan, nan, nan, -1.1457603773, nan, nan, 0.737452214363\n",
      "12 - LL : -0.0515012016706, grad : nan, nan, nan, nan, nan, 0.000749834355577, nan, nan, -1.05238838725\n",
      "13 - LL : -0.244442007701, grad : nan, nan, nan, nan, nan, 0.441359984142, nan, nan, -0.803434878653\n",
      "14 - LL : -2.94919279661, grad : nan, nan, nan, nan, nan, 0.196531249191, nan, nan, 18.9894861783\n",
      "15 - LL : -0.542772630183, grad : nan, nan, nan, nan, nan, -0.803505770411, nan, nan, -0.310254092681\n",
      "16 - LL : -0.0513611903175, grad : nan, nan, nan, nan, nan, 0.000270624542111, nan, nan, -1.05255216581\n",
      "17 - LL : -0.0532301545946, grad : nan, nan, nan, nan, nan, -0.00714456068117, nan, nan, -1.05036405014\n",
      "18 - LL : -1.01690648472, grad : nan, nan, nan, nan, nan, 1.30616248679, nan, nan, 0.849587888261\n",
      "19 - LL : -0.0520756615757, grad : nan, nan, nan, nan, nan, 0.00297994031432, nan, nan, -1.05171617156\n",
      "20 - LL : -0.162860320651, grad : nan, nan, nan, nan, nan, -0.291803495318, nan, nan, -0.914586340609\n",
      "21 - LL : -0.0532741293723, grad : nan, nan, nan, nan, nan, -0.00874928788744, nan, nan, -1.0503125168\n",
      "22 - LL : -2.99530324698, grad : nan, nan, nan, nan, nan, -0.00175535616449, nan, nan, 19.990468121\n",
      "23 - LL : -0.797323944961, grad : nan, nan, nan, nan, nan, 1.11732081512, nan, nan, 0.243992466914\n",
      "24 - LL : -1.39407686843, grad : nan, nan, nan, nan, nan, -1.2549913236, nan, nan, 2.25694608769\n",
      "25 - LL : -0.0671278847861, grad : nan, nan, nan, nan, nan, 0.0453414918455, nan, nan, -1.03396418495\n",
      "26 - LL : -0.0512951210377, grad : nan, nan, nan, nan, nan, 7.38084050121e-06, nan, nan, -1.05262944251\n",
      "27 - LL : -0.0945154790448, grad : nan, nan, nan, nan, nan, -0.149928872757, nan, nan, -1.00097091508\n",
      "Done.\n"
     ]
    }
   ],
   "source": [
    "grads = T.grad(LL,params)\n",
    "out_grads = T.stack(*grads)\n",
    "\n",
    "# -> correct\n",
    "# grads = []\n",
    "# for param in params:\n",
    "#     grad = T.grad(LL, param)\n",
    "#     grads.append(grad)\n",
    "\n",
    "# -> correct\n",
    "# grads = [T.grad(LL,param) for param in params]\n",
    "\n",
    "# l_rate = 0.1\n",
    "# updates = []\n",
    "# for param, grads in zip(params,grads):\n",
    "#     updates.append((param, param - grad * l_rate))\n",
    "\n",
    "practice_train = theano.function(\n",
    "    inputs = [RightClickTimes, LeftClickTimes, Time_bins, rat_choice],\n",
    "    outputs = [LL, out_grads]\n",
    ")\n",
    "\n",
    "    \n",
    "total_LL = 0.\n",
    "\n",
    "# Training cycle\n",
    "for i in range(27):\n",
    "    RClickTimes1, LClickTimes1, maxT1, rat_choice1 = trialdata(ratdata, i)\n",
    "    np_Nstep = int(np.ceil(maxT1/dt))\n",
    "    np_empty_tmp = np.zeros((np_Nstep), dtype=None)\n",
    "\n",
    "    [LLi, gradi] = practice_train(RClickTimes1, LClickTimes1, np_empty_tmp, rat_choice1)\n",
    "\n",
    "    total_LL += LLi\n",
    "\n",
    "    print(str(i+1)+ \" - LL : \" + str(LLi) + \", grad : \" + str(gradi[0]) + ', ' + str(gradi[1]) + ', '+ str(gradi[2]) \n",
    "+ ', '+ str(gradi[3]) + ', '+ str(gradi[4]) + ', '+ str(gradi[5]) + ', '+ str(gradi[6]) + ', '\n",
    "+ str(gradi[7]) + ', '+ str(gradi[8]))\n",
    "\n",
    "\n",
    "\n",
    "#     print \"Trial :\", '%04d' % (i+1), \"LL = \", \"{:.9f}\".format(total_LL)\n",
    "\n",
    "print \"Done.\"\n",
    "\n"
   ]
  },
  {
   "cell_type": "code",
   "execution_count": 23,
   "metadata": {
    "collapsed": false
   },
   "outputs": [
    {
     "name": "stdout",
     "output_type": "stream",
     "text": [
      "1 - LL : -2.53525610612\n",
      "2 - LL : -0.240068572614\n",
      "3 - LL : -0.0531115731168\n",
      "4 - LL : -2.83579155537\n",
      "5 - LL : -0.186951986201\n",
      "6 - LL : -1.20052273434\n",
      "7 - LL : -0.0512972358982\n",
      "8 - LL : -0.0513274642198\n",
      "9 - LL : -1.4896305146\n",
      "10 - LL : -0.0713735568108\n",
      "11 - LL : -0.979718758989\n",
      "12 - LL : -0.0515012016706\n",
      "13 - LL : -0.244442007701\n",
      "14 - LL : -2.94919279661\n",
      "15 - LL : -0.542772630183\n",
      "16 - LL : -0.0513611903175\n",
      "17 - LL : -0.0532301545946\n",
      "18 - LL : -1.01690648472\n",
      "19 - LL : -0.0520756615757\n",
      "20 - LL : -0.162860320651\n",
      "21 - LL : -0.0532741293723\n",
      "22 - LL : -2.99530324698\n",
      "23 - LL : -0.797323944961\n",
      "24 - LL : -1.39407686843\n",
      "25 - LL : -0.0671278847861\n",
      "26 - LL : -0.0512951210377\n",
      "27 - LL : -0.0945154790448\n",
      "Done.\n"
     ]
    }
   ],
   "source": [
    "\n",
    "total_LL = 0.\n",
    "\n",
    "# Training cycle\n",
    "for i in range(27):\n",
    "    RClickTimes1, LClickTimes1, maxT1, rat_choice1 = trialdata(ratdata, i)\n",
    "    np_Nstep = int(np.ceil(maxT1/dt))\n",
    "    np_empty_tmp = np.zeros((np_Nstep), dtype=None)\n",
    "\n",
    "    LLi = practice_train(RClickTimes1, LClickTimes1, np_empty_tmp, rat_choice1)\n",
    "\n",
    "    total_LL += LLi\n",
    "\n",
    "    print(str(i+1)+ \" - LL : \" + str(LLi))\n",
    "\n",
    "print \"Done.\"\n",
    "\n"
   ]
  },
  {
   "cell_type": "markdown",
   "metadata": {
    "collapsed": true
   },
   "source": [
    "\n",
    "## Backwards"
   ]
  },
  {
   "cell_type": "code",
   "execution_count": null,
   "metadata": {
    "collapsed": true
   },
   "outputs": [],
   "source": [
    "def logLike(params, RightClickTimes, LeftClickTimes, Time_bins, rat_choice):\n",
    "    LP_right = logProbRight(params, RightClickTimes, LeftClickTimes, Time_bins)\n",
    "\n",
    "    return T.switch(T.gt(rat_choice,0),\n",
    "                    LP_right,\n",
    "                    T.log(1-T.exp(LP_right)))\n",
    "    \n",
    "def logProbRight(params, RightClickTimes, LeftClickTimes, Time_bins):\n",
    "    \"\"\"\n",
    "    :params : arrays of parameters\n",
    "    : sigma2_a\n",
    "    : sigma2_s\n",
    "    : sigma2_i\n",
    "    : lam \n",
    "    : B\n",
    "    : bias\n",
    "    : phi\n",
    "    : tau_phi\n",
    "    : lapse\n",
    "    \"\"\"\n",
    "\n",
    "    sigma2_a = params[0]\n",
    "    sigma2_s = params[1]\n",
    "    sigma2_i = params[2]\n",
    "    lam = params[3]\n",
    "    B = params[4]\n",
    "    bias = params[5]\n",
    "    phi = params[6]\n",
    "    tau_phi = params[7]\n",
    "    lapse = params[8]\n",
    "    \n",
    "    pright = T.dscalar()\n",
    "    \n",
    "        \n",
    "    # ==== inter-click-intervals and Make adapted clicks\n",
    "    \n",
    "    net_input = T.vector(\"net_input\")\n",
    "    total_input = T.vector(\"total_input\")\n",
    "\n",
    "\n",
    "    # :: can be integrated with one function\n",
    "    \n",
    "    # sequences: T.extra_ops.diff(LeftClickTimes) // inter-click-intervals\n",
    "    # prior results: lsame (0) // initial value\n",
    "    # non-sequences: phi, tau_phi // parameters\n",
    "    \n",
    "    Lsame, updates = theano.scan(lambda ici, lsame, phi, tau_phi :\n",
    "                                     1-T.exp((tau_phi*T.log(1-lsame*phi)-ici)/tau_phi),\n",
    "                                  outputs_info = T.zeros(1),\n",
    "                                  sequences=[T.extra_ops.diff(LeftClickTimes)],\n",
    "                                  non_sequences=[phi, tau_phi]\n",
    "                                  )\n",
    "    Rsame, updates = theano.scan(lambda ici, rsame, phi, tau_phi : \n",
    "                                 1-T.exp((tau_phi*T.log(1-rsame*phi)-ici)/tau_phi),\n",
    "                                  outputs_info = T.zeros(1),\n",
    "                                  sequences=[T.extra_ops.diff(RightClickTimes)],\n",
    "                                  non_sequences=[phi, tau_phi]\n",
    "                                  )\n",
    "\n",
    "    Lsame = T.concatenate([T.zeros(1, dtype=Lsame.dtype), Lsame[:,0]],axis=0)\n",
    "    Rsame = T.concatenate([T.zeros(1, dtype=Rsame.dtype), Rsame[:,0]],axis=0)\n",
    "\n",
    "    L_here =  T.cast(T.floor((LeftClickTimes+epsilon)/dt),'int32')\n",
    "    R_here =  T.cast(T.floor((RightClickTimes+epsilon)/dt),'int32')\n",
    "\n",
    "    dtype=theano.config.floatX\n",
    "\n",
    "    template = T.vector('template')\n",
    "\n",
    "    ## ==== Collect the adapted click values\n",
    "    # index starts from 0\n",
    "    # net_input / total_input\n",
    "\n",
    "    # sequences: T.floor((LeftClickTimes+epsilon)/dt) // location\n",
    "    # prior results: zeros // initial value\n",
    "    # non-sequences: Lsame // parameters\n",
    "    net_input_l, updates = theano.scan(lambda lhere,lsame, tmp :\n",
    "                                     T.set_subtensor(tmp[lhere],tmp[lhere]+lsame),\n",
    "                                  outputs_info = T.zeros_like(Time_bins),\n",
    "                                  sequences = [L_here, Lsame]\n",
    "                                  )\n",
    "    net_input_r, updates = theano.scan(lambda rhere,rsame, tmp :\n",
    "                                     T.set_subtensor(tmp[rhere],tmp[rhere]+rsame),\n",
    "                                  outputs_info = T.zeros_like(Time_bins),\n",
    "                                  sequences = [R_here, Rsame]\n",
    "                                  )\n",
    "\n",
    "    net_input = net_input_r[-1] - net_input_l[-1]\n",
    "    total_input = net_input_r[-1] + net_input_l[-1]\n",
    "    \n",
    "    ## ==== make bins\n",
    "    binN = T.cast(T.ceil(B/dx),'int32')\n",
    "    bin_centers = make_bins(B,dx,binN)\n",
    "        \n",
    "    ## ==== make P init\n",
    "    a0 = T.zeros_like(bin_centers)\n",
    "    a0 = T.set_subtensor(a0[binN],1-2*lapse)\n",
    "    a0 = T.set_subtensor(a0[0],lapse)\n",
    "    a0 = T.set_subtensor(a0[-1],lapse)\n",
    "    \n",
    "    ## ==== Fi\n",
    "    Fi = Fmatrix_i([sigma2_i, 0, 0.0], bin_centers)\n",
    "    \n",
    "    a = T.dot(Fi,a0)\n",
    " \n",
    "    F0 = Fmatrix([sigma2_a*dt, lam, 0.0], bin_centers)\n",
    "    \n",
    "    \n",
    "    def a_tracing(tot_input, net_input, a, F0, bin_centers, sigma2_a, sigma2_s, lam):\n",
    "        total_var = sigma2_a*dt + (sigma2_s*tot_input)/40\n",
    "        F = Fmatrix([total_var, lam, net_input/dt], bin_centers)\n",
    "        a_rest = T.dot(F,a)\n",
    "        \n",
    "        a = T.switch(T.eq(tot_input,0),\n",
    "                     T.dot(F0,a),\n",
    "                     a_rest\n",
    "                     )\n",
    "        \n",
    "        return a\n",
    "        \n",
    "    # sequences: T.floor((LeftClickTimes+epsilon)/dt) // location\n",
    "    # prior results: zeros // initial value\n",
    "    # non-sequences: Lsame // parameters\n",
    "    res, _ = theano.scan(fn = a_tracing,\n",
    "                             outputs_info = a,\n",
    "                             sequences = [total_input[:-1], net_input[:-1]],\n",
    "                             non_sequences = [F0,bin_centers,sigma2_a,sigma2_s,lam]\n",
    "                        )\n",
    "\n",
    "    a = res[-1]\n",
    "    a_trace = res\n",
    "    \n",
    "    bias_hp = T.cast(T.ceil((bias-bin_centers[1])/dx) + 1,'int32') # top\n",
    "    bias_lp = T.cast(T.floor((bias-bin_centers[1])/dx) + 1,'int32')\n",
    "    \n",
    "    Pd = T.zeros_like(bin_centers)\n",
    "    Pd = T.set_subtensor(Pd[-bias_hp+1:],a[-bias_hp+1:])\n",
    "    \n",
    "    dh = bin_centers[bias_hp] - bias\n",
    "    dl = bias - bin_centers[bias_lp]\n",
    "    dd = dh + dl\n",
    "    \n",
    "    Pd_rest = T.set_subtensor(Pd[bias_hp],a[bias_hp]*(0.5+dh/dd/2))\n",
    "    Pd_rest = T.set_subtensor(Pd_rest[bias_lp],a[bias_lp]*(dh/dd/2))\n",
    "    \n",
    "    Pd = T.switch(T.eq(bias_hp,bias_lp),\n",
    "                  T.set_subtensor(Pd[bias_lp],a[bias_lp]/2),\n",
    "                 Pd_rest)\n",
    "    \n",
    "    pright = T.sum(Pd)\n",
    "    \n",
    "    return T.log(pright)\n",
    "    \n",
    "# =========== Declare Theano symbolic variables =========== #\n",
    "## inputs\n",
    "RightClickTimes = T.dvector(\"RightClickTimes\") # Right Clicks\n",
    "LeftClickTimes = T.dvector(\"LeftClickTimes\") # Left Clicks\n",
    "Time_bins = T.vector(\"Time_bins\") # Time_bins\n",
    "rat_choice = T.wscalar(\"rat_choice\") # rat_choice\n",
    "\n",
    "# ==================== Construct Model ========================= #\n",
    "\n",
    "LL = logLike(params, RightClickTimes, LeftClickTimes, Time_bins, rat_choice)\n",
    "\n",
    "# grads = []\n",
    "# for param in params:\n",
    "#     grad = T.grad(LL, param)\n",
    "#     grads.append(grad)\n",
    "\n",
    "# out_grads = T.stack(*grads)\n",
    "    \n",
    "# l_rate = 0.1\n",
    "# updates = []\n",
    "# for param, grads in zip(params,grads):\n",
    "#     updates.append((param, param - grad * l_rate))\n",
    "\n",
    "practice_train = theano.function(\n",
    "    inputs = [RightClickTimes, LeftClickTimes, Time_bins, rat_choice],\n",
    "    outputs = LL#[LL, out_grads]\n",
    ")\n",
    "\n",
    "    \n",
    "total_LL = 0.\n",
    "\n",
    "# Training cycle\n",
    "for i in range(3):\n",
    "    RClickTimes1, LClickTimes1, maxT1, rat_choice1 = trialdata(ratdata, i)\n",
    "    np_Nstep = int(np.ceil(maxT1/dt))\n",
    "    np_empty_tmp = np.zeros((np_Nstep), dtype=None)\n",
    "\n",
    "    LLi = practice_train(RClickTimes1, LClickTimes1, np_empty_tmp, rat_choice1)\n",
    "\n",
    "    total_LL += LLi\n",
    "\n",
    "    print str(i+1)+ \" - LL : \" + str(LLi)\n",
    "#     print str(i+1)+ \" - LL : \" + str(LLi) + \", grad : \" + str(gradi)\n",
    "\n",
    "\n",
    "#     print \"Trial :\", '%04d' % (i+1), \"LL = \", \"{:.9f}\".format(total_LL)\n",
    "\n",
    "print \"Done.\""
   ]
  },
  {
   "cell_type": "code",
   "execution_count": 198,
   "metadata": {
    "collapsed": false
   },
   "outputs": [
    {
     "name": "stdout",
     "output_type": "stream",
     "text": [
      "[ 0.          0.          0.          0.          0.          0.          0.\n",
      "  0.          0.          0.          0.          0.          0.          0.\n",
      "  0.          0.          0.          0.00430198  0.01966138  0.03868644\n",
      "  0.05593398  0.07428353  0.09061925  0.10154686  0.10452836  0.09883798\n",
      "  0.08584866  0.06849483  0.05019817  0.0337917   0.02089319  0.01186436\n",
      "  0.00618718  0.00278642  0.05229431]\n"
     ]
    }
   ],
   "source": [
    "def test_logProbRight(params, RightClickTimes, LeftClickTimes, Time_bins):\n",
    "    \"\"\"\n",
    "    :params : arrays of parameters\n",
    "    : sigma2_a\n",
    "    : sigma2_s\n",
    "    : sigma2_i\n",
    "    : lam \n",
    "    : B\n",
    "    : bias\n",
    "    : phi\n",
    "    : tau_phi\n",
    "    : lapse\n",
    "    \"\"\"\n",
    "\n",
    "    sigma2_a = params[0]\n",
    "    sigma2_s = params[1]\n",
    "    sigma2_i = params[2]\n",
    "    lam = params[3]\n",
    "    B = params[4]\n",
    "    bias = params[5]\n",
    "    phi = params[6]\n",
    "    tau_phi = params[7]\n",
    "    lapse = params[8]\n",
    "    \n",
    "    pright = T.dscalar()\n",
    "    \n",
    "        \n",
    "    # ==== inter-click-intervals and Make adapted clicks\n",
    "    \n",
    "    net_input = T.vector(\"net_input\")\n",
    "    total_input = T.vector(\"total_input\")\n",
    "\n",
    "\n",
    "    # :: can be integrated with one function\n",
    "    \n",
    "    # sequences: T.extra_ops.diff(LeftClickTimes) // inter-click-intervals\n",
    "    # prior results: lsame (0) // initial value\n",
    "    # non-sequences: phi, tau_phi // parameters\n",
    "    \n",
    "    Lsame, updates = theano.scan(lambda ici, lsame, phi, tau_phi :\n",
    "                                     1-T.exp((tau_phi*T.log(1-lsame*phi)-ici)/tau_phi),\n",
    "                                  outputs_info = T.zeros(1),\n",
    "                                  sequences=[T.extra_ops.diff(LeftClickTimes)],\n",
    "                                  non_sequences=[phi, tau_phi]\n",
    "                                  )\n",
    "    Rsame, updates = theano.scan(lambda ici, rsame, phi, tau_phi : \n",
    "                                 1-T.exp((tau_phi*T.log(1-rsame*phi)-ici)/tau_phi),\n",
    "                                  outputs_info = T.zeros(1),\n",
    "                                  sequences=[T.extra_ops.diff(RightClickTimes)],\n",
    "                                  non_sequences=[phi, tau_phi]\n",
    "                                  )\n",
    "\n",
    "    Lsame = T.concatenate([T.zeros(1, dtype=Lsame.dtype), Lsame[:,0]],axis=0)\n",
    "    Rsame = T.concatenate([T.zeros(1, dtype=Rsame.dtype), Rsame[:,0]],axis=0)\n",
    "\n",
    "    L_here =  T.cast(T.floor((LeftClickTimes+epsilon)/dt),'int32')\n",
    "    R_here =  T.cast(T.floor((RightClickTimes+epsilon)/dt),'int32')\n",
    "\n",
    "    dtype=theano.config.floatX\n",
    "\n",
    "    template = T.vector('template')\n",
    "\n",
    "    ## ==== Collect the adapted click values\n",
    "    # index starts from 0\n",
    "    # net_input / total_input\n",
    "\n",
    "    # sequences: T.floor((LeftClickTimes+epsilon)/dt) // location\n",
    "    # prior results: zeros // initial value\n",
    "    # non-sequences: Lsame // parameters\n",
    "    net_input_l, updates = theano.scan(lambda lhere,lsame, tmp :\n",
    "                                     T.set_subtensor(tmp[lhere],tmp[lhere]+lsame),\n",
    "                                  outputs_info = T.zeros_like(Time_bins),\n",
    "                                  sequences = [L_here, Lsame]\n",
    "                                  )\n",
    "    net_input_r, updates = theano.scan(lambda rhere,rsame, tmp :\n",
    "                                     T.set_subtensor(tmp[rhere],tmp[rhere]+rsame),\n",
    "                                  outputs_info = T.zeros_like(Time_bins),\n",
    "                                  sequences = [R_here, Rsame]\n",
    "                                  )\n",
    "\n",
    "    net_input = net_input_r[-1] - net_input_l[-1]\n",
    "    total_input = net_input_r[-1] + net_input_l[-1]\n",
    "    \n",
    "    ## ==== make bins\n",
    "    binN = T.cast(T.ceil(B/dx),'int32')\n",
    "    bin_centers = make_bins(B,dx,binN)\n",
    "        \n",
    "    ## ==== make P init\n",
    "    a0 = T.zeros_like(bin_centers)\n",
    "    a0 = T.set_subtensor(a0[binN],1-2*lapse)\n",
    "    a0 = T.set_subtensor(a0[0],lapse)\n",
    "    a0 = T.set_subtensor(a0[-1],lapse)\n",
    "    \n",
    "    ## ==== Fi\n",
    "    Fi = Fmatrix_i([sigma2_i, 0, 0.0], bin_centers)\n",
    "    \n",
    "    a = T.dot(Fi,a0)\n",
    "    ai = a\n",
    "    \n",
    "    F0 = Fmatrix([sigma2_a*dt, lam, 0.0], bin_centers)\n",
    "    \n",
    "    \n",
    "    def a_tracing(tot_input, net_input, a, F0, bin_centers, sigma2_a, sigma2_s, lam):\n",
    "        total_var = sigma2_a*dt + (sigma2_s*tot_input)/40\n",
    "        F = Fmatrix([total_var, lam, net_input/dt], bin_centers)\n",
    "        a_rest = T.dot(F,a)\n",
    "        \n",
    "        a = T.switch(T.eq(tot_input,0),\n",
    "                     T.dot(F0,a),\n",
    "                     a_rest\n",
    "                     )\n",
    "        F_res = T.switch(T.eq(tot_input,0),\n",
    "                     F0,\n",
    "                     F\n",
    "                     )\n",
    "        \n",
    "        return a, F_res\n",
    "        \n",
    "    # sequences: T.floor((LeftClickTimes+epsilon)/dt) // location\n",
    "    # prior results: zeros // initial value\n",
    "    # non-sequences: Lsame // parameters\n",
    "    [a_res, F_res], _ = theano.scan(fn = a_tracing,\n",
    "                             outputs_info = [a, None],\n",
    "                             sequences = [total_input[:-1], net_input[:-1]],\n",
    "                             non_sequences = [F0,bin_centers,sigma2_a,sigma2_s,lam]\n",
    "                        )\n",
    "\n",
    "    a = a_res[-1]\n",
    "    a_trace = T.concatenate([[ai],a_res],axis=0)\n",
    "    \n",
    "    bias_hp = T.cast(T.ceil((bias-bin_centers[1])/dx) + 1,'int32') # top\n",
    "    bias_lp = T.cast(T.floor((bias-bin_centers[1])/dx) + 1,'int32')\n",
    "    \n",
    "    Pd = T.zeros_like(bin_centers)\n",
    "    Pd = T.set_subtensor(Pd[-bias_hp+1:],a[-bias_hp+1:])\n",
    "    \n",
    "    dh = bin_centers[bias_hp] - bias\n",
    "    dl = bias - bin_centers[bias_lp]\n",
    "    dd = dh + dl\n",
    "    \n",
    "    Pd_rest = T.set_subtensor(Pd[bias_hp],a[bias_hp]*(0.5+dh/dd/2))\n",
    "    Pd_rest = T.set_subtensor(Pd_rest[bias_lp],a[bias_lp]*(dh/dd/2))\n",
    "    \n",
    "    Pd = T.switch(T.eq(bias_hp,bias_lp),\n",
    "                  T.set_subtensor(Pd[bias_lp],a[bias_lp]/2),\n",
    "                 Pd_rest)\n",
    "    \n",
    "    pright = T.sum(Pd)\n",
    "    \n",
    "#     return T.log(pright)\n",
    "    return Pd\n",
    "    \n",
    "# =========== Declare Theano symbolic variables =========== #\n",
    "## inputs\n",
    "RightClickTimes = T.dvector(\"RightClickTimes\") # Right Clicks\n",
    "LeftClickTimes = T.dvector(\"LeftClickTimes\") # Left Clicks\n",
    "Time_bins = T.vector(\"Time_bins\") # Time_bins\n",
    "rat_choice = T.wscalar(\"rat_choice\") # rat_choice\n",
    "\n",
    "# ==================== Construct Model ========================= #\n",
    "\n",
    "test_mat = test_logProbRight(params, RightClickTimes, LeftClickTimes, Time_bins)\n",
    "\n",
    "# grads = []\n",
    "# for param in params:\n",
    "#     grad = T.grad(LL, param)\n",
    "#     grads.append(grad)\n",
    "\n",
    "# out_grads = T.stack(*grads)\n",
    "    \n",
    "# l_rate = 0.1\n",
    "# updates = []\n",
    "# for param, grads in zip(params,grads):\n",
    "#     updates.append((param, param - grad * l_rate))\n",
    "\n",
    "practice_train = theano.function(\n",
    "    inputs = [RightClickTimes, LeftClickTimes, Time_bins],\n",
    "    outputs = test_mat#[LL, out_grads]\n",
    ")\n",
    "\n",
    "    \n",
    "total_LL = 0.\n",
    "\n",
    "# Training cycle\n",
    "# for i in range(3):\n",
    "i = 0\n",
    "RClickTimes1, LClickTimes1, maxT1, rat_choice1 = trialdata(ratdata, i)\n",
    "np_Nstep = int(np.ceil(maxT1/dt))\n",
    "np_empty_tmp = np.zeros((np_Nstep), dtype=None)\n",
    "\n",
    "out = practice_train(RClickTimes1, LClickTimes1, np_empty_tmp)\n",
    "\n",
    "#     total_LL += LLi\n",
    "\n",
    "print out\n",
    "#     print str(i+1)+ \" - LL : \" + str(LLi) + \", grad : \" + str(gradi)\n"
   ]
  },
  {
   "cell_type": "code",
   "execution_count": 86,
   "metadata": {
    "collapsed": false
   },
   "outputs": [
    {
     "data": {
      "text/plain": [
       "(17, 35, 35)"
      ]
     },
     "execution_count": 86,
     "metadata": {},
     "output_type": "execute_result"
    }
   ],
   "source": [
    "np.shape(out)"
   ]
  },
  {
   "cell_type": "code",
   "execution_count": 82,
   "metadata": {
    "collapsed": false
   },
   "outputs": [
    {
     "data": {
      "text/plain": [
       "array([ 1.        ,  1.00000004,  1.00000007,  1.00000009,  1.00000011,\n",
       "        1.00000014,  1.00000018,  1.00000018,  1.00000018,  1.00000018,\n",
       "        1.00000019,  1.00000016,  1.00000016,  1.00000017,  1.00000017,\n",
       "        1.00000018,  1.00000019,  1.00000018])"
      ]
     },
     "execution_count": 82,
     "metadata": {},
     "output_type": "execute_result"
    }
   ],
   "source": [
    "np.sum(out,1)"
   ]
  },
  {
   "cell_type": "code",
   "execution_count": 83,
   "metadata": {
    "collapsed": true
   },
   "outputs": [],
   "source": [
    "a_trace = out"
   ]
  },
  {
   "cell_type": "code",
   "execution_count": 87,
   "metadata": {
    "collapsed": true
   },
   "outputs": [],
   "source": [
    "Fs = out"
   ]
  },
  {
   "cell_type": "code",
   "execution_count": 98,
   "metadata": {
    "collapsed": false
   },
   "outputs": [
    {
     "data": {
      "text/plain": [
       "array([[[  1.00000000e+00,   0.00000000e+00,   0.00000000e+00, ...,\n",
       "           0.00000000e+00,   0.00000000e+00,   0.00000000e+00],\n",
       "        [  0.00000000e+00,   0.00000000e+00,   0.00000000e+00, ...,\n",
       "           0.00000000e+00,   0.00000000e+00,   0.00000000e+00],\n",
       "        [  0.00000000e+00,   1.13291435e-05,   0.00000000e+00, ...,\n",
       "           0.00000000e+00,   0.00000000e+00,   0.00000000e+00],\n",
       "        ..., \n",
       "        [  0.00000000e+00,   0.00000000e+00,   0.00000000e+00, ...,\n",
       "           0.00000000e+00,   0.00000000e+00,   0.00000000e+00],\n",
       "        [  0.00000000e+00,   0.00000000e+00,   0.00000000e+00, ...,\n",
       "           3.19388482e-06,   0.00000000e+00,   0.00000000e+00],\n",
       "        [  0.00000000e+00,   0.00000000e+00,   0.00000000e+00, ...,\n",
       "           9.99996841e-01,   1.00000000e+00,   1.00000000e+00]],\n",
       "\n",
       "       [[  1.00000000e+00,   2.56767362e-01,   1.07986946e-02, ...,\n",
       "           0.00000000e+00,   0.00000000e+00,   0.00000000e+00],\n",
       "        [  0.00000000e+00,   5.26334405e-01,   2.05956832e-01, ...,\n",
       "           0.00000000e+00,   0.00000000e+00,   0.00000000e+00],\n",
       "        [  0.00000000e+00,   2.08163530e-01,   5.66350937e-01, ...,\n",
       "           0.00000000e+00,   0.00000000e+00,   0.00000000e+00],\n",
       "        ..., \n",
       "        [  0.00000000e+00,   0.00000000e+00,   0.00000000e+00, ...,\n",
       "           5.66350818e-01,   2.08163559e-01,   0.00000000e+00],\n",
       "        [  0.00000000e+00,   0.00000000e+00,   0.00000000e+00, ...,\n",
       "           2.05956817e-01,   5.26334405e-01,   0.00000000e+00],\n",
       "        [  0.00000000e+00,   0.00000000e+00,   0.00000000e+00, ...,\n",
       "           1.07986946e-02,   2.56767362e-01,   1.00000000e+00]],\n",
       "\n",
       "       [[  1.00000000e+00,   2.56767362e-01,   1.07986946e-02, ...,\n",
       "           0.00000000e+00,   0.00000000e+00,   0.00000000e+00],\n",
       "        [  0.00000000e+00,   5.26334405e-01,   2.05956832e-01, ...,\n",
       "           0.00000000e+00,   0.00000000e+00,   0.00000000e+00],\n",
       "        [  0.00000000e+00,   2.08163530e-01,   5.66350937e-01, ...,\n",
       "           0.00000000e+00,   0.00000000e+00,   0.00000000e+00],\n",
       "        ..., \n",
       "        [  0.00000000e+00,   0.00000000e+00,   0.00000000e+00, ...,\n",
       "           5.66350818e-01,   2.08163559e-01,   0.00000000e+00],\n",
       "        [  0.00000000e+00,   0.00000000e+00,   0.00000000e+00, ...,\n",
       "           2.05956817e-01,   5.26334405e-01,   0.00000000e+00],\n",
       "        [  0.00000000e+00,   0.00000000e+00,   0.00000000e+00, ...,\n",
       "           1.07986946e-02,   2.56767362e-01,   1.00000000e+00]],\n",
       "\n",
       "       ..., \n",
       "       [[  1.00000000e+00,   2.56767362e-01,   1.07986946e-02, ...,\n",
       "           0.00000000e+00,   0.00000000e+00,   0.00000000e+00],\n",
       "        [  0.00000000e+00,   5.26334405e-01,   2.05956832e-01, ...,\n",
       "           0.00000000e+00,   0.00000000e+00,   0.00000000e+00],\n",
       "        [  0.00000000e+00,   2.08163530e-01,   5.66350937e-01, ...,\n",
       "           0.00000000e+00,   0.00000000e+00,   0.00000000e+00],\n",
       "        ..., \n",
       "        [  0.00000000e+00,   0.00000000e+00,   0.00000000e+00, ...,\n",
       "           5.66350818e-01,   2.08163559e-01,   0.00000000e+00],\n",
       "        [  0.00000000e+00,   0.00000000e+00,   0.00000000e+00, ...,\n",
       "           2.05956817e-01,   5.26334405e-01,   0.00000000e+00],\n",
       "        [  0.00000000e+00,   0.00000000e+00,   0.00000000e+00, ...,\n",
       "           1.07986946e-02,   2.56767362e-01,   1.00000000e+00]],\n",
       "\n",
       "       [[  1.00000000e+00,   2.56767362e-01,   1.07986946e-02, ...,\n",
       "           0.00000000e+00,   0.00000000e+00,   0.00000000e+00],\n",
       "        [  0.00000000e+00,   5.26334405e-01,   2.05956832e-01, ...,\n",
       "           0.00000000e+00,   0.00000000e+00,   0.00000000e+00],\n",
       "        [  0.00000000e+00,   2.08163530e-01,   5.66350937e-01, ...,\n",
       "           0.00000000e+00,   0.00000000e+00,   0.00000000e+00],\n",
       "        ..., \n",
       "        [  0.00000000e+00,   0.00000000e+00,   0.00000000e+00, ...,\n",
       "           5.66350818e-01,   2.08163559e-01,   0.00000000e+00],\n",
       "        [  0.00000000e+00,   0.00000000e+00,   0.00000000e+00, ...,\n",
       "           2.05956817e-01,   5.26334405e-01,   0.00000000e+00],\n",
       "        [  0.00000000e+00,   0.00000000e+00,   0.00000000e+00, ...,\n",
       "           1.07986946e-02,   2.56767362e-01,   1.00000000e+00]],\n",
       "\n",
       "       [[  1.00000000e+00,   2.16529109e-02,   1.21084347e-04, ...,\n",
       "           0.00000000e+00,   0.00000000e+00,   0.00000000e+00],\n",
       "        [  0.00000000e+00,   2.73859590e-01,   1.74441636e-02, ...,\n",
       "           0.00000000e+00,   0.00000000e+00,   0.00000000e+00],\n",
       "        [  0.00000000e+00,   5.48889279e-01,   2.77952492e-01, ...,\n",
       "           0.00000000e+00,   0.00000000e+00,   0.00000000e+00],\n",
       "        ..., \n",
       "        [  0.00000000e+00,   0.00000000e+00,   0.00000000e+00, ...,\n",
       "           2.78089404e-01,   1.74900535e-02,   0.00000000e+00],\n",
       "        [  0.00000000e+00,   0.00000000e+00,   0.00000000e+00, ...,\n",
       "           5.18419802e-01,   2.17769653e-01,   0.00000000e+00],\n",
       "        [  0.00000000e+00,   0.00000000e+00,   0.00000000e+00, ...,\n",
       "           1.85904384e-01,   7.64643133e-01,   1.00000000e+00]]], dtype=float32)"
      ]
     },
     "execution_count": 98,
     "metadata": {},
     "output_type": "execute_result"
    }
   ],
   "source": [
    "(Fs[::-1][:][:])"
   ]
  },
  {
   "cell_type": "code",
   "execution_count": 109,
   "metadata": {
    "collapsed": false
   },
   "outputs": [
    {
     "data": {
      "text/plain": [
       "array([[  5.00000000e-02,   0.00000000e+00,   0.00000000e+00,\n",
       "          0.00000000e+00,   0.00000000e+00,   0.00000000e+00,\n",
       "          0.00000000e+00,   0.00000000e+00,   9.99945496e-07,\n",
       "          1.43592953e-05,   1.33464167e-04,   9.28853697e-04,\n",
       "          4.78058327e-03,   1.82021007e-02,   5.14239348e-02,\n",
       "          1.07945301e-01,   1.68504886e-01,   1.96131049e-01,\n",
       "          1.68504886e-01,   1.07945294e-01,   5.14239281e-02,\n",
       "          1.82021024e-02,   4.78058285e-03,   9.28853592e-04,\n",
       "          1.33464180e-04,   1.43592937e-05,   9.99945496e-07,\n",
       "          0.00000000e+00,   0.00000000e+00,   0.00000000e+00,\n",
       "          0.00000000e+00,   0.00000000e+00,   0.00000000e+00,\n",
       "          0.00000000e+00,   5.00000000e-02],\n",
       "       [  5.00000000e-02,   0.00000000e+00,   0.00000000e+00,\n",
       "          0.00000000e+00,   0.00000000e+00,   1.96932328e-15,\n",
       "          9.70609611e-11,   1.88652547e-08,   5.41821577e-07,\n",
       "          6.96280487e-06,   6.18292926e-05,   4.18950566e-04,\n",
       "          2.18211144e-03,   8.73411849e-03,   2.69153449e-02,\n",
       "          6.39675790e-02,   1.17382048e-01,   1.66495537e-01,\n",
       "          1.82314379e-01,   1.53774284e-01,   1.00201185e-01,\n",
       "          5.04428178e-02,   1.95999452e-02,   5.87206339e-03,\n",
       "          1.35408828e-03,   2.39966290e-04,   3.26959586e-05,\n",
       "          3.35056974e-06,   2.19633733e-07,   4.85191802e-09,\n",
       "          1.15526515e-11,   0.00000000e+00,   0.00000000e+00,\n",
       "          0.00000000e+00,   5.00000000e-02],\n",
       "       [  5.00000000e-02,   0.00000000e+00,   5.62174254e-20,\n",
       "          2.78807714e-15,   1.38300778e-12,   1.99713351e-10,\n",
       "          8.89055501e-09,   1.85752885e-07,   2.30917457e-06,\n",
       "          2.06269857e-05,   1.42870976e-04,   7.80982685e-04,\n",
       "          3.37690611e-03,   1.15647843e-02,   3.14169521e-02,\n",
       "          6.77853857e-02,   1.16263452e-01,   1.58560091e-01,\n",
       "          1.71798597e-01,   1.47772473e-01,   1.01006865e-01,\n",
       "          5.48916271e-02,   2.37064195e-02,   8.12942909e-03,\n",
       "          2.21083578e-03,   4.76110484e-04,   8.10886710e-05,\n",
       "          1.08715557e-05,   1.11368019e-06,   7.85143574e-08,\n",
       "          3.02142395e-09,   5.08610809e-11,   2.38951308e-13,\n",
       "          3.29765168e-16,   5.00000000e-02],\n",
       "       [  5.00000000e-02,   6.37091407e-17,   1.83058868e-14,\n",
       "          2.27962217e-12,   1.24943525e-10,   3.64427196e-09,\n",
       "          6.43933066e-08,   7.70959169e-07,   6.90308018e-06,\n",
       "          4.87798771e-05,   2.77429295e-04,   1.27636217e-03,\n",
       "          4.75789985e-03,   1.43896339e-02,   3.53504319e-02,\n",
       "          7.06069939e-02,   1.14720695e-01,   1.51625863e-01,\n",
       "          1.62940133e-01,   1.42322517e-01,   1.01084212e-01,\n",
       "          5.84006563e-02,   2.74419381e-02,   1.04814319e-02,\n",
       "          3.25116089e-03,   8.17999233e-04,   1.66717308e-04,\n",
       "          2.74643955e-05,   3.62772673e-06,   3.73648608e-07,\n",
       "          2.80505996e-08,   1.37191211e-09,   3.92277898e-11,\n",
       "          5.77466280e-13,   5.00000000e-02],\n",
       "       [  5.00000000e-02,   2.71734580e-14,   1.67499253e-12,\n",
       "          6.08135732e-11,   1.41134698e-09,   2.23881571e-08,\n",
       "          2.59053001e-07,   2.31844769e-06,   1.66690716e-05,\n",
       "          9.80304982e-05,   4.74701954e-04,   1.89720403e-03,\n",
       "          6.26638600e-03,   1.71242074e-02,   3.87516079e-02,\n",
       "          7.26666179e-02,   1.12948240e-01,   1.45511394e-01,\n",
       "          1.55333408e-01,   1.37378918e-01,   1.00679539e-01,\n",
       "          6.11543593e-02,   3.07867938e-02,   1.28407797e-02,\n",
       "          4.43422635e-03,   1.26661446e-03,   2.98937560e-04,\n",
       "          5.82062926e-05,   9.31981513e-06,   1.21579832e-06,\n",
       "          1.26236900e-07,   9.97327816e-09,   5.62300875e-10,\n",
       "          2.11017626e-11,   5.00000000e-02],\n",
       "       [  5.00000000e-02,   9.27856768e-13,   2.65159794e-11,\n",
       "          5.30469822e-10,   7.78850449e-09,   8.75063801e-08,\n",
       "          7.81505148e-07,   5.70138509e-06,   3.45044225e-05,\n",
       "          1.74458278e-04,   7.39140404e-04,   2.62806548e-03,\n",
       "          7.85029909e-03,   1.97178816e-02,   4.16731036e-02,\n",
       "          7.41425000e-02,   1.11063981e-01,   1.40071634e-01,\n",
       "          1.48705335e-01,   1.32882799e-01,   9.99575601e-02,\n",
       "          6.33031861e-02,   3.37518249e-02,   1.51470549e-02,\n",
       "          5.71886085e-03,   1.81524713e-03,   4.83965021e-04,\n",
       "          1.08253758e-04,   2.02782686e-05,   3.16859949e-06,\n",
       "          4.09217810e-07,   4.28655295e-08,   3.52995184e-09,\n",
       "          2.17158246e-10,   5.00000000e-02],\n",
       "       [  5.00000000e-02,   1.74245908e-15,   1.29859016e-13,\n",
       "          3.72854016e-12,   7.35147760e-11,   1.10275122e-09,\n",
       "          1.29904556e-08,   1.23513070e-07,   9.69099841e-07,\n",
       "          6.36954984e-06,   3.53710220e-05,   1.66664052e-04,\n",
       "          6.67733051e-04,   2.27748792e-03,   6.61886837e-03,\n",
       "          1.64019089e-02,   3.46760648e-02,   6.25687792e-02,\n",
       "          9.63753638e-02,   1.26727808e-01,   1.42249395e-01,\n",
       "          1.36294585e-01,   1.11471544e-01,   7.78276006e-02,\n",
       "          4.63867511e-02,   2.35989806e-02,   1.02448002e-02,\n",
       "          3.79333145e-03,   1.19721484e-03,   3.21822825e-04,\n",
       "          7.36062256e-05,   1.43013928e-05,   2.35329859e-06,\n",
       "          3.18866021e-07,   5.00000484e-02],\n",
       "       [  5.00000000e-02,   6.21510189e-14,   1.52024495e-12,\n",
       "          2.73921003e-11,   3.88318207e-10,   4.44425050e-09,\n",
       "          4.18940200e-08,   3.30697289e-07,   2.21231261e-06,\n",
       "          1.26382963e-05,   6.19171909e-05,   2.60744565e-04,\n",
       "          9.45105259e-04,   2.95121870e-03,   7.94486520e-03,\n",
       "          1.84493975e-02,   3.69721885e-02,   6.39573161e-02,\n",
       "          9.55190170e-02,   1.23165205e-01,   1.37110712e-01,\n",
       "          1.31773247e-01,   1.09335044e-01,   7.83217072e-02,\n",
       "          4.84391960e-02,   2.58622554e-02,   1.19178223e-02,\n",
       "          4.73841925e-03,   1.62465301e-03,   4.80069025e-04,\n",
       "          1.22156699e-04,   2.67378096e-05,   5.02355490e-06,\n",
       "          7.78846335e-07,   5.00001562e-02],\n",
       "       [  5.00000000e-02,   5.94858630e-13,   1.00756456e-11,\n",
       "          1.36455541e-10,   1.52397186e-09,   1.42529441e-08,\n",
       "          1.13057480e-07,   7.68016219e-07,   4.49762776e-06,\n",
       "          2.27986989e-05,   1.00274296e-04,   3.83218869e-04,\n",
       "          1.27378851e-03,   3.68512646e-03,   9.28454471e-03,\n",
       "          2.03806778e-02,   3.89916483e-02,   6.50300453e-02,\n",
       "          9.45567740e-02,   1.19872656e-01,   1.32492140e-01,\n",
       "          1.27672006e-01,   1.07260198e-01,   7.85644314e-02,\n",
       "          5.01713420e-02,   2.79317968e-02,   1.35545406e-02,\n",
       "          5.73184480e-03,   2.11133723e-03,   6.77100503e-04,\n",
       "          1.88931407e-04,   4.58296884e-05,   9.64549012e-06,\n",
       "          1.68032919e-06,   5.00004113e-02],\n",
       "       [  5.00000000e-02,   3.61714312e-12,   4.78752084e-11,\n",
       "          5.23590347e-10,   4.86186060e-09,   3.87190530e-08,\n",
       "          2.66561954e-07,   1.59552350e-06,   8.33464269e-06,\n",
       "          3.80879199e-05,   1.52495502e-04,   5.35466443e-04,\n",
       "          1.65018139e-03,   4.46587009e-03,   1.06183471e-02,\n",
       "          2.21891940e-02,   4.07637242e-02,   6.58456590e-02,\n",
       "          9.35271650e-02,   1.16820160e-01,   1.28311355e-01,\n",
       "          1.23929894e-01,   1.05257104e-01,   7.86129325e-02,\n",
       "          5.16296928e-02,   2.98156555e-02,   1.51381747e-02,\n",
       "          6.75606904e-03,   2.64954301e-03,   9.12694877e-04,\n",
       "          2.76015454e-04,   7.32313223e-05,   1.70088087e-05,\n",
       "          3.27448829e-06,   5.00009486e-02],\n",
       "       [  5.00000056e-02,   3.14127470e-08,   2.10342655e-07,\n",
       "          1.20701429e-06,   6.10028143e-06,   2.72051410e-05,\n",
       "          1.07189640e-04,   3.73446989e-04,   1.15122096e-03,\n",
       "          3.14169685e-03,   7.59323574e-03,   1.62589460e-02,\n",
       "          3.08512269e-02,   5.18855206e-02,   7.73503734e-02,\n",
       "          1.02222516e-01,   1.19758791e-01,   1.24378621e-01,\n",
       "          1.14514458e-01,   9.34651287e-02,   6.76252389e-02,\n",
       "          4.33733855e-02,   2.46581540e-02,   1.24240378e-02,\n",
       "          5.54679723e-03,   2.19370887e-03,   7.68278043e-04,\n",
       "          2.38157560e-04,   6.52907923e-05,   1.57138169e-05,\n",
       "          3.04647922e-06,   2.97260055e-07,   5.68249800e-09,\n",
       "          1.01398290e-11,   5.00009486e-02],\n",
       "       [  5.00000056e-02,   7.67822336e-12,   9.12590206e-10,\n",
       "          1.61747062e-08,   1.18676934e-07,   6.76089399e-07,\n",
       "          3.39182328e-06,   1.51213961e-05,   5.99835297e-05,\n",
       "          2.11883604e-04,   6.66881185e-04,   1.87108672e-03,\n",
       "          4.68172685e-03,   1.04502572e-02,   2.08147012e-02,\n",
       "          3.70017076e-02,   5.87140612e-02,   8.31702897e-02,\n",
       "          1.05176786e-01,   1.18742041e-01,   1.19680369e-01,\n",
       "          1.07689392e-01,   8.65067163e-02,   6.20361385e-02,\n",
       "          3.97136037e-02,   2.26934445e-02,   1.15737815e-02,\n",
       "          5.26729056e-03,   2.13862251e-03,   7.74434519e-04,\n",
       "          2.50011740e-04,   7.18722571e-05,   1.82460458e-05,\n",
       "          3.78506259e-06,   5.00017095e-02],\n",
       "       [  5.00000057e-02,   3.35893954e-10,   4.93453397e-09,\n",
       "          4.00157289e-08,   2.41169858e-07,   1.24661992e-06,\n",
       "          5.73646206e-06,   2.36176399e-05,   8.70868378e-05,\n",
       "          2.87779507e-04,   8.52647332e-04,   2.26597369e-03,\n",
       "          5.40331623e-03,   1.15639054e-02,   2.22167931e-02,\n",
       "          3.83232190e-02,   5.93602482e-02,   8.25684320e-02,\n",
       "          1.03141473e-01,   1.15707440e-01,   1.16573319e-01,\n",
       "          1.05473973e-01,   8.57028467e-02,   6.25374857e-02,\n",
       "          4.09792983e-02,   2.41123531e-02,   1.27385931e-02,\n",
       "          6.04152958e-03,   2.57176146e-03,   9.82341508e-04,\n",
       "          3.36578099e-04,   1.03343500e-04,   2.82695411e-05,\n",
       "          6.38160215e-06,   5.00028810e-02],\n",
       "       [  5.00000058e-02,   1.54759722e-09,   1.33218217e-08,\n",
       "          8.48694703e-08,   4.54867899e-07,   2.15790164e-06,\n",
       "          9.18970932e-06,   3.52268825e-05,   1.21643587e-04,\n",
       "          3.78585134e-04,   1.06236087e-03,   2.68881364e-03,\n",
       "          6.13975331e-03,   1.26515047e-02,   2.35295193e-02,\n",
       "          3.95023302e-02,   5.98704237e-02,   8.19235382e-02,\n",
       "          1.01210573e-01,   1.12894133e-01,   1.13696412e-01,\n",
       "          1.03383386e-01,   8.48748747e-02,   6.29106063e-02,\n",
       "          4.20988641e-02,   2.54328283e-02,   1.38694538e-02,\n",
       "          6.82671186e-03,   3.03235321e-03,   1.21526328e-03,\n",
       "          4.39285819e-04,   1.43105858e-04,   4.17926463e-05,\n",
       "          1.00885214e-05,   5.00048285e-02],\n",
       "       [  5.00000063e-02,   4.30852525e-09,   2.95394828e-08,\n",
       "          1.64509082e-07,   8.05252386e-07,   3.53926398e-06,\n",
       "          1.40554523e-05,   5.05139880e-05,   1.64390414e-04,\n",
       "          4.84639534e-04,   1.29474975e-03,   3.13545917e-03,\n",
       "          6.88442422e-03,   1.37078470e-02,   2.47555259e-02,\n",
       "          4.05532944e-02,   6.02651153e-02,   8.12483856e-02,\n",
       "          9.93767238e-02,   1.10276488e-01,   1.11022568e-01,\n",
       "          1.01407178e-01,   8.40332742e-02,   6.31759121e-02,\n",
       "          4.30880013e-02,   2.66590649e-02,   1.49618490e-02,\n",
       "          7.61610024e-03,   3.51581911e-03,   1.47159006e-03,\n",
       "          5.58334793e-04,   1.91878398e-04,   5.93948166e-05,\n",
       "          1.51731265e-05,   5.00078754e-02],\n",
       "       [  5.00000078e-02,   9.80367155e-09,   5.89529840e-08,\n",
       "          2.98057270e-07,   1.35054380e-06,   5.54169636e-06,\n",
       "          2.06570514e-05,   7.00194223e-05,   2.15924094e-04,\n",
       "          6.05992041e-04,   1.54824992e-03,   3.60187819e-03,\n",
       "          7.63164871e-03,   1.47292454e-02,   2.58983148e-02,\n",
       "          4.14890717e-02,   6.05615322e-02,   8.05528506e-02,\n",
       "          9.76330223e-02,   1.07832838e-01,   1.08528970e-01,\n",
       "          9.95359292e-02,   8.31859506e-02,   6.33503549e-02,\n",
       "          4.39607731e-02,   2.77958847e-02,   1.60127895e-02,\n",
       "          8.40400968e-03,   4.01779191e-03,   1.74944673e-03,\n",
       "          6.93618048e-04,   2.50218770e-04,   8.16111549e-05,\n",
       "          2.19017048e-05,   5.00124195e-02],\n",
       "       [  5.00000109e-02,   1.99295757e-08,   1.09336483e-07,\n",
       "          5.10905737e-07,   2.16198244e-06,   8.33498893e-06,\n",
       "          2.93272146e-05,   9.42424484e-05,   2.76694469e-04,\n",
       "          7.42438863e-04,   1.82110259e-03,   4.08424817e-03,\n",
       "          8.37662061e-03,   1.57132363e-02,   2.69618993e-02,\n",
       "          4.23213656e-02,   6.07741427e-02,   7.98445951e-02,\n",
       "          9.59730568e-02,   1.05544735e-01,   1.06196235e-01,\n",
       "          9.77611620e-02,   8.23388727e-02,   6.34480665e-02,\n",
       "          4.47297173e-02,   2.88484204e-02,   1.70204870e-02,\n",
       "          9.18571555e-03,   4.53419834e-03,   2.04679580e-03,\n",
       "          8.44767498e-04,   3.18517820e-04,   1.08915177e-04,\n",
       "          3.05294620e-05,   5.00189334e-02]])"
      ]
     },
     "execution_count": 109,
     "metadata": {},
     "output_type": "execute_result"
    }
   ],
   "source": [
    "a_trace[-1:0:-1][:]"
   ]
  },
  {
   "cell_type": "code",
   "execution_count": 127,
   "metadata": {
    "collapsed": false
   },
   "outputs": [
    {
     "data": {
      "text/plain": [
       "(17, 35)"
      ]
     },
     "execution_count": 127,
     "metadata": {},
     "output_type": "execute_result"
    }
   ],
   "source": [
    "np.shape(a_trace[-1:0:-1][:])"
   ]
  },
  {
   "cell_type": "code",
   "execution_count": 129,
   "metadata": {
    "collapsed": false
   },
   "outputs": [
    {
     "data": {
      "text/plain": [
       "(35, 35)"
      ]
     },
     "execution_count": 129,
     "metadata": {},
     "output_type": "execute_result"
    }
   ],
   "source": [
    "np.shape(Fs[0][:][:])"
   ]
  },
  {
   "cell_type": "code",
   "execution_count": 197,
   "metadata": {
    "collapsed": false
   },
   "outputs": [
    {
     "name": "stdout",
     "output_type": "stream",
     "text": [
      "[[ 0.83333333  0.71428571  0.625       0.55555556  0.5       ]\n",
      " [ 1.66666667  1.42857143  1.25        1.11111111  1.        ]\n",
      " [ 2.5         2.14285714  1.875       1.66666667  1.5       ]\n",
      " [ 3.33333333  2.85714286  2.5         2.22222222  2.        ]\n",
      " [ 4.16666667  3.57142857  3.125       2.77777778  2.5       ]]\n"
     ]
    }
   ],
   "source": [
    "Tvec = T.vector()\n",
    "Tvec2 = T.vector()\n",
    "Tmat = T.matrix()\n",
    "\n",
    "test_result = Tmat*Tvec\n",
    "test_result = T.transpose(test_result)/Tvec2\n",
    "\n",
    "test_func = theano.function(\n",
    "    inputs = [Tmat, Tvec, Tvec2],\n",
    "    outputs = test_result\n",
    ")\n",
    "\n",
    "print test_func(5*np.ones((5,5)), np.arange(5)+1,np.arange(5)+6)"
   ]
  },
  {
   "cell_type": "code",
   "execution_count": 199,
   "metadata": {
    "collapsed": true
   },
   "outputs": [],
   "source": [
    "Pd = out"
   ]
  },
  {
   "cell_type": "code",
   "execution_count": 286,
   "metadata": {
    "collapsed": false
   },
   "outputs": [],
   "source": [
    "def Bmatrix(F,Fdistribm1,Fdistrib):\n",
    "    B = F*Fdistribm1\n",
    "    B = T.transpose(B)/Fdistrib\n",
    "    \n",
    "    return B\n",
    "\n",
    "def backwards(Pf, Pd, Fmats):#, net_input):\n",
    "    # Pf 35x18\n",
    "    # Fs 17x35x35\n",
    "    \n",
    "    # normalize to use as initial distribution of the backwards, posterior run\n",
    "    Pd = Pd/T.sum(Pd)\n",
    "    \n",
    "    # the backwards, posterior probability distribution\n",
    "    Pb = T.zeros_like(Pf)\n",
    "    # last timestep of backwards distribution is Pd\n",
    "    Pb = T.set_subtensor(Pb[:,-1],Pd)\n",
    "    \n",
    "    input_Fs = Fmats[::-1][:][:] # reversed sequence k-1 -> 1\n",
    "    input_f_m1 = Pf[-2::-1] # reversed sequence k-1 -> 1\n",
    "    input_f = Pf[-1:0:-1] # reversed sequence k -> 2\n",
    "    \n",
    "    # sequences: Fs, forward probability(k-1), forward probability(k-1) \n",
    "    # results: Bmatrix // initial value = zeros\n",
    "    B,_ = theano.scan(fn = Bmatrix,\n",
    "                    outputs_info = None,\n",
    "                    sequences = [input_Fs, input_f_m1, input_f]                    \n",
    "                   )\n",
    "    \n",
    "    return B"
   ]
  },
  {
   "cell_type": "code",
   "execution_count": 287,
   "metadata": {
    "collapsed": false
   },
   "outputs": [
    {
     "name": "stdout",
     "output_type": "stream",
     "text": [
      "<TensorType(float64, 3D)>\n",
      "Shape.0\n",
      "Shape.0\n"
     ]
    },
    {
     "ename": "UnusedInputError",
     "evalue": "theano.function was asked to create a function computing outputs given certain inputs, but the provided input variable at index 1 is not part of the computational graph needed to compute the outputs: <TensorType(float64, vector)>.\nTo make this error into a warning, you can pass the parameter on_unused_input='warn' to theano.function. To disable it completely, use on_unused_input='ignore'.",
     "output_type": "error",
     "traceback": [
      "\u001b[0;31m---------------------------------------------------------------------------\u001b[0m",
      "\u001b[0;31mUnusedInputError\u001b[0m                          Traceback (most recent call last)",
      "\u001b[0;32m<ipython-input-287-d21dac80add9>\u001b[0m in \u001b[0;36m<module>\u001b[0;34m()\u001b[0m\n\u001b[1;32m      7\u001b[0m backwards_test = theano.function(\n\u001b[1;32m      8\u001b[0m     \u001b[0minputs\u001b[0m \u001b[0;34m=\u001b[0m \u001b[0;34m[\u001b[0m\u001b[0mTmat\u001b[0m\u001b[0;34m,\u001b[0m \u001b[0mTvec\u001b[0m\u001b[0;34m,\u001b[0m \u001b[0mTmat2\u001b[0m\u001b[0;34m]\u001b[0m\u001b[0;34m,\u001b[0m\u001b[0;34m\u001b[0m\u001b[0m\n\u001b[0;32m----> 9\u001b[0;31m     \u001b[0moutputs\u001b[0m \u001b[0;34m=\u001b[0m \u001b[0mBmat\u001b[0m\u001b[0;34m\u001b[0m\u001b[0m\n\u001b[0m\u001b[1;32m     10\u001b[0m )\n\u001b[1;32m     11\u001b[0m \u001b[0;34m\u001b[0m\u001b[0m\n",
      "\u001b[0;32m/Users/msyoon/anaconda/lib/python2.7/site-packages/theano/compile/function.pyc\u001b[0m in \u001b[0;36mfunction\u001b[0;34m(inputs, outputs, mode, updates, givens, no_default_updates, accept_inplace, name, rebuild_strict, allow_input_downcast, profile, on_unused_input)\u001b[0m\n\u001b[1;32m    264\u001b[0m                 \u001b[0mallow_input_downcast\u001b[0m\u001b[0;34m=\u001b[0m\u001b[0mallow_input_downcast\u001b[0m\u001b[0;34m,\u001b[0m\u001b[0;34m\u001b[0m\u001b[0m\n\u001b[1;32m    265\u001b[0m                 \u001b[0mon_unused_input\u001b[0m\u001b[0;34m=\u001b[0m\u001b[0mon_unused_input\u001b[0m\u001b[0;34m,\u001b[0m\u001b[0;34m\u001b[0m\u001b[0m\n\u001b[0;32m--> 266\u001b[0;31m                 profile=profile)\n\u001b[0m\u001b[1;32m    267\u001b[0m     \u001b[0;31m# We need to add the flag check_aliased inputs if we have any mutable or\u001b[0m\u001b[0;34m\u001b[0m\u001b[0;34m\u001b[0m\u001b[0m\n\u001b[1;32m    268\u001b[0m     \u001b[0;31m# borrowed used defined inputs\u001b[0m\u001b[0;34m\u001b[0m\u001b[0;34m\u001b[0m\u001b[0m\n",
      "\u001b[0;32m/Users/msyoon/anaconda/lib/python2.7/site-packages/theano/compile/pfunc.pyc\u001b[0m in \u001b[0;36mpfunc\u001b[0;34m(params, outputs, mode, updates, givens, no_default_updates, accept_inplace, name, rebuild_strict, allow_input_downcast, profile, on_unused_input)\u001b[0m\n\u001b[1;32m    509\u001b[0m     return orig_function(inputs, cloned_outputs, mode,\n\u001b[1;32m    510\u001b[0m             \u001b[0maccept_inplace\u001b[0m\u001b[0;34m=\u001b[0m\u001b[0maccept_inplace\u001b[0m\u001b[0;34m,\u001b[0m \u001b[0mname\u001b[0m\u001b[0;34m=\u001b[0m\u001b[0mname\u001b[0m\u001b[0;34m,\u001b[0m \u001b[0mprofile\u001b[0m\u001b[0;34m=\u001b[0m\u001b[0mprofile\u001b[0m\u001b[0;34m,\u001b[0m\u001b[0;34m\u001b[0m\u001b[0m\n\u001b[0;32m--> 511\u001b[0;31m             on_unused_input=on_unused_input)\n\u001b[0m\u001b[1;32m    512\u001b[0m \u001b[0;34m\u001b[0m\u001b[0m\n\u001b[1;32m    513\u001b[0m \u001b[0;34m\u001b[0m\u001b[0m\n",
      "\u001b[0;32m/Users/msyoon/anaconda/lib/python2.7/site-packages/theano/compile/function_module.pyc\u001b[0m in \u001b[0;36morig_function\u001b[0;34m(inputs, outputs, mode, accept_inplace, name, profile, on_unused_input)\u001b[0m\n\u001b[1;32m   1463\u001b[0m                    \u001b[0maccept_inplace\u001b[0m\u001b[0;34m=\u001b[0m\u001b[0maccept_inplace\u001b[0m\u001b[0;34m,\u001b[0m\u001b[0;34m\u001b[0m\u001b[0m\n\u001b[1;32m   1464\u001b[0m                    \u001b[0mprofile\u001b[0m\u001b[0;34m=\u001b[0m\u001b[0mprofile\u001b[0m\u001b[0;34m,\u001b[0m\u001b[0;34m\u001b[0m\u001b[0m\n\u001b[0;32m-> 1465\u001b[0;31m                    \u001b[0mon_unused_input\u001b[0m\u001b[0;34m=\u001b[0m\u001b[0mon_unused_input\u001b[0m\u001b[0;34m)\u001b[0m\u001b[0;34m.\u001b[0m\u001b[0mcreate\u001b[0m\u001b[0;34m(\u001b[0m\u001b[0;34m\u001b[0m\u001b[0m\n\u001b[0m\u001b[1;32m   1466\u001b[0m                        defaults)\n\u001b[1;32m   1467\u001b[0m \u001b[0;34m\u001b[0m\u001b[0m\n",
      "\u001b[0;32m/Users/msyoon/anaconda/lib/python2.7/site-packages/theano/compile/function_module.pyc\u001b[0m in \u001b[0;36m__init__\u001b[0;34m(self, inputs, outputs, mode, accept_inplace, function_builder, profile, on_unused_input, fgraph)\u001b[0m\n\u001b[1;32m   1122\u001b[0m \u001b[0;34m\u001b[0m\u001b[0m\n\u001b[1;32m   1123\u001b[0m         \u001b[0;31m# Check if some input variables are unused\u001b[0m\u001b[0;34m\u001b[0m\u001b[0;34m\u001b[0m\u001b[0m\n\u001b[0;32m-> 1124\u001b[0;31m         \u001b[0mself\u001b[0m\u001b[0;34m.\u001b[0m\u001b[0m_check_unused_inputs\u001b[0m\u001b[0;34m(\u001b[0m\u001b[0minputs\u001b[0m\u001b[0;34m,\u001b[0m \u001b[0moutputs\u001b[0m\u001b[0;34m,\u001b[0m \u001b[0mon_unused_input\u001b[0m\u001b[0;34m)\u001b[0m\u001b[0;34m\u001b[0m\u001b[0m\n\u001b[0m\u001b[1;32m   1125\u001b[0m \u001b[0;34m\u001b[0m\u001b[0m\n\u001b[1;32m   1126\u001b[0m         \u001b[0;31m# Make a list of (SymbolicInput|SymblicInputKits, indices, [SymbolicInput,...]), one\u001b[0m\u001b[0;34m\u001b[0m\u001b[0;34m\u001b[0m\u001b[0m\n",
      "\u001b[0;32m/Users/msyoon/anaconda/lib/python2.7/site-packages/theano/compile/function_module.pyc\u001b[0m in \u001b[0;36m_check_unused_inputs\u001b[0;34m(self, inputs, outputs, on_unused_input)\u001b[0m\n\u001b[1;32m   1242\u001b[0m                     \u001b[0mwarnings\u001b[0m\u001b[0;34m.\u001b[0m\u001b[0mwarn\u001b[0m\u001b[0;34m(\u001b[0m\u001b[0mmsg\u001b[0m \u001b[0;34m%\u001b[0m \u001b[0;34m(\u001b[0m\u001b[0minputs\u001b[0m\u001b[0;34m.\u001b[0m\u001b[0mindex\u001b[0m\u001b[0;34m(\u001b[0m\u001b[0mi\u001b[0m\u001b[0;34m)\u001b[0m\u001b[0;34m,\u001b[0m \u001b[0mi\u001b[0m\u001b[0;34m.\u001b[0m\u001b[0mvariable\u001b[0m\u001b[0;34m,\u001b[0m \u001b[0mwarn_msg\u001b[0m\u001b[0;34m)\u001b[0m\u001b[0;34m,\u001b[0m \u001b[0mstacklevel\u001b[0m\u001b[0;34m=\u001b[0m\u001b[0;36m6\u001b[0m\u001b[0;34m)\u001b[0m\u001b[0;34m\u001b[0m\u001b[0m\n\u001b[1;32m   1243\u001b[0m                 \u001b[0;32melif\u001b[0m \u001b[0mon_unused_input\u001b[0m \u001b[0;34m==\u001b[0m \u001b[0;34m'raise'\u001b[0m\u001b[0;34m:\u001b[0m\u001b[0;34m\u001b[0m\u001b[0m\n\u001b[0;32m-> 1244\u001b[0;31m                     \u001b[0;32mraise\u001b[0m \u001b[0mUnusedInputError\u001b[0m\u001b[0;34m(\u001b[0m\u001b[0mmsg\u001b[0m \u001b[0;34m%\u001b[0m \u001b[0;34m(\u001b[0m\u001b[0minputs\u001b[0m\u001b[0;34m.\u001b[0m\u001b[0mindex\u001b[0m\u001b[0;34m(\u001b[0m\u001b[0mi\u001b[0m\u001b[0;34m)\u001b[0m\u001b[0;34m,\u001b[0m \u001b[0mi\u001b[0m\u001b[0;34m.\u001b[0m\u001b[0mvariable\u001b[0m\u001b[0;34m,\u001b[0m \u001b[0merr_msg\u001b[0m\u001b[0;34m)\u001b[0m\u001b[0;34m)\u001b[0m\u001b[0;34m\u001b[0m\u001b[0m\n\u001b[0m\u001b[1;32m   1245\u001b[0m                 \u001b[0;32melse\u001b[0m\u001b[0;34m:\u001b[0m\u001b[0;34m\u001b[0m\u001b[0m\n\u001b[1;32m   1246\u001b[0m                     raise ValueError((\"Invalid value for keyword \"\n",
      "\u001b[0;31mUnusedInputError\u001b[0m: theano.function was asked to create a function computing outputs given certain inputs, but the provided input variable at index 1 is not part of the computational graph needed to compute the outputs: <TensorType(float64, vector)>.\nTo make this error into a warning, you can pass the parameter on_unused_input='warn' to theano.function. To disable it completely, use on_unused_input='ignore'."
     ]
    }
   ],
   "source": [
    "Tmat = T.matrix()\n",
    "Tvec = T.vector()\n",
    "Tmat2 = T.tensor3()\n",
    "\n",
    "Bmat = backwards(Tmat, Tvec, Tmat2)\n",
    "\n",
    "backwards_test = theano.function(\n",
    "    inputs = [Tmat, Tvec, Tmat2],\n",
    "    outputs = Bmat\n",
    ")\n",
    "\n",
    "print backwards_test(a_trace, Pd, Fs)"
   ]
  },
  {
   "cell_type": "code",
   "execution_count": 234,
   "metadata": {
    "collapsed": false
   },
   "outputs": [
    {
     "data": {
      "text/plain": [
       "(18, 35)"
      ]
     },
     "execution_count": 234,
     "metadata": {},
     "output_type": "execute_result"
    }
   ],
   "source": [
    "np.shape(a_trace[::-1][:])"
   ]
  },
  {
   "cell_type": "code",
   "execution_count": 235,
   "metadata": {
    "collapsed": false
   },
   "outputs": [
    {
     "data": {
      "text/plain": [
       "array([2, 1])"
      ]
     },
     "execution_count": 235,
     "metadata": {},
     "output_type": "execute_result"
    }
   ],
   "source": [
    "np.arange(3)[-1:0:-1]"
   ]
  },
  {
   "cell_type": "code",
   "execution_count": 239,
   "metadata": {
    "collapsed": false
   },
   "outputs": [
    {
     "data": {
      "text/plain": [
       "array([1, 0])"
      ]
     },
     "execution_count": 239,
     "metadata": {},
     "output_type": "execute_result"
    }
   ],
   "source": [
    "np.arange(3)[-2::-1]"
   ]
  },
  {
   "cell_type": "code",
   "execution_count": 248,
   "metadata": {
    "collapsed": true
   },
   "outputs": [],
   "source": [
    "A_v = np.array([[[3.,2.],[4.,2.],[5.,2.]],[[3.,2.],[4.,2.],[5.,2.]],\\\n",
    "                [[1.,2.],[2.,2.],[3.,2.]],[[1.,2.],[2.,2.],[3.,2.]]])"
   ]
  },
  {
   "cell_type": "code",
   "execution_count": 249,
   "metadata": {
    "collapsed": false
   },
   "outputs": [
    {
     "data": {
      "text/plain": [
       "(4, 3, 2)"
      ]
     },
     "execution_count": 249,
     "metadata": {},
     "output_type": "execute_result"
    }
   ],
   "source": [
    "np.shape(A_v)"
   ]
  },
  {
   "cell_type": "code",
   "execution_count": 250,
   "metadata": {
    "collapsed": false
   },
   "outputs": [
    {
     "data": {
      "text/plain": [
       "(17, 35, 35)"
      ]
     },
     "execution_count": 250,
     "metadata": {},
     "output_type": "execute_result"
    }
   ],
   "source": [
    "np.shape(Fs)"
   ]
  },
  {
   "cell_type": "code",
   "execution_count": 269,
   "metadata": {
    "collapsed": false
   },
   "outputs": [
    {
     "data": {
      "text/plain": [
       "<TensorType(float64, 3D)>"
      ]
     },
     "execution_count": 269,
     "metadata": {},
     "output_type": "execute_result"
    }
   ],
   "source": [
    "Tmat2"
   ]
  },
  {
   "cell_type": "code",
   "execution_count": 330,
   "metadata": {
    "collapsed": false
   },
   "outputs": [
    {
     "name": "stdout",
     "output_type": "stream",
     "text": [
      "[[[  1.00000000e+00              nan   0.00000000e+00 ...,   0.00000000e+00\n",
      "     0.00000000e+00   0.00000000e+00]\n",
      "  [  0.00000000e+00              nan   1.00000000e+00 ...,   0.00000000e+00\n",
      "     0.00000000e+00   0.00000000e+00]\n",
      "  [  0.00000000e+00              nan   0.00000000e+00 ...,   0.00000000e+00\n",
      "     0.00000000e+00   0.00000000e+00]\n",
      "  ..., \n",
      "  [  0.00000000e+00              nan   0.00000000e+00 ...,   0.00000000e+00\n",
      "     1.24842118e-07   2.08272800e-03]\n",
      "  [  0.00000000e+00              nan   0.00000000e+00 ...,   0.00000000e+00\n",
      "     0.00000000e+00   5.83800788e-04]\n",
      "  [  0.00000000e+00              nan   0.00000000e+00 ...,   0.00000000e+00\n",
      "     0.00000000e+00   9.56488939e-01]]\n",
      "\n",
      " [[  9.99999937e-01   0.00000000e+00   0.00000000e+00 ...,   0.00000000e+00\n",
      "     0.00000000e+00   0.00000000e+00]\n",
      "  [  5.03452467e-08   2.58912166e-01   1.86650129e-02 ...,   0.00000000e+00\n",
      "     0.00000000e+00   0.00000000e+00]\n",
      "  [  1.27323026e-08   6.09233732e-01   3.05369962e-01 ...,   0.00000000e+00\n",
      "     0.00000000e+00   0.00000000e+00]\n",
      "  ..., \n",
      "  [  0.00000000e+00   0.00000000e+00   0.00000000e+00 ...,   4.24371934e-01\n",
      "     5.50562393e-01   1.76192069e-05]\n",
      "  [  0.00000000e+00   0.00000000e+00   0.00000000e+00 ...,   4.18595181e-02\n",
      "     3.77590039e-01   1.12430286e-04]\n",
      "  [  0.00000000e+00   0.00000000e+00   0.00000000e+00 ...,   0.00000000e+00\n",
      "     0.00000000e+00   9.99869772e-01]]\n",
      "\n",
      " [[  9.99999971e-01   0.00000000e+00   0.00000000e+00 ...,   0.00000000e+00\n",
      "     0.00000000e+00   0.00000000e+00]\n",
      "  [  2.21257698e-08   2.31313857e-01   1.52134424e-02 ...,   0.00000000e+00\n",
      "     0.00000000e+00   0.00000000e+00]\n",
      "  [  6.37975606e-09   6.20569371e-01   2.83780610e-01 ...,   0.00000000e+00\n",
      "     0.00000000e+00   0.00000000e+00]\n",
      "  ..., \n",
      "  [  0.00000000e+00   0.00000000e+00   0.00000000e+00 ...,   4.12177759e-01\n",
      "     5.58530373e-01   1.28245442e-05]\n",
      "  [  0.00000000e+00   0.00000000e+00   0.00000000e+00 ...,   3.87017193e-02\n",
      "     3.64635473e-01   7.78999236e-05]\n",
      "  [  0.00000000e+00   0.00000000e+00   0.00000000e+00 ...,   0.00000000e+00\n",
      "     0.00000000e+00   9.99909139e-01]]\n",
      "\n",
      " ..., \n",
      " [[  1.00000000e+00   0.00000000e+00   0.00000000e+00 ...,   0.00000000e+00\n",
      "     0.00000000e+00   0.00000000e+00]\n",
      "  [  0.00000000e+00   0.00000000e+00   0.00000000e+00 ...,   0.00000000e+00\n",
      "     0.00000000e+00   0.00000000e+00]\n",
      "  [  1.21414961e-20   1.81737859e-04   1.73926519e-06 ...,   0.00000000e+00\n",
      "     0.00000000e+00   0.00000000e+00]\n",
      "  ..., \n",
      "  [  0.00000000e+00   0.00000000e+00   0.00000000e+00 ...,   3.44985709e-03\n",
      "     8.52234191e-02   5.16072439e-14]\n",
      "  [  0.00000000e+00   0.00000000e+00   0.00000000e+00 ...,   1.74990973e-06\n",
      "     3.00566041e-04   1.69345865e-15]\n",
      "  [  0.00000000e+00   0.00000000e+00   0.00000000e+00 ...,   0.00000000e+00\n",
      "     0.00000000e+00   1.00000000e+00]]\n",
      "\n",
      " [[  1.00000000e+00              nan   0.00000000e+00 ...,   0.00000000e+00\n",
      "     0.00000000e+00   0.00000000e+00]\n",
      "  [  0.00000000e+00              nan   0.00000000e+00 ...,   0.00000000e+00\n",
      "     0.00000000e+00   0.00000000e+00]\n",
      "  [  0.00000000e+00              nan   0.00000000e+00 ...,   0.00000000e+00\n",
      "     0.00000000e+00   0.00000000e+00]\n",
      "  ..., \n",
      "  [  0.00000000e+00              nan   0.00000000e+00 ...,   0.00000000e+00\n",
      "     0.00000000e+00   0.00000000e+00]\n",
      "  [  0.00000000e+00              nan   0.00000000e+00 ...,   0.00000000e+00\n",
      "     0.00000000e+00   0.00000000e+00]\n",
      "  [  0.00000000e+00              nan   0.00000000e+00 ...,   0.00000000e+00\n",
      "     0.00000000e+00   1.00000000e+00]]\n",
      "\n",
      " [[  1.00000000e+00              nan              nan ...,              nan\n",
      "                nan   0.00000000e+00]\n",
      "  [  0.00000000e+00              nan              nan ...,              nan\n",
      "                nan   0.00000000e+00]\n",
      "  [  0.00000000e+00              nan              nan ...,              nan\n",
      "                nan   0.00000000e+00]\n",
      "  ..., \n",
      "  [  0.00000000e+00              nan              nan ...,              nan\n",
      "                nan   0.00000000e+00]\n",
      "  [  0.00000000e+00              nan              nan ...,              nan\n",
      "                nan   0.00000000e+00]\n",
      "  [  0.00000000e+00              nan              nan ...,              nan\n",
      "                nan   1.00000000e+00]]]\n"
     ]
    }
   ],
   "source": [
    "def Bmatrix(F,Fdistribm1,Fdistrib):\n",
    "    B = F*Fdistribm1\n",
    "    B = T.transpose(B)/Fdistrib\n",
    "    \n",
    "    return B\n",
    "\n",
    "\n",
    "def tensor3_test(Pf, Fmats):\n",
    "    # Pf 35x18\n",
    "    # Fs 17x35x35\n",
    "    \n",
    "#     # normalize to use as initial distribution of the backwards, posterior run\n",
    "#     Pd = Pd/T.sum(Pd)\n",
    "    \n",
    "#     # the backwards, posterior probability distribution\n",
    "#     Pb = T.zeros_like(Pf)\n",
    "#     # last timestep of backwards distribution is Pd\n",
    "#     Pb = T.set_subtensor(Pb[:,-1],Pd)\n",
    "\n",
    "    Fmats = Fmats\n",
    "    avec = Pf[:-1][:] # for reversed sequence k-1 -> 1\n",
    "    bvec = Pf[1:][:] # for reversed sequence k -> 2\n",
    "\n",
    "    res,_ = theano.scan(fn = Bmatrix,\n",
    "                outputs_info = None,\n",
    "                sequences = [Fmats, avec, bvec],\n",
    "                go_backwards = True\n",
    "               )\n",
    "\n",
    "    return res\n",
    "\n",
    "out_val = tensor3_test(Tmat, Tmat2)\n",
    "\n",
    "test = theano.function(\n",
    "    inputs = [Tmat, Tmat2],\n",
    "    outputs = out_val\n",
    ")\n",
    "\n",
    "tt = test(a_trace, Fs)\n",
    "print tt"
   ]
  },
  {
   "cell_type": "code",
   "execution_count": null,
   "metadata": {
    "collapsed": true
   },
   "outputs": [],
   "source": []
  }
 ],
 "metadata": {
  "kernelspec": {
   "display_name": "Python 2",
   "language": "python",
   "name": "python2"
  },
  "language_info": {
   "codemirror_mode": {
    "name": "ipython",
    "version": 2
   },
   "file_extension": ".py",
   "mimetype": "text/x-python",
   "name": "python",
   "nbconvert_exporter": "python",
   "pygments_lexer": "ipython2",
   "version": "2.7.10"
  }
 },
 "nbformat": 4,
 "nbformat_minor": 0
}
