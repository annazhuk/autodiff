{
 "cells": [
  {
   "cell_type": "markdown",
   "metadata": {},
   "source": [
    "# PBupsModelmusc with Algorithmic Differentiation in Julia\n",
    "4 more parameters."
   ]
  },
  {
   "cell_type": "code",
   "execution_count": 2,
   "metadata": {
    "collapsed": false
   },
   "outputs": [
    {
     "data": {
      "text/plain": [
       "isless (generic function with 46 methods)"
      ]
     },
     "execution_count": 2,
     "metadata": {},
     "output_type": "execute_result"
    }
   ],
   "source": [
    "# import packages..\n",
    "import ForwardDiff\n",
    "using ForwardDiff\n",
    "# using PyPlot\n",
    "import Base.convert\n",
    "import Optim\n",
    "using Optim\n",
    "\n",
    "# === Upgrading from ForwardDiff v0.1 to v0.2\n",
    "# instead of ForwardDiff.GradientNumber and ForwardDiff.HessianNumber, \n",
    "# we will use ForwardDiff.Dual\n",
    "\n",
    "convert(::Type{Float64}, x::ForwardDiff.Dual) = Float64(x.value)\n",
    "function convert(::Array{Float64}, x::Array{ForwardDiff.Dual}) \n",
    "    y = zeros(size(x)); \n",
    "    for i in 1:prod(size(x)) \n",
    "        y[i] = convert(Float64, x[i]) \n",
    "    end\n",
    "    return y\n",
    "end\n",
    "\n",
    "immutable NumericPair{X,Y} <: Number\n",
    "  x::X\n",
    "  y::Y\n",
    "end\n",
    "Base.isless(a::NumericPair, b::NumericPair) = (a.x<b.x) || (a.x==b.x && a.y<b.y)\n"
   ]
  },
  {
   "cell_type": "markdown",
   "metadata": {},
   "source": [
    "To evaluate how well a particular set of parameter values $\\theta$ fits the behavioral data, we compute the probability of oberving the data given the model.\n",
    "\n",
    "For each trial $i$, we will compute the likelihood of seeing the data under the model assuming that trials are independent. \n",
    "\n",
    "$P(D|\\theta) = \\prod_{i}P(d_i|t_{i,R},t_{i,L},\\theta)$\n",
    "\n",
    "$t_{i,R},t_{i,L}$ : the right and left click times on trial $i$\n",
    "\n",
    "$d_i$ : the subject's decision on trial $i$\n",
    "\n",
    "The best-fit parameter values are the parameters $\\theta$ that maximize the likelihood (Maximum likelihood values)\n",
    "\n",
    "To help maximize the likelihood(or log likelihood), we will compute the derivative $\\partial P(d_i|t_{i,R},t_{i,L},\\theta) / \\partial\\theta$ for each of the parameters in the set $\\theta$.\n",
    "\n",
    "After we get these gradients of 9 model parameters, we will apply them for optimization."
   ]
  },
  {
   "cell_type": "markdown",
   "metadata": {},
   "source": [
    "## Import data "
   ]
  },
  {
   "cell_type": "code",
   "execution_count": 3,
   "metadata": {
    "collapsed": false
   },
   "outputs": [
    {
     "data": {
      "text/plain": [
       "Dict{ByteString,Any} with 5 entries:\n",
       "  \"ratname\"      => \"B069\"\n",
       "  \"daterange\"    => 1x2 Array{Any,2}:…\n",
       "  \"avgdata\"      => Dict{ASCIIString,Any}(\"is_probe\"=>1x64537 Array{Bool,2}:…\n",
       "  \"rawdata\"      => Dict{ASCIIString,Any}(\"is_probe\"=>1x64537 Array{Any,2}:…\n",
       "  \"total_trials\" => 64537.0"
      ]
     },
     "execution_count": 3,
     "metadata": {},
     "output_type": "execute_result"
    }
   ],
   "source": [
    "using MAT\n",
    "ratdata = matread(\"testdata.mat\")\n",
    "# ratdata = matread(\"chrono_B069_rawdata.mat\")"
   ]
  },
  {
   "cell_type": "code",
   "execution_count": 4,
   "metadata": {
    "collapsed": false
   },
   "outputs": [
    {
     "data": {
      "text/plain": [
       "trialdata (generic function with 1 method)"
      ]
     },
     "execution_count": 4,
     "metadata": {},
     "output_type": "execute_result"
    }
   ],
   "source": [
    "function trialdata(rawdata, trial::Int)\n",
    "    if rawdata[\"pokedR\"][trial] > 0\n",
    "        rat_choice = 1;  # \"R\"\n",
    "    else\n",
    "        rat_choice = -1; # \"L\"\n",
    "    end;\n",
    "    \n",
    "    if typeof(rawdata[\"rightbups\"][trial]) <: Array\n",
    "        rvec = vec(rawdata[\"rightbups\"][trial])::Array{Float64,1};\n",
    "    else\n",
    "        rvec = Float64[]\n",
    "    end\n",
    "    if typeof(rawdata[\"leftbups\"][trial]) <: Array\n",
    "        lvec = vec(rawdata[\"leftbups\"][trial])::Array{Float64,1};\n",
    "    else\n",
    "        lvec = Float64[]\n",
    "    end\n",
    "    \n",
    "    return rvec, lvec, \n",
    "    rawdata[\"T\"][trial]::Float64, rat_choice\n",
    "end\n",
    "\n"
   ]
  },
  {
   "cell_type": "code",
   "execution_count": 5,
   "metadata": {
    "collapsed": false
   },
   "outputs": [
    {
     "data": {
      "text/plain": [
       "0-element Array{Float64,1}"
      ]
     },
     "execution_count": 5,
     "metadata": {},
     "output_type": "execute_result"
    }
   ],
   "source": [
    "a = Float64[]"
   ]
  },
  {
   "cell_type": "code",
   "execution_count": 6,
   "metadata": {
    "collapsed": false
   },
   "outputs": [
    {
     "name": "stdout",
     "output_type": "stream",
     "text": [
      "  0.069388 seconds (10.77 k allocations: 553.965 KB)\n"
     ]
    },
    {
     "data": {
      "text/plain": [
       "([0.0,0.001135000000000004,0.011165000000000001,0.01892,0.10638,0.20342,0.32964499999999997,0.33775999999999995],[0.0,0.19235,0.34360999999999997],0.35095899999999747,-1)"
      ]
     },
     "execution_count": 6,
     "metadata": {},
     "output_type": "execute_result"
    }
   ],
   "source": [
    "@time RightClickTimes, LeftClickTimes, maxT, rat_choice = trialdata(ratdata[\"rawdata\"], 1)"
   ]
  },
  {
   "cell_type": "markdown",
   "metadata": {},
   "source": [
    "## bin_centers = make_bins(B, dx, binN)"
   ]
  },
  {
   "cell_type": "code",
   "execution_count": 7,
   "metadata": {
    "collapsed": false
   },
   "outputs": [],
   "source": [
    "\"\"\"\n",
    "function bin_centers = make_bins(B, dx, binN)\n",
    "\n",
    "Makes a series of points that will indicate bin centers. The first and\n",
    "last points will indicate sticky bins. No \"bin edges\" are made-- the edge\n",
    "between two bins is always implicity at the halfway point between their\n",
    "corresponding centers. The center bin is always at x=0; bin spacing\n",
    "(except for last and first bins) is always dx; and the position\n",
    "of the first and last bins is chosen so that |B| lies exactly at the\n",
    "midpoint between 1st (sticky) and 2nd (first real) bins, as well as\n",
    "exactly at the midpoint between last but one (last real) and last\n",
    "(sticky) bins.\n",
    "\n",
    "Playing nice with ForwardDiff means that the *number* of bins must be predetermined.\n",
    "So this function will not actually set the number of bins; what it'll do is determine their\n",
    "locations. To accomplish this separation, the function uses as a third parameter binN,\n",
    "which should be equal to the number of bins with bin centers > 0, as follows: \n",
    "   binN = ceil(B/dx)\n",
    "and then the total number of bins will be 2*binN+1, with the center one always corresponding\n",
    "to position zero. Use non-differentiable types for B and dx for this to work.\n",
    "\"\"\"\n",
    "\n",
    "function make_bins{T}(bins::Vector{T}, B, dx::T, binN)\n",
    "    cnt = 1\n",
    "    for i=-binN:binN\n",
    "        bins[cnt] = i*dx\n",
    "        cnt = cnt+1\n",
    "    end\n",
    "    \n",
    "    if binN*dx == B\n",
    "        bins[end] = B + dx\n",
    "        bins[1] = -B - dx\n",
    "    else\n",
    "        bins[end] = 2*B - (binN-1)*dx\n",
    "        bins[1] = -2*B + (binN-1)*dx\n",
    "    end\n",
    "end;"
   ]
  },
  {
   "cell_type": "code",
   "execution_count": 8,
   "metadata": {
    "collapsed": false
   },
   "outputs": [
    {
     "name": "stdout",
     "output_type": "stream",
     "text": [
      "  0.092712 seconds (60.10 k allocations: 2.411 MB, 12.06% gc time)\n"
     ]
    },
    {
     "data": {
      "text/plain": [
       "35-element Array{Float64,1}:\n",
       " -4.2 \n",
       " -4.0 \n",
       " -3.75\n",
       " -3.5 \n",
       " -3.25\n",
       " -3.0 \n",
       " -2.75\n",
       " -2.5 \n",
       " -2.25\n",
       " -2.0 \n",
       " -1.75\n",
       " -1.5 \n",
       " -1.25\n",
       "  ⋮   \n",
       "  1.5 \n",
       "  1.75\n",
       "  2.0 \n",
       "  2.25\n",
       "  2.5 \n",
       "  2.75\n",
       "  3.0 \n",
       "  3.25\n",
       "  3.5 \n",
       "  3.75\n",
       "  4.0 \n",
       "  4.2 "
      ]
     },
     "execution_count": 8,
     "metadata": {},
     "output_type": "execute_result"
    }
   ],
   "source": [
    "binN = ceil(4.1/0.25)\n",
    "bins = zeros(typeof(binN), Int(binN*2+1))\n",
    "@time make_bins(bins,4.1,0.25,binN)\n",
    "bins"
   ]
  },
  {
   "cell_type": "code",
   "execution_count": 9,
   "metadata": {
    "collapsed": false
   },
   "outputs": [
    {
     "name": "stdout",
     "output_type": "stream",
     "text": [
      "1 task.jl; anonymous; line: 447\n",
      " 1 ...4/IJulia/src/IJulia.jl; eventloop; line: 143\n",
      "  1 ...src/execute_request.jl; execute_request_0x535c5df2; line: 183\n",
      "   1 loading.jl; include_string; line: 282\n",
      "    1 ...ia/lib/julia/sys.dylib; typeinf_ext; (unknown line)\n",
      "     1 ...a/lib/julia/sys.dylib; typeinf; (unknown line)\n",
      "      1 ...a/lib/julia/sys.dylib; typeinf_uncached; (unknown line)\n",
      "       1 ...a/lib/julia/sys.dylib; abstract_eval; (unknown line)\n",
      "        1 .../lib/julia/sys.dylib; abstract_eval_call; (unknown line)\n",
      "         1 .../lib/julia/sys.dylib; abstract_call; (unknown line)\n",
      "          1 ...lib/julia/sys.dylib; abstract_call_gf; (unknown line)\n",
      "           1 ...lib/julia/sys.dylib; typeinf; (unknown line)\n",
      "            1 ...lib/julia/sys.dylib; typeinf; (unknown line)\n",
      "             1 ...ib/julia/sys.dylib; typeinf_uncached; (unknown line)\n",
      "              1 ...ib/julia/sys.dylib; abstract_interpret; (unknown line)\n",
      "               1 ...b/julia/sys.dylib; abstract_eval; (unknown line)\n",
      "                1 ...b/julia/sys.dylib; abstract_eval_call; (unknown line)\n",
      "                 1 ...b/julia/sys.dylib; abstract_eval; (unknown line)\n",
      "                  1 .../julia/sys.dylib; abstract_eval_call; (unknown line)\n",
      "                   1 .../julia/sys.dylib; abstract_call; (unknown line)\n",
      "                    1 ...julia/sys.dylib; abstract_call_gf; (unknown line)\n",
      "                     1 ...julia/sys.dylib; indexed_next; (unknown line)\n"
     ]
    },
    {
     "data": {
      "text/plain": [
       "35-element Array{Float64,1}:\n",
       " -4.2 \n",
       " -4.0 \n",
       " -3.75\n",
       " -3.5 \n",
       " -3.25\n",
       " -3.0 \n",
       " -2.75\n",
       " -2.5 \n",
       " -2.25\n",
       " -2.0 \n",
       " -1.75\n",
       " -1.5 \n",
       " -1.25\n",
       "  ⋮   \n",
       "  1.5 \n",
       "  1.75\n",
       "  2.0 \n",
       "  2.25\n",
       "  2.5 \n",
       "  2.75\n",
       "  3.0 \n",
       "  3.25\n",
       "  3.5 \n",
       "  3.75\n",
       "  4.0 \n",
       "  4.2 "
      ]
     },
     "execution_count": 9,
     "metadata": {},
     "output_type": "execute_result"
    }
   ],
   "source": [
    "B = 4.1\n",
    "dx_test = 0.25\n",
    "binN = ceil(B/dx_test)\n",
    "bins = zeros(typeof(binN), Int(binN*2+1))\n",
    "@profile make_bins(bins,B,dx_test,binN)\n",
    "Profile.print()\n",
    "Profile.clear_malloc_data() \n",
    "bin_centers = bins\n",
    "bins"
   ]
  },
  {
   "cell_type": "markdown",
   "metadata": {},
   "source": [
    "## Global Variables"
   ]
  },
  {
   "cell_type": "code",
   "execution_count": 10,
   "metadata": {
    "collapsed": false
   },
   "outputs": [],
   "source": [
    "# Global variables \n",
    "const epsilon = 10.0^(-10);\n",
    "const dx = 0.25;\n",
    "const dt = 0.02;\n",
    "const total_rate = 40;"
   ]
  },
  {
   "cell_type": "markdown",
   "metadata": {},
   "source": [
    "## Parameters\n",
    "\n",
    "a : decision variable, memory accumulator\n",
    "\n",
    "$$ da =\n",
    "  \\begin{cases}\n",
    "    0       & \\quad \\text{if, } |a| \\geq B \\\\\n",
    "    \\sigma_adW + (\\delta_{t,t_R} \\cdot \\eta C(t) - \\delta_{t,t_L} \\cdot \\eta C(t))dt + \\lambda adt  & \\quad \\text{otherwise, }\\\\\n",
    "  \\end{cases}\n",
    "$$\n",
    "\n",
    "\n",
    "\n",
    "The impact of each click (C) is affected by sensory adaptation that depends on clicks from both right and left sides:\n",
    "\n",
    "$$ \n",
    "\\frac{\\mathrm d C}{\\mathrm d t} = \\frac{1-C}{\\tau_\\phi} + (1-\\phi)C(\\delta_{t,t_R}+\\delta_{t,t_L}) \n",
    "$$\n",
    "\n",
    "\n",
    "sigma2_a ($\\sigma_a^2$) : a diffusion constant, parameterizing noise in a.\n",
    "\n",
    "sigma2_s ($\\sigma_s^2$) : parameterizing noise when adding evidence from a right or left pulse. (incoming sensory evidence)\n",
    "\n",
    "sigma2_i ($\\sigma_i^2$) : initial condition for the dynamical equation at $t=0$\n",
    "\n",
    "lam ($\\lambda$) : consistent drift in the memory a ($\\lambda<0$ : leaky or forgetful case, $\\lambda>0$ : unstable or impulsive case)\n",
    "\n",
    "B : decision bound\n",
    "\n",
    "bias : bias parameter determines the position of the threshold in a (which a Rightward decision is made)\n",
    "\n",
    "phi ($\\phi$) : parameterize sensory adaptation (by defining the dynamics of C ($\\phi>1$ : Facilitation, $\\phi<1$ : Depression, $\\phi=1$ : absense of sensory adaptation)\n",
    "\n",
    "tau_phi ($\\tau_\\phi$) :\n",
    "\n",
    "lapse : The lapse rate parameterizes the probability of making a random response.\n",
    "\n",
    "______\n",
    "biased_sigma2_s :  \n",
    "biased_input :  \n",
    "biased_lapse :   \n"
   ]
  },
  {
   "cell_type": "code",
   "execution_count": 11,
   "metadata": {
    "collapsed": false
   },
   "outputs": [],
   "source": [
    "sigma_a = 1; sigma_s = 0.1; sigma_i = 0.2; \n",
    "sigma_a_sbin = sigma_a  # remember we need this copy for Fmatrix\n",
    "lam = -0.0005; B = 4.1; bias = 0.1; \n",
    "phi = 0.3; tau_phi = 0.1; lapse = 0.05*2;\n",
    "biased_sigma2_s = 0.1; biased_input = 0.1; biased_lapse = 0.1;\n",
    "params = [sigma_a, sigma_s, sigma_i, lam, B, bias, phi, tau_phi, lapse, biased_sigma2_s, biased_input, biased_lapse]   \n",
    "\n",
    "sigma = params[1];\n",
    "lam   = params[2];\n",
    "c     = params[3];"
   ]
  },
  {
   "cell_type": "markdown",
   "metadata": {},
   "source": [
    "## F = Fmatrix([sigma, lambda, c], bin_centers)"
   ]
  },
  {
   "cell_type": "code",
   "execution_count": 12,
   "metadata": {
    "collapsed": false
   },
   "outputs": [
    {
     "data": {
      "text/plain": [
       "Fmatrix (generic function with 1 method)"
      ]
     },
     "execution_count": 12,
     "metadata": {},
     "output_type": "execute_result"
    }
   ],
   "source": [
    "\"\"\"\n",
    "function F = Fmatrix([sigma, lambda, c], bin_centers)\n",
    "\n",
    "Uses globals\n",
    "    dt\n",
    "    dx\n",
    "    epsilon       (=10.0^-10)\n",
    "\n",
    "Returns a square Markov matrix of transition probabilities. \n",
    "Plays nice with ForwardDiff-- that is why bin_centers is a global vector (so that the rem\n",
    "operations that go into defining the bins, which ForwardDiff doesn't know how to deal with,\n",
    "stay outside of this differentiable function)\n",
    "\n",
    "sigma  should be in (accumulator units) per (second^(1/2))\n",
    "lambda should be in s^-1\n",
    "c      should be in accumulator units per second\n",
    "bin_centers should be a vector of the centers of all the bins. Edges will be at midpoints\n",
    "       between the centers, and the first and last bin will be sticky.\n",
    "\n",
    "dx is not used inside Fmatrix, because bin_centers specifies all we need to know.\n",
    "dt *is* used inside Fmatrix, to convert sigma, lambda, and c into timestep units\n",
    "\"\"\"\n",
    "function Fmatrix{T}(F::AbstractArray{T,2},params::Vector, bin_centers)\n",
    "    sigma2 = params[1];\n",
    "    lam   = params[2];\n",
    "    c     = params[3];\n",
    "    \n",
    "    sigma2_sbin = convert(Float64, sigma2)\n",
    "      \n",
    "    n_sbins = max(70, ceil(10*sqrt(sigma2_sbin)/dx))\n",
    "    \n",
    "    swidth = 5*sqrt(sigma2_sbin)\n",
    "    sbinsize = swidth/n_sbins;#sbins[2] - sbins[1]\n",
    "    base_sbins    = collect(-swidth:sbinsize:swidth)\n",
    "    \n",
    "    ps       = exp(-base_sbins.^2/(2*sigma2))\n",
    "    ps       = ps/sum(ps);\n",
    "    \n",
    "    sbin_length = length(base_sbins)\n",
    "    binN = length(bin_centers)\n",
    "\n",
    "    mu = 0.\n",
    "    for j in 2:binN\n",
    "        if lam == 0\n",
    "            mu = bin_centers[j]*exp(lam*dt)\n",
    "        else\n",
    "            mu = (bin_centers[j] + c/lam)*exp(lam*dt) - c/lam\n",
    "        end\n",
    "        \n",
    "        for k in 1:sbin_length\n",
    "            sbin = (k-1)*sbinsize + mu - swidth\n",
    "             \n",
    "            if sbin < bin_centers[1] #(bin_centers[1] + bin_centers[2])/2\n",
    "                F[1,j] = F[1,j] + ps[k]\n",
    "            elseif bin_centers[end] <= sbin#(bin_centers[end]+bin_centers[end-1])/2 <= sbins[k]\n",
    "                F[end,j] = F[end,j] + ps[k]\n",
    "            else # more condition\n",
    "                if (sbin > bin_centers[1] && sbin < bin_centers[2])\n",
    "                    lp = 1; hp = 2;\n",
    "                elseif (sbin > bin_centers[end-1] && sbin < bin_centers[end])\n",
    "                    lp = binN-1; hp = binN;\n",
    "                else \n",
    "                    lp = floor(Int,((sbin-bin_centers[2])/dx) + 2)#find(bin_centers .<= sbins[k])[end]\n",
    "                    hp = lp+1#Int(ceil((sbins[k]-bin_centers[2])/dx) + 1);\n",
    "                end\n",
    "\n",
    "                if lp < 1 \n",
    "                    lp = 1; \n",
    "                end\n",
    "                if hp < 1 \n",
    "                    hp = 1;\n",
    "                end\n",
    "\n",
    "                if lp == hp\n",
    "                    F[lp,j] = F[lp,j] + ps[k]\n",
    "                else\n",
    "                    dd = bin_centers[hp] - bin_centers[lp]\n",
    "                    F[hp,j] = F[hp,j] + ps[k]*(sbin - bin_centers[lp])/dd\n",
    "                    F[lp,j] = F[lp,j] + ps[k]*(bin_centers[hp] - sbin)/dd\n",
    "                end                   \n",
    "            end\n",
    "        end\n",
    "    end\n",
    "    F[:,1] = 0; F[:,end] = 0; F[1,1] = 1; F[end,end] = 1;\n",
    "end"
   ]
  },
  {
   "cell_type": "code",
   "execution_count": 13,
   "metadata": {
    "collapsed": false
   },
   "outputs": [
    {
     "name": "stdout",
     "output_type": "stream",
     "text": [
      "  0.370013 seconds (132.82 k allocations: 6.035 MB)\n"
     ]
    },
    {
     "data": {
      "text/plain": [
       "35x35 Array{Float64,2}:\n",
       " 1.0  0.41182      0.218907     0.0917964    …  0.0          0.0          0.0\n",
       " 0.0  0.197142     0.172131     0.112014        0.0          0.0          0.0\n",
       " 0.0  0.187228     0.217923     0.187228        0.0          0.0          0.0\n",
       " 0.0  0.119939     0.187228     0.217923        0.0          0.0          0.0\n",
       " 0.0  0.0571377    0.119939     0.187228        0.0          0.0          0.0\n",
       " 0.0  0.0202246    0.0571377    0.119939     …  0.0          0.0          0.0\n",
       " 0.0  0.00531176   0.0202246    0.0571377       0.0          0.0          0.0\n",
       " 0.0  0.00103206   0.00531176   0.0202246       0.0          0.0          0.0\n",
       " 0.0  0.000148294  0.00103206   0.00531176      0.0          0.0          0.0\n",
       " 0.0  1.59548e-5   0.000148294  0.00103206      0.0          0.0          0.0\n",
       " 0.0  1.11105e-6   1.59548e-5   0.000148294  …  0.0          0.0          0.0\n",
       " 0.0  0.0          1.11105e-6   1.59548e-5      0.0          0.0          0.0\n",
       " 0.0  0.0          0.0          1.11105e-6      0.0          0.0          0.0\n",
       " ⋮                                           ⋱                               \n",
       " 0.0  0.0          0.0          0.0             1.11105e-6   0.0          0.0\n",
       " 0.0  0.0          0.0          0.0             1.59548e-5   1.11105e-6   0.0\n",
       " 0.0  0.0          0.0          0.0          …  0.000148294  1.59548e-5   0.0\n",
       " 0.0  0.0          0.0          0.0             0.00103206   0.000148294  0.0\n",
       " 0.0  0.0          0.0          0.0             0.00531176   0.00103206   0.0\n",
       " 0.0  0.0          0.0          0.0             0.0202246    0.00531176   0.0\n",
       " 0.0  0.0          0.0          0.0             0.0571377    0.0202246    0.0\n",
       " 0.0  0.0          0.0          0.0          …  0.119939     0.0571377    0.0\n",
       " 0.0  0.0          0.0          0.0             0.187228     0.119939     0.0\n",
       " 0.0  0.0          0.0          0.0             0.217923     0.187228     0.0\n",
       " 0.0  0.0          0.0          0.0             0.172131     0.197142     0.0\n",
       " 0.0  0.0          0.0          0.0             0.218907     0.41182      1.0"
      ]
     },
     "execution_count": 13,
     "metadata": {},
     "output_type": "execute_result"
    }
   ],
   "source": [
    "F = zeros(typeof(0.2),length(bin_centers),length(bin_centers))\n",
    "@time Fmatrix(F,[0.2, 0., 0.0],bin_centers) # Fi\n",
    "F"
   ]
  },
  {
   "cell_type": "code",
   "execution_count": 14,
   "metadata": {
    "collapsed": false
   },
   "outputs": [
    {
     "name": "stdout",
     "output_type": "stream",
     "text": [
      "  0.000083 seconds (13 allocations: 7.547 KB)\n"
     ]
    },
    {
     "data": {
      "text/plain": [
       "35x35 Array{Float64,2}:\n",
       " 1.0  0.461125    0.365007    0.274946    …  0.0         0.0         0.0\n",
       " 0.0  0.0908452   0.0859592   0.0811359      0.0         0.0         0.0\n",
       " 0.0  0.0945948   0.100835    0.0946575      0.0         0.0         0.0\n",
       " 0.0  0.0888839   0.0945533   0.100892       0.0         0.0         0.0\n",
       " 0.0  0.0737024   0.0889555   0.0945117      0.0         0.0         0.0\n",
       " 0.0  0.0612142   0.0736883   0.0890271   …  0.0         0.0         0.0\n",
       " 0.0  0.044833    0.0612781   0.0736743      0.0         0.0         0.0\n",
       " 0.0  0.0329193   0.0448354   0.0613421      0.0         0.0         0.0\n",
       " 0.0  0.0212918   0.0329616   0.0448377      0.0         0.0         0.0\n",
       " 0.0  0.0138235   0.021298    0.0330038      0.0         0.0         0.0\n",
       " 0.0  0.0078944   0.0138445   0.0213041   …  0.0         0.0         0.0\n",
       " 0.0  0.00453257  0.0078985   0.0138655      0.0         0.0         0.0\n",
       " 0.0  0.00228512  0.00454054  0.00790261     3.13941e-7  0.0         0.0\n",
       " ⋮                                        ⋱                             \n",
       " 0.0  0.0         0.0         3.40328e-7     0.00783279  0.00440511  0.0\n",
       " 0.0  0.0         0.0         0.0            0.0135081   0.00782868  0.0\n",
       " 0.0  0.0         0.0         0.0         …  0.0211994   0.0134871   0.0\n",
       " 0.0  0.0         0.0         0.0            0.0322857   0.0211932   0.0\n",
       " 0.0  0.0         0.0         0.0            0.0447976   0.0322435   0.0\n",
       " 0.0  0.0         0.0         0.0            0.0602548   0.0447953   0.0\n",
       " 0.0  0.0         0.0         0.0            0.0739127   0.0601908   0.0\n",
       " 0.0  0.0         0.0         0.0         …  0.0878095   0.0739267   0.0\n",
       " 0.0  0.0         0.0         0.0            0.0952181   0.0877379   0.0\n",
       " 0.0  0.0         0.0         0.0            0.0999224   0.0952597   0.0\n",
       " 0.0  0.0         0.0         0.0            0.0863713   0.0901428   0.0\n",
       " 0.0  0.0         0.0         0.0            0.368213    0.464534    1.0"
      ]
     },
     "execution_count": 14,
     "metadata": {},
     "output_type": "execute_result"
    }
   ],
   "source": [
    "F = zeros(typeof(params[1]),length(bin_centers),length(bin_centers))\n",
    "@time Fmatrix(F,params,bin_centers)\n",
    "F"
   ]
  },
  {
   "cell_type": "markdown",
   "metadata": {},
   "source": [
    "## logProbRight \n",
    "### (params::Vector, RightClickTimes::Vector, LeftClickTimes::Vector, Nsteps::Int)\n",
    "\n",
    "* params = [sigma_a, sigma_s, sigma_i, lambda, B, bias, phi, tau_phi, lapse]\n",
    "* RightClickTimes vector with elements indicating times of right clicks\n",
    "* LeftClickTimes vector with elements indicating times of left clicks\n",
    "* Nsteps number of timesteps to simulate \n",
    "\n",
    "a (column vector representing distribution of values of accumulator a)\n",
    "\n",
    "a_trace (length(bin_centers)-by-Nsteps+1), a trace of the distribution of a as \n",
    "    a function of time\n",
    "    \n",
    "c_trace (row vector Nsteps+1 long, effective value of c as \n",
    "    a function of time after adaptation)\n"
   ]
  },
  {
   "cell_type": "code",
   "execution_count": 18,
   "metadata": {
    "collapsed": false
   },
   "outputs": [
    {
     "data": {
      "text/plain": [
       "logLike (generic function with 1 method)"
      ]
     },
     "execution_count": 18,
     "metadata": {},
     "output_type": "execute_result"
    }
   ],
   "source": [
    "\"\"\"\n",
    "version with inter-click interval(ici) for c_eff_net / c_eff_tot (followed the matlab code) \n",
    "(which was using dt for c_eff)\n",
    "\n",
    "function logProbRight(params::Vector, RightClickTimes::Vector, LeftClickTimes::Vector, Nsteps::Int)\n",
    "\n",
    "    Nsteps            number of timesteps to simulate\n",
    "    RightClickTimes   vector with elements indicating times of right clicks\n",
    "    LeftClickTimes    vector with elements indicating times of left clicks\n",
    "\n",
    "    a      (column vector representing distribution of values of accumulator a)\n",
    "\n",
    "    a_trace (length(bin_centers)-by-Nsteps+1), a trace of the distribution of a as \n",
    "            a function of time\n",
    "    c_trace (row vector Nsteps+1 long, effective value of c as \n",
    "            a function of time after adaptation)\n",
    "\n",
    "Takes params\n",
    "    sigma_a = params[1]; sigma_s = params[2]; sigma_i = params[3]; \n",
    "    lambda = params[4]; B = params[5]; bias = params[6]; \n",
    "    phi = params[7]; tau_phi = params[8]; lapse = params[9]\n",
    "\n",
    "Returns the log of the probability that the agent chose Right. \n",
    "\"\"\"\n",
    "\n",
    "function logProbRight(params::Vector, RightClickTimes::Array{Float64,1}, LeftClickTimes::Array{Float64,1}, Nsteps::Int)\n",
    "    sigma_a = params[1]; sigma_s = params[2]; sigma_i = params[3]; \n",
    "    lambda = params[4]; B = params[5]; bias = params[6]; \n",
    "    phi = params[7]; tau_phi = params[8]; lapse = params[9]\n",
    "    biased_sigma2_s = params[10]; biased_input = params[11]; biased_lapse = params[12];\n",
    "    \n",
    "    if isempty(RightClickTimes) RightClickTimes = zeros(0) end;\n",
    "    if isempty(LeftClickTimes ) LeftClickTimes  = zeros(0) end;\n",
    "    \n",
    "    NClicks = zeros(Int, Nsteps); \n",
    "    Lhere  = zeros(Int, length(LeftClickTimes)); \n",
    "    Rhere = zeros(Int, length(RightClickTimes)); \n",
    "    \n",
    "    for i in 1:length(LeftClickTimes)\n",
    "        Lhere[i] = ceil((LeftClickTimes[i]+epsilon)/dt)\n",
    "    end\n",
    "    for i in 1:length(RightClickTimes)\n",
    "        Rhere[i] = ceil((RightClickTimes[i]+epsilon)/dt)\n",
    "    end    \n",
    "    \n",
    "    for i in Lhere  \n",
    "        NClicks[Int(i)] = NClicks[Int(i)]  + 1\n",
    "    end\n",
    "    for i in Rhere  \n",
    "        NClicks[Int(i)] = NClicks[Int(i)]  + 1\n",
    "    end\n",
    "    \n",
    "    # === Upgrading from ForwardDiff v0.1 to v0.2\n",
    "    # instead of using convert we can use floor(Int, ForwardDiff.Dual) and\n",
    "    # ceil(Int, ForwardDiff.Dual)\n",
    "\n",
    "    binN = ceil(Int, B/dx)#Int(ceil(my_B/dx))  \n",
    "    binBias = floor(Int, bias/dx) + binN+1  \n",
    "    bin_centers = zeros(typeof(dx), binN*2+1)\n",
    "    make_bins(bin_centers, B, dx, binN)  \n",
    "\n",
    "    ## biased params added\n",
    "    a0 = zeros(typeof(sigma_a),length(bin_centers))\n",
    "    a0[binN+1] = 1-lapse/2-biased_lapse/2; a0[1] = biased_lapse/2; a0[end] = lapse/2;\n",
    "    \n",
    "    temp_l = [NumericPair(LeftClickTimes[i],-1) for i=1:length(LeftClickTimes)]\n",
    "    temp_r = [NumericPair(RightClickTimes[i],1) for i=1:length(RightClickTimes)]\n",
    "    allbups = sort!([temp_l; temp_r])\n",
    "\n",
    "    c_eff = 0.\n",
    "    cnt = 0\n",
    "        \n",
    "    Fi = zeros(typeof(sigma_i),length(bin_centers),length(bin_centers))\n",
    "    Fmatrix(Fi,[sigma_i, 0., 0.0], bin_centers)\n",
    "    a = Fi*a0;\n",
    "    \n",
    "    F0 = zeros(typeof(sigma_a),length(bin_centers),length(bin_centers))\n",
    "    Fmatrix(F0,[sigma_a*dt, lambda, 0.0], bin_centers)\n",
    "    for i in 2:Nsteps \n",
    "        c_eff_tot = 0.\n",
    "        c_eff_net = 0.\n",
    "        net_c_input = 0.\n",
    "        net_i_input = 0.\n",
    "        \n",
    "        if NClicks[i-1]==0\n",
    "            c_eff_tot = 0.\n",
    "            c_eff_net = 0.\n",
    "            a = F0*a\n",
    "        else\n",
    "            for j in 1:NClicks[i-1]\n",
    "                if cnt != 0 || j != 1\n",
    "                    ici = allbups[cnt+j].x - allbups[cnt+j-1].x\n",
    "                    c_eff = 1 + (c_eff*phi - 1)*exp(-ici/tau_phi)\n",
    "                    c_eff_tot = c_eff_tot + c_eff\n",
    "                    c_eff_net = c_eff_net + c_eff*allbups[cnt+j].y\n",
    "                    \n",
    "                    ## biased params added\n",
    "                    net_c_input = (c_eff_tot+c_eff_net)/2\n",
    "                    net_i_input = c_eff_tot-c_eff_net\n",
    "                    \n",
    "                    c_eff_net = net_c_input*biased_input - net_i_input\n",
    "                end\n",
    "                if j == NClicks[i-1]\n",
    "                    cnt = cnt+j\n",
    "                end\n",
    "            end\n",
    "            \n",
    "            gain_first = 0\n",
    "            ## biased params added\n",
    "            if gain_first == 1\n",
    "                net_sigma = sigma_a*dt + (sigma_s*net_i_input)/total_rate + net_c_input*biased_input*biased_sigma2_s/total_rate\n",
    "            else\n",
    "                net_sigma = sigma_a*dt + (sigma_s*net_i_input)/total_rate + net_c_input*biased_sigma2_s/total_rate\n",
    "            end\n",
    "            F = zeros(typeof(net_sigma),length(bin_centers),length(bin_centers))\n",
    "            Fmatrix(F,[net_sigma, lambda, c_eff_net/dt], bin_centers)\n",
    "            a = F*a\n",
    "        end\n",
    "    end\n",
    "#     plot(1:Nsteps+1,c_trace[:])    \n",
    "#     imshow(a_trace, interpolation=\"none\")\n",
    "    pright = sum(a[binBias+2:end]) + \n",
    "    a[binBias]*((bin_centers[binBias+1] - bias)/dx/2) +\n",
    "    a[binBias+1]*(0.5 + (bin_centers[binBias+1] - bias)/dx/2)\n",
    "    \n",
    "    return log(pright)\n",
    "end\n",
    "\n",
    "function logLike(params::Vector, RightClickTimes::Array{Float64,1}, LeftClickTimes::Array{Float64,1}, Nsteps::Int, rat_choice::Int)\n",
    "    if rat_choice > 0\n",
    "        # println(\"Right\")\n",
    "        return logProbRight(params, RightClickTimes, LeftClickTimes, Nsteps)\n",
    "    elseif rat_choice < 0\n",
    "        # println(\"Left\")\n",
    "        return log(1 - exp(logProbRight(params, RightClickTimes, LeftClickTimes, Nsteps)))\n",
    "    end\n",
    "end"
   ]
  },
  {
   "cell_type": "markdown",
   "metadata": {},
   "source": [
    "## single_trial\n",
    "### (params::Vector, RightClickTimes::Vector, LeftClickTimes::Vector, Nsteps::Int, rat_choice::Int)"
   ]
  },
  {
   "cell_type": "code",
   "execution_count": 19,
   "metadata": {
    "collapsed": false
   },
   "outputs": [
    {
     "data": {
      "text/plain": [
       "single_trial (generic function with 1 method)"
      ]
     },
     "execution_count": 19,
     "metadata": {},
     "output_type": "execute_result"
    }
   ],
   "source": [
    "\"\"\" \n",
    "function (LL, LLgrad) = \n",
    "    single_trial(params::Vector, RightClickTimes::Vector, LeftClickTimes::Vector, Nsteps::Int, rat_choice::Int)\n",
    "\n",
    "Computes the log likelihood according to Bing's model, and returns log likelihood, gradient\n",
    "\n",
    "params is a vector whose elements, in order, are\n",
    "    sigma_a    square root of accumulator variance per unit time sqrt(click units^2 per second)\n",
    "    sigma_s    standard deviation introduced with each click (will get scaled by click adaptation)\n",
    "    sigma_i    square root of initial accumulator variance sqrt(click units^2)\n",
    "    lambda     1/accumulator time constant (sec^-1). Positive means unstable, neg means stable\n",
    "    B          sticky bound height (click units)\n",
    "    bias       where the decision boundary lies (click units)\n",
    "    phi        click adaptation/facilitation multiplication parameter\n",
    "    tau_phi    time constant for recovery from click adaptation (sec)\n",
    "    lapse      2*lapse fraction of trials are decided randomly\n",
    "\n",
    "rat_choice     should be either \"R\" or \"L\"\n",
    "\n",
    "\n",
    "RETURNS:\n",
    "\n",
    "\n",
    "\"\"\"\n",
    "# === Upgrading from ForwardDiff v0.1 to v0.2\n",
    "# for Retrieving Lower-Order Results\n",
    "#     # old way\n",
    "#     answer, results = ForwardDiff.hessian(f, x, AllResults)\n",
    "#     v = ForwardDiff.value(results)\n",
    "#     g = ForwardDiff.gradient(results)\n",
    "#     h = ForwardDiff.hessian(results) # == answer\n",
    "\n",
    "#     # new way\n",
    "#     out = HessianResult(x)\n",
    "#     ForwardDiff.hessian!(out, f, x)\n",
    "#     v = ForwardDiff.value(out)\n",
    "#     g = ForwardDiff.gradient(out)\n",
    "#     h = ForwardDiff.hessian(out)\n",
    "\n",
    "function single_trial(params::Vector, RightClickTimes::Array{Float64,1}, LeftClickTimes::Array{Float64,1}, Nsteps::Int, rat_choice::Int)\n",
    "    function llikey(params::Vector)\n",
    "        logLike(params, RightClickTimes, LeftClickTimes, Nsteps, rat_choice)\n",
    "    end\n",
    "\n",
    "    result =  GradientResult(params)\n",
    "    \n",
    "    ForwardDiff.gradient!(result, llikey, params);\n",
    "    \n",
    "    LL     = ForwardDiff.value(result)\n",
    "    LLgrad = ForwardDiff.gradient(result)\n",
    "   \n",
    "    return LL, LLgrad\n",
    "end\n",
    "\n",
    "# function single_trial(params::Vector, RightClickTimes::Vector, LeftClickTimes::Vector, Nsteps::Int, rat_choice::Int)\n",
    "#     function llikey(params::Vector)\n",
    "#         logLike(params, RightClickTimes, LeftClickTimes, Nsteps, rat_choice)\n",
    "#     end\n",
    "\n",
    "#     result =  HessianResult(params) \n",
    "#     ForwardDiff.hessian!(result, llikey, params);\n",
    "    \n",
    "#     LL     = ForwardDiff.value(result)\n",
    "#     LLgrad = ForwardDiff.gradient(result)\n",
    "#     LLhessian = ForwardDiff.hessian(result)\n",
    "   \n",
    "#     return LL, LLgrad, LLhessian\n",
    "# end"
   ]
  },
  {
   "cell_type": "code",
   "execution_count": 20,
   "metadata": {
    "collapsed": false
   },
   "outputs": [
    {
     "name": "stdout",
     "output_type": "stream",
     "text": [
      "  0.213587 seconds (122.32 k allocations: 6.712 MB)\n"
     ]
    },
    {
     "data": {
      "text/plain": [
       "-0.061441542554305784"
      ]
     },
     "execution_count": 20,
     "metadata": {},
     "output_type": "execute_result"
    }
   ],
   "source": [
    "### =============== testing 1 ================= ####\n",
    "\n",
    "# Parameters\n",
    "sigma_a = 1; sigma_s = 0.1; sigma_i = 0.2; \n",
    "sigma_a_sbin = sigma_a  # remember we need this copy for Fmatrix\n",
    "lam = -0.0005; B = 4.1; bias = 0.1; \n",
    "phi = 0.3; tau_phi = 0.1; lapse = 0.05*2;\n",
    "biased_sigma2_s = 0.1; biased_input = 0.1; biased_lapse = 0.1;\n",
    "params = [sigma_a, sigma_s, sigma_i, lam, B, bias, phi, tau_phi, lapse, biased_sigma2_s, biased_input, biased_lapse]   \n",
    "\n",
    "RightClickTimes, LeftClickTimes, maxT, rat_choice = trialdata(ratdata[\"rawdata\"], 1)\n",
    "Nsteps = Int(cld(maxT,dt))\n",
    "\n",
    "@time logLike(params, RightClickTimes, LeftClickTimes, Nsteps, rat_choice)\n",
    "### =========================================== #### "
   ]
  },
  {
   "cell_type": "code",
   "execution_count": 21,
   "metadata": {
    "collapsed": false,
    "scrolled": true
   },
   "outputs": [
    {
     "name": "stdout",
     "output_type": "stream",
     "text": [
      "  1.952016 seconds (1.16 M allocations: 53.366 MB, 1.43% gc time)\n",
      "-0.061441542554305784\n",
      "[-0.013924431739652634,-0.00212980836960904,-0.04088267955323025,-0.005989831856647342,-0.0,0.028179747614771773,0.014758076936307426,-0.30603372348125085,-0.5260175463079088,-0.00175993441792658,-0.08123661325677888,0.005666620149731098]\n"
     ]
    }
   ],
   "source": [
    "### =============== testing 2 ================= ####\n",
    "@time LL, LLgrad = single_trial(params, RightClickTimes, LeftClickTimes, Nsteps, rat_choice)\n",
    "println(LL)\n",
    "println(LLgrad)\n",
    "### =========================================== ####"
   ]
  },
  {
   "cell_type": "code",
   "execution_count": 22,
   "metadata": {
    "collapsed": false
   },
   "outputs": [
    {
     "data": {
      "text/plain": [
       "-0.061441542554305784"
      ]
     },
     "execution_count": 22,
     "metadata": {},
     "output_type": "execute_result"
    }
   ],
   "source": [
    "LL"
   ]
  },
  {
   "cell_type": "code",
   "execution_count": 23,
   "metadata": {
    "collapsed": false
   },
   "outputs": [
    {
     "data": {
      "text/plain": [
       "12-element Array{Float64,1}:\n",
       " -0.0139244 \n",
       " -0.00212981\n",
       " -0.0408827 \n",
       " -0.00598983\n",
       " -0.0       \n",
       "  0.0281797 \n",
       "  0.0147581 \n",
       " -0.306034  \n",
       " -0.526018  \n",
       " -0.00175993\n",
       " -0.0812366 \n",
       "  0.00566662"
      ]
     },
     "execution_count": 23,
     "metadata": {},
     "output_type": "execute_result"
    }
   ],
   "source": [
    "LLgrad"
   ]
  },
  {
   "cell_type": "markdown",
   "metadata": {
    "collapsed": false
   },
   "source": [
    "# Maximize LL over parameter space\n",
    "### Optimization with Optim.jl\n"
   ]
  },
  {
   "cell_type": "code",
   "execution_count": 24,
   "metadata": {
    "collapsed": false
   },
   "outputs": [
    {
     "data": {
      "text/plain": [
       "ComputeLL (generic function with 1 method)"
      ]
     },
     "execution_count": 24,
     "metadata": {},
     "output_type": "execute_result"
    }
   ],
   "source": [
    "function ComputeLL(params::Vector, ratdata, ntrials::Int)\n",
    "    LL        = 0.\n",
    "        \n",
    "    for i in 1:ntrials\n",
    "        RightClickTimes, LeftClickTimes, maxT, rat_choice = trialdata(ratdata, i)\n",
    "        Nsteps = Int(ceil(maxT/dt))\n",
    "\n",
    "        LLi = logLike(params, RightClickTimes, LeftClickTimes, Nsteps, rat_choice)\n",
    "        LL        = LL + LLi;\n",
    "    end\n",
    "    \n",
    "    LL = -LL\n",
    "    return LL\n",
    "end"
   ]
  },
  {
   "cell_type": "code",
   "execution_count": 25,
   "metadata": {
    "collapsed": false
   },
   "outputs": [
    {
     "data": {
      "text/plain": [
       "ComputeGrad (generic function with 1 method)"
      ]
     },
     "execution_count": 25,
     "metadata": {},
     "output_type": "execute_result"
    }
   ],
   "source": [
    "function ComputeGrad(params::Vector, ratdata, ntrials::Int)\n",
    "    function WrapperLL(params::Vector)\n",
    "        LL        = 0.\n",
    "\n",
    "        for i in 1:ntrials\n",
    "            RightClickTimes, LeftClickTimes, maxT, rat_choice = trialdata(ratdata, i)\n",
    "            Nsteps = Int(ceil(maxT/dt))\n",
    "\n",
    "            LLi = logLike(params, RightClickTimes, LeftClickTimes, Nsteps, rat_choice)\n",
    "            LL        = LL + LLi;\n",
    "        end\n",
    "\n",
    "        LL = -LL\n",
    "        return LL\n",
    "    end\n",
    "\n",
    "    result =  GradientResult(params)\n",
    "    \n",
    "    ForwardDiff.gradient!(result, WrapperLL, params);\n",
    "    \n",
    "    LL     = ForwardDiff.value(result)\n",
    "    LLgrad = ForwardDiff.gradient(result)\n",
    "   \n",
    "    return LL, LLgrad\n",
    "end"
   ]
  },
  {
   "cell_type": "code",
   "execution_count": 26,
   "metadata": {
    "collapsed": false
   },
   "outputs": [
    {
     "name": "stdout",
     "output_type": "stream",
     "text": [
      "2   ...ia/lib/julia/sys.dylib; trunc; (unknown line)\n",
      "366 task.jl; anonymous; line: 447\n",
      " 366 .../IJulia/src/IJulia.jl; eventloop; line: 143\n",
      "  366 ...rc/execute_request.jl; execute_request_0x535c5df2; line: 183\n",
      "   366 loading.jl; include_string; line: 282\n",
      "    1   ...a/lib/julia/sys.dylib; typeinf_ext; (unknown line)\n",
      "     1 ...a/lib/julia/sys.dylib; typeinf; (unknown line)\n",
      "      1 ...a/lib/julia/sys.dylib; typeinf_uncached; (unknown line)\n",
      "       1 ...a/lib/julia/sys.dylib; abstract_eval; (unknown line)\n",
      "        1 .../lib/julia/sys.dylib; abstract_eval_call; (unknown line)\n",
      "         1 .../lib/julia/sys.dylib; abstract_call; (unknown line)\n",
      "          1 ...lib/julia/sys.dylib; abstract_call_gf; (unknown line)\n",
      "           1 ...lib/julia/sys.dylib; typeinf; (unknown line)\n",
      "            1 ...lib/julia/sys.dylib; typeinf; (unknown line)\n",
      "             1 ...ib/julia/sys.dylib; typeinf_uncached; (unknown line)\n",
      "              1 ...ib/julia/sys.dylib; abstract_interpret; (unknown line)\n",
      "               1 ...b/julia/sys.dylib; abstract_eval; (unknown line)\n",
      "                1 ...b/julia/sys.dylib; abstract_eval_call; (unknown line)\n",
      "                 1 ...b/julia/sys.dylib; abstract_eval; (unknown line)\n",
      "                  1 .../julia/sys.dylib; abstract_eval_call; (unknown line)\n",
      "                   1 .../julia/sys.dylib; abstract_call; (unknown line)\n",
      "                    1 ...julia/sys.dylib; abstract_call_gf; (unknown line)\n",
      "                     1 ...julia/sys.dylib; indexed_next; (unknown line)\n",
      "    364 profile.jl; anonymous; line: 16\n",
      "     5   ...a/lib/julia/sys.dylib; typeinf_ext; (unknown line)\n",
      "      5 ...a/lib/julia/sys.dylib; typeinf; (unknown line)\n",
      "       5 ...a/lib/julia/sys.dylib; typeinf_uncached; (unknown line)\n",
      "        1 .../lib/julia/sys.dylib; abstract_interpret; (unknown line)\n",
      "         1 .../lib/julia/sys.dylib; abstract_eval; (unknown line)\n",
      "          1 ...lib/julia/sys.dylib; abstract_eval_call; (unknown line)\n",
      "           1 ...lib/julia/sys.dylib; abstract_call; (unknown line)\n",
      "            1 ...lib/julia/sys.dylib; abstract_call; (unknown line)\n",
      "             1 ...ib/julia/sys.dylib; abstract_call_gf; (unknown line)\n",
      "              1 ...ib/julia/sys.dylib; _methods; (unknown line)\n",
      "               1 ...b/julia/sys.dylib; _methods; (unknown line)\n",
      "                1 ...b/julia/sys.dylib; _methods; (unknown line)\n",
      "                 1 ...b/julia/sys.dylib; _methods; (unknown line)\n",
      "        2 .../lib/julia/sys.dylib; inlining_pass; (unknown line)\n",
      "         2 .../lib/julia/sys.dylib; inlining_pass; (unknown line)\n",
      "          2 ...lib/julia/sys.dylib; inlining_pass; (unknown line)\n",
      "           1 ...lib/julia/sys.dylib; inlineable; (unknown line)\n",
      "            1 ...lib/julia/sys.dylib; _methods; (unknown line)\n",
      "             1 ...ib/julia/sys.dylib; _methods; (unknown line)\n",
      "              1 ...ib/julia/sys.dylib; _methods; (unknown line)\n",
      "               1 ...b/julia/sys.dylib; _methods; (unknown line)\n",
      "           1 ...lib/julia/sys.dylib; inlining_pass; (unknown line)\n",
      "            1 ...lib/julia/sys.dylib; inlineable; (unknown line)\n",
      "             1 ...ib/julia/sys.dylib; _methods; (unknown line)\n",
      "              1 ...ib/julia/sys.dylib; _methods; (unknown line)\n",
      "               1 ...b/julia/sys.dylib; _methods; (unknown line)\n",
      "                1 ...b/julia/sys.dylib; _methods; (unknown line)\n",
      "        1 .../lib/julia/sys.dylib; stchanged; (unknown line)\n",
      "         1 .../lib/julia/sys.dylib; schanged; (unknown line)\n",
      "     1   In[24]; ComputeLL; line: 5\n",
      "      1 In[4]; trialdata; line: 8\n",
      "       1 array.jl; getindex; line: 282\n",
      "     354 In[24]; ComputeLL; line: 8\n",
      "      164 In[18]; logLike; line: 132\n",
      "       10 In[18]; logProbRight; line: 74\n",
      "        1 In[12]; Fmatrix; line: 36\n",
      "         1 arraymath.jl; ./; line: 49\n",
      "        1 In[12]; Fmatrix; line: 51\n",
      "        1 In[12]; Fmatrix; line: 55\n",
      "        2 In[12]; Fmatrix; line: 63\n",
      "         2 .../lib/julia/sys.dylib; trunc; (unknown line)\n",
      "        1 In[12]; Fmatrix; line: 75\n",
      "        2 In[12]; Fmatrix; line: 78\n",
      "       8  In[18]; logProbRight; line: 75\n",
      "        3 linalg/matmul.jl; gemv!; line: 233\n",
      "         3 linalg/blas.jl; gemv!; line: 292\n",
      "       15 In[18]; logProbRight; line: 78\n",
      "        1 In[12]; Fmatrix; line: 34\n",
      "         1 range.jl; colon; line: 143\n",
      "          1 range.jl; rat; line: 121\n",
      "           1 ...lib/julia/sys.dylib; trunc; (unknown line)\n",
      "        1 In[12]; Fmatrix; line: 36\n",
      "         1 operators.jl; exp; line: 380\n",
      "        1 In[12]; Fmatrix; line: 47\n",
      "        1 In[12]; Fmatrix; line: 51\n",
      "        3 In[12]; Fmatrix; line: 55\n",
      "        3 In[12]; Fmatrix; line: 63\n",
      "         2 .../lib/julia/sys.dylib; trunc; (unknown line)\n",
      "        4 In[12]; Fmatrix; line: 78\n",
      "        1 In[12]; Fmatrix; line: 79\n",
      "       20 In[18]; logProbRight; line: 88\n",
      "        19 linalg/matmul.jl; gemv!; line: 233\n",
      "         19 linalg/blas.jl; gemv!; line: 292\n",
      "       1  In[18]; logProbRight; line: 115\n",
      "        1 essentials.jl; call; line: 201\n",
      "       84 In[18]; logProbRight; line: 116\n",
      "        1  ...lib/julia/sys.dylib; vect; (unknown line)\n",
      "        1  In[12]; Fmatrix; line: 34\n",
      "         1 range.jl; vcat; line: 662\n",
      "        11 In[12]; Fmatrix; line: 36\n",
      "         1 arraymath.jl; -; line: 15\n",
      "         1 arraymath.jl; ./; line: 49\n",
      "         2 arraymath.jl; .^; line: 57\n",
      "         7 operators.jl; exp; line: 380\n",
      "        1  In[12]; Fmatrix; line: 37\n",
      "         1 arraymath.jl; ./; line: 49\n",
      "        1  In[12]; Fmatrix; line: 47\n",
      "        1  In[12]; Fmatrix; line: 51\n",
      "        1  In[12]; Fmatrix; line: 53\n",
      "        1  In[12]; Fmatrix; line: 55\n",
      "        1  In[12]; Fmatrix; line: 58\n",
      "        4  In[12]; Fmatrix; line: 60\n",
      "        15 In[12]; Fmatrix; line: 63\n",
      "         11 ...lib/julia/sys.dylib; trunc; (unknown line)\n",
      "        3  In[12]; Fmatrix; line: 67\n",
      "        3  In[12]; Fmatrix; line: 70\n",
      "        1  In[12]; Fmatrix; line: 75\n",
      "        5  In[12]; Fmatrix; line: 77\n",
      "        23 In[12]; Fmatrix; line: 78\n",
      "        11 In[12]; Fmatrix; line: 79\n",
      "       26 In[18]; logProbRight; line: 117\n",
      "        26 linalg/matmul.jl; gemv!; line: 233\n",
      "         26 linalg/blas.jl; gemv!; line: 292\n",
      "      190 In[18]; logLike; line: 135\n",
      "       10  In[18]; logProbRight; line: 74\n",
      "        1 .../lib/julia/sys.dylib; vect; (unknown line)\n",
      "        1 In[12]; Fmatrix; line: 37\n",
      "         1 arraymath.jl; ./; line: 49\n",
      "        1 In[12]; Fmatrix; line: 53\n",
      "        2 In[12]; Fmatrix; line: 63\n",
      "         1 .../lib/julia/sys.dylib; trunc; (unknown line)\n",
      "        2 In[12]; Fmatrix; line: 78\n",
      "        2 In[12]; Fmatrix; line: 79\n",
      "        1 In[12]; Fmatrix; line: 84\n",
      "         1 multidimensional.jl; _unsafe_batchsetindex!; line: 318\n",
      "       2   In[18]; logProbRight; line: 75\n",
      "        2 linalg/matmul.jl; gemv!; line: 233\n",
      "         2 linalg/blas.jl; gemv!; line: 292\n",
      "       15  In[18]; logProbRight; line: 78\n",
      "        2 In[12]; Fmatrix; line: 36\n",
      "         1 arraymath.jl; ./; line: 49\n",
      "         1 arraymath.jl; .^; line: 57\n",
      "        2 In[12]; Fmatrix; line: 53\n",
      "        1 In[12]; Fmatrix; line: 60\n",
      "        5 In[12]; Fmatrix; line: 63\n",
      "         2 .../lib/julia/sys.dylib; trunc; (unknown line)\n",
      "        1 In[12]; Fmatrix; line: 75\n",
      "        1 In[12]; Fmatrix; line: 77\n",
      "        1 In[12]; Fmatrix; line: 78\n",
      "        2 In[12]; Fmatrix; line: 79\n",
      "       20  In[18]; logProbRight; line: 88\n",
      "        20 linalg/matmul.jl; gemv!; line: 233\n",
      "         20 linalg/blas.jl; gemv!; line: 292\n",
      "       3   In[18]; logProbRight; line: 115\n",
      "        3 essentials.jl; call; line: 201\n",
      "       111 In[18]; logProbRight; line: 116\n",
      "        4  In[12]; Fmatrix; line: 36\n",
      "         2 arraymath.jl; -; line: 17\n",
      "         1 arraymath.jl; ./; line: 49\n",
      "         1 operators.jl; exp; line: 380\n",
      "        3  In[12]; Fmatrix; line: 47\n",
      "        2  In[12]; Fmatrix; line: 51\n",
      "        2  In[12]; Fmatrix; line: 53\n",
      "        3  In[12]; Fmatrix; line: 55\n",
      "        4  In[12]; Fmatrix; line: 56\n",
      "        4  In[12]; Fmatrix; line: 58\n",
      "        6  In[12]; Fmatrix; line: 60\n",
      "        23 In[12]; Fmatrix; line: 63\n",
      "         12 ...lib/julia/sys.dylib; trunc; (unknown line)\n",
      "        3  In[12]; Fmatrix; line: 70\n",
      "        3  In[12]; Fmatrix; line: 75\n",
      "        10 In[12]; Fmatrix; line: 77\n",
      "        28 In[12]; Fmatrix; line: 78\n",
      "        13 In[12]; Fmatrix; line: 79\n",
      "       29  In[18]; logProbRight; line: 117\n",
      "        29 linalg/matmul.jl; gemv!; line: 233\n",
      "         29 linalg/blas.jl; gemv!; line: 292\n",
      "     1   In[24]; ComputeLL; line: 9\n"
     ]
    }
   ],
   "source": [
    "@profile ComputeLL(params,ratdata[\"rawdata\"],300)\n",
    "Profile.print()\n",
    "Profile.clear_malloc_data() "
   ]
  },
  {
   "cell_type": "code",
   "execution_count": 26,
   "metadata": {
    "collapsed": false
   },
   "outputs": [
    {
     "name": "stdout",
     "output_type": "stream",
     "text": [
      "  1.357869 seconds (212.11 k allocations: 436.365 MB, 4.02% gc time)\n"
     ]
    },
    {
     "data": {
      "text/plain": [
       "(186.18934811722343,[-7.921493720489457,-1.903502701632662,-27.457935987828012,-1.9355101592619097,-0.0,-1.993316686050263,41.37803503344536,-274.5018818728638,-276.7710505950882])"
      ]
     },
     "execution_count": 26,
     "metadata": {},
     "output_type": "execute_result"
    }
   ],
   "source": [
    "@time ComputeGrad(params,ratdata[\"rawdata\"],300)"
   ]
  },
  {
   "cell_type": "code",
   "execution_count": 28,
   "metadata": {
    "collapsed": false
   },
   "outputs": [
    {
     "data": {
      "text/plain": [
       "ComputeHess (generic function with 1 method)"
      ]
     },
     "execution_count": 28,
     "metadata": {},
     "output_type": "execute_result"
    }
   ],
   "source": [
    "function ComputeHess(params::Vector, ratdata, ntrials::Int)\n",
    "    function WrapperLL(params::Vector)\n",
    "        LL        = 0.\n",
    "\n",
    "        for i in 1:ntrials\n",
    "            RightClickTimes, LeftClickTimes, maxT, rat_choice = trialdata(ratdata[\"rawdata\"], i)\n",
    "            Nsteps = Int(ceil(maxT/dt))\n",
    "\n",
    "            LLi = logLike(params, RightClickTimes, LeftClickTimes, Nsteps, rat_choice)\n",
    "            LL        = LL + LLi;\n",
    "        end\n",
    "\n",
    "        LL = -LL\n",
    "        return LL\n",
    "    end\n",
    "\n",
    "    result =  HessianResult(params)\n",
    "    \n",
    "    ForwardDiff.hessian!(result, WrapperLL, params);\n",
    "    \n",
    "    LL     = ForwardDiff.value(result)\n",
    "    LLgrad = ForwardDiff.gradient(result)\n",
    "    LLHess = ForwardDiff.hessian(result)\n",
    "   \n",
    "    return LL, LLgrad, LLHess\n",
    "end"
   ]
  },
  {
   "cell_type": "code",
   "execution_count": 29,
   "metadata": {
    "collapsed": false
   },
   "outputs": [
    {
     "name": "stdout",
     "output_type": "stream",
     "text": [
      " 24.271064 seconds (3.45 M allocations: 822.294 MB, 0.71% gc time)\n"
     ]
    },
    {
     "data": {
      "text/plain": [
       "(36.78720340423782,[-1.4552997840241386,-0.196446839583693,-5.161497619638472,-0.013893477788013186,-0.0,6.108956139555055,6.046100039814632,-49.92610931987217,-97.81308752135685,-0.24060094113327068,-16.833533942557096,1.7297261901620709],\n",
       "12x12 Array{Float64,2}:\n",
       "   0.268743     0.00930384    0.858212   …   -1.84333    0.45802   \n",
       "   0.00930384  -0.00188868    0.0353593      -0.289048   0.0686926 \n",
       "   0.858212     0.0353593     4.5069         -4.94005    1.52369   \n",
       "   0.0953173    2.21095e-5   -1.2             0.197307   0.00744752\n",
       "  -0.0         -0.0          -0.0            -0.0       -0.0       \n",
       "   0.474159     0.150017      0.0926605  …   11.7323    -1.25247   \n",
       "   1.55022      0.0980763     5.29229        -0.516745  -1.9281    \n",
       " -12.2887      -0.840865    -40.4747         22.4132    15.4206    \n",
       "   9.80667      1.46332      34.4316         96.8118    -6.19778   \n",
       "   0.0529454    0.00382848    0.184684       -0.314211   0.0728537 \n",
       "  -1.84333     -0.289048     -4.94005    …  -33.8779     4.3295    \n",
       "   0.45802      0.0686926     1.52369         4.3295     0.668538  )"
      ]
     },
     "execution_count": 29,
     "metadata": {},
     "output_type": "execute_result"
    }
   ],
   "source": [
    "@time ComputeHess(params,ratdata,27)"
   ]
  },
  {
   "cell_type": "markdown",
   "metadata": {},
   "source": [
    "## Parallel Computing"
   ]
  },
  {
   "cell_type": "code",
   "execution_count": null,
   "metadata": {
    "collapsed": true
   },
   "outputs": [],
   "source": [
    "n_core = 4\n",
    "if nworkers() < n_core\n",
    "    addprocs(n_core-nworkers(); exeflags=\"--check-bounds=yes\")\n",
    "end\n",
    "@assert nprocs() > n_core\n",
    "@assert nworkers() >= n_core\n",
    "\n"
   ]
  },
  {
   "cell_type": "code",
   "execution_count": null,
   "metadata": {
    "collapsed": false
   },
   "outputs": [],
   "source": [
    "a = SharedArray(Float64,10)\n",
    "@sync @parallel for i=1:10\n",
    "  a[i] = i\n",
    "end\n",
    "a"
   ]
  },
  {
   "cell_type": "code",
   "execution_count": null,
   "metadata": {
    "collapsed": false
   },
   "outputs": [],
   "source": [
    "# addprocs(3)\n",
    "\n",
    "# a = SharedArray(Float64,10)\n",
    "# @parallel for i=1:10\n",
    "#   a[i] = i\n",
    "# end\n",
    "\n",
    "function ComputeLL_par(LLs::SharedArray{Float64,1}, params::Vector, ratdata, ntrials::Int)\n",
    "    @sync @parallel for i in 1:ntrials\n",
    "        RightClickTimes, LeftClickTimes, maxT, rat_choice = trialdata(ratdata, i)\n",
    "        Nsteps = Int(ceil(maxT/dt))\n",
    "        LLs[i] = logLike(params, RightClickTimes, LeftClickTimes, Nsteps, rat_choice)\n",
    "    end\n",
    "\n",
    "    LL = sum(LLs)\n",
    "    \n",
    "    LL = -LL\n",
    "    return LL\n",
    "end\n",
    "\n",
    "function ComputeGrad_par(LLs::SharedArray{Float64,1}, params::Vector, ratdata, ntrials::Int)\n",
    "    function WrapperLL(params::Vector)\n",
    "        LL        = 0.\n",
    "\n",
    "        @sync @parallel for i in 1:ntrials\n",
    "            RightClickTimes, LeftClickTimes, maxT, rat_choice = trialdata(ratdata, i)\n",
    "            Nsteps = Int(ceil(maxT/dt))\n",
    "\n",
    "            LLs[i] = logLike(params, RightClickTimes, LeftClickTimes, Nsteps, rat_choice)\n",
    "        end\n",
    "        \n",
    "        LL = sum(LLs)\n",
    "        LL = -LL\n",
    "        return LL\n",
    "    end\n",
    "\n",
    "    result =  GradientResult(params)\n",
    "    \n",
    "    ForwardDiff.gradient!(result, WrapperLL, params);\n",
    "    \n",
    "    LL     = ForwardDiff.value(result)\n",
    "    LLgrad = ForwardDiff.gradient(result)\n",
    "   \n",
    "    return LL, LLgrad\n",
    "end\n"
   ]
  },
  {
   "cell_type": "code",
   "execution_count": null,
   "metadata": {
    "collapsed": false
   },
   "outputs": [],
   "source": [
    "LLs = SharedArray(Float64, 10)\n",
    "@time SumLikey_LL_par(LLs,params, ratdata, 10)"
   ]
  },
  {
   "cell_type": "code",
   "execution_count": null,
   "metadata": {
    "collapsed": false
   },
   "outputs": [],
   "source": [
    "@profile SumLikey_LL_par(params, ratdata, 27) # sum of LL for trial (1-27)\n",
    "Profile.print()\n",
    "Profile.clear_malloc_data() "
   ]
  },
  {
   "cell_type": "code",
   "execution_count": null,
   "metadata": {
    "collapsed": false
   },
   "outputs": [],
   "source": [
    "@time SumLikey_par(params, ratdata, 27)"
   ]
  },
  {
   "cell_type": "code",
   "execution_count": null,
   "metadata": {
    "collapsed": false
   },
   "outputs": [],
   "source": [
    "function Likely_all_trials{T}(LL::AbstractArray{T,1},params::Vector, ratdata, ntrials::Int)     \n",
    "    for i in 1:ntrials\n",
    "        RightClickTimes, LeftClickTimes, maxT, rat_choice = trialdata(ratdata, i)\n",
    "        Nsteps = Int(ceil(maxT/dt))\n",
    "\n",
    "        LL[i] = logLike(params, RightClickTimes, LeftClickTimes, Nsteps, rat_choice)\n",
    "    end\n",
    "end"
   ]
  },
  {
   "cell_type": "code",
   "execution_count": null,
   "metadata": {
    "collapsed": false
   },
   "outputs": [],
   "source": [
    "likely_all = zeros(ntrials)\n",
    "@time Likely_all_trials(likely_all, params, ratdata[\"rawdata\"], 27)\n",
    "likely_all"
   ]
  },
  {
   "cell_type": "code",
   "execution_count": null,
   "metadata": {
    "collapsed": false
   },
   "outputs": [],
   "source": [
    "# Parameters\n",
    "sigma_a = 1; sigma_s = 0.1; sigma_i = 0.2; \n",
    "sigma_a_sbin = sigma_a  # remember we need this copy for Fmatrix\n",
    "lam = -0.0005; B = 4.1; bias = 0.1; \n",
    "phi = 0.3; tau_phi = 0.1; lapse = 0.05*2;\n",
    "params = [sigma_a, sigma_s, sigma_i, lam, B, bias, phi, tau_phi, lapse]\n",
    "\n",
    "ntrials = 27\n",
    "\n",
    "function LL_f(params::Vector)\n",
    "    return ComputeLL(params, ratdata[\"rawdata\"], ntrials)\n",
    "end\n",
    "\n",
    "function LL_g!(params::Vector, grads::Vector)\n",
    "#     LL, LLgrad, LLhess = llikey(params)\n",
    "    LL, LLgrad = ComputeGrad(params, ratdata[\"rawdata\"], ntrials)\n",
    "    for i=1:length(params)\n",
    "        grads[i] = LLgrad[i]\n",
    "    end\n",
    "end\n",
    "\n",
    "function LL_fg!(params::Vector, grads)\n",
    "    LL, LLgrad = ComputeGrad(params, ratdata[\"rawdata\"], ntrials)\n",
    "    for i=1:length(params)\n",
    "        grads[i] = LLgrad[i]\n",
    "    end\n",
    "    return LL\n",
    "end\n",
    "\n",
    "d4 = DifferentiableFunction(LL_f,\n",
    "                            LL_g!,\n",
    "                            LL_fg!)"
   ]
  },
  {
   "cell_type": "code",
   "execution_count": null,
   "metadata": {
    "collapsed": false
   },
   "outputs": [],
   "source": [
    "# Parameters\n",
    "sigma_a = 1; sigma_s = 0.1; sigma_i = 0.2; \n",
    "sigma_a_sbin = sigma_a  # remember we need this copy for Fmatrix\n",
    "lam = -0.0005; B = 6.1; bias = 0.1; \n",
    "phi = 0.3; tau_phi = 0.1; lapse = 0.05*2;\n",
    "params = [sigma_a, sigma_s, sigma_i, lam, B, bias, phi, tau_phi, lapse]\n",
    "\n",
    "l = [0, 0, 0, -5, 5, -5, 0.01, 0.005, 0]\n",
    "u = [200, 200, 30, +5, 25, +5, 1.2, 0.7, 1]\n",
    "\n",
    "res = optimize(d4, params, l, u, Fminbox(); \n",
    "         optimizer = GradientDescent, optimizer_o = OptimizationOptions(g_tol = 1e-12,\n",
    "                                                                        x_tol = 1e-10,\n",
    "                                                                        f_tol = 1e-6,                                                                        \n",
    "                                                                        iterations = 200,\n",
    "                                                                        store_trace = true,\n",
    "                                                                        show_trace = true,\n",
    "                                                                        extended_trace = true))\n"
   ]
  },
  {
   "cell_type": "code",
   "execution_count": null,
   "metadata": {
    "collapsed": false
   },
   "outputs": [],
   "source": [
    "x_bf = res.f_minimum"
   ]
  },
  {
   "cell_type": "code",
   "execution_count": null,
   "metadata": {
    "collapsed": false
   },
   "outputs": [],
   "source": [
    "res"
   ]
  },
  {
   "cell_type": "code",
   "execution_count": null,
   "metadata": {
    "collapsed": true
   },
   "outputs": [],
   "source": [
    "function main()\n",
    "    \n",
    "    ratname = \"B069\"\n",
    "    # data import\n",
    "    ratdata = matread(*(\"chrono_\",ratname,\"_rawdata.mat\"))\n",
    "    println(\"rawdata of \", ratname, \" imported\" )\n",
    "\n",
    "    # number of trials\n",
    "    ntrials = Int(ratdata[\"total_trials\"])\n",
    "\n",
    "    # Parameters\n",
    "    sigma_a = 1.; sigma_s = 0.1; sigma_i = 0.2; \n",
    "    sigma_a_sbin = sigma_a  # remember we need this copy for Fmatrix\n",
    "    lam = -0.0005; B = 6.1; bias = 0.1; \n",
    "    phi = 0.3; tau_phi = 0.1; lapse = 0.05*2;\n",
    "    params = [sigma_a, sigma_s, sigma_i, lam, B, bias, phi, tau_phi, lapse]\n",
    "\n",
    "    l = [0., 0., 0., -5., 5., -5., 0.01, 0.005, 0.]\n",
    "    u = [200., 200., 30., 5., 25., 5., 1.2, 0.7, 1.]\n",
    "\n",
    "    # @code_warntype SumLikey(params, ratdata, ntrials)\n",
    "\n",
    "    function LL_f(params::Vector)\n",
    "        return SumLikey_LL(params, ratdata, ntrials)\n",
    "    end\n",
    "\n",
    "    function LL_g!(params::Vector, grads::Vector)\n",
    "        LL, LLgrad = SumLikey(params, ratdata, ntrials)\n",
    "        for i=1:length(params)\n",
    "            grads[i] = LLgrad[i]\n",
    "        end\n",
    "    end\n",
    "\n",
    "    function LL_fg!(params::Vector, grads)\n",
    "        LL, LLgrad = SumLikey(params, ratdata, ntrials)\n",
    "        for i=1:length(params)\n",
    "            grads[i] = LLgrad[i]\n",
    "        end\n",
    "        return LL\n",
    "    end\n",
    "\n",
    "    d4 = DifferentiableFunction(LL_f,\n",
    "                                LL_g!,\n",
    "                                LL_fg!)\n",
    "\n",
    "    res = optimize(d4, params, l, u, Fminbox(); \n",
    "             optimizer = GradientDescent, optimizer_o = OptimizationOptions(g_tol = 1e-12,\n",
    "                                                                            iterations = 200,\n",
    "                                                                            store_trace = true,\n",
    "                                                                            show_trace = true))\n",
    "\n",
    "end"
   ]
  },
  {
   "cell_type": "code",
   "execution_count": null,
   "metadata": {
    "collapsed": true
   },
   "outputs": [],
   "source": [
    "main()"
   ]
  },
  {
   "cell_type": "code",
   "execution_count": null,
   "metadata": {
    "collapsed": true
   },
   "outputs": [],
   "source": []
  },
  {
   "cell_type": "code",
   "execution_count": null,
   "metadata": {
    "collapsed": true
   },
   "outputs": [],
   "source": []
  },
  {
   "cell_type": "code",
   "execution_count": null,
   "metadata": {
    "collapsed": false
   },
   "outputs": [],
   "source": [
    "y = d4.f(params)"
   ]
  },
  {
   "cell_type": "code",
   "execution_count": null,
   "metadata": {
    "collapsed": false
   },
   "outputs": [],
   "source": [
    "grads = Array(Float64, length(params))\n",
    "grads\n",
    "# LL_g!(params, grads)\n",
    "d4.g!(params, grads)\n",
    "grads"
   ]
  },
  {
   "cell_type": "code",
   "execution_count": null,
   "metadata": {
    "collapsed": false
   },
   "outputs": [],
   "source": [
    "grads = Array(Float64, length(params))\n",
    "d4.g!(params, grads)\n",
    "grads"
   ]
  },
  {
   "cell_type": "code",
   "execution_count": null,
   "metadata": {
    "collapsed": false
   },
   "outputs": [],
   "source": [
    "y = d4.fg!(params, grads)"
   ]
  },
  {
   "cell_type": "code",
   "execution_count": null,
   "metadata": {
    "collapsed": false,
    "scrolled": true
   },
   "outputs": [],
   "source": [
    "optimize(d4, params, GradientDescent(),\n",
    "               OptimizationOptions(g_tol = 1e-12,\n",
    "                                   iterations = 200,\n",
    "                                   store_trace = true,\n",
    "                                   show_trace = true,\n",
    "                                   extended_trace = true))"
   ]
  },
  {
   "cell_type": "code",
   "execution_count": null,
   "metadata": {
    "collapsed": true
   },
   "outputs": [],
   "source": []
  },
  {
   "cell_type": "markdown",
   "metadata": {},
   "source": [
    "# For Performance improvement"
   ]
  },
  {
   "cell_type": "markdown",
   "metadata": {},
   "source": [
    "## 1. "
   ]
  },
  {
   "cell_type": "code",
   "execution_count": null,
   "metadata": {
    "collapsed": false
   },
   "outputs": [],
   "source": [
    "function xinc(x)\n",
    "    return [x, x+1, x+2]\n",
    "end\n",
    "\n",
    "function loopinc()\n",
    "    y = 0\n",
    "    for i = 1:10^7\n",
    "        ret = xinc(i)\n",
    "        y += ret[2]\n",
    "    end\n",
    "    y\n",
    "end"
   ]
  },
  {
   "cell_type": "code",
   "execution_count": null,
   "metadata": {
    "collapsed": false
   },
   "outputs": [],
   "source": [
    "function xinc!{T}(ret::AbstractVector{T}, x::T)\n",
    "    ret[1] = x\n",
    "    ret[2] = x+1\n",
    "    ret[3] = x+2\n",
    "    nothing\n",
    "end\n",
    "\n",
    "function loopinc_prealloc()\n",
    "    ret = Array(Int, 3)\n",
    "    y = 0\n",
    "    for i = 1:10^7\n",
    "        xinc!(ret, i)\n",
    "        y += ret[2]\n",
    "    end\n",
    "    y\n",
    "end"
   ]
  },
  {
   "cell_type": "code",
   "execution_count": null,
   "metadata": {
    "collapsed": false
   },
   "outputs": [],
   "source": [
    "@time loopinc()\n",
    "@time loopinc_prealloc()"
   ]
  },
  {
   "cell_type": "markdown",
   "metadata": {},
   "source": [
    "## 2."
   ]
  },
  {
   "cell_type": "code",
   "execution_count": null,
   "metadata": {
    "collapsed": false
   },
   "outputs": [],
   "source": [
    "function f()\n",
    "    n = 1000000\n",
    "    a = rand(n)\n",
    "    x = rand(n)\n",
    "\n",
    "\n",
    "    function g(x, y)\n",
    "        x+y\n",
    "    end\n",
    "\n",
    "    @time for i in 1:n\n",
    "        cl(x) = g(x, a[i])\n",
    "        cl(x[i])\n",
    "    end\n",
    "\n",
    "    a_val = 0.0\n",
    "    cl2(x) = g(x, a_val)\n",
    "    @time for i in 1:n\n",
    "        a_val = a[i]\n",
    "        cl2(x[i])\n",
    "    end\n",
    "\n",
    "    @time for i in 1:n\n",
    "      g(x[i], a[i])\n",
    "    end\n",
    "end\n",
    "f()"
   ]
  },
  {
   "cell_type": "markdown",
   "metadata": {},
   "source": [
    "## 3. "
   ]
  },
  {
   "cell_type": "code",
   "execution_count": null,
   "metadata": {
    "collapsed": false
   },
   "outputs": [],
   "source": [
    "function calcSum{T}(x::Vector{T}, y::Vector{T}, Ei::T, Ef::T)\n",
    "    mysum=0.0::Float64;\n",
    "    for(i in 1:N)\n",
    "         if( Ei < x[i] <= Ef)\n",
    "             mysum += y[i];\n",
    "         end\n",
    "    end\n",
    "    return(mysum);\n",
    "end"
   ]
  },
  {
   "cell_type": "code",
   "execution_count": null,
   "metadata": {
    "collapsed": false
   },
   "outputs": [],
   "source": [
    "function calcSum_simd{T}(x::Vector{T}, y::Vector{T}, Ei::T, Ef::T)\n",
    "    mysum = zero(T)\n",
    "    @inbounds @simd for i in eachindex(x, y)\n",
    "         mysum += ifelse(Ei < x[i] <= Ef, y[i], zero(T)) \n",
    "         \n",
    "    end\n",
    "    return mysum\n",
    "end"
   ]
  },
  {
   "cell_type": "code",
   "execution_count": null,
   "metadata": {
    "collapsed": false
   },
   "outputs": [],
   "source": [
    "N = 10000000\n",
    "y = rand(N);\n",
    "x = rand(N)\n",
    "Ei = 0.2;\n",
    "Ef = 0.7;\n",
    "\n",
    "@time calcSum_simd(x,y,Ei, Ef);\n",
    "@time calcSum(x,y,Ei, Ef)"
   ]
  },
  {
   "cell_type": "code",
   "execution_count": null,
   "metadata": {
    "collapsed": false
   },
   "outputs": [],
   "source": [
    "sigma2_sbin = 0.01\n",
    "n_sbins = 70\n",
    "swidth = 5*sqrt(sigma2_sbin)\n",
    "sbinsize = swidth/n_sbins;#sbins[2] - sbins[1]"
   ]
  },
  {
   "cell_type": "code",
   "execution_count": null,
   "metadata": {
    "collapsed": false
   },
   "outputs": [],
   "source": [
    "function f_test(RightClickTimes::Vector, LeftClickTimes::Vector, Nsteps::Int)\n",
    "    if isempty(RightClickTimes) RightClickTimes = zeros(0) end;\n",
    "    if isempty(LeftClickTimes ) LeftClickTimes  = zeros(0) end;\n",
    "    \n",
    "    LeftClicks  = zeros(Int, 1, Nsteps); \n",
    "    RightClicks = zeros(Int, 1, Nsteps); \n",
    "    \n",
    "    for i in ceil((LeftClickTimes+epsilon)/dt)  LeftClicks[Int(i)]  = LeftClicks[Int(i)] + 1 end\n",
    "    for i in ceil((RightClickTimes+epsilon)/dt) RightClicks[Int(i)] = RightClicks[Int(i)] + 1 end\n",
    "end"
   ]
  },
  {
   "cell_type": "code",
   "execution_count": null,
   "metadata": {
    "collapsed": false
   },
   "outputs": [],
   "source": [
    "function f_test2(RightClickTimes::Vector, LeftClickTimes::Vector, Nsteps::Int)\n",
    "    if isempty(RightClickTimes) RightClickTimes = zeros(0) end;\n",
    "    if isempty(LeftClickTimes ) LeftClickTimes  = zeros(0) end;\n",
    "    \n",
    "    LeftClicks  = zeros(Int, Nsteps); \n",
    "    RightClicks = zeros(Int, Nsteps); \n",
    "    NClicks = zeros(Int, Nsteps); \n",
    "    Lhere  = zeros(Int, length(LeftClickTimes)); \n",
    "    Rhere = zeros(Int, length(RightClickTimes)); \n",
    "    \n",
    "    for i in 1:length(LeftClickTimes)\n",
    "        Lhere[i] = ceil((LeftClickTimes[i]+epsilon)/dt)\n",
    "    end\n",
    "    for i in 1:length(RightClickTimes)\n",
    "        Rhere[i] = ceil((RightClickTimes[i]+epsilon)/dt)\n",
    "    end    \n",
    "    \n",
    "    for i in Lhere  \n",
    "        LeftClicks[Int(i)]  = LeftClicks[Int(i)]  + 1 \n",
    "        NClicks[Int(i)] = NClicks[Int(i)]  + 1\n",
    "    end\n",
    "    for i in Rhere  \n",
    "        RightClicks[Int(i)] = RightClicks[Int(i)] + 1 \n",
    "        NClicks[Int(i)] = NClicks[Int(i)]  + 1\n",
    "    end\n",
    "    \n",
    "    temp_l = [NumericPair(LeftClickTimes[i],-1) for i=1:length(LeftClickTimes)]\n",
    "    temp_r = [NumericPair(RightClickTimes[i],1) for i=1:length(RightClickTimes)]\n",
    "    allbups = sort!([temp_l; temp_r])\n",
    "\n",
    "    cnt_r = 0\n",
    "    \n",
    "    adapted = zeros(length(allbups))\n",
    "    \n",
    "    for i in 2:length(allbups)\n",
    "        ici = allbups[i].x - allbups[i-1].x\n",
    "        if ici == 0 \n",
    "            adapted[i-1] = 0\n",
    "            adapted[i] = 0\n",
    "        else\n",
    "            adapted[i] = 1 + (adapted[i-1]*phi - 1)*exp(-ici/tau_phi)\n",
    "        end\n",
    "    end\n",
    "        \n",
    "    Fi = zeros(typeof(sigma_i),length(bin_centers),length(bin_centers))\n",
    "    Fmatrix(Fi,[sigma_i, 0, 0.0], bin_centers)\n",
    "    a = Fi*a0;\n",
    "    \n",
    "    F0 = zeros(typeof(sigma_a),length(bin_centers),length(bin_centers))\n",
    "    Fmatrix(F0,[sigma_a*dt, lambda, 0.0], bin_centers)\n",
    "    for i in 2:Nsteps \n",
    "        c_eff_tot = 0\n",
    "        c_eff_net = 0\n",
    "        if NClicks[i-1]==0#(RightClicks[i-1]==0) && (LeftClicks[i-1]==0)\n",
    "            c_eff_tot = 0\n",
    "            c_eff_net = 0\n",
    "\n",
    "            a = F0*a\n",
    "        else\n",
    "            for j in 1:NClicks[i-1]\n",
    "                if cnt_r != 0 || j != 1\n",
    "                    c_eff_tot = c_eff_tot + adapted[cnt_r+j]\n",
    "                    c_eff_net = c_eff_net + adapted[cnt_r+j]*allbups[cnt_r+j].y\n",
    "                end\n",
    "                if j == NClicks[i-1]\n",
    "                    cnt_r = cnt_r+j\n",
    "                end\n",
    "            end\n",
    "\n",
    "            net_sigma = sigma_a*dt + (sigma_s*c_eff_tot)/total_rate\n",
    "            F = zeros(typeof(net_sigma),length(bin_centers),length(bin_centers))\n",
    "            Fmatrix(F,[net_sigma, lambda, c_eff_net/dt], bin_centers)\n",
    "            a = F*a\n",
    "        end\n",
    "    end;   \n",
    "end"
   ]
  },
  {
   "cell_type": "code",
   "execution_count": null,
   "metadata": {
    "collapsed": false
   },
   "outputs": [],
   "source": [
    "@time f_test2(RightClickTimes, LeftClickTimes,Nsteps)"
   ]
  },
  {
   "cell_type": "code",
   "execution_count": null,
   "metadata": {
    "collapsed": false
   },
   "outputs": [],
   "source": [
    "t = f_test2(RightClickTimes, LeftClickTimes,Nsteps)\n",
    "t"
   ]
  },
  {
   "cell_type": "code",
   "execution_count": null,
   "metadata": {
    "collapsed": false
   },
   "outputs": [],
   "source": [
    "# t[1].x\n",
    "length(t)"
   ]
  },
  {
   "cell_type": "code",
   "execution_count": null,
   "metadata": {
    "collapsed": false
   },
   "outputs": [],
   "source": [
    "immutable NumericPair{X,Y} <: Number\n",
    "  x::X\n",
    "  y::Y\n",
    "end\n",
    "Base.isless(a::NumericPair, b::NumericPair) = (a.x<b.x) || (a.x==b.x && a.y<b.y)"
   ]
  },
  {
   "cell_type": "code",
   "execution_count": null,
   "metadata": {
    "collapsed": false
   },
   "outputs": [],
   "source": [
    "function sort_numeric_pair()\n",
    "  temp = rand(500)\n",
    "  temp2 = [NumericPair(temp[i],i) for i=1:length(temp)]\n",
    "  @time sort!(temp2)\n",
    "end"
   ]
  },
  {
   "cell_type": "code",
   "execution_count": null,
   "metadata": {
    "collapsed": false
   },
   "outputs": [],
   "source": [
    "sort_numeric_pair()"
   ]
  },
  {
   "cell_type": "code",
   "execution_count": null,
   "metadata": {
    "collapsed": true
   },
   "outputs": [],
   "source": []
  },
  {
   "cell_type": "code",
   "execution_count": null,
   "metadata": {
    "collapsed": true
   },
   "outputs": [],
   "source": []
  },
  {
   "cell_type": "code",
   "execution_count": null,
   "metadata": {
    "collapsed": false
   },
   "outputs": [],
   "source": [
    "function rosenbrock(x)\n",
    "   a = one(eltype(x))\n",
    "   b = 100 * a\n",
    "   result = zero(eltype(x))\n",
    "   for i in 1:length(x)-1\n",
    "       result += (a - x[i])^2 + b*(x[i+1] - x[i]^2)^2\n",
    "   end\n",
    "   return result\n",
    "end"
   ]
  },
  {
   "cell_type": "code",
   "execution_count": null,
   "metadata": {
    "collapsed": true
   },
   "outputs": [],
   "source": [
    "x = rand(100);"
   ]
  },
  {
   "cell_type": "code",
   "execution_count": null,
   "metadata": {
    "collapsed": false
   },
   "outputs": [],
   "source": [
    "@time ForwardDiff.gradient(rosenbrock, x, Chunk{1}());"
   ]
  },
  {
   "cell_type": "code",
   "execution_count": null,
   "metadata": {
    "collapsed": false
   },
   "outputs": [],
   "source": [
    "@time ForwardDiff.gradient(rosenbrock, x, Chunk{4}());"
   ]
  },
  {
   "cell_type": "code",
   "execution_count": null,
   "metadata": {
    "collapsed": false
   },
   "outputs": [],
   "source": [
    "@time ForwardDiff.gradient(rosenbrock, x, Chunk{10}());"
   ]
  },
  {
   "cell_type": "code",
   "execution_count": null,
   "metadata": {
    "collapsed": false
   },
   "outputs": [],
   "source": [
    "@time ForwardDiff.gradient(rosenbrock, x, Chunk{16}());"
   ]
  },
  {
   "cell_type": "code",
   "execution_count": null,
   "metadata": {
    "collapsed": false
   },
   "outputs": [],
   "source": [
    "@time ForwardDiff.gradient(rosenbrock, x);"
   ]
  },
  {
   "cell_type": "code",
   "execution_count": null,
   "metadata": {
    "collapsed": false
   },
   "outputs": [],
   "source": [
    "out = GradientResult(x)"
   ]
  },
  {
   "cell_type": "code",
   "execution_count": null,
   "metadata": {
    "collapsed": false
   },
   "outputs": [],
   "source": [
    "@time ForwardDiff.gradient!(out, rosenbrock, x, Chunk{10}())"
   ]
  },
  {
   "cell_type": "code",
   "execution_count": null,
   "metadata": {
    "collapsed": false
   },
   "outputs": [],
   "source": [
    "out = HessianResult(x)\n",
    "@time ForwardDiff.hessian!(out, rosenbrock, x)\n",
    "hess = ForwardDiff.hessian(out)"
   ]
  },
  {
   "cell_type": "code",
   "execution_count": null,
   "metadata": {
    "collapsed": false
   },
   "outputs": [],
   "source": [
    "imshow(log(abs(hess)),interpolation = \"none\")"
   ]
  },
  {
   "cell_type": "code",
   "execution_count": null,
   "metadata": {
    "collapsed": false
   },
   "outputs": [],
   "source": [
    "@time ForwardDiff.hessian(rosenbrock, x)"
   ]
  },
  {
   "cell_type": "markdown",
   "metadata": {},
   "source": [
    "## Parallel Process"
   ]
  },
  {
   "cell_type": "code",
   "execution_count": null,
   "metadata": {
    "collapsed": false
   },
   "outputs": [],
   "source": [
    "@everywhere function count_heads(n)\n",
    "    c::Int = 0\n",
    "    for i=1:n\n",
    "        c += rand(Bool)\n",
    "    end\n",
    "    c\n",
    "end"
   ]
  },
  {
   "cell_type": "code",
   "execution_count": null,
   "metadata": {
    "collapsed": false
   },
   "outputs": [],
   "source": [
    "a = @spawn count_heads(100000000)\n",
    "b = @spawn count_heads(100000000)\n",
    "fetch(a)+fetch(b)"
   ]
  },
  {
   "cell_type": "code",
   "execution_count": null,
   "metadata": {
    "collapsed": false
   },
   "outputs": [],
   "source": [
    "nheads = @parallel (+) for i=1:200000000\n",
    "  Int(rand(Bool))\n",
    "end"
   ]
  },
  {
   "cell_type": "code",
   "execution_count": null,
   "metadata": {
    "collapsed": false
   },
   "outputs": [],
   "source": [
    "# procs()\n",
    "nprocs()\n",
    "# addprocs(4)\n",
    "procs()"
   ]
  },
  {
   "cell_type": "code",
   "execution_count": null,
   "metadata": {
    "collapsed": false
   },
   "outputs": [],
   "source": [
    "nheads = @parallel (+) for i=1:200000000\n",
    "  Int(rand(Bool))\n",
    "end"
   ]
  },
  {
   "cell_type": "code",
   "execution_count": null,
   "metadata": {
    "collapsed": false
   },
   "outputs": [],
   "source": [
    "@everywhere function tt(n)\n",
    "    s::Int = 0\n",
    "    for i=1:n\n",
    "        s += i\n",
    "    end\n",
    "    s\n",
    "end\n",
    "\n",
    "function t(n)\n",
    "    s::Int = 0\n",
    "    for i=1:n\n",
    "        s += i\n",
    "    end\n",
    "    s\n",
    "end"
   ]
  },
  {
   "cell_type": "code",
   "execution_count": null,
   "metadata": {
    "collapsed": false
   },
   "outputs": [],
   "source": [
    "n = 1000\n",
    "@time t(n)"
   ]
  },
  {
   "cell_type": "code",
   "execution_count": null,
   "metadata": {
    "collapsed": false
   },
   "outputs": [],
   "source": [
    "a = @spawn tt(n)\n",
    "b = @spawn tt(n)\n",
    "c = @spawn tt(n)\n",
    "d = @spawn tt(n)\n",
    "fetch(a)+fetch(b)+fetch(c)+fetch(d)"
   ]
  },
  {
   "cell_type": "code",
   "execution_count": null,
   "metadata": {
    "collapsed": false
   },
   "outputs": [],
   "source": [
    "a = zeros(100000)\n",
    "@parallel for i=1:100000\n",
    "  a[i] = i\n",
    "end\n",
    "# However, this code will not initialize all of a, \n",
    "# since each process will have a separate copy of it. \n",
    "# Parallel for loops like these must be avoided. \n",
    "# Fortunately, distributed arrays can be used to get around this limitation"
   ]
  },
  {
   "cell_type": "code",
   "execution_count": null,
   "metadata": {
    "collapsed": false
   },
   "outputs": [],
   "source": [
    "# Using “outside” variables in parallel loops \n",
    "# is perfectly reasonable if the variables are read-only:\n",
    "\n",
    "@everywhere function f(a)\n",
    "    a+1\n",
    "end\n",
    "a = randn(1000)\n",
    "@parallel (+) for i=1:1000\n",
    "  f(a[rand(1:end)])\n",
    "end"
   ]
  },
  {
   "cell_type": "code",
   "execution_count": null,
   "metadata": {
    "collapsed": false
   },
   "outputs": [],
   "source": []
  },
  {
   "cell_type": "code",
   "execution_count": null,
   "metadata": {
    "collapsed": false
   },
   "outputs": [],
   "source": [
    "dzeros((100,100), workers()[1:4], [1,4])"
   ]
  },
  {
   "cell_type": "code",
   "execution_count": null,
   "metadata": {
    "collapsed": false
   },
   "outputs": [],
   "source": [
    "[i+j for i = 1:5, j = 1:5]"
   ]
  },
  {
   "cell_type": "code",
   "execution_count": null,
   "metadata": {
    "collapsed": false
   },
   "outputs": [],
   "source": [
    "@DArray [i+j for i = 1:5, j = 1:5]"
   ]
  },
  {
   "cell_type": "code",
   "execution_count": null,
   "metadata": {
    "collapsed": false
   },
   "outputs": [],
   "source": [
    "darray_closeall()"
   ]
  },
  {
   "cell_type": "code",
   "execution_count": null,
   "metadata": {
    "collapsed": false
   },
   "outputs": [],
   "source": [
    "workers()\n",
    "# rmprocs(12:15)"
   ]
  },
  {
   "cell_type": "code",
   "execution_count": null,
   "metadata": {
    "collapsed": false
   },
   "outputs": [],
   "source": [
    "n_core = 4\n",
    "if nworkers() < n_core\n",
    "    addprocs(n_core-nworkers(); exeflags=\"--check-bounds=yes\")\n",
    "end\n",
    "@assert nprocs() > n_core\n",
    "@assert nworkers() >= n_core\n",
    "\n",
    "@everywhere using DistributedArrays"
   ]
  },
  {
   "cell_type": "code",
   "execution_count": null,
   "metadata": {
    "collapsed": false
   },
   "outputs": [],
   "source": [
    "a = dzeros((100001,1), workers()[1:n_core], [n_core,1])"
   ]
  },
  {
   "cell_type": "code",
   "execution_count": null,
   "metadata": {
    "collapsed": false
   },
   "outputs": [],
   "source": [
    "function par_assign(d::DArray)\n",
    "    DArray(size(d),procs(d)) do I\n",
    "        res = zeros(Int,length(I[1]))        \n",
    "        for i = 1:length(I[1])\n",
    "            res[i] = I[1][i]\n",
    "        end\n",
    "        res\n",
    "    end\n",
    "end\n",
    "\n",
    "# a = zeros(100000)\n",
    "# @parallel for i=1:100000\n",
    "#   a[i] = i\n",
    "# end\n"
   ]
  },
  {
   "cell_type": "code",
   "execution_count": null,
   "metadata": {
    "collapsed": false
   },
   "outputs": [],
   "source": [
    "a = dzeros((100000,1), workers()[1:n_core], [n_core,1])\n",
    "@profile par_assign(a)"
   ]
  },
  {
   "cell_type": "code",
   "execution_count": null,
   "metadata": {
    "collapsed": false
   },
   "outputs": [],
   "source": [
    "a = SharedArray(Float64,10)\n",
    "@parallel for i=1:10\n",
    "  a[i] = i\n",
    "end"
   ]
  },
  {
   "cell_type": "code",
   "execution_count": null,
   "metadata": {
    "collapsed": false
   },
   "outputs": [],
   "source": [
    "a"
   ]
  },
  {
   "cell_type": "code",
   "execution_count": null,
   "metadata": {
    "collapsed": false
   },
   "outputs": [],
   "source": [
    "Profile.print()\n",
    "Profile.clear_malloc_data() "
   ]
  },
  {
   "cell_type": "code",
   "execution_count": null,
   "metadata": {
    "collapsed": false
   },
   "outputs": [],
   "source": [
    "function assign()\n",
    "    a = zeros(100000)\n",
    "    for i=1:100000\n",
    "      a[i] = i\n",
    "    end\n",
    "    a\n",
    "end"
   ]
  },
  {
   "cell_type": "code",
   "execution_count": null,
   "metadata": {
    "collapsed": false
   },
   "outputs": [],
   "source": [
    "@time assign"
   ]
  },
  {
   "cell_type": "code",
   "execution_count": null,
   "metadata": {
    "collapsed": false
   },
   "outputs": [],
   "source": [
    "@everywhere function life_step(d::DArray)\n",
    "    DArray(size(d),procs(d)) do I\n",
    "        top   = mod(first(I[1])-2,size(d,1))+1\n",
    "        bot   = mod( last(I[1])  ,size(d,1))+1\n",
    "        left  = mod(first(I[2])-2,size(d,2))+1\n",
    "        right = mod( last(I[2])  ,size(d,2))+1\n",
    "\n",
    "        old = Array(Bool, length(I[1])+2, length(I[2])+2)\n",
    "        old[1      , 1      ] = d[top , left]   # left side\n",
    "        old[2:end-1, 1      ] = d[I[1], left]\n",
    "        old[end    , 1      ] = d[bot , left]\n",
    "        old[1      , 2:end-1] = d[top , I[2]]\n",
    "        old[2:end-1, 2:end-1] = d[I[1], I[2]]   # middle\n",
    "        old[end    , 2:end-1] = d[bot , I[2]]\n",
    "        old[1      , end    ] = d[top , right]  # right side\n",
    "        old[2:end-1, end    ] = d[I[1], right]\n",
    "        old[end    , end    ] = d[bot , right]\n",
    "\n",
    "        life_rule(old)\n",
    "    end\n",
    "end"
   ]
  },
  {
   "cell_type": "code",
   "execution_count": null,
   "metadata": {
    "collapsed": false
   },
   "outputs": [],
   "source": [
    "@everywhere function life_rule(old)\n",
    "    m, n = size(old)\n",
    "    new = similar(old, m-2, n-2)\n",
    "    for j = 2:n-1\n",
    "        for i = 2:m-1\n",
    "            nc = +(old[i-1,j-1], old[i-1,j], old[i-1,j+1],\n",
    "                   old[i  ,j-1],             old[i  ,j+1],\n",
    "                   old[i+1,j-1], old[i+1,j], old[i+1,j+1])\n",
    "            new[i-1,j-1] = (nc == 3 || nc == 2 && old[i,j])\n",
    "        end\n",
    "    end\n",
    "    new\n",
    "end"
   ]
  },
  {
   "cell_type": "code",
   "execution_count": null,
   "metadata": {
    "collapsed": false
   },
   "outputs": [],
   "source": [
    "test1 = floor(drand((100,100), workers()[1:n_core], [2,2])*2)\n",
    "# test1 = dzeros((100,100), workers()[1:n_core], [2,2])"
   ]
  },
  {
   "cell_type": "code",
   "execution_count": null,
   "metadata": {
    "collapsed": false
   },
   "outputs": [],
   "source": [
    "life_step(test1)"
   ]
  },
  {
   "cell_type": "code",
   "execution_count": null,
   "metadata": {
    "collapsed": true
   },
   "outputs": [],
   "source": []
  },
  {
   "cell_type": "code",
   "execution_count": null,
   "metadata": {
    "collapsed": false
   },
   "outputs": [],
   "source": [
    "M = Matrix{Float64}[rand(1000,1000) for i=1:10]\n",
    "pmap(svd, M)"
   ]
  },
  {
   "cell_type": "code",
   "execution_count": null,
   "metadata": {
    "collapsed": false
   },
   "outputs": [],
   "source": [
    "sigma2_sbin = 37\n",
    "ceil(10*sqrt(sigma2_sbin)/dx)"
   ]
  },
  {
   "cell_type": "code",
   "execution_count": null,
   "metadata": {
    "collapsed": false
   },
   "outputs": [],
   "source": [
    "binN = ceil(4.1/0.25)\n",
    "bins = zeros(typeof(binN), Int(binN*2+1))\n",
    "@time make_bins(bins,4.1,0.25,binN)\n",
    "bins\n",
    "bin_centers = bins"
   ]
  },
  {
   "cell_type": "code",
   "execution_count": null,
   "metadata": {
    "collapsed": false
   },
   "outputs": [],
   "source": [
    "sigma2 = 1\n",
    "lam   = 5\n",
    "c     = 20\n",
    "\n",
    "n_sbins = max(70, ceil(10*sqrt(sigma2)/dx))\n",
    "\n",
    "swidth = 5*sqrt(sigma2)\n",
    "sbinsize = swidth/n_sbins;#sbins[2] - sbins[1]\n",
    "base_sbins    = collect(-swidth:sbinsize:swidth)\n",
    "\n",
    "ps       = exp(-base_sbins.^2/(2*sigma2))\n",
    "ps       = ps/sum(ps);\n",
    "\n",
    "sbin_length = length(base_sbins)\n",
    "binN = length(bin_centers)\n",
    "\n",
    "mu = 0.\n",
    "# for j in 2:binN\n",
    "\n",
    "j = 20\n",
    "if lam == 0\n",
    "    mu = bin_centers[j]*exp(lam*dt)\n",
    "else\n",
    "    mu = (bin_centers[j] + c/lam)*exp(lam*dt) - c/lam\n",
    "end\n",
    "sbins = base_sbins + mu\n",
    "plot(sbins, ps)\n",
    "ax = gca()\n",
    "ax[:set_ylim]([0,0.5])\n",
    "# end           "
   ]
  },
  {
   "cell_type": "code",
   "execution_count": null,
   "metadata": {
    "collapsed": false
   },
   "outputs": [],
   "source": [
    "length(bin_centers)"
   ]
  },
  {
   "cell_type": "code",
   "execution_count": null,
   "metadata": {
    "collapsed": false
   },
   "outputs": [],
   "source": [
    "b = 2"
   ]
  },
  {
   "cell_type": "code",
   "execution_count": null,
   "metadata": {
    "collapsed": false
   },
   "outputs": [],
   "source": [
    "Dict([(\"a\",a),(\"b\",b)])"
   ]
  },
  {
   "cell_type": "code",
   "execution_count": null,
   "metadata": {
    "collapsed": false
   },
   "outputs": [],
   "source": [
    "tic()\n",
    "d = 3\n",
    "t1 = toc()"
   ]
  },
  {
   "cell_type": "code",
   "execution_count": null,
   "metadata": {
    "collapsed": false
   },
   "outputs": [],
   "source": [
    "matwrite(\"matfile2.mat\",Dict([(\"d\",d),(\"b\",b),(\"c\",c)]))"
   ]
  },
  {
   "cell_type": "code",
   "execution_count": null,
   "metadata": {
    "collapsed": true
   },
   "outputs": [],
   "source": [
    "file = matopen(\"matfile.mat\")\n",
    "if exists(file, \"variable\")\n",
    "    write(file,\"a\",a,\"b\",b)\n",
    "end\n",
    "close(file)"
   ]
  },
  {
   "cell_type": "code",
   "execution_count": null,
   "metadata": {
    "collapsed": false
   },
   "outputs": [],
   "source": [
    "vars = matread(\"matfile2.mat\")"
   ]
  },
  {
   "cell_type": "code",
   "execution_count": null,
   "metadata": {
    "collapsed": false
   },
   "outputs": [],
   "source": [
    "nprocs()"
   ]
  },
  {
   "cell_type": "code",
   "execution_count": null,
   "metadata": {
    "collapsed": false
   },
   "outputs": [],
   "source": [
    "ratname = \"B069\"\n",
    "saveto_filename = *(\"julia_out_\",ratname,\".mat\")"
   ]
  },
  {
   "cell_type": "code",
   "execution_count": null,
   "metadata": {
    "collapsed": false
   },
   "outputs": [],
   "source": [
    "rand()"
   ]
  },
  {
   "cell_type": "code",
   "execution_count": null,
   "metadata": {
    "collapsed": false
   },
   "outputs": [],
   "source": [
    "zeros(1,3)"
   ]
  },
  {
   "cell_type": "code",
   "execution_count": null,
   "metadata": {
    "collapsed": false
   },
   "outputs": [],
   "source": [
    "a = [3; 3; 2]"
   ]
  },
  {
   "cell_type": "code",
   "execution_count": null,
   "metadata": {
    "collapsed": false
   },
   "outputs": [],
   "source": [
    "sum(a)"
   ]
  },
  {
   "cell_type": "code",
   "execution_count": null,
   "metadata": {
    "collapsed": false
   },
   "outputs": [],
   "source": []
  },
  {
   "cell_type": "code",
   "execution_count": null,
   "metadata": {
    "collapsed": false
   },
   "outputs": [],
   "source": []
  },
  {
   "cell_type": "code",
   "execution_count": null,
   "metadata": {
    "collapsed": false
   },
   "outputs": [],
   "source": [
    "#######################################################\n",
    "function version_one(mu,X)\n",
    "  aux = 0.0\n",
    "  for nn=1:size(X,2)\n",
    "    aux +=  sum( (X[:,nn]-mu).^2)\n",
    "  end\n",
    "\n",
    "  return aux\n",
    "\n",
    "end\n",
    "\n",
    "#######################################################\n",
    "function version_two(mu,X)\n",
    "  N = size(X,2)\n",
    "  println(eltype(mu))\n",
    "  aux = zeros(eltype(mu),N)\n",
    "  for nn=1:N\n",
    "    aux[nn] = sum( (X[:,nn]-mu).^2)\n",
    "  end\n",
    "  return sum(aux)\n",
    "\n",
    "end"
   ]
  },
  {
   "cell_type": "code",
   "execution_count": null,
   "metadata": {
    "collapsed": false
   },
   "outputs": [],
   "source": [
    "X = randn(2,3) # some random data\n",
    "mu = [1.0;2.0] # arbitrary mean\n",
    "@show version_one(mu,X) # works fine for me\n",
    "@show version_two(mu,X) # works fine for me"
   ]
  },
  {
   "cell_type": "code",
   "execution_count": null,
   "metadata": {
    "collapsed": false
   },
   "outputs": [],
   "source": [
    "ForwardDiff.gradient( ARG -> version_one(ARG,X), mu)\n"
   ]
  },
  {
   "cell_type": "code",
   "execution_count": null,
   "metadata": {
    "collapsed": false
   },
   "outputs": [],
   "source": [
    "ForwardDiff.gradient( ARG -> version_two(ARG,X), mu)"
   ]
  },
  {
   "cell_type": "code",
   "execution_count": null,
   "metadata": {
    "collapsed": true
   },
   "outputs": [],
   "source": []
  }
 ],
 "metadata": {
  "kernelspec": {
   "display_name": "Julia 0.4.5",
   "language": "julia",
   "name": "julia-0.4"
  },
  "language_info": {
   "file_extension": ".jl",
   "mimetype": "application/julia",
   "name": "julia",
   "version": "0.4.5"
  }
 },
 "nbformat": 4,
 "nbformat_minor": 0
}
