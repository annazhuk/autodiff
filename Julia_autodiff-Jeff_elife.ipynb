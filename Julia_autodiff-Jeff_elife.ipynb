{
 "cells": [
  {
   "cell_type": "markdown",
   "metadata": {},
   "source": [
    "# PBupsModelmusc with Algorithmic Differentiation in Julia\n",
    "3 additional parameters were added to Bing’s accumulator model.  \n",
    "To analyze the strong bias induced by unilateral FOF inactivation\n"
   ]
  },
  {
   "cell_type": "code",
   "execution_count": 2,
   "metadata": {
    "collapsed": false
   },
   "outputs": [
    {
     "data": {
      "text/plain": [
       "isless (generic function with 46 methods)"
      ]
     },
     "execution_count": 2,
     "metadata": {},
     "output_type": "execute_result"
    }
   ],
   "source": [
    "# import packages..\n",
    "import ForwardDiff\n",
    "using ForwardDiff\n",
    "# using PyPlot\n",
    "import Base.convert\n",
    "import Optim\n",
    "using Optim\n",
    "\n",
    "# === Upgrading from ForwardDiff v0.1 to v0.2\n",
    "# instead of ForwardDiff.GradientNumber and ForwardDiff.HessianNumber, \n",
    "# we will use ForwardDiff.Dual\n",
    "\n",
    "convert(::Type{Float64}, x::ForwardDiff.Dual) = Float64(x.value)\n",
    "function convert(::Array{Float64}, x::Array{ForwardDiff.Dual}) \n",
    "    y = zeros(size(x)); \n",
    "    for i in 1:prod(size(x)) \n",
    "        y[i] = convert(Float64, x[i]) \n",
    "    end\n",
    "    return y\n",
    "end\n",
    "\n",
    "immutable NumericPair{X,Y} <: Number\n",
    "  x::X\n",
    "  y::Y\n",
    "end\n",
    "Base.isless(a::NumericPair, b::NumericPair) = (a.x<b.x) || (a.x==b.x && a.y<b.y)\n"
   ]
  },
  {
   "cell_type": "markdown",
   "metadata": {},
   "source": [
    "To evaluate how well a particular set of parameter values $\\theta$ fits the behavioral data, we compute the probability of oberving the data given the model.\n",
    "\n",
    "For each trial $i$, we will compute the likelihood of seeing the data under the model assuming that trials are independent. \n",
    "\n",
    "$P(D|\\theta) = \\prod_{i}P(d_i|t_{i,R},t_{i,L},\\theta)$\n",
    "\n",
    "$t_{i,R},t_{i,L}$ : the right and left click times on trial $i$\n",
    "\n",
    "$d_i$ : the subject's decision on trial $i$\n",
    "\n",
    "The best-fit parameter values are the parameters $\\theta$ that maximize the likelihood (Maximum likelihood values)\n",
    "\n",
    "To help maximize the likelihood(or log likelihood), we will compute the derivative $\\partial P(d_i|t_{i,R},t_{i,L},\\theta) / \\partial\\theta$ for each of the parameters in the set $\\theta$.\n",
    "\n",
    "After we get these gradients of 9 model parameters, we will apply them for optimization."
   ]
  },
  {
   "cell_type": "markdown",
   "metadata": {},
   "source": [
    "## Import data "
   ]
  },
  {
   "cell_type": "code",
   "execution_count": 43,
   "metadata": {
    "collapsed": false
   },
   "outputs": [
    {
     "data": {
      "text/plain": [
       "Dict{ASCIIString,Any} with 2 entries:\n",
       "  \"rawdata\"      => Dict{ASCIIString,Any}(\"is_probe\"=>1x3836 Array{Any,2}:…\n",
       "  \"orig_rawdata\" => Dict{ASCIIString,Any}(\"is_probe\"=>1x3836 Array{Any,2}:…"
      ]
     },
     "execution_count": 43,
     "metadata": {},
     "output_type": "execute_result"
    }
   ],
   "source": [
    "using MAT\n",
    "ratdata = matread(\"chrono_fof_rawdata.mat\")\n",
    "# ratdata = matread(\"testdata.mat\")\n",
    "# ratdata = matread(\"chrono_B069_rawdata.mat\")"
   ]
  },
  {
   "cell_type": "code",
   "execution_count": 44,
   "metadata": {
    "collapsed": false
   },
   "outputs": [
    {
     "data": {
      "text/plain": [
       "trialdata (generic function with 1 method)"
      ]
     },
     "execution_count": 44,
     "metadata": {},
     "output_type": "execute_result"
    }
   ],
   "source": [
    "function trialdata(rawdata, trial::Int)\n",
    "    if rawdata[\"pokedR\"][trial] > 0\n",
    "        rat_choice = 1;  # \"R\"\n",
    "    else\n",
    "        rat_choice = -1; # \"L\"\n",
    "    end;\n",
    "    \n",
    "    if typeof(rawdata[\"rightbups\"][trial]) <: Array\n",
    "        rvec = vec(rawdata[\"rightbups\"][trial])::Array{Float64,1};\n",
    "    else\n",
    "        rvec = Float64[]\n",
    "    end\n",
    "    if typeof(rawdata[\"leftbups\"][trial]) <: Array\n",
    "        lvec = vec(rawdata[\"leftbups\"][trial])::Array{Float64,1};\n",
    "    else\n",
    "        lvec = Float64[]\n",
    "    end\n",
    "    \n",
    "    return rvec, lvec, \n",
    "    rawdata[\"T\"][trial]::Float64, rat_choice\n",
    "end\n",
    "\n"
   ]
  },
  {
   "cell_type": "code",
   "execution_count": 47,
   "metadata": {
    "collapsed": false
   },
   "outputs": [
    {
     "name": "stdout",
     "output_type": "stream",
     "text": [
      "  0.000037 seconds (15 allocations: 528 bytes)\n"
     ]
    },
    {
     "data": {
      "text/plain": [
       "([0.0,0.012634999999999999],[0.0,0.028775000000000002,0.046955,0.07099,0.10994,0.12017,0.21356,0.21445,0.230355,0.26368,0.266795],0.2796896469572883,-1)"
      ]
     },
     "execution_count": 47,
     "metadata": {},
     "output_type": "execute_result"
    }
   ],
   "source": [
    "@time RightClickTimes, LeftClickTimes, maxT, rat_choice = trialdata(ratdata[\"rawdata\"], 1)"
   ]
  },
  {
   "cell_type": "markdown",
   "metadata": {},
   "source": [
    "## bin_centers = make_bins(B, dx, binN)"
   ]
  },
  {
   "cell_type": "code",
   "execution_count": 48,
   "metadata": {
    "collapsed": false
   },
   "outputs": [],
   "source": [
    "\"\"\"\n",
    "function bin_centers = make_bins(B, dx, binN)\n",
    "\n",
    "Makes a series of points that will indicate bin centers. The first and\n",
    "last points will indicate sticky bins. No \"bin edges\" are made-- the edge\n",
    "between two bins is always implicity at the halfway point between their\n",
    "corresponding centers. The center bin is always at x=0; bin spacing\n",
    "(except for last and first bins) is always dx; and the position\n",
    "of the first and last bins is chosen so that |B| lies exactly at the\n",
    "midpoint between 1st (sticky) and 2nd (first real) bins, as well as\n",
    "exactly at the midpoint between last but one (last real) and last\n",
    "(sticky) bins.\n",
    "\n",
    "Playing nice with ForwardDiff means that the *number* of bins must be predetermined.\n",
    "So this function will not actually set the number of bins; what it'll do is determine their\n",
    "locations. To accomplish this separation, the function uses as a third parameter binN,\n",
    "which should be equal to the number of bins with bin centers > 0, as follows: \n",
    "   binN = ceil(B/dx)\n",
    "and then the total number of bins will be 2*binN+1, with the center one always corresponding\n",
    "to position zero. Use non-differentiable types for B and dx for this to work.\n",
    "\"\"\"\n",
    "\n",
    "function make_bins{T}(bins::Vector{T}, B, dx::T, binN)\n",
    "    cnt = 1\n",
    "    for i=-binN:binN\n",
    "        bins[cnt] = i*dx\n",
    "        cnt = cnt+1\n",
    "    end\n",
    "    \n",
    "    if binN*dx == B\n",
    "        bins[end] = B + dx\n",
    "        bins[1] = -B - dx\n",
    "    else\n",
    "        bins[end] = 2*B - (binN-1)*dx\n",
    "        bins[1] = -2*B + (binN-1)*dx\n",
    "    end\n",
    "end;"
   ]
  },
  {
   "cell_type": "code",
   "execution_count": 49,
   "metadata": {
    "collapsed": false
   },
   "outputs": [
    {
     "name": "stdout",
     "output_type": "stream",
     "text": [
      "  0.012024 seconds (5.57 k allocations: 263.271 KB)\n"
     ]
    },
    {
     "data": {
      "text/plain": [
       "35-element Array{Float64,1}:\n",
       " -4.2 \n",
       " -4.0 \n",
       " -3.75\n",
       " -3.5 \n",
       " -3.25\n",
       " -3.0 \n",
       " -2.75\n",
       " -2.5 \n",
       " -2.25\n",
       " -2.0 \n",
       " -1.75\n",
       " -1.5 \n",
       " -1.25\n",
       "  ⋮   \n",
       "  1.5 \n",
       "  1.75\n",
       "  2.0 \n",
       "  2.25\n",
       "  2.5 \n",
       "  2.75\n",
       "  3.0 \n",
       "  3.25\n",
       "  3.5 \n",
       "  3.75\n",
       "  4.0 \n",
       "  4.2 "
      ]
     },
     "execution_count": 49,
     "metadata": {},
     "output_type": "execute_result"
    }
   ],
   "source": [
    "binN = ceil(4.1/0.25)\n",
    "bins = zeros(typeof(binN), Int(binN*2+1))\n",
    "@time make_bins(bins,4.1,0.25,binN)\n",
    "bins"
   ]
  },
  {
   "cell_type": "code",
   "execution_count": 50,
   "metadata": {
    "collapsed": false
   },
   "outputs": [
    {
     "name": "stdout",
     "output_type": "stream",
     "text": [
      "3   ...ia/lib/julia/sys.dylib; trunc; (unknown line)\n",
      "724 task.jl; anonymous; line: 447\n",
      " 724 .../IJulia/src/IJulia.jl; eventloop; line: 143\n",
      "  724 ...rc/execute_request.jl; execute_request_0x535c5df2; line: 183\n",
      "   724 loading.jl; include_string; line: 282\n",
      "    1   ...a/lib/julia/sys.dylib; typeinf_ext; (unknown line)\n",
      "     1 ...a/lib/julia/sys.dylib; typeinf; (unknown line)\n",
      "      1 ...a/lib/julia/sys.dylib; typeinf_uncached; (unknown line)\n",
      "       1 ...a/lib/julia/sys.dylib; abstract_eval; (unknown line)\n",
      "        1 .../lib/julia/sys.dylib; abstract_eval_call; (unknown line)\n",
      "         1 .../lib/julia/sys.dylib; abstract_call; (unknown line)\n",
      "          1 ...lib/julia/sys.dylib; abstract_call_gf; (unknown line)\n",
      "           1 ...lib/julia/sys.dylib; typeinf; (unknown line)\n",
      "            1 ...lib/julia/sys.dylib; typeinf; (unknown line)\n",
      "             1 ...ib/julia/sys.dylib; typeinf_uncached; (unknown line)\n",
      "              1 ...ib/julia/sys.dylib; abstract_interpret; (unknown line)\n",
      "               1 ...b/julia/sys.dylib; abstract_eval; (unknown line)\n",
      "                1 ...b/julia/sys.dylib; abstract_eval_call; (unknown line)\n",
      "                 1 ...b/julia/sys.dylib; abstract_eval; (unknown line)\n",
      "                  1 .../julia/sys.dylib; abstract_eval_call; (unknown line)\n",
      "                   1 .../julia/sys.dylib; abstract_call; (unknown line)\n",
      "                    1 ...julia/sys.dylib; abstract_call_gf; (unknown line)\n",
      "                     1 ...julia/sys.dylib; indexed_next; (unknown line)\n",
      "    721 profile.jl; anonymous; line: 16\n",
      "     9   ...a/lib/julia/sys.dylib; typeinf_ext; (unknown line)\n",
      "      9 ...a/lib/julia/sys.dylib; typeinf; (unknown line)\n",
      "       9 ...a/lib/julia/sys.dylib; typeinf_uncached; (unknown line)\n",
      "        3 .../lib/julia/sys.dylib; abstract_interpret; (unknown line)\n",
      "         3 .../lib/julia/sys.dylib; abstract_eval; (unknown line)\n",
      "          3 ...lib/julia/sys.dylib; abstract_eval_call; (unknown line)\n",
      "           3 ...lib/julia/sys.dylib; abstract_call; (unknown line)\n",
      "            3 ...lib/julia/sys.dylib; abstract_call; (unknown line)\n",
      "             3 ...ib/julia/sys.dylib; abstract_call_gf; (unknown line)\n",
      "              3 ...ib/julia/sys.dylib; _methods; (unknown line)\n",
      "               3 ...b/julia/sys.dylib; _methods; (unknown line)\n",
      "                3 ...b/julia/sys.dylib; _methods; (unknown line)\n",
      "                 3 ...b/julia/sys.dylib; _methods; (unknown line)\n",
      "        3 .../lib/julia/sys.dylib; inlining_pass; (unknown line)\n",
      "         3 .../lib/julia/sys.dylib; inlining_pass; (unknown line)\n",
      "          3 ...lib/julia/sys.dylib; inlining_pass; (unknown line)\n",
      "           1 ...lib/julia/sys.dylib; inlineable; (unknown line)\n",
      "            1 ...lib/julia/sys.dylib; _methods; (unknown line)\n",
      "             1 ...ib/julia/sys.dylib; _methods; (unknown line)\n",
      "              1 ...ib/julia/sys.dylib; _methods; (unknown line)\n",
      "               1 ...b/julia/sys.dylib; _methods; (unknown line)\n",
      "           2 ...lib/julia/sys.dylib; inlining_pass; (unknown line)\n",
      "            2 ...lib/julia/sys.dylib; inlineable; (unknown line)\n",
      "             1 ...ib/julia/sys.dylib; _methods; (unknown line)\n",
      "              1 ...ib/julia/sys.dylib; _methods; (unknown line)\n",
      "               1 ...b/julia/sys.dylib; _methods; (unknown line)\n",
      "                1 ...b/julia/sys.dylib; _methods; (unknown line)\n",
      "        1 .../lib/julia/sys.dylib; stchanged; (unknown line)\n",
      "         1 .../lib/julia/sys.dylib; schanged; (unknown line)\n",
      "     1   In[24]; ComputeLL; line: 5\n",
      "      1 In[4]; trialdata; line: 8\n",
      "       1 array.jl; getindex; line: 282\n",
      "     354 In[24]; ComputeLL; line: 8\n",
      "      164 In[18]; logLike; line: 132\n",
      "       10 In[18]; logProbRight; line: 74\n",
      "        1 In[12]; Fmatrix; line: 36\n",
      "         1 arraymath.jl; ./; line: 49\n",
      "        1 In[12]; Fmatrix; line: 51\n",
      "        1 In[12]; Fmatrix; line: 55\n",
      "        2 In[12]; Fmatrix; line: 63\n",
      "         2 .../lib/julia/sys.dylib; trunc; (unknown line)\n",
      "        1 In[12]; Fmatrix; line: 75\n",
      "        2 In[12]; Fmatrix; line: 78\n",
      "       8  In[18]; logProbRight; line: 75\n",
      "        3 linalg/matmul.jl; gemv!; line: 233\n",
      "         3 linalg/blas.jl; gemv!; line: 292\n",
      "       15 In[18]; logProbRight; line: 78\n",
      "        1 In[12]; Fmatrix; line: 34\n",
      "         1 range.jl; colon; line: 143\n",
      "          1 range.jl; rat; line: 121\n",
      "           1 ...lib/julia/sys.dylib; trunc; (unknown line)\n",
      "        1 In[12]; Fmatrix; line: 36\n",
      "         1 operators.jl; exp; line: 380\n",
      "        1 In[12]; Fmatrix; line: 47\n",
      "        1 In[12]; Fmatrix; line: 51\n",
      "        3 In[12]; Fmatrix; line: 55\n",
      "        3 In[12]; Fmatrix; line: 63\n",
      "         2 .../lib/julia/sys.dylib; trunc; (unknown line)\n",
      "        4 In[12]; Fmatrix; line: 78\n",
      "        1 In[12]; Fmatrix; line: 79\n",
      "       20 In[18]; logProbRight; line: 88\n",
      "        19 linalg/matmul.jl; gemv!; line: 233\n",
      "         19 linalg/blas.jl; gemv!; line: 292\n",
      "       1  In[18]; logProbRight; line: 115\n",
      "        1 essentials.jl; call; line: 201\n",
      "       84 In[18]; logProbRight; line: 116\n",
      "        1  ...lib/julia/sys.dylib; vect; (unknown line)\n",
      "        1  In[12]; Fmatrix; line: 34\n",
      "         1 range.jl; vcat; line: 662\n",
      "        11 In[12]; Fmatrix; line: 36\n",
      "         1 arraymath.jl; -; line: 15\n",
      "         1 arraymath.jl; ./; line: 49\n",
      "         2 arraymath.jl; .^; line: 57\n",
      "         7 operators.jl; exp; line: 380\n",
      "        1  In[12]; Fmatrix; line: 37\n",
      "         1 arraymath.jl; ./; line: 49\n",
      "        1  In[12]; Fmatrix; line: 47\n",
      "        1  In[12]; Fmatrix; line: 51\n",
      "        1  In[12]; Fmatrix; line: 53\n",
      "        1  In[12]; Fmatrix; line: 55\n",
      "        1  In[12]; Fmatrix; line: 58\n",
      "        4  In[12]; Fmatrix; line: 60\n",
      "        15 In[12]; Fmatrix; line: 63\n",
      "         11 ...lib/julia/sys.dylib; trunc; (unknown line)\n",
      "        3  In[12]; Fmatrix; line: 67\n",
      "        3  In[12]; Fmatrix; line: 70\n",
      "        1  In[12]; Fmatrix; line: 75\n",
      "        5  In[12]; Fmatrix; line: 77\n",
      "        23 In[12]; Fmatrix; line: 78\n",
      "        11 In[12]; Fmatrix; line: 79\n",
      "       26 In[18]; logProbRight; line: 117\n",
      "        26 linalg/matmul.jl; gemv!; line: 233\n",
      "         26 linalg/blas.jl; gemv!; line: 292\n",
      "      190 In[18]; logLike; line: 135\n",
      "       10  In[18]; logProbRight; line: 74\n",
      "        1 .../lib/julia/sys.dylib; vect; (unknown line)\n",
      "        1 In[12]; Fmatrix; line: 37\n",
      "         1 arraymath.jl; ./; line: 49\n",
      "        1 In[12]; Fmatrix; line: 53\n",
      "        2 In[12]; Fmatrix; line: 63\n",
      "         1 .../lib/julia/sys.dylib; trunc; (unknown line)\n",
      "        2 In[12]; Fmatrix; line: 78\n",
      "        2 In[12]; Fmatrix; line: 79\n",
      "        1 In[12]; Fmatrix; line: 84\n",
      "         1 multidimensional.jl; _unsafe_batchsetindex!; line: 318\n",
      "       2   In[18]; logProbRight; line: 75\n",
      "        2 linalg/matmul.jl; gemv!; line: 233\n",
      "         2 linalg/blas.jl; gemv!; line: 292\n",
      "       15  In[18]; logProbRight; line: 78\n",
      "        2 In[12]; Fmatrix; line: 36\n",
      "         1 arraymath.jl; ./; line: 49\n",
      "         1 arraymath.jl; .^; line: 57\n",
      "        2 In[12]; Fmatrix; line: 53\n",
      "        1 In[12]; Fmatrix; line: 60\n",
      "        5 In[12]; Fmatrix; line: 63\n",
      "         2 .../lib/julia/sys.dylib; trunc; (unknown line)\n",
      "        1 In[12]; Fmatrix; line: 75\n",
      "        1 In[12]; Fmatrix; line: 77\n",
      "        1 In[12]; Fmatrix; line: 78\n",
      "        2 In[12]; Fmatrix; line: 79\n",
      "       20  In[18]; logProbRight; line: 88\n",
      "        20 linalg/matmul.jl; gemv!; line: 233\n",
      "         20 linalg/blas.jl; gemv!; line: 292\n",
      "       3   In[18]; logProbRight; line: 115\n",
      "        3 essentials.jl; call; line: 201\n",
      "       111 In[18]; logProbRight; line: 116\n",
      "        4  In[12]; Fmatrix; line: 36\n",
      "         2 arraymath.jl; -; line: 17\n",
      "         1 arraymath.jl; ./; line: 49\n",
      "         1 operators.jl; exp; line: 380\n",
      "        3  In[12]; Fmatrix; line: 47\n",
      "        2  In[12]; Fmatrix; line: 51\n",
      "        2  In[12]; Fmatrix; line: 53\n",
      "        3  In[12]; Fmatrix; line: 55\n",
      "        4  In[12]; Fmatrix; line: 56\n",
      "        4  In[12]; Fmatrix; line: 58\n",
      "        6  In[12]; Fmatrix; line: 60\n",
      "        23 In[12]; Fmatrix; line: 63\n",
      "         12 ...lib/julia/sys.dylib; trunc; (unknown line)\n",
      "        3  In[12]; Fmatrix; line: 70\n",
      "        3  In[12]; Fmatrix; line: 75\n",
      "        10 In[12]; Fmatrix; line: 77\n",
      "        28 In[12]; Fmatrix; line: 78\n",
      "        13 In[12]; Fmatrix; line: 79\n",
      "       29  In[18]; logProbRight; line: 117\n",
      "        29 linalg/matmul.jl; gemv!; line: 233\n",
      "         29 linalg/blas.jl; gemv!; line: 292\n",
      "     1   In[24]; ComputeLL; line: 9\n",
      "     1   In[37]; ComputeLL; line: 5\n",
      "      1 In[4]; trialdata; line: 13\n",
      "     346 In[37]; ComputeLL; line: 8\n",
      "      159 In[31]; logLike; line: 132\n",
      "       1  In[31]; logProbRight; line: 35\n",
      "        1 .../lib/julia/sys.dylib; call; (unknown line)\n",
      "       1  In[31]; logProbRight; line: 60\n",
      "        1 In[7]; make_bins; line: 25\n",
      "       7  In[31]; logProbRight; line: 74\n",
      "        1 In[12]; Fmatrix; line: 36\n",
      "         1 operators.jl; exp; line: 380\n",
      "        2 In[12]; Fmatrix; line: 60\n",
      "        2 In[12]; Fmatrix; line: 78\n",
      "        2 In[12]; Fmatrix; line: 79\n",
      "       3  In[31]; logProbRight; line: 75\n",
      "        3 linalg/matmul.jl; gemv!; line: 233\n",
      "         3 linalg/blas.jl; gemv!; line: 292\n",
      "       7  In[31]; logProbRight; line: 78\n",
      "        1 In[12]; Fmatrix; line: 55\n",
      "        2 In[12]; Fmatrix; line: 56\n",
      "        2 In[12]; Fmatrix; line: 63\n",
      "         1 .../lib/julia/sys.dylib; trunc; (unknown line)\n",
      "        2 In[12]; Fmatrix; line: 78\n",
      "       1  In[31]; logProbRight; line: 85\n",
      "       18 In[31]; logProbRight; line: 88\n",
      "        18 linalg/matmul.jl; gemv!; line: 233\n",
      "         18 linalg/blas.jl; gemv!; line: 292\n",
      "       8  In[31]; logProbRight; line: 115\n",
      "        8 essentials.jl; call; line: 201\n",
      "       86 In[31]; logProbRight; line: 116\n",
      "        1  ...lib/julia/sys.dylib; vect; (unknown line)\n",
      "        2  In[12]; Fmatrix; line: 34\n",
      "         1 range.jl; vcat; line: 662\n",
      "         1 range.jl; vcat; line: 665\n",
      "        6  In[12]; Fmatrix; line: 36\n",
      "         6 operators.jl; exp; line: 380\n",
      "        2  In[12]; Fmatrix; line: 47\n",
      "        2  In[12]; Fmatrix; line: 51\n",
      "        4  In[12]; Fmatrix; line: 53\n",
      "        3  In[12]; Fmatrix; line: 55\n",
      "        4  In[12]; Fmatrix; line: 56\n",
      "        2  In[12]; Fmatrix; line: 58\n",
      "        4  In[12]; Fmatrix; line: 60\n",
      "        11 In[12]; Fmatrix; line: 63\n",
      "         4 .../lib/julia/sys.dylib; trunc; (unknown line)\n",
      "        3  In[12]; Fmatrix; line: 67\n",
      "        3  In[12]; Fmatrix; line: 70\n",
      "        9  In[12]; Fmatrix; line: 77\n",
      "        20 In[12]; Fmatrix; line: 78\n",
      "        7  In[12]; Fmatrix; line: 79\n",
      "       27 In[31]; logProbRight; line: 117\n",
      "        27 linalg/matmul.jl; gemv!; line: 233\n",
      "         27 linalg/blas.jl; gemv!; line: 292\n",
      "      187 In[31]; logLike; line: 135\n",
      "       1  In[12]; Fmatrix; line: 84\n",
      "       1  In[31]; logProbRight; line: 36\n",
      "        1 .../lib/julia/sys.dylib; call; (unknown line)\n",
      "       1  In[31]; logProbRight; line: 67\n",
      "       1  In[31]; logProbRight; line: 68\n",
      "        1 sort.jl; sort!; line: 402\n",
      "         1 sort.jl; sort!; line: 292\n",
      "          1 sort.jl; sort!; line: 217\n",
      "       11 In[31]; logProbRight; line: 74\n",
      "        1 In[12]; Fmatrix; line: 53\n",
      "        4 In[12]; Fmatrix; line: 63\n",
      "         1 .../lib/julia/sys.dylib; trunc; (unknown line)\n",
      "        1 In[12]; Fmatrix; line: 77\n",
      "        1 In[12]; Fmatrix; line: 78\n",
      "        4 In[12]; Fmatrix; line: 79\n",
      "       5  In[31]; logProbRight; line: 75\n",
      "        5 linalg/matmul.jl; gemv!; line: 233\n",
      "         5 linalg/blas.jl; gemv!; line: 292\n",
      "       14 In[31]; logProbRight; line: 78\n",
      "        1 In[12]; Fmatrix; line: 36\n",
      "         1 arraymath.jl; .^; line: 57\n",
      "        1 In[12]; Fmatrix; line: 47\n",
      "        4 In[12]; Fmatrix; line: 63\n",
      "         3 .../lib/julia/sys.dylib; trunc; (unknown line)\n",
      "        1 In[12]; Fmatrix; line: 77\n",
      "        4 In[12]; Fmatrix; line: 78\n",
      "        1 In[12]; Fmatrix; line: 79\n",
      "       19 In[31]; logProbRight; line: 88\n",
      "        1  linalg/matmul.jl; gemv!; line: 220\n",
      "        18 linalg/matmul.jl; gemv!; line: 233\n",
      "         18 linalg/blas.jl; gemv!; line: 292\n",
      "       96 In[31]; logProbRight; line: 116\n",
      "        1  ...lib/julia/sys.dylib; vect; (unknown line)\n",
      "        5  In[12]; Fmatrix; line: 34\n",
      "         2 range.jl; vcat; line: 662\n",
      "         1 range.jl; vcat; line: 664\n",
      "         2 range.jl; vcat; line: 666\n",
      "        4  In[12]; Fmatrix; line: 36\n",
      "         4 operators.jl; exp; line: 380\n",
      "        4  In[12]; Fmatrix; line: 51\n",
      "        1  In[12]; Fmatrix; line: 53\n",
      "        1  In[12]; Fmatrix; line: 54\n",
      "        2  In[12]; Fmatrix; line: 55\n",
      "        4  In[12]; Fmatrix; line: 56\n",
      "        1  In[12]; Fmatrix; line: 58\n",
      "        2  In[12]; Fmatrix; line: 60\n",
      "        22 In[12]; Fmatrix; line: 63\n",
      "         9 .../lib/julia/sys.dylib; trunc; (unknown line)\n",
      "        3  In[12]; Fmatrix; line: 67\n",
      "        4  In[12]; Fmatrix; line: 75\n",
      "        8  In[12]; Fmatrix; line: 77\n",
      "        17 In[12]; Fmatrix; line: 78\n",
      "        17 In[12]; Fmatrix; line: 79\n",
      "       38 In[31]; logProbRight; line: 117\n",
      "        1  linalg/matmul.jl; gemv!; line: 220\n",
      "         1 linalg/matmul.jl; lapack_size; line: 337\n",
      "        37 linalg/matmul.jl; gemv!; line: 233\n",
      "         37 linalg/blas.jl; gemv!; line: 292\n"
     ]
    },
    {
     "data": {
      "text/plain": [
       "35-element Array{Float64,1}:\n",
       " -4.2 \n",
       " -4.0 \n",
       " -3.75\n",
       " -3.5 \n",
       " -3.25\n",
       " -3.0 \n",
       " -2.75\n",
       " -2.5 \n",
       " -2.25\n",
       " -2.0 \n",
       " -1.75\n",
       " -1.5 \n",
       " -1.25\n",
       "  ⋮   \n",
       "  1.5 \n",
       "  1.75\n",
       "  2.0 \n",
       "  2.25\n",
       "  2.5 \n",
       "  2.75\n",
       "  3.0 \n",
       "  3.25\n",
       "  3.5 \n",
       "  3.75\n",
       "  4.0 \n",
       "  4.2 "
      ]
     },
     "execution_count": 50,
     "metadata": {},
     "output_type": "execute_result"
    }
   ],
   "source": [
    "B = 4.1\n",
    "dx_test = 0.25\n",
    "binN = ceil(B/dx_test)\n",
    "bins = zeros(typeof(binN), Int(binN*2+1))\n",
    "@profile make_bins(bins,B,dx_test,binN)\n",
    "Profile.print()\n",
    "Profile.clear_malloc_data() \n",
    "bin_centers = bins\n",
    "bins"
   ]
  },
  {
   "cell_type": "markdown",
   "metadata": {},
   "source": [
    "## Global Variables"
   ]
  },
  {
   "cell_type": "code",
   "execution_count": 51,
   "metadata": {
    "collapsed": false
   },
   "outputs": [],
   "source": [
    "# Global variables \n",
    "const epsilon = 10.0^(-10);\n",
    "const dx = 0.25;\n",
    "const dt = 0.02;\n",
    "const total_rate = 40;"
   ]
  },
  {
   "cell_type": "markdown",
   "metadata": {},
   "source": [
    "## Parameters\n",
    "\n",
    "a : decision variable, memory accumulator\n",
    "\n",
    "$$ da =\n",
    "  \\begin{cases}\n",
    "    0       & \\quad \\text{if, } |a| \\geq B \\\\\n",
    "    \\sigma_adW + (\\delta_{t,t_R} \\cdot \\eta C(t) - \\delta_{t,t_L} \\cdot \\eta C(t))dt + \\lambda adt  & \\quad \\text{otherwise, }\\\\\n",
    "  \\end{cases}\n",
    "$$\n",
    "\n",
    "\n",
    "\n",
    "The impact of each click (C) is affected by sensory adaptation that depends on clicks from both right and left sides:\n",
    "\n",
    "$$ \n",
    "\\frac{\\mathrm d C}{\\mathrm d t} = \\frac{1-C}{\\tau_\\phi} + (1-\\phi)C(\\delta_{t,t_R}+\\delta_{t,t_L}) \n",
    "$$\n",
    "\n",
    "\n",
    "sigma2_a ($\\sigma_a^2$) : a diffusion constant, parameterizing noise in a.\n",
    "\n",
    "sigma2_s ($\\sigma_s^2$) : parameterizing noise when adding evidence from a right or left pulse. (incoming sensory evidence)\n",
    "\n",
    "sigma2_i ($\\sigma_i^2$) : initial condition for the dynamical equation at $t=0$\n",
    "\n",
    "lam ($\\lambda$) : consistent drift in the memory a ($\\lambda<0$ : leaky or forgetful case, $\\lambda>0$ : unstable or impulsive case)\n",
    "\n",
    "B : decision bound\n",
    "\n",
    "bias : bias parameter determines the position of the threshold in a (which a Rightward decision is made)\n",
    "\n",
    "phi ($\\phi$) : parameterize sensory adaptation (by defining the dynamics of C ($\\phi>1$ : Facilitation, $\\phi<1$ : Depression, $\\phi=1$ : absense of sensory adaptation)\n",
    "\n",
    "tau_phi ($\\tau_\\phi$) :\n",
    "\n",
    "lapse : The lapse rate parameterizes the probability of making a random response.\n",
    "\n",
    "______\n",
    "biased_sigma2_s :  \n",
    "biased_input :  \n",
    "biased_lapse :   \n"
   ]
  },
  {
   "cell_type": "code",
   "execution_count": 52,
   "metadata": {
    "collapsed": false
   },
   "outputs": [],
   "source": [
    "sigma_a = 1; sigma_s = 0.1; sigma_i = 0.2; \n",
    "sigma_a_sbin = sigma_a  # remember we need this copy for Fmatrix\n",
    "lam = -0.0005; B = 4.1; bias = 0.1; \n",
    "phi = 0.3; tau_phi = 0.1; lapse = 0.05*2;\n",
    "biased_sigma2_s = 0.1; biased_input = 0.1; biased_lapse = 0.1;\n",
    "params = [sigma_a, sigma_s, sigma_i, lam, B, bias, phi, tau_phi, lapse, biased_sigma2_s, biased_input, biased_lapse]   \n",
    "\n",
    "sigma = params[1];\n",
    "lam   = params[2];\n",
    "c     = params[3];"
   ]
  },
  {
   "cell_type": "markdown",
   "metadata": {},
   "source": [
    "## F = Fmatrix([sigma, lambda, c], bin_centers)"
   ]
  },
  {
   "cell_type": "code",
   "execution_count": 53,
   "metadata": {
    "collapsed": false
   },
   "outputs": [
    {
     "data": {
      "text/plain": [
       "Fmatrix (generic function with 1 method)"
      ]
     },
     "execution_count": 53,
     "metadata": {},
     "output_type": "execute_result"
    }
   ],
   "source": [
    "\"\"\"\n",
    "function F = Fmatrix([sigma, lambda, c], bin_centers)\n",
    "\n",
    "Uses globals\n",
    "    dt\n",
    "    dx\n",
    "    epsilon       (=10.0^-10)\n",
    "\n",
    "Returns a square Markov matrix of transition probabilities. \n",
    "Plays nice with ForwardDiff-- that is why bin_centers is a global vector (so that the rem\n",
    "operations that go into defining the bins, which ForwardDiff doesn't know how to deal with,\n",
    "stay outside of this differentiable function)\n",
    "\n",
    "sigma  should be in (accumulator units) per (second^(1/2))\n",
    "lambda should be in s^-1\n",
    "c      should be in accumulator units per second\n",
    "bin_centers should be a vector of the centers of all the bins. Edges will be at midpoints\n",
    "       between the centers, and the first and last bin will be sticky.\n",
    "\n",
    "dx is not used inside Fmatrix, because bin_centers specifies all we need to know.\n",
    "dt *is* used inside Fmatrix, to convert sigma, lambda, and c into timestep units\n",
    "\"\"\"\n",
    "function Fmatrix{T}(F::AbstractArray{T,2},params::Vector, bin_centers)\n",
    "    sigma2 = params[1];\n",
    "    lam   = params[2];\n",
    "    c     = params[3];\n",
    "    \n",
    "    sigma2_sbin = convert(Float64, sigma2)\n",
    "      \n",
    "    n_sbins = max(70, ceil(10*sqrt(sigma2_sbin)/dx))\n",
    "    \n",
    "    swidth = 5*sqrt(sigma2_sbin)\n",
    "    sbinsize = swidth/n_sbins;#sbins[2] - sbins[1]\n",
    "    base_sbins    = collect(-swidth:sbinsize:swidth)\n",
    "    \n",
    "    ps       = exp(-base_sbins.^2/(2*sigma2))\n",
    "    ps       = ps/sum(ps);\n",
    "    \n",
    "    sbin_length = length(base_sbins)\n",
    "    binN = length(bin_centers)\n",
    "\n",
    "    mu = 0.\n",
    "    for j in 2:binN\n",
    "        if lam == 0\n",
    "            mu = bin_centers[j]*exp(lam*dt)\n",
    "        else\n",
    "            mu = (bin_centers[j] + c/lam)*exp(lam*dt) - c/lam\n",
    "        end\n",
    "        \n",
    "        for k in 1:sbin_length\n",
    "            sbin = (k-1)*sbinsize + mu - swidth\n",
    "             \n",
    "            if sbin < bin_centers[1] #(bin_centers[1] + bin_centers[2])/2\n",
    "                F[1,j] = F[1,j] + ps[k]\n",
    "            elseif bin_centers[end] <= sbin#(bin_centers[end]+bin_centers[end-1])/2 <= sbins[k]\n",
    "                F[end,j] = F[end,j] + ps[k]\n",
    "            else # more condition\n",
    "                if (sbin > bin_centers[1] && sbin < bin_centers[2])\n",
    "                    lp = 1; hp = 2;\n",
    "                elseif (sbin > bin_centers[end-1] && sbin < bin_centers[end])\n",
    "                    lp = binN-1; hp = binN;\n",
    "                else \n",
    "                    lp = floor(Int,((sbin-bin_centers[2])/dx) + 2)#find(bin_centers .<= sbins[k])[end]\n",
    "                    hp = lp+1#Int(ceil((sbins[k]-bin_centers[2])/dx) + 1);\n",
    "                end\n",
    "\n",
    "                if lp < 1 \n",
    "                    lp = 1; \n",
    "                end\n",
    "                if hp < 1 \n",
    "                    hp = 1;\n",
    "                end\n",
    "\n",
    "                if lp == hp\n",
    "                    F[lp,j] = F[lp,j] + ps[k]\n",
    "                else\n",
    "                    dd = bin_centers[hp] - bin_centers[lp]\n",
    "                    F[hp,j] = F[hp,j] + ps[k]*(sbin - bin_centers[lp])/dd\n",
    "                    F[lp,j] = F[lp,j] + ps[k]*(bin_centers[hp] - sbin)/dd\n",
    "                end                   \n",
    "            end\n",
    "        end\n",
    "    end\n",
    "    F[:,1] = 0; F[:,end] = 0; F[1,1] = 1; F[end,end] = 1;\n",
    "end"
   ]
  },
  {
   "cell_type": "code",
   "execution_count": 54,
   "metadata": {
    "collapsed": false
   },
   "outputs": [
    {
     "name": "stdout",
     "output_type": "stream",
     "text": [
      "  0.078094 seconds (36.20 k allocations: 1.603 MB)\n"
     ]
    },
    {
     "data": {
      "text/plain": [
       "35x35 Array{Float64,2}:\n",
       " 1.0  0.41182      0.218907     0.0917964    …  0.0          0.0          0.0\n",
       " 0.0  0.197142     0.172131     0.112014        0.0          0.0          0.0\n",
       " 0.0  0.187228     0.217923     0.187228        0.0          0.0          0.0\n",
       " 0.0  0.119939     0.187228     0.217923        0.0          0.0          0.0\n",
       " 0.0  0.0571377    0.119939     0.187228        0.0          0.0          0.0\n",
       " 0.0  0.0202246    0.0571377    0.119939     …  0.0          0.0          0.0\n",
       " 0.0  0.00531176   0.0202246    0.0571377       0.0          0.0          0.0\n",
       " 0.0  0.00103206   0.00531176   0.0202246       0.0          0.0          0.0\n",
       " 0.0  0.000148294  0.00103206   0.00531176      0.0          0.0          0.0\n",
       " 0.0  1.59548e-5   0.000148294  0.00103206      0.0          0.0          0.0\n",
       " 0.0  1.11105e-6   1.59548e-5   0.000148294  …  0.0          0.0          0.0\n",
       " 0.0  0.0          1.11105e-6   1.59548e-5      0.0          0.0          0.0\n",
       " 0.0  0.0          0.0          1.11105e-6      0.0          0.0          0.0\n",
       " ⋮                                           ⋱                               \n",
       " 0.0  0.0          0.0          0.0             1.11105e-6   0.0          0.0\n",
       " 0.0  0.0          0.0          0.0             1.59548e-5   1.11105e-6   0.0\n",
       " 0.0  0.0          0.0          0.0          …  0.000148294  1.59548e-5   0.0\n",
       " 0.0  0.0          0.0          0.0             0.00103206   0.000148294  0.0\n",
       " 0.0  0.0          0.0          0.0             0.00531176   0.00103206   0.0\n",
       " 0.0  0.0          0.0          0.0             0.0202246    0.00531176   0.0\n",
       " 0.0  0.0          0.0          0.0             0.0571377    0.0202246    0.0\n",
       " 0.0  0.0          0.0          0.0          …  0.119939     0.0571377    0.0\n",
       " 0.0  0.0          0.0          0.0             0.187228     0.119939     0.0\n",
       " 0.0  0.0          0.0          0.0             0.217923     0.187228     0.0\n",
       " 0.0  0.0          0.0          0.0             0.172131     0.197142     0.0\n",
       " 0.0  0.0          0.0          0.0             0.218907     0.41182      1.0"
      ]
     },
     "execution_count": 54,
     "metadata": {},
     "output_type": "execute_result"
    }
   ],
   "source": [
    "F = zeros(typeof(0.2),length(bin_centers),length(bin_centers))\n",
    "@time Fmatrix(F,[0.2, 0., 0.0],bin_centers) # Fi\n",
    "F"
   ]
  },
  {
   "cell_type": "code",
   "execution_count": 55,
   "metadata": {
    "collapsed": false
   },
   "outputs": [
    {
     "name": "stdout",
     "output_type": "stream",
     "text": [
      "  0.000109 seconds (13 allocations: 7.547 KB)\n"
     ]
    },
    {
     "data": {
      "text/plain": [
       "35x35 Array{Float64,2}:\n",
       " 1.0  0.461125    0.365007    0.274946    …  0.0         0.0         0.0\n",
       " 0.0  0.0908452   0.0859592   0.0811359      0.0         0.0         0.0\n",
       " 0.0  0.0945948   0.100835    0.0946575      0.0         0.0         0.0\n",
       " 0.0  0.0888839   0.0945533   0.100892       0.0         0.0         0.0\n",
       " 0.0  0.0737024   0.0889555   0.0945117      0.0         0.0         0.0\n",
       " 0.0  0.0612142   0.0736883   0.0890271   …  0.0         0.0         0.0\n",
       " 0.0  0.044833    0.0612781   0.0736743      0.0         0.0         0.0\n",
       " 0.0  0.0329193   0.0448354   0.0613421      0.0         0.0         0.0\n",
       " 0.0  0.0212918   0.0329616   0.0448377      0.0         0.0         0.0\n",
       " 0.0  0.0138235   0.021298    0.0330038      0.0         0.0         0.0\n",
       " 0.0  0.0078944   0.0138445   0.0213041   …  0.0         0.0         0.0\n",
       " 0.0  0.00453257  0.0078985   0.0138655      0.0         0.0         0.0\n",
       " 0.0  0.00228512  0.00454054  0.00790261     3.13941e-7  0.0         0.0\n",
       " ⋮                                        ⋱                             \n",
       " 0.0  0.0         0.0         3.40328e-7     0.00783279  0.00440511  0.0\n",
       " 0.0  0.0         0.0         0.0            0.0135081   0.00782868  0.0\n",
       " 0.0  0.0         0.0         0.0         …  0.0211994   0.0134871   0.0\n",
       " 0.0  0.0         0.0         0.0            0.0322857   0.0211932   0.0\n",
       " 0.0  0.0         0.0         0.0            0.0447976   0.0322435   0.0\n",
       " 0.0  0.0         0.0         0.0            0.0602548   0.0447953   0.0\n",
       " 0.0  0.0         0.0         0.0            0.0739127   0.0601908   0.0\n",
       " 0.0  0.0         0.0         0.0         …  0.0878095   0.0739267   0.0\n",
       " 0.0  0.0         0.0         0.0            0.0952181   0.0877379   0.0\n",
       " 0.0  0.0         0.0         0.0            0.0999224   0.0952597   0.0\n",
       " 0.0  0.0         0.0         0.0            0.0863713   0.0901428   0.0\n",
       " 0.0  0.0         0.0         0.0            0.368213    0.464534    1.0"
      ]
     },
     "execution_count": 55,
     "metadata": {},
     "output_type": "execute_result"
    }
   ],
   "source": [
    "F = zeros(typeof(params[1]),length(bin_centers),length(bin_centers))\n",
    "@time Fmatrix(F,params,bin_centers)\n",
    "F"
   ]
  },
  {
   "cell_type": "markdown",
   "metadata": {},
   "source": [
    "## logProbRight \n",
    "### (params::Vector, RightClickTimes::Vector, LeftClickTimes::Vector, Nsteps::Int)\n",
    "\n",
    "* params = [sigma_a, sigma_s, sigma_i, lambda, B, bias, phi, tau_phi, lapse]\n",
    "* RightClickTimes vector with elements indicating times of right clicks\n",
    "* LeftClickTimes vector with elements indicating times of left clicks\n",
    "* Nsteps number of timesteps to simulate \n",
    "\n",
    "a (column vector representing distribution of values of accumulator a)\n",
    "\n",
    "a_trace (length(bin_centers)-by-Nsteps+1), a trace of the distribution of a as \n",
    "    a function of time\n",
    "    \n",
    "c_trace (row vector Nsteps+1 long, effective value of c as \n",
    "    a function of time after adaptation)\n"
   ]
  },
  {
   "cell_type": "code",
   "execution_count": 56,
   "metadata": {
    "collapsed": false
   },
   "outputs": [
    {
     "data": {
      "text/plain": [
       "logLike (generic function with 1 method)"
      ]
     },
     "execution_count": 56,
     "metadata": {},
     "output_type": "execute_result"
    }
   ],
   "source": [
    "\"\"\"\n",
    "version with inter-click interval(ici) for c_eff_net / c_eff_tot (followed the matlab code) \n",
    "(which was using dt for c_eff)\n",
    "\n",
    "function logProbRight(params::Vector, RightClickTimes::Vector, LeftClickTimes::Vector, Nsteps::Int)\n",
    "\n",
    "    Nsteps            number of timesteps to simulate\n",
    "    RightClickTimes   vector with elements indicating times of right clicks\n",
    "    LeftClickTimes    vector with elements indicating times of left clicks\n",
    "\n",
    "    a      (column vector representing distribution of values of accumulator a)\n",
    "\n",
    "    a_trace (length(bin_centers)-by-Nsteps+1), a trace of the distribution of a as \n",
    "            a function of time\n",
    "    c_trace (row vector Nsteps+1 long, effective value of c as \n",
    "            a function of time after adaptation)\n",
    "\n",
    "Takes params\n",
    "    sigma_a = params[1]; sigma_s = params[2]; sigma_i = params[3]; \n",
    "    lambda = params[4]; B = params[5]; bias = params[6]; \n",
    "    phi = params[7]; tau_phi = params[8]; lapse = params[9]\n",
    "\n",
    "Returns the log of the probability that the agent chose Right. \n",
    "\"\"\"\n",
    "\n",
    "function logProbRight(params::Vector, RightClickTimes::Array{Float64,1}, LeftClickTimes::Array{Float64,1}, Nsteps::Int)\n",
    "    sigma_a = params[1]; sigma_s = params[2]; sigma_i = params[3]; \n",
    "    lambda = params[4]; B = params[5]; bias = params[6]; \n",
    "    phi = params[7]; tau_phi = params[8]; lapse = params[9]\n",
    "    biased_sigma2_s = params[10]; biased_input = params[11]; biased_lapse = params[12];\n",
    "    \n",
    "    if isempty(RightClickTimes) RightClickTimes = zeros(0) end;\n",
    "    if isempty(LeftClickTimes ) LeftClickTimes  = zeros(0) end;\n",
    "    \n",
    "    NClicks = zeros(Int, Nsteps); \n",
    "    Lhere  = zeros(Int, length(LeftClickTimes)); \n",
    "    Rhere = zeros(Int, length(RightClickTimes)); \n",
    "    \n",
    "    for i in 1:length(LeftClickTimes)\n",
    "        Lhere[i] = ceil((LeftClickTimes[i]+epsilon)/dt)\n",
    "    end\n",
    "    for i in 1:length(RightClickTimes)\n",
    "        Rhere[i] = ceil((RightClickTimes[i]+epsilon)/dt)\n",
    "    end    \n",
    "    \n",
    "    for i in Lhere  \n",
    "        NClicks[Int(i)] = NClicks[Int(i)]  + 1\n",
    "    end\n",
    "    for i in Rhere  \n",
    "        NClicks[Int(i)] = NClicks[Int(i)]  + 1\n",
    "    end\n",
    "    \n",
    "    # === Upgrading from ForwardDiff v0.1 to v0.2\n",
    "    # instead of using convert we can use floor(Int, ForwardDiff.Dual) and\n",
    "    # ceil(Int, ForwardDiff.Dual)\n",
    "\n",
    "    binN = ceil(Int, B/dx)#Int(ceil(my_B/dx))  \n",
    "    binBias = floor(Int, bias/dx) + binN+1  \n",
    "    bin_centers = zeros(typeof(dx), binN*2+1)\n",
    "    make_bins(bin_centers, B, dx, binN)  \n",
    "\n",
    "    ## biased params added\n",
    "    a0 = zeros(typeof(sigma_a),length(bin_centers))\n",
    "    a0[binN+1] = 1-lapse/2-biased_lapse/2; a0[1] = biased_lapse/2; a0[end] = lapse/2;\n",
    "    \n",
    "    temp_l = [NumericPair(LeftClickTimes[i],-1) for i=1:length(LeftClickTimes)]\n",
    "    temp_r = [NumericPair(RightClickTimes[i],1) for i=1:length(RightClickTimes)]\n",
    "    allbups = sort!([temp_l; temp_r])\n",
    "\n",
    "    c_eff = 0.\n",
    "    cnt = 0\n",
    "        \n",
    "    Fi = zeros(typeof(sigma_i),length(bin_centers),length(bin_centers))\n",
    "    Fmatrix(Fi,[sigma_i, 0., 0.0], bin_centers)\n",
    "    a = Fi*a0;\n",
    "    \n",
    "    F0 = zeros(typeof(sigma_a),length(bin_centers),length(bin_centers))\n",
    "    Fmatrix(F0,[sigma_a*dt, lambda, 0.0], bin_centers)\n",
    "    for i in 2:Nsteps \n",
    "        c_eff_tot = 0.\n",
    "        c_eff_net = 0.\n",
    "        net_c_input = 0.\n",
    "        net_i_input = 0.\n",
    "        \n",
    "        if NClicks[i-1]==0\n",
    "            c_eff_tot = 0.\n",
    "            c_eff_net = 0.\n",
    "            a = F0*a\n",
    "        else\n",
    "            for j in 1:NClicks[i-1]\n",
    "                if cnt != 0 || j != 1\n",
    "                    ici = allbups[cnt+j].x - allbups[cnt+j-1].x\n",
    "                    c_eff = 1 + (c_eff*phi - 1)*exp(-ici/tau_phi)\n",
    "                    c_eff_tot = c_eff_tot + c_eff\n",
    "                    c_eff_net = c_eff_net + c_eff*allbups[cnt+j].y\n",
    "                    \n",
    "                    ## biased params added\n",
    "                    net_c_input = (c_eff_tot+c_eff_net)/2\n",
    "                    net_i_input = c_eff_tot-c_eff_net\n",
    "                    \n",
    "                    c_eff_net = net_c_input*biased_input - net_i_input\n",
    "                end\n",
    "                if j == NClicks[i-1]\n",
    "                    cnt = cnt+j\n",
    "                end\n",
    "            end\n",
    "            \n",
    "            gain_first = 0\n",
    "            ## biased params added\n",
    "            if gain_first == 1\n",
    "                net_sigma = sigma_a*dt + (sigma_s*net_i_input)/total_rate + net_c_input*biased_input*biased_sigma2_s/total_rate\n",
    "            else\n",
    "                net_sigma = sigma_a*dt + (sigma_s*net_i_input)/total_rate + net_c_input*biased_sigma2_s/total_rate\n",
    "            end\n",
    "            F = zeros(typeof(net_sigma),length(bin_centers),length(bin_centers))\n",
    "            Fmatrix(F,[net_sigma, lambda, c_eff_net/dt], bin_centers)\n",
    "            a = F*a\n",
    "        end\n",
    "    end\n",
    "#     plot(1:Nsteps+1,c_trace[:])    \n",
    "#     imshow(a_trace, interpolation=\"none\")\n",
    "    pright = sum(a[binBias+2:end]) + \n",
    "    a[binBias]*((bin_centers[binBias+1] - bias)/dx/2) +\n",
    "    a[binBias+1]*(0.5 + (bin_centers[binBias+1] - bias)/dx/2)\n",
    "    \n",
    "    return log(pright)\n",
    "end\n",
    "\n",
    "function logLike(params::Vector, RightClickTimes::Array{Float64,1}, LeftClickTimes::Array{Float64,1}, Nsteps::Int, rat_choice::Int)\n",
    "    if rat_choice > 0\n",
    "        # println(\"Right\")\n",
    "        return logProbRight(params, RightClickTimes, LeftClickTimes, Nsteps)\n",
    "    elseif rat_choice < 0\n",
    "        # println(\"Left\")\n",
    "        return log(1 - exp(logProbRight(params, RightClickTimes, LeftClickTimes, Nsteps)))\n",
    "    end\n",
    "end"
   ]
  },
  {
   "cell_type": "markdown",
   "metadata": {},
   "source": [
    "## single_trial\n",
    "### (params::Vector, RightClickTimes::Vector, LeftClickTimes::Vector, Nsteps::Int, rat_choice::Int)"
   ]
  },
  {
   "cell_type": "code",
   "execution_count": 57,
   "metadata": {
    "collapsed": false
   },
   "outputs": [
    {
     "data": {
      "text/plain": [
       "single_trial (generic function with 1 method)"
      ]
     },
     "execution_count": 57,
     "metadata": {},
     "output_type": "execute_result"
    }
   ],
   "source": [
    "\"\"\" \n",
    "function (LL, LLgrad) = \n",
    "    single_trial(params::Vector, RightClickTimes::Vector, LeftClickTimes::Vector, Nsteps::Int, rat_choice::Int)\n",
    "\n",
    "Computes the log likelihood according to Bing's model, and returns log likelihood, gradient\n",
    "\n",
    "params is a vector whose elements, in order, are\n",
    "    sigma_a    square root of accumulator variance per unit time sqrt(click units^2 per second)\n",
    "    sigma_s    standard deviation introduced with each click (will get scaled by click adaptation)\n",
    "    sigma_i    square root of initial accumulator variance sqrt(click units^2)\n",
    "    lambda     1/accumulator time constant (sec^-1). Positive means unstable, neg means stable\n",
    "    B          sticky bound height (click units)\n",
    "    bias       where the decision boundary lies (click units)\n",
    "    phi        click adaptation/facilitation multiplication parameter\n",
    "    tau_phi    time constant for recovery from click adaptation (sec)\n",
    "    lapse      2*lapse fraction of trials are decided randomly\n",
    "\n",
    "rat_choice     should be either \"R\" or \"L\"\n",
    "\n",
    "\n",
    "RETURNS:\n",
    "\n",
    "\n",
    "\"\"\"\n",
    "# === Upgrading from ForwardDiff v0.1 to v0.2\n",
    "# for Retrieving Lower-Order Results\n",
    "#     # old way\n",
    "#     answer, results = ForwardDiff.hessian(f, x, AllResults)\n",
    "#     v = ForwardDiff.value(results)\n",
    "#     g = ForwardDiff.gradient(results)\n",
    "#     h = ForwardDiff.hessian(results) # == answer\n",
    "\n",
    "#     # new way\n",
    "#     out = HessianResult(x)\n",
    "#     ForwardDiff.hessian!(out, f, x)\n",
    "#     v = ForwardDiff.value(out)\n",
    "#     g = ForwardDiff.gradient(out)\n",
    "#     h = ForwardDiff.hessian(out)\n",
    "\n",
    "function single_trial(params::Vector, RightClickTimes::Array{Float64,1}, LeftClickTimes::Array{Float64,1}, Nsteps::Int, rat_choice::Int)\n",
    "    function llikey(params::Vector)\n",
    "        logLike(params, RightClickTimes, LeftClickTimes, Nsteps, rat_choice)\n",
    "    end\n",
    "\n",
    "    result =  GradientResult(params)\n",
    "    \n",
    "    ForwardDiff.gradient!(result, llikey, params);\n",
    "    \n",
    "    LL     = ForwardDiff.value(result)\n",
    "    LLgrad = ForwardDiff.gradient(result)\n",
    "   \n",
    "    return LL, LLgrad\n",
    "end\n",
    "\n",
    "# function single_trial(params::Vector, RightClickTimes::Vector, LeftClickTimes::Vector, Nsteps::Int, rat_choice::Int)\n",
    "#     function llikey(params::Vector)\n",
    "#         logLike(params, RightClickTimes, LeftClickTimes, Nsteps, rat_choice)\n",
    "#     end\n",
    "\n",
    "#     result =  HessianResult(params) \n",
    "#     ForwardDiff.hessian!(result, llikey, params);\n",
    "    \n",
    "#     LL     = ForwardDiff.value(result)\n",
    "#     LLgrad = ForwardDiff.gradient(result)\n",
    "#     LLhessian = ForwardDiff.hessian(result)\n",
    "   \n",
    "#     return LL, LLgrad, LLhessian\n",
    "# end"
   ]
  },
  {
   "cell_type": "code",
   "execution_count": 58,
   "metadata": {
    "collapsed": false
   },
   "outputs": [
    {
     "name": "stdout",
     "output_type": "stream",
     "text": [
      "  0.205939 seconds (126.77 k allocations: 6.958 MB)\n"
     ]
    },
    {
     "data": {
      "text/plain": [
       "-0.05129329440509444"
      ]
     },
     "execution_count": 58,
     "metadata": {},
     "output_type": "execute_result"
    }
   ],
   "source": [
    "### =============== testing 1 ================= ####\n",
    "\n",
    "# Parameters\n",
    "sigma_a = 1; sigma_s = 0.1; sigma_i = 0.2; \n",
    "sigma_a_sbin = sigma_a  # remember we need this copy for Fmatrix\n",
    "lam = -0.0005; B = 4.1; bias = 0.1; \n",
    "phi = 0.3; tau_phi = 0.1; lapse = 0.05*2;\n",
    "biased_sigma2_s = 0.1; biased_input = 0.1; biased_lapse = 0.1;\n",
    "params = [sigma_a, sigma_s, sigma_i, lam, B, bias, phi, tau_phi, lapse, biased_sigma2_s, biased_input, biased_lapse]   \n",
    "\n",
    "RightClickTimes, LeftClickTimes, maxT, rat_choice = trialdata(ratdata[\"rawdata\"], 1)\n",
    "Nsteps = Int(cld(maxT,dt))\n",
    "\n",
    "@time logLike(params, RightClickTimes, LeftClickTimes, Nsteps, rat_choice)\n",
    "### =========================================== #### "
   ]
  },
  {
   "cell_type": "code",
   "execution_count": 59,
   "metadata": {
    "collapsed": false,
    "scrolled": true
   },
   "outputs": [
    {
     "name": "stdout",
     "output_type": "stream",
     "text": [
      "  0.333616 seconds (326.80 k allocations: 16.594 MB, 4.25% gc time)\n",
      "-0.05129329440509444\n",
      "[-1.6942882237111069e-10,-8.369562599103428e-11,-5.855995501544715e-10,-4.485361648602246e-11,-0.0,9.746881317511218e-11,7.074143847252285e-10,-5.664529847780174e-9,-0.5263157894731709,3.1970619189311883e-12,3.175728714281305e-11,9.74662462602276e-12]\n"
     ]
    }
   ],
   "source": [
    "### =============== testing 2 ================= ####\n",
    "@time LL, LLgrad = single_trial(params, RightClickTimes, LeftClickTimes, Nsteps, rat_choice)\n",
    "println(LL)\n",
    "println(LLgrad)\n",
    "### =========================================== ####"
   ]
  },
  {
   "cell_type": "code",
   "execution_count": 60,
   "metadata": {
    "collapsed": false
   },
   "outputs": [
    {
     "data": {
      "text/plain": [
       "-0.05129329440509444"
      ]
     },
     "execution_count": 60,
     "metadata": {},
     "output_type": "execute_result"
    }
   ],
   "source": [
    "LL"
   ]
  },
  {
   "cell_type": "code",
   "execution_count": 61,
   "metadata": {
    "collapsed": false
   },
   "outputs": [
    {
     "data": {
      "text/plain": [
       "12-element Array{Float64,1}:\n",
       " -1.69429e-10\n",
       " -8.36956e-11\n",
       " -5.856e-10  \n",
       " -4.48536e-11\n",
       " -0.0        \n",
       "  9.74688e-11\n",
       "  7.07414e-10\n",
       " -5.66453e-9 \n",
       " -0.526316   \n",
       "  3.19706e-12\n",
       "  3.17573e-11\n",
       "  9.74662e-12"
      ]
     },
     "execution_count": 61,
     "metadata": {},
     "output_type": "execute_result"
    }
   ],
   "source": [
    "LLgrad"
   ]
  },
  {
   "cell_type": "markdown",
   "metadata": {
    "collapsed": false
   },
   "source": [
    "# Maximize LL over parameter space\n",
    "### Optimization with Optim.jl\n"
   ]
  },
  {
   "cell_type": "code",
   "execution_count": 62,
   "metadata": {
    "collapsed": false
   },
   "outputs": [
    {
     "data": {
      "text/plain": [
       "ComputeLL (generic function with 1 method)"
      ]
     },
     "execution_count": 62,
     "metadata": {},
     "output_type": "execute_result"
    }
   ],
   "source": [
    "function ComputeLL(params::Vector, ratdata, ntrials::Int)\n",
    "    LL        = 0.\n",
    "        \n",
    "    for i in 1:ntrials\n",
    "        RightClickTimes, LeftClickTimes, maxT, rat_choice = trialdata(ratdata, i)\n",
    "        Nsteps = Int(ceil(maxT/dt))\n",
    "\n",
    "        LLi = logLike(params, RightClickTimes, LeftClickTimes, Nsteps, rat_choice)\n",
    "        LL        = LL + LLi;\n",
    "    end\n",
    "    \n",
    "    LL = -LL\n",
    "    return LL\n",
    "end"
   ]
  },
  {
   "cell_type": "code",
   "execution_count": 63,
   "metadata": {
    "collapsed": false
   },
   "outputs": [
    {
     "data": {
      "text/plain": [
       "ComputeGrad (generic function with 1 method)"
      ]
     },
     "execution_count": 63,
     "metadata": {},
     "output_type": "execute_result"
    }
   ],
   "source": [
    "function ComputeGrad(params::Vector, ratdata, ntrials::Int)\n",
    "    function WrapperLL(params::Vector)\n",
    "        LL        = 0.\n",
    "\n",
    "        for i in 1:ntrials\n",
    "            RightClickTimes, LeftClickTimes, maxT, rat_choice = trialdata(ratdata, i)\n",
    "            Nsteps = Int(ceil(maxT/dt))\n",
    "\n",
    "            LLi = logLike(params, RightClickTimes, LeftClickTimes, Nsteps, rat_choice)\n",
    "            LL        = LL + LLi;\n",
    "        end\n",
    "\n",
    "        LL = -LL\n",
    "        return LL\n",
    "    end\n",
    "\n",
    "    result =  GradientResult(params)\n",
    "    \n",
    "    ForwardDiff.gradient!(result, WrapperLL, params);\n",
    "    \n",
    "    LL     = ForwardDiff.value(result)\n",
    "    LLgrad = ForwardDiff.gradient(result)\n",
    "   \n",
    "    return LL, LLgrad\n",
    "end"
   ]
  },
  {
   "cell_type": "code",
   "execution_count": 64,
   "metadata": {
    "collapsed": false
   },
   "outputs": [
    {
     "name": "stdout",
     "output_type": "stream",
     "text": [
      "5    ...a/lib/julia/sys.dylib; trunc; (unknown line)\n",
      "1147 task.jl; anonymous; line: 447\n",
      " 1147 .../IJulia/src/IJulia.jl; eventloop; line: 143\n",
      "  1147 ...rc/execute_request.jl; execute_request_0x535c5df2; line: 183\n",
      "   1147 loading.jl; include_string; line: 282\n",
      "    1    .../lib/julia/sys.dylib; typeinf_ext; (unknown line)\n",
      "     1 ...a/lib/julia/sys.dylib; typeinf; (unknown line)\n",
      "      1 ...a/lib/julia/sys.dylib; typeinf_uncached; (unknown line)\n",
      "       1 ...a/lib/julia/sys.dylib; abstract_eval; (unknown line)\n",
      "        1 .../lib/julia/sys.dylib; abstract_eval_call; (unknown line)\n",
      "         1 .../lib/julia/sys.dylib; abstract_call; (unknown line)\n",
      "          1 ...lib/julia/sys.dylib; abstract_call_gf; (unknown line)\n",
      "           1 ...lib/julia/sys.dylib; typeinf; (unknown line)\n",
      "            1 ...lib/julia/sys.dylib; typeinf; (unknown line)\n",
      "             1 ...ib/julia/sys.dylib; typeinf_uncached; (unknown line)\n",
      "              1 ...ib/julia/sys.dylib; abstract_interpret; (unknown line)\n",
      "               1 ...b/julia/sys.dylib; abstract_eval; (unknown line)\n",
      "                1 ...b/julia/sys.dylib; abstract_eval_call; (unknown line)\n",
      "                 1 ...b/julia/sys.dylib; abstract_eval; (unknown line)\n",
      "                  1 .../julia/sys.dylib; abstract_eval_call; (unknown line)\n",
      "                   1 .../julia/sys.dylib; abstract_call; (unknown line)\n",
      "                    1 ...julia/sys.dylib; abstract_call_gf; (unknown line)\n",
      "                     1 ...julia/sys.dylib; indexed_next; (unknown line)\n",
      "    1142 profile.jl; anonymous; line: 16\n",
      "     13  ...a/lib/julia/sys.dylib; typeinf_ext; (unknown line)\n",
      "      13 ...a/lib/julia/sys.dylib; typeinf; (unknown line)\n",
      "       13 .../lib/julia/sys.dylib; typeinf_uncached; (unknown line)\n",
      "        5 .../lib/julia/sys.dylib; abstract_interpret; (unknown line)\n",
      "         5 .../lib/julia/sys.dylib; abstract_eval; (unknown line)\n",
      "          5 ...lib/julia/sys.dylib; abstract_eval_call; (unknown line)\n",
      "           5 ...lib/julia/sys.dylib; abstract_call; (unknown line)\n",
      "            5 ...lib/julia/sys.dylib; abstract_call; (unknown line)\n",
      "             5 ...ib/julia/sys.dylib; abstract_call_gf; (unknown line)\n",
      "              5 ...ib/julia/sys.dylib; _methods; (unknown line)\n",
      "               5 ...b/julia/sys.dylib; _methods; (unknown line)\n",
      "                5 ...b/julia/sys.dylib; _methods; (unknown line)\n",
      "                 5 ...b/julia/sys.dylib; _methods; (unknown line)\n",
      "        5 .../lib/julia/sys.dylib; inlining_pass; (unknown line)\n",
      "         5 .../lib/julia/sys.dylib; inlining_pass; (unknown line)\n",
      "          5 ...lib/julia/sys.dylib; inlining_pass; (unknown line)\n",
      "           3 ...lib/julia/sys.dylib; inlineable; (unknown line)\n",
      "            2 ...lib/julia/sys.dylib; _methods; (unknown line)\n",
      "             2 ...ib/julia/sys.dylib; _methods; (unknown line)\n",
      "              2 ...ib/julia/sys.dylib; _methods; (unknown line)\n",
      "               2 ...b/julia/sys.dylib; _methods; (unknown line)\n",
      "           2 ...lib/julia/sys.dylib; inlining_pass; (unknown line)\n",
      "            2 ...lib/julia/sys.dylib; inlineable; (unknown line)\n",
      "             1 ...ib/julia/sys.dylib; _methods; (unknown line)\n",
      "              1 ...ib/julia/sys.dylib; _methods; (unknown line)\n",
      "               1 ...b/julia/sys.dylib; _methods; (unknown line)\n",
      "                1 ...b/julia/sys.dylib; _methods; (unknown line)\n",
      "        1 .../lib/julia/sys.dylib; stchanged; (unknown line)\n",
      "         1 .../lib/julia/sys.dylib; schanged; (unknown line)\n",
      "     1   In[24]; ComputeLL; line: 5\n",
      "      1 In[4]; trialdata; line: 8\n",
      "       1 array.jl; getindex; line: 282\n",
      "     354 In[24]; ComputeLL; line: 8\n",
      "      164 In[18]; logLike; line: 132\n",
      "       10 In[18]; logProbRight; line: 74\n",
      "        1 In[12]; Fmatrix; line: 36\n",
      "         1 arraymath.jl; ./; line: 49\n",
      "        1 In[12]; Fmatrix; line: 51\n",
      "        1 In[12]; Fmatrix; line: 55\n",
      "        2 In[12]; Fmatrix; line: 63\n",
      "         2 .../lib/julia/sys.dylib; trunc; (unknown line)\n",
      "        1 In[12]; Fmatrix; line: 75\n",
      "        2 In[12]; Fmatrix; line: 78\n",
      "       8  In[18]; logProbRight; line: 75\n",
      "        3 linalg/matmul.jl; gemv!; line: 233\n",
      "         3 linalg/blas.jl; gemv!; line: 292\n",
      "       15 In[18]; logProbRight; line: 78\n",
      "        1 In[12]; Fmatrix; line: 34\n",
      "         1 range.jl; colon; line: 143\n",
      "          1 range.jl; rat; line: 121\n",
      "           1 ...lib/julia/sys.dylib; trunc; (unknown line)\n",
      "        1 In[12]; Fmatrix; line: 36\n",
      "         1 operators.jl; exp; line: 380\n",
      "        1 In[12]; Fmatrix; line: 47\n",
      "        1 In[12]; Fmatrix; line: 51\n",
      "        3 In[12]; Fmatrix; line: 55\n",
      "        3 In[12]; Fmatrix; line: 63\n",
      "         2 .../lib/julia/sys.dylib; trunc; (unknown line)\n",
      "        4 In[12]; Fmatrix; line: 78\n",
      "        1 In[12]; Fmatrix; line: 79\n",
      "       20 In[18]; logProbRight; line: 88\n",
      "        19 linalg/matmul.jl; gemv!; line: 233\n",
      "         19 linalg/blas.jl; gemv!; line: 292\n",
      "       1  In[18]; logProbRight; line: 115\n",
      "        1 essentials.jl; call; line: 201\n",
      "       84 In[18]; logProbRight; line: 116\n",
      "        1  ...lib/julia/sys.dylib; vect; (unknown line)\n",
      "        1  In[12]; Fmatrix; line: 34\n",
      "         1 range.jl; vcat; line: 662\n",
      "        11 In[12]; Fmatrix; line: 36\n",
      "         1 arraymath.jl; -; line: 15\n",
      "         1 arraymath.jl; ./; line: 49\n",
      "         2 arraymath.jl; .^; line: 57\n",
      "         7 operators.jl; exp; line: 380\n",
      "        1  In[12]; Fmatrix; line: 37\n",
      "         1 arraymath.jl; ./; line: 49\n",
      "        1  In[12]; Fmatrix; line: 47\n",
      "        1  In[12]; Fmatrix; line: 51\n",
      "        1  In[12]; Fmatrix; line: 53\n",
      "        1  In[12]; Fmatrix; line: 55\n",
      "        1  In[12]; Fmatrix; line: 58\n",
      "        4  In[12]; Fmatrix; line: 60\n",
      "        15 In[12]; Fmatrix; line: 63\n",
      "         11 ...lib/julia/sys.dylib; trunc; (unknown line)\n",
      "        3  In[12]; Fmatrix; line: 67\n",
      "        3  In[12]; Fmatrix; line: 70\n",
      "        1  In[12]; Fmatrix; line: 75\n",
      "        5  In[12]; Fmatrix; line: 77\n",
      "        23 In[12]; Fmatrix; line: 78\n",
      "        11 In[12]; Fmatrix; line: 79\n",
      "       26 In[18]; logProbRight; line: 117\n",
      "        26 linalg/matmul.jl; gemv!; line: 233\n",
      "         26 linalg/blas.jl; gemv!; line: 292\n",
      "      190 In[18]; logLike; line: 135\n",
      "       10  In[18]; logProbRight; line: 74\n",
      "        1 .../lib/julia/sys.dylib; vect; (unknown line)\n",
      "        1 In[12]; Fmatrix; line: 37\n",
      "         1 arraymath.jl; ./; line: 49\n",
      "        1 In[12]; Fmatrix; line: 53\n",
      "        2 In[12]; Fmatrix; line: 63\n",
      "         1 .../lib/julia/sys.dylib; trunc; (unknown line)\n",
      "        2 In[12]; Fmatrix; line: 78\n",
      "        2 In[12]; Fmatrix; line: 79\n",
      "        1 In[12]; Fmatrix; line: 84\n",
      "         1 multidimensional.jl; _unsafe_batchsetindex!; line: 318\n",
      "       2   In[18]; logProbRight; line: 75\n",
      "        2 linalg/matmul.jl; gemv!; line: 233\n",
      "         2 linalg/blas.jl; gemv!; line: 292\n",
      "       15  In[18]; logProbRight; line: 78\n",
      "        2 In[12]; Fmatrix; line: 36\n",
      "         1 arraymath.jl; ./; line: 49\n",
      "         1 arraymath.jl; .^; line: 57\n",
      "        2 In[12]; Fmatrix; line: 53\n",
      "        1 In[12]; Fmatrix; line: 60\n",
      "        5 In[12]; Fmatrix; line: 63\n",
      "         2 .../lib/julia/sys.dylib; trunc; (unknown line)\n",
      "        1 In[12]; Fmatrix; line: 75\n",
      "        1 In[12]; Fmatrix; line: 77\n",
      "        1 In[12]; Fmatrix; line: 78\n",
      "        2 In[12]; Fmatrix; line: 79\n",
      "       20  In[18]; logProbRight; line: 88\n",
      "        20 linalg/matmul.jl; gemv!; line: 233\n",
      "         20 linalg/blas.jl; gemv!; line: 292\n",
      "       3   In[18]; logProbRight; line: 115\n",
      "        3 essentials.jl; call; line: 201\n",
      "       111 In[18]; logProbRight; line: 116\n",
      "        4  In[12]; Fmatrix; line: 36\n",
      "         2 arraymath.jl; -; line: 17\n",
      "         1 arraymath.jl; ./; line: 49\n",
      "         1 operators.jl; exp; line: 380\n",
      "        3  In[12]; Fmatrix; line: 47\n",
      "        2  In[12]; Fmatrix; line: 51\n",
      "        2  In[12]; Fmatrix; line: 53\n",
      "        3  In[12]; Fmatrix; line: 55\n",
      "        4  In[12]; Fmatrix; line: 56\n",
      "        4  In[12]; Fmatrix; line: 58\n",
      "        6  In[12]; Fmatrix; line: 60\n",
      "        23 In[12]; Fmatrix; line: 63\n",
      "         12 ...lib/julia/sys.dylib; trunc; (unknown line)\n",
      "        3  In[12]; Fmatrix; line: 70\n",
      "        3  In[12]; Fmatrix; line: 75\n",
      "        10 In[12]; Fmatrix; line: 77\n",
      "        28 In[12]; Fmatrix; line: 78\n",
      "        13 In[12]; Fmatrix; line: 79\n",
      "       29  In[18]; logProbRight; line: 117\n",
      "        29 linalg/matmul.jl; gemv!; line: 233\n",
      "         29 linalg/blas.jl; gemv!; line: 292\n",
      "     1   In[24]; ComputeLL; line: 9\n",
      "     1   In[37]; ComputeLL; line: 5\n",
      "      1 In[4]; trialdata; line: 13\n",
      "     346 In[37]; ComputeLL; line: 8\n",
      "      159 In[31]; logLike; line: 132\n",
      "       1  In[31]; logProbRight; line: 35\n",
      "        1 .../lib/julia/sys.dylib; call; (unknown line)\n",
      "       1  In[31]; logProbRight; line: 60\n",
      "        1 In[7]; make_bins; line: 25\n",
      "       7  In[31]; logProbRight; line: 74\n",
      "        1 In[12]; Fmatrix; line: 36\n",
      "         1 operators.jl; exp; line: 380\n",
      "        2 In[12]; Fmatrix; line: 60\n",
      "        2 In[12]; Fmatrix; line: 78\n",
      "        2 In[12]; Fmatrix; line: 79\n",
      "       3  In[31]; logProbRight; line: 75\n",
      "        3 linalg/matmul.jl; gemv!; line: 233\n",
      "         3 linalg/blas.jl; gemv!; line: 292\n",
      "       7  In[31]; logProbRight; line: 78\n",
      "        1 In[12]; Fmatrix; line: 55\n",
      "        2 In[12]; Fmatrix; line: 56\n",
      "        2 In[12]; Fmatrix; line: 63\n",
      "         1 .../lib/julia/sys.dylib; trunc; (unknown line)\n",
      "        2 In[12]; Fmatrix; line: 78\n",
      "       1  In[31]; logProbRight; line: 85\n",
      "       18 In[31]; logProbRight; line: 88\n",
      "        18 linalg/matmul.jl; gemv!; line: 233\n",
      "         18 linalg/blas.jl; gemv!; line: 292\n",
      "       8  In[31]; logProbRight; line: 115\n",
      "        8 essentials.jl; call; line: 201\n",
      "       86 In[31]; logProbRight; line: 116\n",
      "        1  ...lib/julia/sys.dylib; vect; (unknown line)\n",
      "        2  In[12]; Fmatrix; line: 34\n",
      "         1 range.jl; vcat; line: 662\n",
      "         1 range.jl; vcat; line: 665\n",
      "        6  In[12]; Fmatrix; line: 36\n",
      "         6 operators.jl; exp; line: 380\n",
      "        2  In[12]; Fmatrix; line: 47\n",
      "        2  In[12]; Fmatrix; line: 51\n",
      "        4  In[12]; Fmatrix; line: 53\n",
      "        3  In[12]; Fmatrix; line: 55\n",
      "        4  In[12]; Fmatrix; line: 56\n",
      "        2  In[12]; Fmatrix; line: 58\n",
      "        4  In[12]; Fmatrix; line: 60\n",
      "        11 In[12]; Fmatrix; line: 63\n",
      "         4 .../lib/julia/sys.dylib; trunc; (unknown line)\n",
      "        3  In[12]; Fmatrix; line: 67\n",
      "        3  In[12]; Fmatrix; line: 70\n",
      "        9  In[12]; Fmatrix; line: 77\n",
      "        20 In[12]; Fmatrix; line: 78\n",
      "        7  In[12]; Fmatrix; line: 79\n",
      "       27 In[31]; logProbRight; line: 117\n",
      "        27 linalg/matmul.jl; gemv!; line: 233\n",
      "         27 linalg/blas.jl; gemv!; line: 292\n",
      "      187 In[31]; logLike; line: 135\n",
      "       1  In[12]; Fmatrix; line: 84\n",
      "       1  In[31]; logProbRight; line: 36\n",
      "        1 .../lib/julia/sys.dylib; call; (unknown line)\n",
      "       1  In[31]; logProbRight; line: 67\n",
      "       1  In[31]; logProbRight; line: 68\n",
      "        1 sort.jl; sort!; line: 402\n",
      "         1 sort.jl; sort!; line: 292\n",
      "          1 sort.jl; sort!; line: 217\n",
      "       11 In[31]; logProbRight; line: 74\n",
      "        1 In[12]; Fmatrix; line: 53\n",
      "        4 In[12]; Fmatrix; line: 63\n",
      "         1 .../lib/julia/sys.dylib; trunc; (unknown line)\n",
      "        1 In[12]; Fmatrix; line: 77\n",
      "        1 In[12]; Fmatrix; line: 78\n",
      "        4 In[12]; Fmatrix; line: 79\n",
      "       5  In[31]; logProbRight; line: 75\n",
      "        5 linalg/matmul.jl; gemv!; line: 233\n",
      "         5 linalg/blas.jl; gemv!; line: 292\n",
      "       14 In[31]; logProbRight; line: 78\n",
      "        1 In[12]; Fmatrix; line: 36\n",
      "         1 arraymath.jl; .^; line: 57\n",
      "        1 In[12]; Fmatrix; line: 47\n",
      "        4 In[12]; Fmatrix; line: 63\n",
      "         3 .../lib/julia/sys.dylib; trunc; (unknown line)\n",
      "        1 In[12]; Fmatrix; line: 77\n",
      "        4 In[12]; Fmatrix; line: 78\n",
      "        1 In[12]; Fmatrix; line: 79\n",
      "       19 In[31]; logProbRight; line: 88\n",
      "        1  linalg/matmul.jl; gemv!; line: 220\n",
      "        18 linalg/matmul.jl; gemv!; line: 233\n",
      "         18 linalg/blas.jl; gemv!; line: 292\n",
      "       96 In[31]; logProbRight; line: 116\n",
      "        1  ...lib/julia/sys.dylib; vect; (unknown line)\n",
      "        5  In[12]; Fmatrix; line: 34\n",
      "         2 range.jl; vcat; line: 662\n",
      "         1 range.jl; vcat; line: 664\n",
      "         2 range.jl; vcat; line: 666\n",
      "        4  In[12]; Fmatrix; line: 36\n",
      "         4 operators.jl; exp; line: 380\n",
      "        4  In[12]; Fmatrix; line: 51\n",
      "        1  In[12]; Fmatrix; line: 53\n",
      "        1  In[12]; Fmatrix; line: 54\n",
      "        2  In[12]; Fmatrix; line: 55\n",
      "        4  In[12]; Fmatrix; line: 56\n",
      "        1  In[12]; Fmatrix; line: 58\n",
      "        2  In[12]; Fmatrix; line: 60\n",
      "        22 In[12]; Fmatrix; line: 63\n",
      "         9 .../lib/julia/sys.dylib; trunc; (unknown line)\n",
      "        3  In[12]; Fmatrix; line: 67\n",
      "        4  In[12]; Fmatrix; line: 75\n",
      "        8  In[12]; Fmatrix; line: 77\n",
      "        17 In[12]; Fmatrix; line: 78\n",
      "        17 In[12]; Fmatrix; line: 79\n",
      "       38 In[31]; logProbRight; line: 117\n",
      "        1  linalg/matmul.jl; gemv!; line: 220\n",
      "         1 linalg/matmul.jl; lapack_size; line: 337\n",
      "        37 linalg/matmul.jl; gemv!; line: 233\n",
      "         37 linalg/blas.jl; gemv!; line: 292\n",
      "     412 In[62]; ComputeLL; line: 8\n",
      "      118 In[56]; logLike; line: 132\n",
      "       5  In[56]; logProbRight; line: 74\n",
      "        1 In[53]; Fmatrix; line: 56\n",
      "        1 In[53]; Fmatrix; line: 60\n",
      "        1 In[53]; Fmatrix; line: 63\n",
      "         1 .../lib/julia/sys.dylib; trunc; (unknown line)\n",
      "        2 In[53]; Fmatrix; line: 78\n",
      "       2  In[56]; logProbRight; line: 75\n",
      "        2 linalg/matmul.jl; gemv!; line: 233\n",
      "         2 linalg/blas.jl; gemv!; line: 292\n",
      "       7  In[56]; logProbRight; line: 78\n",
      "        1 In[53]; Fmatrix; line: 53\n",
      "        3 In[53]; Fmatrix; line: 63\n",
      "         2 .../lib/julia/sys.dylib; trunc; (unknown line)\n",
      "        3 In[53]; Fmatrix; line: 79\n",
      "       20 In[56]; logProbRight; line: 88\n",
      "        20 linalg/matmul.jl; gemv!; line: 233\n",
      "         20 linalg/blas.jl; gemv!; line: 292\n",
      "       61 In[56]; logProbRight; line: 116\n",
      "        3  In[53]; Fmatrix; line: 34\n",
      "         1 range.jl; colon; line: 140\n",
      "          1 ...lib/julia/sys.dylib; float_lex_order; (unknown line)\n",
      "         2 range.jl; vcat; line: 666\n",
      "        2  In[53]; Fmatrix; line: 36\n",
      "         1 arraymath.jl; ./; line: 49\n",
      "         1 operators.jl; exp; line: 380\n",
      "        3  In[53]; Fmatrix; line: 37\n",
      "         3 arraymath.jl; ./; line: 49\n",
      "        1  In[53]; Fmatrix; line: 51\n",
      "        4  In[53]; Fmatrix; line: 53\n",
      "        2  In[53]; Fmatrix; line: 55\n",
      "        1  In[53]; Fmatrix; line: 56\n",
      "        1  In[53]; Fmatrix; line: 60\n",
      "        9  In[53]; Fmatrix; line: 63\n",
      "         4 .../lib/julia/sys.dylib; trunc; (unknown line)\n",
      "        1  In[53]; Fmatrix; line: 67\n",
      "        2  In[53]; Fmatrix; line: 70\n",
      "        1  In[53]; Fmatrix; line: 75\n",
      "        3  In[53]; Fmatrix; line: 77\n",
      "        18 In[53]; Fmatrix; line: 78\n",
      "        10 In[53]; Fmatrix; line: 79\n",
      "       23 In[56]; logProbRight; line: 117\n",
      "        23 linalg/matmul.jl; gemv!; line: 233\n",
      "         23 linalg/blas.jl; gemv!; line: 292\n",
      "      294 In[56]; logLike; line: 135\n",
      "       1   In[56]; logProbRight; line: 40\n",
      "       1   In[56]; logProbRight; line: 57\n",
      "        1 .../lib/julia/sys.dylib; trunc; (unknown line)\n",
      "       1   In[56]; logProbRight; line: 60\n",
      "        1 In[48]; make_bins; line: 25\n",
      "       1   In[56]; logProbRight; line: 73\n",
      "        1 essentials.jl; call; line: 201\n",
      "       15  In[56]; logProbRight; line: 74\n",
      "        1 In[53]; Fmatrix; line: 36\n",
      "         1 arraymath.jl; ./; line: 49\n",
      "        1 In[53]; Fmatrix; line: 51\n",
      "        1 In[53]; Fmatrix; line: 53\n",
      "        1 In[53]; Fmatrix; line: 63\n",
      "        4 In[53]; Fmatrix; line: 78\n",
      "        1 In[53]; Fmatrix; line: 79\n",
      "       8   In[56]; logProbRight; line: 75\n",
      "        8 linalg/matmul.jl; gemv!; line: 233\n",
      "         8 linalg/blas.jl; gemv!; line: 292\n",
      "       18  In[56]; logProbRight; line: 78\n",
      "        1 In[53]; Fmatrix; line: 34\n",
      "         1 range.jl; colon; line: 143\n",
      "          1 range.jl; rat; line: 127\n",
      "        1 In[53]; Fmatrix; line: 36\n",
      "         1 arraymath.jl; .^; line: 57\n",
      "        1 In[53]; Fmatrix; line: 55\n",
      "        2 In[53]; Fmatrix; line: 60\n",
      "        7 In[53]; Fmatrix; line: 63\n",
      "         4 .../lib/julia/sys.dylib; trunc; (unknown line)\n",
      "        1 In[53]; Fmatrix; line: 70\n",
      "        1 In[53]; Fmatrix; line: 75\n",
      "        4 In[53]; Fmatrix; line: 78\n",
      "       34  In[56]; logProbRight; line: 88\n",
      "        34 linalg/matmul.jl; gemv!; line: 233\n",
      "         34 linalg/blas.jl; gemv!; line: 292\n",
      "       1   In[56]; logProbRight; line: 115\n",
      "        1 essentials.jl; call; line: 201\n",
      "       160 In[56]; logProbRight; line: 116\n",
      "        1  In[53]; Fmatrix; line: 34\n",
      "         1 range.jl; vcat; line: 664\n",
      "        15 In[53]; Fmatrix; line: 36\n",
      "         2 arraymath.jl; -; line: 17\n",
      "         8 arraymath.jl; ./; line: 49\n",
      "         1 arraymath.jl; .^; line: 57\n",
      "         4 operators.jl; exp; line: 380\n",
      "        3  In[53]; Fmatrix; line: 37\n",
      "         2 arraymath.jl; ./; line: 49\n",
      "          1 array.jl; reshape; line: 138\n",
      "         1 reduce.jl; _mapreduce; line: 153\n",
      "          1 reduce.jl; mapreduce_pairwise_impl; line: 108\n",
      "           1 reduce.jl; mapreduce_seq_impl; line: 230\n",
      "        2  In[53]; Fmatrix; line: 47\n",
      "        4  In[53]; Fmatrix; line: 51\n",
      "        2  In[53]; Fmatrix; line: 53\n",
      "        3  In[53]; Fmatrix; line: 55\n",
      "        5  In[53]; Fmatrix; line: 56\n",
      "        2  In[53]; Fmatrix; line: 58\n",
      "        6  In[53]; Fmatrix; line: 60\n",
      "        28 In[53]; Fmatrix; line: 63\n",
      "         13 ...lib/julia/sys.dylib; trunc; (unknown line)\n",
      "        1  In[53]; Fmatrix; line: 67\n",
      "        1  In[53]; Fmatrix; line: 70\n",
      "        1  In[53]; Fmatrix; line: 75\n",
      "        13 In[53]; Fmatrix; line: 77\n",
      "        47 In[53]; Fmatrix; line: 78\n",
      "        24 In[53]; Fmatrix; line: 79\n",
      "       54  In[56]; logProbRight; line: 117\n",
      "        54 linalg/matmul.jl; gemv!; line: 233\n",
      "         54 linalg/blas.jl; gemv!; line: 292\n",
      "     1   In[62]; ComputeLL; line: 9\n",
      "    1    profile.jl; print; line: 59\n",
      "     1 profile.jl; print; line: 59\n",
      "      1 profile.jl; getdict; line: 68\n",
      "       1 profile.jl; lookup; line: 138\n"
     ]
    }
   ],
   "source": [
    "@profile ComputeLL(params,ratdata[\"rawdata\"],300)\n",
    "Profile.print()\n",
    "Profile.clear_malloc_data() "
   ]
  },
  {
   "cell_type": "code",
   "execution_count": 66,
   "metadata": {
    "collapsed": false
   },
   "outputs": [
    {
     "name": "stdout",
     "output_type": "stream",
     "text": [
      " 22.845179 seconds (6.12 M allocations: 8.060 GB, 4.58% gc time)\n"
     ]
    },
    {
     "data": {
      "text/plain": [
       "(2215.7268216003954,[-61.31240712313557,-7.516510891459202,-169.79971387805705,-14.824529052059342,-0.0,152.2663348435403,256.043113230891,-1938.052978139069,-4745.28135034643,-11.305349674594131,-762.1461496001752,39.05719226443167])"
      ]
     },
     "execution_count": 66,
     "metadata": {},
     "output_type": "execute_result"
    }
   ],
   "source": [
    "@time ComputeGrad(params,ratdata[\"rawdata\"],300)"
   ]
  },
  {
   "cell_type": "code",
   "execution_count": 68,
   "metadata": {
    "collapsed": false
   },
   "outputs": [
    {
     "data": {
      "text/plain": [
       "ComputeHess (generic function with 1 method)"
      ]
     },
     "execution_count": 68,
     "metadata": {},
     "output_type": "execute_result"
    }
   ],
   "source": [
    "function ComputeHess(params::Vector, ratdata, ntrials::Int)\n",
    "    function WrapperLL(params::Vector)\n",
    "        LL        = 0.\n",
    "\n",
    "        for i in 1:ntrials\n",
    "            RightClickTimes, LeftClickTimes, maxT, rat_choice = trialdata(ratdata[\"rawdata\"], i)\n",
    "            Nsteps = Int(ceil(maxT/dt))\n",
    "\n",
    "            LLi = logLike(params, RightClickTimes, LeftClickTimes, Nsteps, rat_choice)\n",
    "            LL        = LL + LLi;\n",
    "        end\n",
    "\n",
    "        LL = -LL\n",
    "        return LL\n",
    "    end\n",
    "\n",
    "    result =  HessianResult(params)\n",
    "    \n",
    "    ForwardDiff.hessian!(result, WrapperLL, params);\n",
    "    \n",
    "    LL     = ForwardDiff.value(result)\n",
    "    LLgrad = ForwardDiff.gradient(result)\n",
    "    LLHess = ForwardDiff.hessian(result)\n",
    "   \n",
    "    return LL, LLgrad, LLHess\n",
    "end"
   ]
  },
  {
   "cell_type": "code",
   "execution_count": 70,
   "metadata": {
    "collapsed": false
   },
   "outputs": [
    {
     "name": "stdout",
     "output_type": "stream",
     "text": [
      "166.292059 seconds (1.28 M allocations: 10.914 GB, 0.74% gc time)\n"
     ]
    },
    {
     "data": {
      "text/plain": [
       "(239.0649728461485,[-6.787142242484801,-0.8455089178893049,-18.446026275445494,-1.3078428165173557,-0.0,20.4510105856907,27.13017336870174,-212.36235760297487,-548.5504051326026,-1.223629648400699,-81.01237426141982,5.8905694475825605],\n",
       "12x12 Array{Float64,2}:\n",
       "   0.489222   -0.0584618   …   0.103961     -16.4752     1.82556 \n",
       "  -0.0584618  -0.0203065      -0.00552267    -2.51362    0.265777\n",
       "   3.23257     0.131166        0.681015     -20.1392     3.02202 \n",
       "  -0.105241   -0.0282026       0.00125459    -5.37078    0.370996\n",
       "  -0.0        -0.0            -0.0           -0.0       -0.0     \n",
       "   1.82241     0.523783    …   0.286255      35.4516     2.17978 \n",
       "  10.3433      0.947585        0.531215      29.7044    -7.10925 \n",
       " -80.4058     -6.90247        -4.24053     -176.104     54.6028  \n",
       "  52.6406      7.14702         9.19968      552.679    -32.6535  \n",
       "   0.103961   -0.00552267      0.0212137     -3.17445    0.325206\n",
       " -16.4752     -2.51362     …  -3.17445     -191.193     11.592   \n",
       "   1.82556     0.265777        0.325206      11.592      4.5436  )"
      ]
     },
     "execution_count": 70,
     "metadata": {},
     "output_type": "execute_result"
    }
   ],
   "source": [
    "@time ComputeHess(params,ratdata,300)"
   ]
  },
  {
   "cell_type": "markdown",
   "metadata": {},
   "source": [
    "## Parallel Computing"
   ]
  },
  {
   "cell_type": "code",
   "execution_count": null,
   "metadata": {
    "collapsed": true
   },
   "outputs": [],
   "source": [
    "n_core = 4\n",
    "if nworkers() < n_core\n",
    "    addprocs(n_core-nworkers(); exeflags=\"--check-bounds=yes\")\n",
    "end\n",
    "@assert nprocs() > n_core\n",
    "@assert nworkers() >= n_core\n",
    "\n"
   ]
  },
  {
   "cell_type": "code",
   "execution_count": null,
   "metadata": {
    "collapsed": false
   },
   "outputs": [],
   "source": [
    "a = SharedArray(Float64,10)\n",
    "@sync @parallel for i=1:10\n",
    "  a[i] = i\n",
    "end\n",
    "a"
   ]
  },
  {
   "cell_type": "code",
   "execution_count": null,
   "metadata": {
    "collapsed": false
   },
   "outputs": [],
   "source": [
    "# addprocs(3)\n",
    "\n",
    "# a = SharedArray(Float64,10)\n",
    "# @parallel for i=1:10\n",
    "#   a[i] = i\n",
    "# end\n",
    "\n",
    "function ComputeLL_par(LLs::SharedArray{Float64,1}, params::Vector, ratdata, ntrials::Int)\n",
    "    @sync @parallel for i in 1:ntrials\n",
    "        RightClickTimes, LeftClickTimes, maxT, rat_choice = trialdata(ratdata, i)\n",
    "        Nsteps = Int(ceil(maxT/dt))\n",
    "        LLs[i] = logLike(params, RightClickTimes, LeftClickTimes, Nsteps, rat_choice)\n",
    "    end\n",
    "\n",
    "    LL = sum(LLs)\n",
    "    \n",
    "    LL = -LL\n",
    "    return LL\n",
    "end\n",
    "\n",
    "function ComputeGrad_par(LLs::SharedArray{Float64,1}, params::Vector, ratdata, ntrials::Int)\n",
    "    function WrapperLL(params::Vector)\n",
    "        LL        = 0.\n",
    "\n",
    "        @sync @parallel for i in 1:ntrials\n",
    "            RightClickTimes, LeftClickTimes, maxT, rat_choice = trialdata(ratdata, i)\n",
    "            Nsteps = Int(ceil(maxT/dt))\n",
    "\n",
    "            LLs[i] = logLike(params, RightClickTimes, LeftClickTimes, Nsteps, rat_choice)\n",
    "        end\n",
    "        \n",
    "        LL = sum(LLs)\n",
    "        LL = -LL\n",
    "        return LL\n",
    "    end\n",
    "\n",
    "    result =  GradientResult(params)\n",
    "    \n",
    "    ForwardDiff.gradient!(result, WrapperLL, params);\n",
    "    \n",
    "    LL     = ForwardDiff.value(result)\n",
    "    LLgrad = ForwardDiff.gradient(result)\n",
    "   \n",
    "    return LL, LLgrad\n",
    "end\n"
   ]
  },
  {
   "cell_type": "code",
   "execution_count": null,
   "metadata": {
    "collapsed": false
   },
   "outputs": [],
   "source": [
    "LLs = SharedArray(Float64, 10)\n",
    "@time SumLikey_LL_par(LLs,params, ratdata, 10)"
   ]
  },
  {
   "cell_type": "code",
   "execution_count": null,
   "metadata": {
    "collapsed": false
   },
   "outputs": [],
   "source": [
    "@profile SumLikey_LL_par(params, ratdata, 27) # sum of LL for trial (1-27)\n",
    "Profile.print()\n",
    "Profile.clear_malloc_data() "
   ]
  },
  {
   "cell_type": "code",
   "execution_count": null,
   "metadata": {
    "collapsed": false
   },
   "outputs": [],
   "source": [
    "@time SumLikey_par(params, ratdata, 27)"
   ]
  },
  {
   "cell_type": "code",
   "execution_count": null,
   "metadata": {
    "collapsed": false
   },
   "outputs": [],
   "source": [
    "function Likely_all_trials{T}(LL::AbstractArray{T,1},params::Vector, ratdata, ntrials::Int)     \n",
    "    for i in 1:ntrials\n",
    "        RightClickTimes, LeftClickTimes, maxT, rat_choice = trialdata(ratdata, i)\n",
    "        Nsteps = Int(ceil(maxT/dt))\n",
    "\n",
    "        LL[i] = logLike(params, RightClickTimes, LeftClickTimes, Nsteps, rat_choice)\n",
    "    end\n",
    "end"
   ]
  },
  {
   "cell_type": "code",
   "execution_count": null,
   "metadata": {
    "collapsed": false
   },
   "outputs": [],
   "source": [
    "likely_all = zeros(ntrials)\n",
    "@time Likely_all_trials(likely_all, params, ratdata[\"rawdata\"], 27)\n",
    "likely_all"
   ]
  },
  {
   "cell_type": "code",
   "execution_count": 89,
   "metadata": {
    "collapsed": false
   },
   "outputs": [
    {
     "data": {
      "text/plain": [
       "Optim.DifferentiableFunction(LL_f,LL_g!,LL_fg!)"
      ]
     },
     "execution_count": 89,
     "metadata": {},
     "output_type": "execute_result"
    }
   ],
   "source": [
    "# Parameters\n",
    "sigma_a = 1; sigma_s = 0.1; sigma_i = 0.2; \n",
    "sigma_a_sbin = sigma_a  # remember we need this copy for Fmatrix\n",
    "lam = -0.0005; B = 4.1; bias = 0.1; \n",
    "phi = 0.3; tau_phi = 0.1; lapse = 0.05*2;\n",
    "biased_sigma2_s = 0.1; biased_input = 0.1; biased_lapse = 0.1;\n",
    "params = [sigma_a, sigma_s, sigma_i, lam, B, bias, phi, tau_phi, lapse, biased_sigma2_s, biased_input, biased_lapse]   \n",
    "\n",
    "ntrials = 3836\n",
    "\n",
    "function LL_f(params::Vector)\n",
    "    return ComputeLL(params, ratdata[\"rawdata\"], ntrials)\n",
    "end\n",
    "\n",
    "function LL_g!(params::Vector, grads::Vector)\n",
    "#     LL, LLgrad, LLhess = llikey(params)\n",
    "    LL, LLgrad = ComputeGrad(params, ratdata[\"rawdata\"], ntrials)\n",
    "    for i=1:length(params)\n",
    "        grads[i] = LLgrad[i]\n",
    "    end\n",
    "end\n",
    "\n",
    "function LL_fg!(params::Vector, grads)\n",
    "    LL, LLgrad = ComputeGrad(params, ratdata[\"rawdata\"], ntrials)\n",
    "    for i=1:length(params)\n",
    "        grads[i] = LLgrad[i]\n",
    "    end\n",
    "    return LL\n",
    "end\n",
    "\n",
    "d4 = DifferentiableFunction(LL_f,\n",
    "                            LL_g!,\n",
    "                            LL_fg!)"
   ]
  },
  {
   "cell_type": "code",
   "execution_count": null,
   "metadata": {
    "collapsed": false
   },
   "outputs": [
    {
     "name": "stdout",
     "output_type": "stream",
     "text": [
      "Iter     Function value   Gradient norm \n",
      " "
     ]
    }
   ],
   "source": [
    "# Parameters\n",
    "sigma_a = 1; sigma_s = 0.1; sigma_i = 0.2; \n",
    "sigma_a_sbin = sigma_a  # remember we need this copy for Fmatrix\n",
    "lam = -0.0005; B = 6.1; bias = 0.1; \n",
    "phi = 0.3; tau_phi = 0.1; lapse = 0.05*2;\n",
    "biased_sigma2_s = 0.1; biased_input = 0.1; biased_lapse = 0.1;\n",
    "# params = [sigma_a, sigma_s, sigma_i, lam, B, bias, phi, tau_phi, lapse, biased_sigma2_s, biased_input, biased_lapse]   \n",
    "params = [2.63352, 0.287501, 0.501707, 1.91113, 6.23087, 0.487071, 0.537924, 0.69, 0.140861, 0.315909, 1.92412, 0.99205]\n",
    "\n",
    "l = [0, 0, 0, -5, 5, -5, 0.01, 0.005, 0., 0., -1., 0.]\n",
    "u = [200, 200, 30, +5, 25, +5, 1.2, 0.7, 1.,10000., 2., 1.3]\n",
    "\n",
    "res = optimize(d4, params, l, u, Fminbox(); \n",
    "         optimizer = GradientDescent, optimizer_o = OptimizationOptions(g_tol = 1e-12,\n",
    "                                                                        x_tol = 1e-10,\n",
    "                                                                        f_tol = 1e-6,                                                                        \n",
    "                                                                        iterations = 200,\n",
    "                                                                        store_trace = true,\n",
    "                                                                        show_trace = true,\n",
    "                                                                        extended_trace = true))\n"
   ]
  },
  {
   "cell_type": "code",
   "execution_count": 84,
   "metadata": {
    "collapsed": false
   },
   "outputs": [
    {
     "data": {
      "text/plain": [
       "1538.5902305652457"
      ]
     },
     "execution_count": 84,
     "metadata": {},
     "output_type": "execute_result"
    }
   ],
   "source": [
    "x_bf = res.f_minimum"
   ]
  },
  {
   "cell_type": "code",
   "execution_count": 85,
   "metadata": {
    "collapsed": false
   },
   "outputs": [
    {
     "data": {
      "text/plain": [
       "Results of Optimization Algorithm\n",
       " * Algorithm: Fminbox with Gradient Descent\n",
       " * Starting Point: [1.0,0.1, ...]\n",
       " * Minimizer: [2.6335164932543877,0.2875014302039217, ...]\n",
       " * Minimum: 1.538590e+03\n",
       " * Iterations: 114\n",
       " * Convergence: true\n",
       "   * |x - x'| < 1.0e-10: true\n",
       "   * |f(x) - f(x')| / |f(x)| < 1.0e-06: true\n",
       "   * |g(x)| < 1.0e-12: false\n",
       "   * Reached Maximum Number of Iterations: false\n",
       " * Objective Function Calls: 1581\n",
       " * Gradient Calls: 1581"
      ]
     },
     "execution_count": 85,
     "metadata": {},
     "output_type": "execute_result"
    }
   ],
   "source": [
    "res"
   ]
  },
  {
   "cell_type": "code",
   "execution_count": 86,
   "metadata": {
    "collapsed": false
   },
   "outputs": [
    {
     "data": {
      "text/plain": [
       "12-element Array{Float64,1}:\n",
       " 2.63352 \n",
       " 0.287501\n",
       " 0.501707\n",
       " 1.91113 \n",
       " 6.23087 \n",
       " 0.487071\n",
       " 0.537924\n",
       " 0.7     \n",
       " 0.140861\n",
       " 0.315909\n",
       " 1.92412 \n",
       " 0.992052"
      ]
     },
     "execution_count": 86,
     "metadata": {},
     "output_type": "execute_result"
    }
   ],
   "source": [
    "res.minimum"
   ]
  },
  {
   "cell_type": "code",
   "execution_count": 88,
   "metadata": {
    "collapsed": false
   },
   "outputs": [
    {
     "name": "stdout",
     "output_type": "stream",
     "text": [
      "2716.705393 seconds (15.69 M allocations: 195.042 GB, 1.03% gc time)\n"
     ]
    },
    {
     "data": {
      "text/plain": [
       "(2215.7269936287066,[-61.311538211652774,-7.516509432373704,-169.79727192940504,-14.823724771025638,-0.0,152.26638046963237,256.04336675541975,-1938.0555785679196,-4745.283329985102,-11.305197126892882,-762.1438015465878,39.05709726491926],\n",
       "12x12 Array{Float64,2}:\n",
       "   10.1809       0.0817604  …    2.16681      -85.8296    13.7254 \n",
       "    0.0817604   -0.111279        0.0659889    -16.0026     2.13824\n",
       "   37.5209       2.27336         7.55192      -65.9949    18.2869 \n",
       "    1.54624      0.0828142       0.725397     -22.1618     2.76159\n",
       "   -0.0         -0.0            -0.0           -0.0       -0.0    \n",
       "   10.2121       3.66181    …    0.985407     101.45      75.3805 \n",
       "   78.2281       6.20482         2.13142      153.591    -59.2337 \n",
       " -569.29       -44.5143         -9.83036     -451.038    433.87   \n",
       "  475.832       63.6896         84.1062      5193.32    -328.536  \n",
       "    2.16681      0.0659889       0.479033     -14.8242     2.52523\n",
       "  -85.8296     -16.0026     …  -14.8242     -1211.42      42.6067 \n",
       "   13.7254       2.13824         2.52523       42.6067    55.9133 )"
      ]
     },
     "execution_count": 88,
     "metadata": {},
     "output_type": "execute_result"
    }
   ],
   "source": [
    "@time LL, LLgrad, LLhess = ComputeHess(params,ratdata,ntrials)"
   ]
  },
  {
   "cell_type": "code",
   "execution_count": null,
   "metadata": {
    "collapsed": true
   },
   "outputs": [],
   "source": [
    "function main()\n",
    "    \n",
    "    ratname = \"fof\"\n",
    "    # data import\n",
    "    ratdata = matread(*(\"chrono_\",ratname,\"_rawdata.mat\"))\n",
    "    println(\"rawdata of \", ratname, \" imported\" )\n",
    "\n",
    "    # number of trials\n",
    "    ntrials = Int(ratdata[\"total_trials\"])\n",
    "\n",
    "    # Parameters\n",
    "    sigma_a = 1.; sigma_s = 0.1; sigma_i = 0.2; \n",
    "    sigma_a_sbin = sigma_a  # remember we need this copy for Fmatrix\n",
    "    lam = -0.0005; B = 6.1; bias = 0.1; \n",
    "    phi = 0.3; tau_phi = 0.1; lapse = 0.05*2;\n",
    "    biased_sigma2_s = 0.1; biased_input = 0.1; biased_lapse = 0.1;\n",
    "    params = [sigma_a, sigma_s, sigma_i, lam, B, bias, phi, tau_phi, lapse, biased_sigma2_s, biased_input, biased_lapse]   \n",
    "\n",
    "    l = [0, 0, 0, -5, 5, -5, 0.01, 0.005, 0., 0., -1., 0.]\n",
    "    u = [200, 200, 30, +5, 25, +5, 1.2, 0.7, 1.,10000., 2., 1.3]\n",
    "\n",
    "    # @code_warntype SumLikey(params, ratdata, ntrials)\n",
    "\n",
    "    function LL_f(params::Vector)\n",
    "        return SumLikey_LL(params, ratdata, ntrials)\n",
    "    end\n",
    "\n",
    "    function LL_g!(params::Vector, grads::Vector)\n",
    "        LL, LLgrad = SumLikey(params, ratdata, ntrials)\n",
    "        for i=1:length(params)\n",
    "            grads[i] = LLgrad[i]\n",
    "        end\n",
    "    end\n",
    "\n",
    "    function LL_fg!(params::Vector, grads)\n",
    "        LL, LLgrad = SumLikey(params, ratdata, ntrials)\n",
    "        for i=1:length(params)\n",
    "            grads[i] = LLgrad[i]\n",
    "        end\n",
    "        return LL\n",
    "    end\n",
    "\n",
    "    d4 = DifferentiableFunction(LL_f,\n",
    "                                LL_g!,\n",
    "                                LL_fg!)\n",
    "\n",
    "    res = optimize(d4, params, l, u, Fminbox(); \n",
    "             optimizer = GradientDescent, optimizer_o = OptimizationOptions(g_tol = 1e-12,\n",
    "                                                                            iterations = 200,\n",
    "                                                                            store_trace = true,\n",
    "                                                                            show_trace = true))\n",
    "    LL, LLgrad, LLhess = ComputeHess(params,ratdata,ntrials)\n",
    "    \n",
    "end"
   ]
  },
  {
   "cell_type": "code",
   "execution_count": null,
   "metadata": {
    "collapsed": true
   },
   "outputs": [],
   "source": [
    "main()"
   ]
  },
  {
   "cell_type": "code",
   "execution_count": null,
   "metadata": {
    "collapsed": true
   },
   "outputs": [],
   "source": []
  },
  {
   "cell_type": "code",
   "execution_count": null,
   "metadata": {
    "collapsed": true
   },
   "outputs": [],
   "source": [
    "# make grid of params. calculate likelihood -> make likelihood landscape"
   ]
  },
  {
   "cell_type": "code",
   "execution_count": null,
   "metadata": {
    "collapsed": true
   },
   "outputs": [],
   "source": []
  },
  {
   "cell_type": "code",
   "execution_count": null,
   "metadata": {
    "collapsed": true
   },
   "outputs": [],
   "source": []
  }
 ],
 "metadata": {
  "kernelspec": {
   "display_name": "Julia 0.4.5",
   "language": "julia",
   "name": "julia-0.4"
  },
  "language_info": {
   "file_extension": ".jl",
   "mimetype": "application/julia",
   "name": "julia",
   "version": "0.4.5"
  }
 },
 "nbformat": 4,
 "nbformat_minor": 0
}
