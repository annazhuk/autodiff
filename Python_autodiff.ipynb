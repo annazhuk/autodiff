{
 "cells": [
  {
   "cell_type": "markdown",
   "metadata": {},
   "source": [
    "### main (Data import / Global variables / Parameters...)"
   ]
  },
  {
   "cell_type": "code",
   "execution_count": 3,
   "metadata": {
    "collapsed": false
   },
   "outputs": [],
   "source": [
    "import scipy.io\n",
    "ratdata = scipy.io.loadmat('chrono_B069_rawdata.mat')"
   ]
  },
  {
   "cell_type": "code",
   "execution_count": 4,
   "metadata": {
    "collapsed": true
   },
   "outputs": [],
   "source": [
    "import numpy as np"
   ]
  },
  {
   "cell_type": "code",
   "execution_count": 5,
   "metadata": {
    "collapsed": true
   },
   "outputs": [],
   "source": [
    "# trial index starts from 0 \n",
    "\n",
    "def trialdata(ratdata,trial):\n",
    "    if ratdata['rawdata']['pokedR'][0][trial] > 0 :\n",
    "        rat_choice = \"R\"\n",
    "    else : \n",
    "        rat_choice = \"L\"\n",
    "        \n",
    "    return ratdata['rawdata']['rightbups'][0][trial][0], \\\n",
    "ratdata['rawdata']['leftbups'][0][trial][0], \\\n",
    "ratdata['rawdata']['T'][0][trial], rat_choice"
   ]
  },
  {
   "cell_type": "code",
   "execution_count": 6,
   "metadata": {
    "collapsed": false
   },
   "outputs": [
    {
     "name": "stdout",
     "output_type": "stream",
     "text": [
      "[ 0.       0.19235  0.34361]\n",
      "L\n"
     ]
    }
   ],
   "source": [
    "# trial index starts from 0 \n",
    "RightClickTimes, LeftClickTimes, maxT, rat_choice = trialdata(ratdata, 0) \n",
    "print LeftClickTimes\n",
    "print rat_choice"
   ]
  },
  {
   "cell_type": "code",
   "execution_count": 7,
   "metadata": {
    "collapsed": false
   },
   "outputs": [],
   "source": [
    "# Global variables \n",
    "epsilon = 10.0**(-10) \n",
    "dx = 0.25 \n",
    "dt = 0.02\n",
    "Nsteps = int(np.ceil(1.0/dt))\n",
    "\n",
    "# Parameters\n",
    "sigma_a = 1; sigma_s = 0.1; sigma_i = 0.2; \n",
    "sigma_a_sbin = sigma_a  # remember we need this copy for Fmatrix\n",
    "lam = -0.0005; B = 4.1; bias = 0.1; \n",
    "phi = 0.3; tau_phi = 0.1; lapse = 0.05;\n",
    "params = [sigma_a, sigma_s, sigma_i, lam, B, bias, phi, tau_phi, lapse]   "
   ]
  },
  {
   "cell_type": "markdown",
   "metadata": {},
   "source": [
    "## function bin_centers = make_bins(B, dx, binN)"
   ]
  },
  {
   "cell_type": "code",
   "execution_count": 8,
   "metadata": {
    "collapsed": false
   },
   "outputs": [],
   "source": [
    "import numpy as np\n",
    "\n",
    "def make_bins(B, dx, binN):\n",
    "    bins = (np.arange(binN)+1)*B\n",
    "    bins = dx*bins/B\n",
    "    \n",
    "    if bins[-1] == B:\n",
    "        bins[-1] = B+dx\n",
    "    else:\n",
    "        bins[-1] = 2*B - bins[-2]\n",
    "    \n",
    "    bins = np.hstack((-bins[::-1], np.array([0]), bins))\n",
    "    return bins"
   ]
  },
  {
   "cell_type": "code",
   "execution_count": 9,
   "metadata": {
    "collapsed": false
   },
   "outputs": [
    {
     "name": "stdout",
     "output_type": "stream",
     "text": [
      "[-4.2  -4.   -3.75 -3.5  -3.25 -3.   -2.75 -2.5  -2.25 -2.   -1.75 -1.5\n",
      " -1.25 -1.   -0.75 -0.5  -0.25  0.    0.25  0.5   0.75  1.    1.25  1.5\n",
      "  1.75  2.    2.25  2.5   2.75  3.    3.25  3.5   3.75  4.    4.2 ]\n",
      "17.0\n"
     ]
    }
   ],
   "source": [
    "B = 4.1\n",
    "dx = 0.25\n",
    "binN = np.ceil(B/dx)\n",
    "\n",
    "bin_centers = make_bins(B,dx,binN)\n",
    "print bin_centers\n",
    "print binN"
   ]
  },
  {
   "cell_type": "markdown",
   "metadata": {},
   "source": [
    "## function F = Fmatrix([sigma, lambda, c], bin_centers)"
   ]
  },
  {
   "cell_type": "code",
   "execution_count": 34,
   "metadata": {
    "collapsed": false
   },
   "outputs": [],
   "source": [
    "import numpy as np\n",
    "\n",
    "def Fmatrix(params, bin_centers):\n",
    "    global dt,dx\n",
    "    sigma2 = params[0]\n",
    "    lam = params[1]\n",
    "    c = params[2]\n",
    "    \n",
    "    sigma2_sbin = sigma2\n",
    "    \n",
    "    F = np.zeros((bin_centers.size,bin_centers.size))\n",
    "    \n",
    "    if lam == 0:  # for Fi\n",
    "        mus = bin_centers*np.exp(lam*dt)\n",
    "    else:        \n",
    "        mus = np.exp(lam*dt)*(bin_centers + c/lam) - c/lam\n",
    "\n",
    "        \n",
    "# modified it according to gaussbins.m -amyoon\n",
    "#     sbinsize = 0.1*sigma_sbin\n",
    "#     swidth = 4*sigma_sbin\n",
    "#     sbins = np.arange(-swidth,swidth+epsilon,sbinsize)\n",
    "    n_sbins = max(70, np.ceil(10*np.sqrt(sigma2_sbin)/dx))\n",
    "\n",
    "    swidth = 5*np.sqrt(sigma2_sbin)\n",
    "    sbins = np.linspace(-swidth,swidth,n_sbins*2+1)\n",
    "    sbinsize = sbins[1]-sbins[0]\n",
    "    \n",
    "    ps = np.exp(-sbins**2/(2*sigma2)) \n",
    "    ps = ps/sum(ps)\n",
    "            \n",
    "    base_sbins = sbins\n",
    "    \n",
    "        \n",
    "    for j in np.arange(bin_centers.size-1)+1:\n",
    "        sbins = base_sbins + mus[j]\n",
    "        tmp = 1\n",
    "        \n",
    "        for k in range(sbins.size):\n",
    "            if sbins[k] <= bin_centers[0]:\n",
    "                F[0,j] += ps[k]\n",
    "            elif sbins[k] >= bin_centers[-1]:\n",
    "                F[-1,j] += ps[k]\n",
    "            else:\n",
    "                if (sbins[k] > bin_centers[0] and sbins[k] < bin_centers[1]):\n",
    "                    bottom = 0; top = 1;\n",
    "                elif (sbins[k] > bin_centers[-2] and sbins[k] < bin_centers[-1]):\n",
    "                    bottom = bin_centers.size-2; top = bin_centers.size-1;\n",
    "                else :    \n",
    "                    bottom = int(np.floor((sbins[k]-bin_centers[1])/dx) + 1);\n",
    "                    top = int(np.ceil((sbins[k]-bin_centers[1])/dx) + 1);\n",
    "\n",
    "                if bottom < 0: bottom = 0; \n",
    "                if top < 0: top = 0; \n",
    "\n",
    "                if bottom == top:\n",
    "                    F[bottom,j] += ps[k]\n",
    "                else:\n",
    "                    F[top,j] += ps[k]*(sbins[k] - bin_centers[bottom])/(bin_centers[top] - bin_centers[bottom])\n",
    "                    F[bottom,j] += ps[k]*(bin_centers[top] - sbins[k])/(bin_centers[top] - bin_centers[bottom])\n",
    "                     \n",
    "    F[:,0] = 0\n",
    "    F[:,-1] = 0\n",
    "    F[0,0] = 1\n",
    "    F[-1,-1] = 1\n",
    "    \n",
    "    return F"
   ]
  },
  {
   "cell_type": "code",
   "execution_count": 35,
   "metadata": {
    "collapsed": false
   },
   "outputs": [
    {
     "data": {
      "text/plain": [
       "array([[ 1.        ,  0.41181999,  0.21890701, ...,  0.        ,\n",
       "         0.        ,  0.        ],\n",
       "       [ 0.        ,  0.19714171,  0.17213129, ...,  0.        ,\n",
       "         0.        ,  0.        ],\n",
       "       [ 0.        ,  0.18722765,  0.21792338, ...,  0.        ,\n",
       "         0.        ,  0.        ],\n",
       "       ..., \n",
       "       [ 0.        ,  0.        ,  0.        , ...,  0.21792338,\n",
       "         0.18722765,  0.        ],\n",
       "       [ 0.        ,  0.        ,  0.        , ...,  0.17213129,\n",
       "         0.19714171,  0.        ],\n",
       "       [ 0.        ,  0.        ,  0.        , ...,  0.21890701,\n",
       "         0.41181999,  1.        ]])"
      ]
     },
     "execution_count": 35,
     "metadata": {},
     "output_type": "execute_result"
    }
   ],
   "source": [
    "F = Fmatrix([0.2, 0, 0.0],bin_centers) # Fi\n",
    "F"
   ]
  },
  {
   "cell_type": "code",
   "execution_count": 36,
   "metadata": {
    "collapsed": false
   },
   "outputs": [
    {
     "data": {
      "text/plain": [
       "array([[ 1.        ,  0.46112513,  0.36500678, ...,  0.        ,\n",
       "         0.        ,  0.        ],\n",
       "       [ 0.        ,  0.09084516,  0.08595918, ...,  0.        ,\n",
       "         0.        ,  0.        ],\n",
       "       [ 0.        ,  0.09459485,  0.10083522, ...,  0.        ,\n",
       "         0.        ,  0.        ],\n",
       "       ..., \n",
       "       [ 0.        ,  0.        ,  0.        , ...,  0.09992243,\n",
       "         0.09525969,  0.        ],\n",
       "       [ 0.        ,  0.        ,  0.        , ...,  0.0863713 ,\n",
       "         0.09014276,  0.        ],\n",
       "       [ 0.        ,  0.        ,  0.        , ...,  0.36821346,\n",
       "         0.46453357,  1.        ]])"
      ]
     },
     "execution_count": 36,
     "metadata": {},
     "output_type": "execute_result"
    }
   ],
   "source": [
    "F = Fmatrix(params,bin_centers)\n",
    "F"
   ]
  },
  {
   "cell_type": "markdown",
   "metadata": {},
   "source": [
    "## function logProbRight(params)\n",
    "#### params = [sigma_a, sigma_s, sigma_i, lambda, B, bias, phi, tau_phi, lapse"
   ]
  },
  {
   "cell_type": "code",
   "execution_count": 42,
   "metadata": {
    "collapsed": false
   },
   "outputs": [],
   "source": [
    "# Nsteps : number of time steps\n",
    "\n",
    "# RightClicksTimes : times of right clicks\n",
    "# LeftClicksTimes : tiems of left clicks\n",
    "\n",
    "# RightClicks : adapted weights of right clicks\n",
    "# LeftClicks : adapted weights of left clicks\n",
    "\n",
    "# NClicks : number of clicks for all time steps\n",
    "\n",
    "\n",
    "def logProbRight(params):\n",
    "    \"\"\"\n",
    "    :params : arrays of parameters\n",
    "    : sigma2_a\n",
    "    : sigma2_s\n",
    "    : sigma2_i\n",
    "    : lam \n",
    "    : B\n",
    "    : bias\n",
    "    : phi\n",
    "    : tau_phi\n",
    "    : lapse\n",
    "    \"\"\"\n",
    "\n",
    "    sigma2_a = params[0]\n",
    "    sigma2_s = params[1]\n",
    "    sigma2_i = params[2]\n",
    "    lam = params[3]\n",
    "    B = params[4]\n",
    "    bias = params[5]\n",
    "    phi = params[6]\n",
    "    tau_phi = params[7]\n",
    "    lapse = params[8]\n",
    "    \n",
    "    global a, dx, dt, maxT, Nsteps, rat_choice, LeftClickTimes, RightClickTimes, a_trace, c_trace, bin_centers\n",
    "    \n",
    "    Nsteps = int(np.ceil(maxT/dt))\n",
    "\n",
    "    if RightClickTimes.size == 0:\n",
    "        RightClickTimes = np.empty(0)\n",
    "    if LeftClickTimes.size == 0:\n",
    "        LeftClickTimes = np.empty(0)\n",
    "    \n",
    "    net_input = np.zeros((1, Nsteps))\n",
    "    total_input = np.zeros((1, Nsteps))\n",
    "\n",
    "    NClicks = np.zeros((1, Nsteps))    \n",
    "    \n",
    "        \n",
    "    # ====== Make adapted clicks\n",
    "    \n",
    "    Lsame = np.ones((1,np.size(LeftClickTimes)))\n",
    "    Rsame = np.ones((1,np.size(RightClickTimes)))\n",
    "    # magnitude of stereo clicks set to zero   \n",
    "    Lsame[0] = 0; Rsame[0] = 0;\n",
    "    \n",
    "    # inter-click-intervals\n",
    "    ici_L = np.diff(LeftClickTimes)\n",
    "    ici_R = np.diff(RightClickTimes)\n",
    "    \n",
    "    for i in np.arange(np.size(LeftClickTimes)-1)+1:\n",
    "        last_L = tau_phi*np.log(1-Lsame[0][i-1]*phi)\n",
    "        Lsame[0][i] = 1 - np.exp((-ici_L[i-1] + last_L)/tau_phi)\n",
    "        \n",
    "    for i in np.arange(np.size(RightClickTimes)-1)+1:\n",
    "        last_R = tau_phi*np.log(1-Rsame[0][i-1]*phi)\n",
    "        Rsame[0][i] = 1 - np.exp((-ici_R[i-1] + last_R)/tau_phi)\n",
    "\n",
    "    Lsame = Lsame.real    \n",
    "    Rsame = Rsame.real   \n",
    "        \n",
    "    # index starts from 0\n",
    "    # net_input / total_input\n",
    "    # Counting number of clicks\n",
    "    cnt = 0\n",
    "    for i in np.ceil((RightClickTimes+epsilon)/dt).astype(int):\n",
    "        NClicks[0][i-1] += 1\n",
    "        net_input[0][i-1] += Rsame[0][cnt]\n",
    "        total_input[0][i-1] += Rsame[0][cnt]\n",
    "        cnt += 1\n",
    "    \n",
    "    cnt = 0 \n",
    "    for i in np.ceil((LeftClickTimes+epsilon)/dt).astype(int):\n",
    "        NClicks[0][i-1] += 1  \n",
    "        net_input[0][i-1] -= Lsame[0][cnt]\n",
    "        total_input[0][i-1] += Lsame[0][cnt]\n",
    "        cnt += 1        \n",
    "       \n",
    "    \n",
    "    print net_input\n",
    "    print total_input\n",
    "    \n",
    "    binN = int(np.ceil(B/dx))\n",
    "    \n",
    "    bin_centers = make_bins(B,dx,binN)\n",
    "        \n",
    "    a_trace = np.zeros((bin_centers.size, Nsteps))\n",
    "    c_trace = np.zeros((1, Nsteps+1))\n",
    "    a0 = np.zeros(bin_centers.size)\n",
    "    a0[binN] = 1-2*lapse; a0[0] = lapse; a0[-1] = lapse;\n",
    "\n",
    "    \n",
    "    Fi = Fmatrix([sigma2_i, 0, 0.0], bin_centers)\n",
    "    \n",
    "    a = np.matmul(Fi,a0)\n",
    "    a_trace[:,0] = a.flatten()\n",
    " \n",
    "    F0 = Fmatrix([sigma2_a*dt, lam, 0.0], bin_centers)\n",
    "    for i in np.arange(Nsteps-1)+1:\n",
    "        if total_input[0][i-1]==0:\n",
    "            a = np.matmul(F0,a)\n",
    "        else:\n",
    "            total_var = sigma2_a*dt + (sigma2_s*total_input[0][i-1])/40\n",
    "            F = Fmatrix([total_var, lam, net_input[0][i-1]/dt], bin_centers)\n",
    "            a = np.matmul(F,a)\n",
    "            \n",
    "        c_trace[0][i] = net_input[0][i-1]\n",
    "        a_trace[:,i] = a.flatten()\n",
    "\n",
    "    bias_bottom = int(np.floor((bias-bin_centers[1])/dx) + 1)\n",
    "    bias_top = int(np.ceil((bias-bin_centers[1])/dx) + 1) # top\n",
    "    print(bias_bottom)\n",
    "    \n",
    "    Pd = np.zeros((1, bin_centers.size))\n",
    "    Pd[0][-bias_top+1:] = a[-bias_top+1:]\n",
    "    if bias_bottom == bias_top:\n",
    "        Pd[0][bias_bottom] = a[bias_bottom]/2\n",
    "    else:\n",
    "        dh = bin_centers[bias_top] - bias\n",
    "        dl = bias - bin_centers[bias_bottom]\n",
    "        dd = dh + dl\n",
    "        Pd[0][bias_top] = a[bias_top]*(0.5 + dh/dd/2)\n",
    "        Pd[0][bias_bottom] = a[bias_bottom]*(dh/dd/2)\n",
    "    \n",
    "    pright = sum(Pd[0])\n",
    "    \n",
    "    return np.log(pright)"
   ]
  },
  {
   "cell_type": "code",
   "execution_count": 43,
   "metadata": {
    "collapsed": false
   },
   "outputs": [
    {
     "data": {
      "text/plain": [
       "array([ 1.,  1.,  1.,  1.,  1.,  1.,  1.,  1.,  1.,  1.,  1.,  1.,  1.,\n",
       "        1.,  1.,  1.,  1.,  1.])"
      ]
     },
     "execution_count": 43,
     "metadata": {},
     "output_type": "execute_result"
    }
   ],
   "source": [
    "np.sum(a_trace,axis = 0)"
   ]
  },
  {
   "cell_type": "code",
   "execution_count": 44,
   "metadata": {
    "collapsed": true
   },
   "outputs": [],
   "source": [
    "def logLike(params):\n",
    "    global rat_choice\n",
    "    if rat_choice == \"R\":\n",
    "        LP_right = logProbRight(params)\n",
    "#         print \"R : \" + str(LP_right)\n",
    "        return LP_right\n",
    "    elif rat_choice == \"L\":\n",
    "        LP_right = logProbRight(params)\n",
    "#         print \"L : \" + str(np.log(1 - np.exp(LP_right)))\n",
    "        return np.log(1 - np.exp(LP_right))\n",
    "    else:\n",
    "        print \"Rat did what?? It was neither R nor L\""
   ]
  },
  {
   "cell_type": "code",
   "execution_count": 45,
   "metadata": {
    "collapsed": false
   },
   "outputs": [
    {
     "name": "stdout",
     "output_type": "stream",
     "text": [
      "[[ 0.21174577  0.          0.          0.          0.          0.59572769\n",
      "   0.          0.          0.         -0.85390527  0.68879055  0.          0.\n",
      "   0.          0.          0.          1.0679164  -0.83610755]]\n",
      "[[ 0.21174577  0.          0.          0.          0.          0.59572769\n",
      "   0.          0.          0.          0.85390527  0.68879055  0.          0.\n",
      "   0.          0.          0.          1.0679164   0.83610755]]\n",
      "17\n"
     ]
    },
    {
     "data": {
      "text/plain": [
       "-2.5352539404380012"
      ]
     },
     "execution_count": 45,
     "metadata": {},
     "output_type": "execute_result"
    }
   ],
   "source": [
    "logLike(params)"
   ]
  },
  {
   "cell_type": "code",
   "execution_count": 40,
   "metadata": {
    "collapsed": false
   },
   "outputs": [],
   "source": [
    "def llikey(params, rat_choice, maxT=1, RightPulseTimes=np.array([]), LeftPulseTimes=np.array([])):\n",
    "\n",
    "    global RightClickTimes, LeftClickTimes, Nsteps\n",
    "        \n",
    "    RightClickTimes = RightPulseTimes.compress((RightPulseTimes <= maxT).flat)\n",
    "    LeftClickTimes  = LeftPulseTimes.compress((LeftPulseTimes <= maxT).flat)\n",
    "    Nsteps = int(np.ceil(maxT/dt))\n",
    "    \n",
    "    B = params[4]\n",
    "    binN = int(np.ceil(B/dx))\n",
    "    bin_centers = make_bins(B, dx, binN); \n",
    "    bin_times = dt*np.arange(Nsteps+1);\n",
    "             \n",
    "    LL = logLike(params)\n",
    "    \n",
    "#     print LL\n",
    "#     LLgrad = tf.gradients(LL, params)[0]\n",
    "#     hess = tf.map_fn(lambda grid: tf.gradients(grad,))\n",
    "    \n",
    "    return LL"
   ]
  },
  {
   "cell_type": "code",
   "execution_count": 36,
   "metadata": {
    "collapsed": false
   },
   "outputs": [
    {
     "name": "stdout",
     "output_type": "stream",
     "text": [
      "21\n"
     ]
    },
    {
     "data": {
      "text/plain": [
       "-0.77424568532002769"
      ]
     },
     "execution_count": 36,
     "metadata": {},
     "output_type": "execute_result"
    }
   ],
   "source": [
    "LL = llikey(params, \"R\", RightPulseTimes=np.array([0.2, 0.4]))\n",
    "LL"
   ]
  },
  {
   "cell_type": "code",
   "execution_count": 46,
   "metadata": {
    "collapsed": false
   },
   "outputs": [
    {
     "name": "stdout",
     "output_type": "stream",
     "text": [
      "[[ 0.21174577  0.          0.          0.          0.          0.59572769\n",
      "   0.          0.          0.         -0.85390527  0.68879055  0.          0.\n",
      "   0.          0.          0.          1.0679164  -0.83610755]]\n",
      "[[ 0.21174577  0.          0.          0.          0.          0.59572769\n",
      "   0.          0.          0.          0.85390527  0.68879055  0.          0.\n",
      "   0.          0.          0.          1.0679164   0.83610755]]\n",
      "17\n"
     ]
    },
    {
     "data": {
      "text/plain": [
       "-2.5352539404380012"
      ]
     },
     "execution_count": 46,
     "metadata": {},
     "output_type": "execute_result"
    }
   ],
   "source": [
    "### =============== testing 1 ================= ####\n",
    "\n",
    "# Global variables \n",
    "epsilon = 10.0**(-10) \n",
    "dx = 0.25\n",
    "dt = 0.02\n",
    "\n",
    "# Parameters\n",
    "sigma_a = 1; sigma_s = 0.1; sigma_i = 0.2; \n",
    "sigma_a_sbin = sigma_a  # remember we need this copy for Fmatrix\n",
    "lam = -0.0005; B = 4.1; bias = 0.1; \n",
    "phi = 0.3; tau_phi = 0.1; lapse = 0.05;\n",
    "params = [sigma_a, sigma_s, sigma_i, lam, B, bias, phi, tau_phi, lapse]   \n",
    "\n",
    "# trial index starts from 0 \n",
    "RightClickTimes, LeftClickTimes, maxT, rat_choice = trialdata(ratdata, 0) \n",
    "\n",
    "Nsteps = int(np.ceil(maxT/dt))\n",
    "\n",
    "logLike(params)\n",
    "\n",
    "### =========================================== ####"
   ]
  },
  {
   "cell_type": "code",
   "execution_count": 20,
   "metadata": {
    "collapsed": false
   },
   "outputs": [
    {
     "data": {
      "text/plain": [
       "array([1, 2])"
      ]
     },
     "execution_count": 20,
     "metadata": {},
     "output_type": "execute_result"
    }
   ],
   "source": [
    "np.arange(np.size(LeftClickTimes)-1)+1"
   ]
  },
  {
   "cell_type": "code",
   "execution_count": null,
   "metadata": {
    "collapsed": false
   },
   "outputs": [],
   "source": [
    "np.ceil((RightClickTimes+epsilon)/dt).astype(int)"
   ]
  },
  {
   "cell_type": "markdown",
   "metadata": {},
   "source": [
    "print a_trace[:,1]"
   ]
  },
  {
   "cell_type": "code",
   "execution_count": null,
   "metadata": {
    "collapsed": false
   },
   "outputs": [],
   "source": [
    "sum(a_trace[:,1])"
   ]
  },
  {
   "cell_type": "code",
   "execution_count": 26,
   "metadata": {
    "collapsed": false
   },
   "outputs": [
    {
     "data": {
      "image/png": "[encoded data removed]",
      "text/plain": [
       "<matplotlib.figure.Figure at 0x11c731f90>"
      ]
     },
     "metadata": {},
     "output_type": "display_data"
    },
    {
     "data": {
      "text/plain": [
       "[<matplotlib.lines.Line2D at 0x11c12ff50>]"
      ]
     },
     "execution_count": 26,
     "metadata": {},
     "output_type": "execute_result"
    },
    {
     "data": {
      "image/png": "[encoded data removed]",
      "text/plain": [
       "<matplotlib.figure.Figure at 0x11c6ba550>"
      ]
     },
     "metadata": {},
     "output_type": "display_data"
    }
   ],
   "source": [
    "import matplotlib.pyplot as plt\n",
    "%matplotlib inline\n",
    "RightClickTimes, LeftClickTimes, maxT, rat_choice = trialdata(ratdata, 9) \n",
    "\n",
    "LL = logProbRight(params)\n",
    "\n",
    "plt.imshow(a_trace)\n",
    "im = plt.imshow(a_trace)\n",
    "plt.colorbar()\n",
    "im.set_extent([0,maxT*20,bin_centers[0], bin_centers[-1]])\n",
    "plt.show()\n",
    "\n",
    "plt.plot(bin_centers,a)"
   ]
  },
  {
   "cell_type": "code",
   "execution_count": 46,
   "metadata": {
    "collapsed": false
   },
   "outputs": [
    {
     "name": "stdout",
     "output_type": "stream",
     "text": [
      "Using matplotlib backend: MacOSX\n"
     ]
    }
   ],
   "source": [
    "import matplotlib.pyplot as plt\n",
    "%matplotlib auto\n",
    "\n",
    "dt = 0.02\n",
    "\n",
    "for i in range(27):\n",
    "    RightClickTimes, LeftClickTimes, maxT, rat_choice = trialdata(ratdata, i) \n",
    "\n",
    "    LL = logProbRight(params)\n",
    "\n",
    "    plt.subplot(3,9,i+1)\n",
    "    plt.imshow(a_trace)\n",
    "    plt.title('trial'+str(i+1))\n",
    "#     plt.colorbar()\n",
    "#     plt.show()"
   ]
  },
  {
   "cell_type": "markdown",
   "metadata": {},
   "source": [
    "## function multiLL(ratdata, params, Ntrials)"
   ]
  },
  {
   "cell_type": "code",
   "execution_count": 34,
   "metadata": {
    "collapsed": true
   },
   "outputs": [],
   "source": [
    "def multiLL(ratdata, params, ntrials):\n",
    "    global RightClickTimes, LeftClickTimes, maxT, rat_choice\n",
    "    LL = 0\n",
    "    LLgrad = np.zeros((np.shape(params)[0]))\n",
    "    LLhessian = np.zeros((np.shape(params)[0],np.shape(params)[0]))\n",
    "    \n",
    "    for i in range(ntrials):\n",
    "        RightClickTimes, LeftClickTimes, maxT, rat_choice = trialdata(ratdata, i)\n",
    "#         LLi = llikey(params, rat_choice, maxT=maxT, RightPulseTimes=RClickTimes, LeftPulseTimes = LClickTimes)\n",
    "        LLi = logLike(params)\n",
    "    \n",
    "        LL        = LL + LLi;\n",
    "#         LLgrad    = LLgrad + LLgradi;\n",
    "#         LLhessian = LLhessian + LLhessiani;\n",
    "\n",
    "        print(str(i+1)+ \" - LL : \" + str(LLi))\n",
    "        \n",
    "    return LL, LLgrad, LLhessian"
   ]
  },
  {
   "cell_type": "code",
   "execution_count": 39,
   "metadata": {
    "collapsed": false,
    "scrolled": true
   },
   "outputs": [
    {
     "name": "stdout",
     "output_type": "stream",
     "text": [
      "1 - LL : -2.53525394044\n",
      "2 - LL : -0.24006876781\n",
      "3 - LL : -0.0531116119157\n",
      "4 - LL : -2.83579157905\n",
      "5 - LL : -0.186951988171\n",
      "6 - LL : -1.2005228119\n",
      "7 - LL : -0.0512972358983\n",
      "8 - LL : -0.0513274576985\n",
      "9 - LL : -1.48963010726\n",
      "10 - LL : -0.0713736489741\n",
      "11 - LL : -0.979718818874\n",
      "12 - LL : -0.0515012017268\n",
      "13 - LL : -0.244442000025\n",
      "14 - LL : -2.94919169312\n",
      "15 - LL : -0.542772758795\n",
      "16 - LL : -0.0513611903012\n",
      "17 - LL : -0.0532302874616\n",
      "18 - LL : -1.01690614149\n",
      "19 - LL : -0.0520756616866\n",
      "20 - LL : -0.162860506091\n",
      "21 - LL : -0.0532741659969\n",
      "22 - LL : -2.99530324693\n",
      "23 - LL : -0.797323780376\n",
      "24 - LL : -1.394077005\n",
      "25 - LL : -0.0671278829042\n",
      "26 - LL : -0.0512951210374\n",
      "27 - LL : -0.0945154950112\n"
     ]
    },
    {
     "data": {
      "text/plain": [
       "(-20.272306105945415,\n",
       " array([ 0.,  0.,  0.,  0.,  0.,  0.,  0.,  0.,  0.]),\n",
       " array([[ 0.,  0.,  0.,  0.,  0.,  0.,  0.,  0.,  0.],\n",
       "        [ 0.,  0.,  0.,  0.,  0.,  0.,  0.,  0.,  0.],\n",
       "        [ 0.,  0.,  0.,  0.,  0.,  0.,  0.,  0.,  0.],\n",
       "        [ 0.,  0.,  0.,  0.,  0.,  0.,  0.,  0.,  0.],\n",
       "        [ 0.,  0.,  0.,  0.,  0.,  0.,  0.,  0.,  0.],\n",
       "        [ 0.,  0.,  0.,  0.,  0.,  0.,  0.,  0.,  0.],\n",
       "        [ 0.,  0.,  0.,  0.,  0.,  0.,  0.,  0.,  0.],\n",
       "        [ 0.,  0.,  0.,  0.,  0.,  0.,  0.,  0.,  0.],\n",
       "        [ 0.,  0.,  0.,  0.,  0.,  0.,  0.,  0.,  0.]]))"
      ]
     },
     "execution_count": 39,
     "metadata": {},
     "output_type": "execute_result"
    }
   ],
   "source": [
    "epsilon = 10.0**(-10); dx = 0.25; dt = 0.02; \n",
    "# Nsteps = int(np.ceil(1.0/dt))\n",
    "\n",
    "sigma_a = 1; sigma_s = 0.1; sigma_i = 0.2; \n",
    "sigma_a_sbin = sigma_a  # remember we need this copy for Fmatrix\n",
    "lam = -0.0005; B = 4.1; bias = 0.1; \n",
    "phi = 0.3; tau_phi = 0.1; lapse = 0.05;\n",
    "params = [sigma_a, sigma_s, sigma_i, lam, B, bias, phi, tau_phi, lapse]   \n",
    "\n",
    "multiLL(ratdata, params, 27)"
   ]
  },
  {
   "cell_type": "markdown",
   "metadata": {},
   "source": [
    "### Applying tensorflow"
   ]
  },
  {
   "cell_type": "code",
   "execution_count": 41,
   "metadata": {
    "collapsed": false
   },
   "outputs": [
    {
     "ename": "SyntaxError",
     "evalue": "invalid syntax (<ipython-input-41-8f423c542ced>, line 13)",
     "output_type": "error",
     "traceback": [
      "\u001b[0;36m  File \u001b[0;32m\"<ipython-input-41-8f423c542ced>\"\u001b[0;36m, line \u001b[0;32m13\u001b[0m\n\u001b[0;31m    var_grad_val = sess.run(var_grad, feed_dict = {data: ...})\u001b[0m\n\u001b[0m                                                         ^\u001b[0m\n\u001b[0;31mSyntaxError\u001b[0m\u001b[0;31m:\u001b[0m invalid syntax\n"
     ]
    }
   ],
   "source": [
    "import tensorflow as tf\n",
    "# data = tf.placeholder(tf.float32)\n",
    "# var = tf.Variable()\n",
    "# loss = func(var, data)\n",
    "\n",
    "tf_params = tf.Variable(params, name = \"params\")\n",
    "loss = logLike(W)\n",
    "\n",
    "var_grad = tf.gradients(loss, tf_params)[0]\n",
    "\n",
    "sess = tf.Session()\n",
    "\n",
    "var_grad_val = sess.run(var_grad, feed_dict = {data: ...})"
   ]
  },
  {
   "cell_type": "code",
   "execution_count": null,
   "metadata": {
    "collapsed": false
   },
   "outputs": [],
   "source": [
    "import tensorflow as tf\n",
    "\n",
    "tf_params = tf.Variable(params, name = \"params\")\n",
    "loss = logLike(tf_params)\n",
    "\n",
    "opt = tf.train.AdamOptimizer(0.1)\n",
    "grads = opt.compute_gradients(loss)\n",
    "\n",
    "grad_placeholder = [tf.float32]\n",
    "apply_placeholder_op = opt.apply_gradients(grad_placeholder)\n",
    "transform_grads = [(function1(grad[0]), grad[1]) for grad in grads]\n",
    "apply_transform_op = opt.apply_gradients(transform_grads)\n",
    "\n",
    "# Initialize\n",
    "sess = tf.Session()\n",
    "sess.run(tf.initialize_all_variables())\n",
    "                     \n",
    "grad_vals = sess.run([grad[0] for grad in grads])"
   ]
  },
  {
   "cell_type": "code",
   "execution_count": null,
   "metadata": {
    "collapsed": true
   },
   "outputs": [],
   "source": []
  }
 ],
 "metadata": {
  "kernelspec": {
   "display_name": "Python 2",
   "language": "python",
   "name": "python2"
  },
  "language_info": {
   "codemirror_mode": {
    "name": "ipython",
    "version": 2
   },
   "file_extension": ".py",
   "mimetype": "text/x-python",
   "name": "python",
   "nbconvert_exporter": "python",
   "pygments_lexer": "ipython2",
   "version": "2.7.10"
  }
 },
 "nbformat": 4,
 "nbformat_minor": 0
}
